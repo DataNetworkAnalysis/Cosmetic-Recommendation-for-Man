{
 "cells": [
  {
   "cell_type": "code",
   "execution_count": 1,
   "metadata": {
    "ExecuteTime": {
     "end_time": "2019-12-23T01:00:40.860240Z",
     "start_time": "2019-12-23T01:00:35.404826Z"
    }
   },
   "outputs": [],
   "source": [
    "import numpy as np\n",
    "import pandas as pd\n",
    "import matplotlib.pyplot as plt\n",
    "import matplotlib\n",
    "import seaborn as sns\n",
    "from matplotlib import font_manager, rc\n",
    "%matplotlib inline\n",
    "font_name = font_manager.FontProperties(fname=\"c:/Windows/Fonts/malgun.ttf\").get_name()\n",
    "rc('font', family=font_name)\n",
    "import warnings\n",
    "warnings.filterwarnings('ignore')\n",
    "\n",
    "from ckonlpy.tag import Twitter; t= Twitter()\n",
    "from ckonlpy.tag import Postprocessor\n",
    "import nltk\n",
    "from nltk.corpus import stopwords\n",
    "from nltk.tokenize import word_tokenize\n",
    "import re"
   ]
  },
  {
   "cell_type": "markdown",
   "metadata": {},
   "source": [
    "# 데이터 불러오기"
   ]
  },
  {
   "cell_type": "code",
   "execution_count": 2,
   "metadata": {
    "ExecuteTime": {
     "end_time": "2019-12-23T01:01:02.058534Z",
     "start_time": "2019-12-23T01:01:02.024625Z"
    }
   },
   "outputs": [],
   "source": [
    "#o_prod = pd.read_csv('../dataset/oliveyoung_product_info.csv')\n",
    "rew = pd.read_csv('../dataset/glowpick_reviews.csv')\n",
    "#g_prod = pd.read_csv('../dataset/glowpick_products.csv')"
   ]
  },
  {
   "cell_type": "markdown",
   "metadata": {},
   "source": [
    "# 데이터 확인"
   ]
  },
  {
   "cell_type": "code",
   "execution_count": 3,
   "metadata": {
    "ExecuteTime": {
     "end_time": "2019-12-23T01:01:03.782960Z",
     "start_time": "2019-12-23T01:01:03.761022Z"
    }
   },
   "outputs": [
    {
     "name": "stdout",
     "output_type": "stream",
     "text": [
      "shape: (5125, 7)\n",
      "\n",
      "#### 결측치 갯수 ####\n",
      "\n",
      "date             0\n",
      "user_id          0\n",
      "sex              0\n",
      "age_skin_type    0\n",
      "rate             0\n",
      "content          1\n",
      "product_url      0\n",
      "dtype: int64\n"
     ]
    },
    {
     "data": {
      "text/html": [
       "<div>\n",
       "<style scoped>\n",
       "    .dataframe tbody tr th:only-of-type {\n",
       "        vertical-align: middle;\n",
       "    }\n",
       "\n",
       "    .dataframe tbody tr th {\n",
       "        vertical-align: top;\n",
       "    }\n",
       "\n",
       "    .dataframe thead th {\n",
       "        text-align: right;\n",
       "    }\n",
       "</style>\n",
       "<table border=\"1\" class=\"dataframe\">\n",
       "  <thead>\n",
       "    <tr style=\"text-align: right;\">\n",
       "      <th></th>\n",
       "      <th>date</th>\n",
       "      <th>user_id</th>\n",
       "      <th>sex</th>\n",
       "      <th>age_skin_type</th>\n",
       "      <th>rate</th>\n",
       "      <th>content</th>\n",
       "      <th>product_url</th>\n",
       "    </tr>\n",
       "  </thead>\n",
       "  <tbody>\n",
       "    <tr>\n",
       "      <th>0</th>\n",
       "      <td>28일 전</td>\n",
       "      <td>minseo6666</td>\n",
       "      <td>f</td>\n",
       "      <td>16세 · 복합성 ·</td>\n",
       "      <td>good</td>\n",
       "      <td>아빠 사드렸는데 저아해여</td>\n",
       "      <td>/product/7212</td>\n",
       "    </tr>\n",
       "    <tr>\n",
       "      <th>1</th>\n",
       "      <td>2개월 전</td>\n",
       "      <td>피부에관심있는남자</td>\n",
       "      <td>m</td>\n",
       "      <td>20세 · 복합성 ·</td>\n",
       "      <td>good</td>\n",
       "      <td>향이 좋아요 근데 좀 제 피부가 민감해서</td>\n",
       "      <td>/product/7212</td>\n",
       "    </tr>\n",
       "    <tr>\n",
       "      <th>2</th>\n",
       "      <td>3개월 전</td>\n",
       "      <td>타라타라</td>\n",
       "      <td>f</td>\n",
       "      <td>23세 · 복합성 ·</td>\n",
       "      <td>good</td>\n",
       "      <td>가격이 저렴하고 냄새가 안 쎄서 좋아요. 👍</td>\n",
       "      <td>/product/7212</td>\n",
       "    </tr>\n",
       "    <tr>\n",
       "      <th>3</th>\n",
       "      <td>4개월 전</td>\n",
       "      <td>흐시너</td>\n",
       "      <td>f</td>\n",
       "      <td>18세 · 복합성 ·</td>\n",
       "      <td>good</td>\n",
       "      <td>선물용으로 사서 선물했는데 나름 만족했는지 매일 바른다네요;</td>\n",
       "      <td>/product/7212</td>\n",
       "    </tr>\n",
       "    <tr>\n",
       "      <th>4</th>\n",
       "      <td>4개월 전</td>\n",
       "      <td>홍끼루</td>\n",
       "      <td>f</td>\n",
       "      <td>32세 · 복합성 ·</td>\n",
       "      <td>good</td>\n",
       "      <td>향이 청량해서 좋아요.</td>\n",
       "      <td>/product/7212</td>\n",
       "    </tr>\n",
       "  </tbody>\n",
       "</table>\n",
       "</div>"
      ],
      "text/plain": [
       "    date     user_id sex age_skin_type  rate  \\\n",
       "0  28일 전  minseo6666   f   16세 · 복합성 ·  good   \n",
       "1  2개월 전   피부에관심있는남자   m   20세 · 복합성 ·  good   \n",
       "2  3개월 전        타라타라   f   23세 · 복합성 ·  good   \n",
       "3  4개월 전         흐시너   f   18세 · 복합성 ·  good   \n",
       "4  4개월 전         홍끼루   f   32세 · 복합성 ·  good   \n",
       "\n",
       "                             content    product_url  \n",
       "0                      아빠 사드렸는데 저아해여  /product/7212  \n",
       "1             향이 좋아요 근데 좀 제 피부가 민감해서  /product/7212  \n",
       "2           가격이 저렴하고 냄새가 안 쎄서 좋아요. 👍  /product/7212  \n",
       "3  선물용으로 사서 선물했는데 나름 만족했는지 매일 바른다네요;  /product/7212  \n",
       "4                       향이 청량해서 좋아요.  /product/7212  "
      ]
     },
     "execution_count": 3,
     "metadata": {},
     "output_type": "execute_result"
    }
   ],
   "source": [
    "print('shape:',rew.shape)\n",
    "print('\\n#### 결측치 갯수 ####\\n')\n",
    "print(rew.isnull().sum())\n",
    "rew.head()"
   ]
  },
  {
   "cell_type": "markdown",
   "metadata": {},
   "source": [
    "- 나이와 피부타입이 합쳐져있다. 따로 분리가 필요하다.\n",
    "- content 속성에 결측치가 있다 처리가 필요하다."
   ]
  },
  {
   "cell_type": "markdown",
   "metadata": {},
   "source": [
    "# 전처리"
   ]
  },
  {
   "cell_type": "code",
   "execution_count": 4,
   "metadata": {
    "ExecuteTime": {
     "end_time": "2019-12-23T01:01:06.832799Z",
     "start_time": "2019-12-23T01:01:06.808828Z"
    }
   },
   "outputs": [],
   "source": [
    "np.array([i.split('·') for i in rew['age_skin_type']])[:,0]\n",
    "rew['age']= np.array([i.split('·') for i in rew['age_skin_type']])[:,0]\n",
    "rew['skin_type']= np.array([i.split('·') for i in rew['age_skin_type']])[:,1]"
   ]
  },
  {
   "cell_type": "code",
   "execution_count": 5,
   "metadata": {
    "ExecuteTime": {
     "end_time": "2019-12-23T01:01:07.114046Z",
     "start_time": "2019-12-23T01:01:07.103042Z"
    }
   },
   "outputs": [],
   "source": [
    "del rew['age_skin_type']"
   ]
  },
  {
   "cell_type": "code",
   "execution_count": 6,
   "metadata": {
    "ExecuteTime": {
     "end_time": "2019-12-23T01:01:07.665572Z",
     "start_time": "2019-12-23T01:01:07.649580Z"
    },
    "scrolled": true
   },
   "outputs": [
    {
     "data": {
      "text/html": [
       "<div>\n",
       "<style scoped>\n",
       "    .dataframe tbody tr th:only-of-type {\n",
       "        vertical-align: middle;\n",
       "    }\n",
       "\n",
       "    .dataframe tbody tr th {\n",
       "        vertical-align: top;\n",
       "    }\n",
       "\n",
       "    .dataframe thead th {\n",
       "        text-align: right;\n",
       "    }\n",
       "</style>\n",
       "<table border=\"1\" class=\"dataframe\">\n",
       "  <thead>\n",
       "    <tr style=\"text-align: right;\">\n",
       "      <th></th>\n",
       "      <th>date</th>\n",
       "      <th>user_id</th>\n",
       "      <th>sex</th>\n",
       "      <th>rate</th>\n",
       "      <th>content</th>\n",
       "      <th>product_url</th>\n",
       "      <th>age</th>\n",
       "      <th>skin_type</th>\n",
       "    </tr>\n",
       "  </thead>\n",
       "  <tbody>\n",
       "    <tr>\n",
       "      <th>2322</th>\n",
       "      <td>2016.12.4</td>\n",
       "      <td>En960</td>\n",
       "      <td>f</td>\n",
       "      <td>good</td>\n",
       "      <td>NaN</td>\n",
       "      <td>/product/82765</td>\n",
       "      <td>24세</td>\n",
       "      <td>건성</td>\n",
       "    </tr>\n",
       "  </tbody>\n",
       "</table>\n",
       "</div>"
      ],
      "text/plain": [
       "           date user_id sex  rate content     product_url   age skin_type\n",
       "2322  2016.12.4   En960   f  good     NaN  /product/82765  24세        건성 "
      ]
     },
     "execution_count": 6,
     "metadata": {},
     "output_type": "execute_result"
    }
   ],
   "source": [
    "rew.loc[rew['content'].isnull()]"
   ]
  },
  {
   "cell_type": "markdown",
   "metadata": {},
   "source": [
    "- 결측치가 하나 보인다. 결측치가 하나뿐이니 이를 제거해준다."
   ]
  },
  {
   "cell_type": "code",
   "execution_count": 7,
   "metadata": {
    "ExecuteTime": {
     "end_time": "2019-12-23T01:01:08.603029Z",
     "start_time": "2019-12-23T01:01:08.594053Z"
    }
   },
   "outputs": [],
   "source": [
    "rew = rew.dropna().copy()"
   ]
  },
  {
   "cell_type": "code",
   "execution_count": 8,
   "metadata": {
    "ExecuteTime": {
     "end_time": "2019-12-23T01:01:09.083746Z",
     "start_time": "2019-12-23T01:01:09.071776Z"
    }
   },
   "outputs": [
    {
     "data": {
      "text/html": [
       "<div>\n",
       "<style scoped>\n",
       "    .dataframe tbody tr th:only-of-type {\n",
       "        vertical-align: middle;\n",
       "    }\n",
       "\n",
       "    .dataframe tbody tr th {\n",
       "        vertical-align: top;\n",
       "    }\n",
       "\n",
       "    .dataframe thead th {\n",
       "        text-align: right;\n",
       "    }\n",
       "</style>\n",
       "<table border=\"1\" class=\"dataframe\">\n",
       "  <thead>\n",
       "    <tr style=\"text-align: right;\">\n",
       "      <th></th>\n",
       "      <th>date</th>\n",
       "      <th>user_id</th>\n",
       "      <th>sex</th>\n",
       "      <th>rate</th>\n",
       "      <th>content</th>\n",
       "      <th>product_url</th>\n",
       "      <th>age</th>\n",
       "      <th>skin_type</th>\n",
       "    </tr>\n",
       "  </thead>\n",
       "  <tbody>\n",
       "    <tr>\n",
       "      <th>0</th>\n",
       "      <td>28일 전</td>\n",
       "      <td>minseo6666</td>\n",
       "      <td>f</td>\n",
       "      <td>good</td>\n",
       "      <td>아빠 사드렸는데 저아해여</td>\n",
       "      <td>/product/7212</td>\n",
       "      <td>16세</td>\n",
       "      <td>복합성</td>\n",
       "    </tr>\n",
       "    <tr>\n",
       "      <th>1</th>\n",
       "      <td>2개월 전</td>\n",
       "      <td>피부에관심있는남자</td>\n",
       "      <td>m</td>\n",
       "      <td>good</td>\n",
       "      <td>향이 좋아요 근데 좀 제 피부가 민감해서</td>\n",
       "      <td>/product/7212</td>\n",
       "      <td>20세</td>\n",
       "      <td>복합성</td>\n",
       "    </tr>\n",
       "  </tbody>\n",
       "</table>\n",
       "</div>"
      ],
      "text/plain": [
       "    date     user_id sex  rate                 content    product_url   age  \\\n",
       "0  28일 전  minseo6666   f  good           아빠 사드렸는데 저아해여  /product/7212  16세    \n",
       "1  2개월 전   피부에관심있는남자   m  good  향이 좋아요 근데 좀 제 피부가 민감해서  /product/7212  20세    \n",
       "\n",
       "  skin_type  \n",
       "0      복합성   \n",
       "1      복합성   "
      ]
     },
     "execution_count": 8,
     "metadata": {},
     "output_type": "execute_result"
    }
   ],
   "source": [
    "rew.head(2)"
   ]
  },
  {
   "cell_type": "markdown",
   "metadata": {},
   "source": [
    "# CKonlpy"
   ]
  },
  {
   "cell_type": "markdown",
   "metadata": {},
   "source": [
    "https://github.com/lovit/customized_konlpy"
   ]
  },
  {
   "cell_type": "markdown",
   "metadata": {},
   "source": [
    "- KoNLPy의 customized version이다.\n",
    "- meceb, khaiii는 윈도위 버전을 지원하지 않아 제외하였다.\n",
    "- 사용자 사전을 쉽게 사용할 수 있다.\n",
    "- 단어 치환을 위한 후처리를 할 수 있다.\n",
    "    - passwords 에 등록된 단어, (단어, 품사)만 출력됩니다.\n",
    "    - stopwords 에 등록된 단어, (단어, 품사)는 출력되지 않습니다.\n",
    "    - 특정 품사를 지정하면, 해당 품사만 출력됩니다.\n",
    "    - 치환할 단어, (단어, 품사)를 dict 형식으로 정의하면 tag 에서 단어가 치환되어 출력됩니다."
   ]
  },
  {
   "cell_type": "markdown",
   "metadata": {},
   "source": [
    "# 리뷰 전처리"
   ]
  },
  {
   "cell_type": "code",
   "execution_count": 9,
   "metadata": {
    "ExecuteTime": {
     "end_time": "2019-12-23T01:01:14.479318Z",
     "start_time": "2019-12-23T01:01:14.474403Z"
    }
   },
   "outputs": [
    {
     "name": "stdout",
     "output_type": "stream",
     "text": [
      "리뷰 총 갯수: 5124\n"
     ]
    }
   ],
   "source": [
    "print('리뷰 총 갯수: {}'.format(rew['content'].shape[0]))"
   ]
  },
  {
   "cell_type": "code",
   "execution_count": 10,
   "metadata": {
    "ExecuteTime": {
     "end_time": "2019-12-23T01:01:14.882234Z",
     "start_time": "2019-12-23T01:01:14.877248Z"
    }
   },
   "outputs": [],
   "source": [
    "def preprocessing(text):\n",
    "    # 개행문자 제거(줄바꿈 문자)\n",
    "    text = re.sub('\\n', ' ', text)\n",
    "    # 의성어 제거\n",
    "    text = re.sub('[ㄱ-ㅎㅏ-ㅣ!?~]', ' ',text)\n",
    "    # 특수문자 제거\n",
    "    # 특수문자나 이모티콘 등은 때로는 의미를 갖기도 하지만 여기서는 제거\n",
    "    # re.sub : 첫번째 인수에 바꿀 문자열을 입력하고 두 번째 인수에 대상 문자열을 입력한다.\n",
    "    # text = re.sub('[?.,;:|\\)*~'!^\\- +<>@\\#$%&-=#}*]','',text)\n",
    "    # 한글, 영문, 숫자만 남기고 모두 제거하도록 합니다.\n",
    "    # text = re.sub('[^가-힣ㄱ-ㅎㅏ-ㅣa-zA-Z0-9]',' ',text)\n",
    "    # [^5]와 같이 '^'가 []안에서 쓰이는 경우에는 5를 제외한 모든 문자를 나타냄\n",
    "    # 가-힣ㄱ-ㅎㅏ-ㅣa-zA-Z을 만족하는 것들을 제외한 것들을 ' '로 치환\n",
    "    text = re.sub('[^가-힣ㄱ-ㅎㅏ-ㅣa-zA-Z]', ' ', text)\n",
    "    # 중복으로 생성된 공백값을 제거합니다.\n",
    "    text = re.sub(' +',' ',text)\n",
    "    return text"
   ]
  },
  {
   "cell_type": "code",
   "execution_count": 11,
   "metadata": {
    "ExecuteTime": {
     "end_time": "2019-12-23T01:01:15.354971Z",
     "start_time": "2019-12-23T01:01:15.349984Z"
    }
   },
   "outputs": [],
   "source": [
    "rew['content'] = rew['content'].map(str)"
   ]
  },
  {
   "cell_type": "code",
   "execution_count": 12,
   "metadata": {
    "ExecuteTime": {
     "end_time": "2019-12-23T01:01:15.817732Z",
     "start_time": "2019-12-23T01:01:15.718997Z"
    }
   },
   "outputs": [],
   "source": [
    "rew['rew_pre'] = rew['content'].apply(preprocessing)"
   ]
  },
  {
   "cell_type": "code",
   "execution_count": 13,
   "metadata": {
    "ExecuteTime": {
     "end_time": "2019-12-23T01:01:16.086014Z",
     "start_time": "2019-12-23T01:01:16.081028Z"
    }
   },
   "outputs": [
    {
     "data": {
      "text/plain": [
       "0                        아빠 사드렸는데 저아해여\n",
       "1               향이 좋아요 근데 좀 제 피부가 민감해서\n",
       "2               가격이 저렴하고 냄새가 안 쎄서 좋아요 \n",
       "3    선물용으로 사서 선물했는데 나름 만족했는지 매일 바른다네요 \n",
       "4                         향이 청량해서 좋아요 \n",
       "Name: rew_pre, dtype: object"
      ]
     },
     "execution_count": 13,
     "metadata": {},
     "output_type": "execute_result"
    }
   ],
   "source": [
    "rew['rew_pre'].head()"
   ]
  },
  {
   "cell_type": "code",
   "execution_count": 14,
   "metadata": {
    "ExecuteTime": {
     "end_time": "2019-12-23T01:01:31.680602Z",
     "start_time": "2019-12-23T01:01:16.377235Z"
    }
   },
   "outputs": [],
   "source": [
    "rew['morphs'] = rew['rew_pre'].map(t.morphs)\n",
    "#rew['morphs'] = rew['morphs'].map(' '.join)"
   ]
  },
  {
   "cell_type": "code",
   "execution_count": 15,
   "metadata": {
    "ExecuteTime": {
     "end_time": "2019-12-23T01:01:38.637730Z",
     "start_time": "2019-12-23T01:01:38.630713Z"
    }
   },
   "outputs": [
    {
     "data": {
      "text/plain": [
       "good     2214\n",
       "best     1476\n",
       "soso      979\n",
       "bad       360\n",
       "worst      95\n",
       "Name: rate, dtype: int64"
      ]
     },
     "execution_count": 15,
     "metadata": {},
     "output_type": "execute_result"
    }
   ],
   "source": [
    "rew['rate'].value_counts()"
   ]
  },
  {
   "cell_type": "code",
   "execution_count": 16,
   "metadata": {
    "ExecuteTime": {
     "end_time": "2019-12-23T01:01:39.324856Z",
     "start_time": "2019-12-23T01:01:39.320867Z"
    }
   },
   "outputs": [],
   "source": [
    "rew_r = rew['rew_pre']"
   ]
  },
  {
   "cell_type": "code",
   "execution_count": 17,
   "metadata": {
    "ExecuteTime": {
     "end_time": "2019-12-23T01:01:39.779642Z",
     "start_time": "2019-12-23T01:01:39.757698Z"
    }
   },
   "outputs": [],
   "source": [
    "worst_r = rew.loc[rew['rate'] == 'worst']['rew_pre']\n",
    "bad_r = rew.loc[rew['rate'] == 'bad']['rew_pre']\n",
    "soso_r = rew.loc[rew['rate'] == 'soso']['rew_pre']\n",
    "best_r = rew.loc[rew['rate'] == 'best']['rew_pre']\n",
    "good_r = rew.loc[rew['rate'] == 'good']['rew_pre']\n",
    "worst_r_a = ' '.join(worst_r)\n",
    "bad_r_a = ' '.join(bad_r)\n",
    "soso_r_a = ' '.join(soso_r)\n",
    "best_r_a = ' '.join(best_r)\n",
    "good_r_a = ' '.join(good_r)\n",
    "rew_r_a = ' '.join(rew_r)"
   ]
  },
  {
   "cell_type": "markdown",
   "metadata": {},
   "source": [
    "# 불용어 정의"
   ]
  },
  {
   "cell_type": "code",
   "execution_count": 18,
   "metadata": {
    "ExecuteTime": {
     "end_time": "2019-12-23T01:01:40.524675Z",
     "start_time": "2019-12-23T01:01:40.520659Z"
    }
   },
   "outputs": [],
   "source": [
    "rew_n = Postprocessor(t,passtags = 'Noun')\n",
    "rew_v = Postprocessor(t,passtags = 'Verb')\n",
    "rew_a = Postprocessor(t,passtags = 'Adjective')\n",
    "rew_j = Postprocessor(t,passtags = 'Josa')"
   ]
  },
  {
   "cell_type": "code",
   "execution_count": 19,
   "metadata": {
    "ExecuteTime": {
     "end_time": "2019-12-23T01:01:40.963476Z",
     "start_time": "2019-12-23T01:01:40.961478Z"
    }
   },
   "outputs": [],
   "source": [
    "#rew['token'] = [i.split(' ') for i in rew['rew_pre']]"
   ]
  },
  {
   "cell_type": "code",
   "execution_count": 20,
   "metadata": {
    "ExecuteTime": {
     "end_time": "2019-12-23T01:02:25.891336Z",
     "start_time": "2019-12-23T01:01:41.359415Z"
    }
   },
   "outputs": [],
   "source": [
    "rew_n_df = pd.DataFrame(rew_n.pos(rew_r_a)) # 명사\n",
    "rew_v_df = pd.DataFrame(rew_v.pos(rew_r_a)) # 동사\n",
    "rew_a_df = pd.DataFrame(rew_a.pos(rew_r_a)) # 형용사\n",
    "rew_j_df = pd.DataFrame(rew_j.pos(rew_r_a)) # 조사"
   ]
  },
  {
   "cell_type": "code",
   "execution_count": 21,
   "metadata": {
    "ExecuteTime": {
     "end_time": "2019-12-23T01:02:31.340728Z",
     "start_time": "2019-12-23T01:02:31.335740Z"
    }
   },
   "outputs": [],
   "source": [
    "stop_words = ['거','어요','단','것','평가','때','이','리뷰','어서','좀','저','제','요','더','고','진짜','쓰기','생각','입니다','같아요','있','같','써','쓰고','들']"
   ]
  },
  {
   "cell_type": "markdown",
   "metadata": {},
   "source": [
    "# replace"
   ]
  },
  {
   "cell_type": "code",
   "execution_count": 22,
   "metadata": {
    "ExecuteTime": {
     "end_time": "2019-12-23T01:02:32.447767Z",
     "start_time": "2019-12-23T01:02:32.442778Z"
    }
   },
   "outputs": [],
   "source": [
    "replace = {'좋아요':'좋다','좋':'좋다','좋은':'좋다','좋고':'좋다','좋다고':'좋다','좋은데':'좋다','좋습니다':'좋다','좋아서':'좋다','좋았':'좋다','좋은데':'좋다','좋네요':'좋다','새빨간':'빨간','약해서':'약하다'}"
   ]
  },
  {
   "cell_type": "code",
   "execution_count": 23,
   "metadata": {
    "ExecuteTime": {
     "end_time": "2019-12-23T01:02:33.110992Z",
     "start_time": "2019-12-23T01:02:33.107041Z"
    }
   },
   "outputs": [],
   "source": [
    "postprocessor_r = Postprocessor(t, replace = replace) # replace"
   ]
  },
  {
   "cell_type": "code",
   "execution_count": 24,
   "metadata": {
    "ExecuteTime": {
     "end_time": "2019-12-23T01:02:33.708396Z",
     "start_time": "2019-12-23T01:02:33.690476Z"
    }
   },
   "outputs": [],
   "source": [
    "# 평점 등급별 리뷰 확인\n",
    "worst_r = rew.loc[rew['rate'] == 'worst']['rew_pre']\n",
    "bad_r = rew.loc[rew['rate'] == 'bad']['rew_pre']\n",
    "soso_r = rew.loc[rew['rate'] == 'soso']['rew_pre']\n",
    "best_r = rew.loc[rew['rate'] == 'best']['rew_pre']\n",
    "good_r = rew.loc[rew['rate'] == 'good']['rew_pre']\n",
    "worst_r_a = ' '.join(worst_r)\n",
    "bad_r_a = ' '.join(bad_r)\n",
    "soso_r_a = ' '.join(soso_r)\n",
    "best_r_a = ' '.join(best_r)\n",
    "good_r_a = ' '.join(good_r)\n",
    "rew_r_a = ' '.join(rew_r)"
   ]
  },
  {
   "cell_type": "code",
   "execution_count": 25,
   "metadata": {
    "ExecuteTime": {
     "end_time": "2019-12-23T01:02:44.632216Z",
     "start_time": "2019-12-23T01:02:34.243961Z"
    }
   },
   "outputs": [],
   "source": [
    "worst_re = np.array(postprocessor_r.pos(worst_r_a))[:,0]\n",
    "bad_re = np.array(postprocessor_r.pos(bad_r_a))[:,0]\n",
    "soso_re = np.array(postprocessor_r.pos(soso_r_a))[:,0]\n",
    "best_re = np.array(postprocessor_r.pos(best_r_a))[:,0]\n",
    "good_re = np.array(postprocessor_r.pos(good_r_a))[:,0]"
   ]
  },
  {
   "cell_type": "markdown",
   "metadata": {},
   "source": [
    "# 불용어 제거"
   ]
  },
  {
   "cell_type": "code",
   "execution_count": 26,
   "metadata": {
    "ExecuteTime": {
     "end_time": "2019-12-23T01:03:07.476111Z",
     "start_time": "2019-12-23T01:03:07.459152Z"
    }
   },
   "outputs": [
    {
     "name": "stdout",
     "output_type": "stream",
     "text": [
      "['비오템', '입', '문하', '자마자', '떠나게', '한', '제품', '피부', '에', '신경안', '쓰던', '적', '에', '올인원', '제품', '하나', '만', '겨울', '에', '바를']\n"
     ]
    }
   ],
   "source": [
    "# 불용어 추가한 것들을 제거해준다.\n",
    "result_worst = []; result_bed = []; result_soso = []; result_best = []; result_good = []\n",
    "\n",
    "[result_worst.append(i) for i in worst_re if i not in stop_words]\n",
    "[result_bed.append(i) for i in worst_re if i not in stop_words]\n",
    "[result_soso.append(i) for i in worst_re if i not in stop_words]\n",
    "[result_best.append(i) for i in worst_re if i not in stop_words]\n",
    "[result_good.append(i) for i in worst_re if i not in stop_words]\n",
    "\n",
    "print(result_worst[:20])"
   ]
  },
  {
   "cell_type": "code",
   "execution_count": 27,
   "metadata": {
    "ExecuteTime": {
     "end_time": "2019-12-23T01:03:08.021652Z",
     "start_time": "2019-12-23T01:03:08.002665Z"
    },
    "scrolled": false
   },
   "outputs": [
    {
     "data": {
      "text/html": [
       "<div>\n",
       "<style scoped>\n",
       "    .dataframe tbody tr th:only-of-type {\n",
       "        vertical-align: middle;\n",
       "    }\n",
       "\n",
       "    .dataframe tbody tr th {\n",
       "        vertical-align: top;\n",
       "    }\n",
       "\n",
       "    .dataframe thead th {\n",
       "        text-align: right;\n",
       "    }\n",
       "</style>\n",
       "<table border=\"1\" class=\"dataframe\">\n",
       "  <thead>\n",
       "    <tr style=\"text-align: right;\">\n",
       "      <th></th>\n",
       "      <th>index</th>\n",
       "      <th>rew_pre</th>\n",
       "      <th>morphs</th>\n",
       "    </tr>\n",
       "  </thead>\n",
       "  <tbody>\n",
       "    <tr>\n",
       "      <th>30</th>\n",
       "      <td>3130</td>\n",
       "      <td>이거 쓰고 피부 다 뒤집어졌던 기억이 나네요 단순히 여드름이나 트러블이 났던게 아니...</td>\n",
       "      <td>[이, 거, 쓰고, 피부, 다, 뒤집어졌던, 기억, 이, 나네요, 단순, 히, 여드...</td>\n",
       "    </tr>\n",
       "    <tr>\n",
       "      <th>31</th>\n",
       "      <td>3204</td>\n",
       "      <td>이건 걍 돈아까음 얼굴 넘 건조해서 뱅기타기전에 면세에서 샀는데 걍 다른거랑 다를게...</td>\n",
       "      <td>[이건, 걍, 돈, 아까음, 얼굴, 넘, 건조, 해서, 뱅, 기타, 기전, 에, 면...</td>\n",
       "    </tr>\n",
       "    <tr>\n",
       "      <th>32</th>\n",
       "      <td>3222</td>\n",
       "      <td>그냥 물임</td>\n",
       "      <td>[그냥, 물임]</td>\n",
       "    </tr>\n",
       "    <tr>\n",
       "      <th>33</th>\n",
       "      <td>3269</td>\n",
       "      <td>향이 남자화장품냄새 딱 그건데</td>\n",
       "      <td>[향, 이, 남자, 화장품, 냄새, 딱, 그건, 데]</td>\n",
       "    </tr>\n",
       "    <tr>\n",
       "      <th>34</th>\n",
       "      <td>3615</td>\n",
       "      <td>거짓된 양 내구성 부족 제품을 만족시키지 못하는 부담스러운 가격</td>\n",
       "      <td>[거짓, 된, 양, 내, 구성, 부족, 제품, 을, 만족, 시키지, 못, 하는, 부...</td>\n",
       "    </tr>\n",
       "  </tbody>\n",
       "</table>\n",
       "</div>"
      ],
      "text/plain": [
       "    index                                            rew_pre  \\\n",
       "30   3130  이거 쓰고 피부 다 뒤집어졌던 기억이 나네요 단순히 여드름이나 트러블이 났던게 아니...   \n",
       "31   3204  이건 걍 돈아까음 얼굴 넘 건조해서 뱅기타기전에 면세에서 샀는데 걍 다른거랑 다를게...   \n",
       "32   3222                                             그냥 물임    \n",
       "33   3269                                  향이 남자화장품냄새 딱 그건데    \n",
       "34   3615               거짓된 양 내구성 부족 제품을 만족시키지 못하는 부담스러운 가격    \n",
       "\n",
       "                                               morphs  \n",
       "30  [이, 거, 쓰고, 피부, 다, 뒤집어졌던, 기억, 이, 나네요, 단순, 히, 여드...  \n",
       "31  [이건, 걍, 돈, 아까음, 얼굴, 넘, 건조, 해서, 뱅, 기타, 기전, 에, 면...  \n",
       "32                                           [그냥, 물임]  \n",
       "33                      [향, 이, 남자, 화장품, 냄새, 딱, 그건, 데]  \n",
       "34  [거짓, 된, 양, 내, 구성, 부족, 제품, 을, 만족, 시키지, 못, 하는, 부...  "
      ]
     },
     "execution_count": 27,
     "metadata": {},
     "output_type": "execute_result"
    }
   ],
   "source": [
    "rew.loc[rew['rate'] == 'worst'][['rew_pre','morphs']].reset_index().iloc[30:35,]"
   ]
  },
  {
   "cell_type": "code",
   "execution_count": 28,
   "metadata": {
    "ExecuteTime": {
     "end_time": "2019-12-23T01:03:08.370680Z",
     "start_time": "2019-12-23T01:03:08.363700Z"
    }
   },
   "outputs": [
    {
     "data": {
      "text/plain": [
       "[('시원', 'Noun'), ('함', 'Noun')]"
      ]
     },
     "execution_count": 28,
     "metadata": {},
     "output_type": "execute_result"
    }
   ],
   "source": [
    "t.pos('시원함') # 원함까지함"
   ]
  },
  {
   "cell_type": "code",
   "execution_count": 29,
   "metadata": {
    "ExecuteTime": {
     "end_time": "2019-12-23T01:03:08.768616Z",
     "start_time": "2019-12-23T01:03:08.764629Z"
    }
   },
   "outputs": [
    {
     "name": "stdout",
     "output_type": "stream",
     "text": [
      "['비오템', '입', '문하', '자마자', '떠나게', '한', '제품', '피부', '에', '신경안', '쓰던', '적', '에', '올인원', '제품', '하나', '만', '겨울', '에', '바를']\n"
     ]
    }
   ],
   "source": [
    "print(result_worst[:20])"
   ]
  },
  {
   "cell_type": "markdown",
   "metadata": {},
   "source": [
    "# 띄어쓰기 수정"
   ]
  },
  {
   "cell_type": "code",
   "execution_count": 30,
   "metadata": {
    "ExecuteTime": {
     "end_time": "2019-12-23T01:03:09.498664Z",
     "start_time": "2019-12-23T01:03:09.493676Z"
    }
   },
   "outputs": [],
   "source": [
    "rew['rew_pre'][132] = '비오템 입문 하자마자 떠나게 한 제품 피부에 신경안쓰던적에 올인원 제품 하나만 겨울에 바를만큼 무신경했는데 요 라인은 참을수 없이 건조했다 '\n",
    "rew['rew_pre'][2435] = '최악중최악 바르면 얼굴따갑고 아침엔트러블로가득찬 내얼굴 한번쯤 여드름쟁이가 되고 싶다면 추천 하는 크림'\n",
    "rew['rew_pre'][2818]= '내가 흑우인지 괜히 면도세안 한꺼번에 되는 폼이라길래 구매했다가 제대로 돈날린 제품 쫀쫀이고 쫀득이고 간에 일단 샤워하면서는 절대 쓸수 없었다 어찌된 영문인지 물에 상당히 약해서 얼굴이 세면후 상태로 촉촉하면 죄다 녹아 내려서 폼이 오일로 바뀌는 매직을 겪게된다 샤워 전 최저한의 수분으로 거품유지하며 씻는 스트레스에 매번 조절 실패해서 제품낭비 돈낭비 제대로 한 역대급 최악 클랜징 제품 지금은 차세안 하기위해서 그냥 세안 전 한번 사용해주고 전용 클랜징폼은 따로 쓴다 오히려 면도크림 용으로만 나왔었어도 평균은 가지 않았을까 하는 느낌 상당히 화한 느낌으로 트러블 없이 면도가 가능하긴 한데 이걸 면도크림만으로 쓰기엔 가격면에서 상당히 그냥 따로 면도할렵니다 '\n",
    "rew['rew_pre'][2822] = '내 인생 최고의 똥템'"
   ]
  },
  {
   "cell_type": "code",
   "execution_count": 31,
   "metadata": {
    "ExecuteTime": {
     "end_time": "2019-12-23T01:03:10.090082Z",
     "start_time": "2019-12-23T01:03:10.075159Z"
    }
   },
   "outputs": [
    {
     "name": "stdout",
     "output_type": "stream",
     "text": [
      "내 가 흑우 인지 괜히 면도 세안 한꺼 번 에 되는 폼 이라 길래 구매 했 다가 제대로 돈 날린 제품 쫀쫀 이고 쫀득 이고 간 에 일단 샤워 하 면서 는 절대 쓸수 없었다 어찌 된 영문 인지 물 에 상당 히 약 해서 얼굴 세면 후 상태 로 촉촉하면 죄다 녹 아내 려 서 폼 오일 로 바뀌는 매직 을 겪게 된다 샤워 전 최저 한 의 수분 으로 거품 유지 하며 씻는 스트레스 에 매번 조절 실패 해서 제품 낭비 돈 낭비 제대로 한 역대 급 최악 클랜 징 제품 지금 은 차 세안 하기 위해 서 그냥 세안 전 한번 사용 해주 전용 클랜 징폼 은 따로 쓴다 오히려 면도 크림 용으 로만 나왔었 어도 평균 은 가지 않았을까 하는 느낌 상당 히 화한 느낌 으로 트러블 없이 면도 가 가능 하긴 한데 걸 면도 크림 만으로 엔 가격 면 에서 상당 히 그냥 따로 면도 할렵니 다\n"
     ]
    }
   ],
   "source": [
    "print('내', '가', '흑우', '인지', '괜히', '면도', '세안', '한꺼', '번', '에', '되는', '폼', '이라', '길래', '구매', '했', '다가', '제대로', '돈', '날린', '제품', '쫀쫀', '이고', '쫀득', '이고', '간', '에', '일단', '샤워', '하', '면서', '는', '절대', '쓸수', '없었다', '어찌', '된', '영문', '인지', '물', '에', '상당', '히', '약', '해서', '얼굴', '세면', '후', '상태', '로', '촉촉하면', '죄다', '녹', '아내', '려', '서', '폼', '오일', '로', '바뀌는', '매직', '을', '겪게', '된다', '샤워', '전', '최저', '한', '의', '수분', '으로', '거품', '유지', '하며', '씻는', '스트레스', '에', '매번', '조절', '실패', '해서', '제품', '낭비', '돈', '낭비', '제대로', '한', '역대', '급', '최악', '클랜', '징', '제품', '지금', '은', '차', '세안', '하기', '위해', '서', '그냥', '세안', '전', '한번', '사용', '해주', '전용', '클랜', '징폼', '은', '따로', '쓴다', '오히려', '면도', '크림', '용으', '로만', '나왔었', '어도', '평균', '은', '가지', '않았을까', '하는', '느낌', '상당', '히', '화한', '느낌', '으로', '트러블', '없이', '면도', '가', '가능', '하긴', '한데', '걸', '면도', '크림', '만으로', '엔', '가격', '면', '에서', '상당', '히', '그냥', '따로', '면도', '할렵니', '다')"
   ]
  },
  {
   "cell_type": "code",
   "execution_count": 32,
   "metadata": {
    "ExecuteTime": {
     "end_time": "2019-12-23T01:03:10.446131Z",
     "start_time": "2019-12-23T01:03:10.440146Z"
    }
   },
   "outputs": [
    {
     "data": {
      "text/plain": [
       "'이거 쓰고 피부 다 뒤집어졌던 기억이 나네요 단순히 여드름이나 트러블이 났던게 아니라 턱쪽 전체에 피부염 같은게 났더래서 고생 좀 했었습니다 지금 생각해보니 바를 때 시원함을 넘어서 화한 기분이 들던게 느낌부터 싸했던거 같군요 매우 비추입니다 가격도 ml에 원이라니 차라리 그 돈으로 우유 ml 개 사서 얼굴에 부비겠습니다 길바닥 개미들에게 사탕이나 젤리 사서 나눠주는게 차라리 돈 덜 아까울 것 같습니다 원 주고 이거 써서 피부병 걸린 후에 피부과 다니느라 만원도 더 썼었네요 아무튼 매우 비추 '"
      ]
     },
     "execution_count": 32,
     "metadata": {},
     "output_type": "execute_result"
    }
   ],
   "source": [
    "rew['rew_pre'][3130]"
   ]
  },
  {
   "cell_type": "markdown",
   "metadata": {},
   "source": [
    "# 사전추가"
   ]
  },
  {
   "cell_type": "code",
   "execution_count": 33,
   "metadata": {
    "ExecuteTime": {
     "end_time": "2019-12-23T01:03:11.394592Z",
     "start_time": "2019-12-23T01:03:11.389644Z"
    }
   },
   "outputs": [],
   "source": [
    "t.add_dictionary('잔고통', 'Noun')\n",
    "t.add_dictionary('유분기', 'Noun')\n",
    "t.add_dictionary('남성미', 'Noun')\n",
    "t.add_dictionary('한꺼번에','Adverb')\n",
    "t.add_dictionary('클랜징', 'Noun')\n",
    "t.add_dictionary('쉐이빙폼', 'Noun')\n",
    "t.add_dictionary('시원함', 'Noun')"
   ]
  },
  {
   "cell_type": "code",
   "execution_count": 34,
   "metadata": {
    "ExecuteTime": {
     "end_time": "2019-12-23T01:03:11.838440Z",
     "start_time": "2019-12-23T01:03:11.831456Z"
    }
   },
   "outputs": [
    {
     "data": {
      "text/plain": [
       "[('Adjective',),\n",
       " ('Adverb',),\n",
       " ('Conjunction',),\n",
       " ('Exclamation',),\n",
       " ('KoreanParticle',),\n",
       " ('Noun',),\n",
       " ('Verb',),\n",
       " ('Noun', 'Noun'),\n",
       " ('Noun', 'Josa'),\n",
       " ('Noun', 'Adjective'),\n",
       " ('Noun', 'Verb'),\n",
       " ('Modifier', 'Noun'),\n",
       " ('Noun', 'Noun', 'Adjective'),\n",
       " ('Noun', 'Noun', 'Josa'),\n",
       " ('Noun', 'Noun', 'Verb'),\n",
       " ('Modifier', 'Noun', 'Josa'),\n",
       " ('Josa',)]"
      ]
     },
     "execution_count": 34,
     "metadata": {},
     "output_type": "execute_result"
    }
   ],
   "source": [
    "t.template_tagger.templates"
   ]
  }
 ],
 "metadata": {
  "hide_input": false,
  "kernelspec": {
   "display_name": "Python 3",
   "language": "python",
   "name": "python3"
  },
  "language_info": {
   "codemirror_mode": {
    "name": "ipython",
    "version": 3
   },
   "file_extension": ".py",
   "mimetype": "text/x-python",
   "name": "python",
   "nbconvert_exporter": "python",
   "pygments_lexer": "ipython3",
   "version": "3.7.3"
  },
  "toc": {
   "base_numbering": 1,
   "nav_menu": {},
   "number_sections": true,
   "sideBar": true,
   "skip_h1_title": false,
   "title_cell": "Table of Contents",
   "title_sidebar": "Contents",
   "toc_cell": false,
   "toc_position": {},
   "toc_section_display": true,
   "toc_window_display": false
  },
  "varInspector": {
   "cols": {
    "lenName": 16,
    "lenType": 16,
    "lenVar": 40
   },
   "kernels_config": {
    "python": {
     "delete_cmd_postfix": "",
     "delete_cmd_prefix": "del ",
     "library": "var_list.py",
     "varRefreshCmd": "print(var_dic_list())"
    },
    "r": {
     "delete_cmd_postfix": ") ",
     "delete_cmd_prefix": "rm(",
     "library": "var_list.r",
     "varRefreshCmd": "cat(var_dic_list()) "
    }
   },
   "types_to_exclude": [
    "module",
    "function",
    "builtin_function_or_method",
    "instance",
    "_Feature"
   ],
   "window_display": false
  }
 },
 "nbformat": 4,
 "nbformat_minor": 2
}
