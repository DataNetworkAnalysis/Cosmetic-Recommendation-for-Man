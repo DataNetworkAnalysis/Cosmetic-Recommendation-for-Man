{
 "cells": [
  {
   "cell_type": "code",
   "execution_count": 7,
   "metadata": {
    "ExecuteTime": {
     "end_time": "2020-01-22T17:22:04.035908Z",
     "start_time": "2020-01-22T17:22:04.022109Z"
    }
   },
   "outputs": [],
   "source": [
    "import pandas as pd\n",
    "import pickle \n",
    "import re\n",
    "import matplotlib.pyplot as plt\n",
    "import numpy as np\n",
    "from wordcloud import WordCloud\n",
    "\n",
    "from scipy.spatial.distance import cosine\n",
    "from gensim.models import FastText\n",
    "\n",
    "import sys\n",
    "sys.path.append('../code')\n",
    "\n",
    "from preprocessing import GlowpickPreprocessing, Filtering, l2norm\n",
    "from loaddata import load\n",
    "\n",
    "import warnings\n",
    "warnings.filterwarnings('ignore')"
   ]
  },
  {
   "cell_type": "markdown",
   "metadata": {},
   "source": [
    "# Configuration"
   ]
  },
  {
   "cell_type": "code",
   "execution_count": 8,
   "metadata": {
    "ExecuteTime": {
     "end_time": "2020-01-22T17:22:08.611498Z",
     "start_time": "2020-01-22T17:22:06.205061Z"
    }
   },
   "outputs": [
    {
     "name": "stdout",
     "output_type": "stream",
     "text": [
      "[LOAD           ] Load data...(data.shape: ,(461659, 7))(products.shape: ,(12698, 9))(infos.shape: ,(12243, 3))\n",
      "[LOAD           ] filtering data...(filtering data shape: (10390, 4)\n"
     ]
    }
   ],
   "source": [
    "reviewpath = '../dataset/glowpick_reviews.csv' # review data path to load\n",
    "productpath = '../dataset/glowpick_products.csv' # product data path to load\n",
    "infopath = '../dataset/glowpick_info.csv' # product information path to load\n",
    "\n",
    "savedir = '../saved_file'\n",
    "\n",
    "modelname = 'multi_pre_embed'\n",
    "\n",
    "data, products, infos = load(reviewpath, productpath, infopath)\n",
    "\n",
    "GP = GlowpickPreprocessing()"
   ]
  },
  {
   "cell_type": "code",
   "execution_count": 9,
   "metadata": {
    "ExecuteTime": {
     "end_time": "2020-01-22T17:22:09.289937Z",
     "start_time": "2020-01-22T17:22:09.287989Z"
    }
   },
   "outputs": [],
   "source": [
    "wc = WordCloud(font_path='/usr/share/fonts/truetype/NanumGothic.ttf', \n",
    "               background_color=\"white\", \n",
    "               max_words=20000, \n",
    "               min_word_length=2,\n",
    "               max_font_size=300)"
   ]
  },
  {
   "cell_type": "markdown",
   "metadata": {},
   "source": [
    "# Recommendation"
   ]
  },
  {
   "cell_type": "code",
   "execution_count": 32,
   "metadata": {
    "ExecuteTime": {
     "end_time": "2020-01-22T17:56:12.492474Z",
     "start_time": "2020-01-22T17:56:12.469238Z"
    }
   },
   "outputs": [],
   "source": [
    "def evaluation(search,\n",
    "               modelname, \n",
    "               pre_embedname,\n",
    "               savedir='../saved_file', \n",
    "               reviewpath='../dataset/glowpick_reviews.csv', \n",
    "               productpath='../dataset/glowpick_products.csv',\n",
    "               infopath='../dataset/glowpick_info.csv'):\n",
    "    \n",
    "    print('[{0:15s}] Evaluation'.format('STATE'))\n",
    "    # configuration\n",
    "    GP = GlowpickPreprocessing()\n",
    "    # - feature selection\n",
    "    show_features = ['category','brand','nb_reviews','vol_price','product','product_url']\n",
    "    # - load embed model\n",
    "    model = FastText.load(f'{savedir}/{modelname}.bin')\n",
    "    # - filtering class\n",
    "    filtering = Filtering(show_features)\n",
    "\n",
    "    # 1. load data\n",
    "    data, products, info = load(reviewpath, productpath, infopath)\n",
    "\n",
    "    # 2. preprocessing new sentence\n",
    "    # test_text = GP.fit([args.search], args.wordpath, args.pospath)\n",
    "    test_text = list(map(GP.stopword, [search]))\n",
    "    test_text = GP.spacefix(test_text)\n",
    "    test_text = GP.wordfix(test_text,'../saved_file/replace_word.json')\n",
    "    test_text = GP.kkma.nouns(' '.join(test_text[0]))\n",
    "    print('[{0:15s}] result : {1:}'.format('PREPROCESSING',test_text))\n",
    "    test_sent_vec = GP.sent2vec(test_text, model)\n",
    "    test_sent_vec = l2norm(test_sent_vec)\n",
    "\n",
    "    # 3. calculration similarity : cosine distance\n",
    "    sent_vec = pickle.load(open(f'{savedir}/{pre_embedname}.pickle','rb'))\n",
    "    dist_arr = np.zeros((sent_vec.shape[0]))\n",
    "    for i, sent in enumerate(sent_vec):\n",
    "        dist = cosine(sent, test_sent_vec[0])\n",
    "        dist_arr[i] = dist\n",
    "    data['dist'] = dist_arr\n",
    "    data = pd.merge(data, products, on='product_url', how='left')\n",
    "\n",
    "    # 4. featering\n",
    "    data = filtering.fit(data, test_text)\n",
    "\n",
    "    return data"
   ]
  },
  {
   "cell_type": "markdown",
   "metadata": {},
   "source": [
    "# Test"
   ]
  },
  {
   "cell_type": "code",
   "execution_count": 33,
   "metadata": {
    "ExecuteTime": {
     "end_time": "2020-01-22T17:56:13.631148Z",
     "start_time": "2020-01-22T17:56:13.629342Z"
    }
   },
   "outputs": [],
   "source": [
    "search = '남자친구 선물로 괜찮은 스킨이나 로션'"
   ]
  },
  {
   "cell_type": "code",
   "execution_count": 34,
   "metadata": {
    "ExecuteTime": {
     "end_time": "2020-01-22T17:56:20.793533Z",
     "start_time": "2020-01-22T17:56:14.746167Z"
    },
    "scrolled": false
   },
   "outputs": [
    {
     "name": "stdout",
     "output_type": "stream",
     "text": [
      "[STATE          ] Evaluation\n",
      "[LOAD           ] Load data...(data.shape: ,(461659, 7))(products.shape: ,(12698, 9))(infos.shape: ,(12243, 3))\n",
      "[LOAD           ] filtering data...(filtering data shape: (10390, 4)\n",
      "Loading JIT Compiled ChatSpace Model\n",
      "[PREPROCESSING  ] result : ['남친', '선물', '스킨', '로션']\n",
      "[FILTERING      ] number of reviews (data shape: (5834, 13))\n",
      "[FILTERING      ] rating (data shape: (4320, 13))\n",
      "[FILTERING      ] sorting and drop duplicates (data shape: (1722, 6))\n",
      "\n",
      "[STATE          ] Evaluation\n",
      "[LOAD           ] Load data...(data.shape: ,(461659, 7))(products.shape: ,(12698, 9))(infos.shape: ,(12243, 3))\n",
      "[LOAD           ] filtering data...(filtering data shape: (10390, 4)\n",
      "Loading JIT Compiled ChatSpace Model\n",
      "[PREPROCESSING  ] result : ['남친', '선물', '스킨', '로션']\n",
      "[FILTERING      ] number of reviews (data shape: (5834, 13))\n",
      "[FILTERING      ] rating (data shape: (4320, 13))\n",
      "[FILTERING      ] sorting and drop duplicates (data shape: (1722, 6))\n"
     ]
    }
   ],
   "source": [
    "test = evaluation(search=search,\n",
    "                  modelname='new_model_word_pos',\n",
    "                  pre_embedname='new_pre_embed_word_pos')"
   ]
  },
  {
   "cell_type": "code",
   "execution_count": 36,
   "metadata": {
    "ExecuteTime": {
     "end_time": "2020-01-22T17:56:23.621344Z",
     "start_time": "2020-01-22T17:56:23.615621Z"
    }
   },
   "outputs": [
    {
     "data": {
      "text/html": [
       "<div>\n",
       "<style scoped>\n",
       "    .dataframe tbody tr th:only-of-type {\n",
       "        vertical-align: middle;\n",
       "    }\n",
       "\n",
       "    .dataframe tbody tr th {\n",
       "        vertical-align: top;\n",
       "    }\n",
       "\n",
       "    .dataframe thead th {\n",
       "        text-align: right;\n",
       "    }\n",
       "</style>\n",
       "<table border=\"1\" class=\"dataframe\">\n",
       "  <thead>\n",
       "    <tr style=\"text-align: right;\">\n",
       "      <th></th>\n",
       "      <th>category</th>\n",
       "      <th>brand</th>\n",
       "      <th>nb_reviews</th>\n",
       "      <th>vol_price</th>\n",
       "      <th>product</th>\n",
       "      <th>product_url</th>\n",
       "    </tr>\n",
       "  </thead>\n",
       "  <tbody>\n",
       "    <tr>\n",
       "      <td>4541</td>\n",
       "      <td>로션</td>\n",
       "      <td>우르오스 (ULOS)</td>\n",
       "      <td>250</td>\n",
       "      <td>200ml29,700원</td>\n",
       "      <td>스킨밀크</td>\n",
       "      <td>/product/3691</td>\n",
       "    </tr>\n",
       "    <tr>\n",
       "      <td>3111</td>\n",
       "      <td>스킨</td>\n",
       "      <td>이니스프리 (innisfree)</td>\n",
       "      <td>82</td>\n",
       "      <td>180ml19,000원</td>\n",
       "      <td>포레스트 포맨 모이스처 스킨</td>\n",
       "      <td>/product/7212</td>\n",
       "    </tr>\n",
       "    <tr>\n",
       "      <td>3536</td>\n",
       "      <td>스킨</td>\n",
       "      <td>이니스프리 (innisfree)</td>\n",
       "      <td>61</td>\n",
       "      <td>100ml25,000원</td>\n",
       "      <td>포레스트 포맨 프레시 올인원 에센스</td>\n",
       "      <td>/product/7198</td>\n",
       "    </tr>\n",
       "    <tr>\n",
       "      <td>3537</td>\n",
       "      <td>로션</td>\n",
       "      <td>이니스프리 (innisfree)</td>\n",
       "      <td>61</td>\n",
       "      <td>100ml25,000원</td>\n",
       "      <td>포레스트 포맨 프레시 올인원 에센스</td>\n",
       "      <td>/product/7198</td>\n",
       "    </tr>\n",
       "    <tr>\n",
       "      <td>3538</td>\n",
       "      <td>에센스</td>\n",
       "      <td>이니스프리 (innisfree)</td>\n",
       "      <td>61</td>\n",
       "      <td>100ml25,000원</td>\n",
       "      <td>포레스트 포맨 프레시 올인원 에센스</td>\n",
       "      <td>/product/7198</td>\n",
       "    </tr>\n",
       "  </tbody>\n",
       "</table>\n",
       "</div>"
      ],
      "text/plain": [
       "     category              brand  nb_reviews     vol_price  \\\n",
       "4541       로션        우르오스 (ULOS)         250  200ml29,700원   \n",
       "3111       스킨  이니스프리 (innisfree)          82  180ml19,000원   \n",
       "3536       스킨  이니스프리 (innisfree)          61  100ml25,000원   \n",
       "3537       로션  이니스프리 (innisfree)          61  100ml25,000원   \n",
       "3538      에센스  이니스프리 (innisfree)          61  100ml25,000원   \n",
       "\n",
       "                  product    product_url  \n",
       "4541                 스킨밀크  /product/3691  \n",
       "3111      포레스트 포맨 모이스처 스킨  /product/7212  \n",
       "3536  포레스트 포맨 프레시 올인원 에센스  /product/7198  \n",
       "3537  포레스트 포맨 프레시 올인원 에센스  /product/7198  \n",
       "3538  포레스트 포맨 프레시 올인원 에센스  /product/7198  "
      ]
     },
     "execution_count": 36,
     "metadata": {},
     "output_type": "execute_result"
    }
   ],
   "source": [
    "test.head()"
   ]
  },
  {
   "cell_type": "markdown",
   "metadata": {},
   "source": [
    "# 리뷰 확인해보기"
   ]
  },
  {
   "cell_type": "code",
   "execution_count": 37,
   "metadata": {
    "ExecuteTime": {
     "end_time": "2020-01-22T17:57:06.054637Z",
     "start_time": "2020-01-22T17:56:58.787730Z"
    }
   },
   "outputs": [],
   "source": [
    "test_url = test.head().product_url.tolist()\n",
    "test_words = list(map(GP.kkma.nouns, data[data.product_url.isin(test_url)].content.tolist()))\n",
    "\n",
    "test_text = []\n",
    "for words2 in test_words:\n",
    "    test_text.extend(words2)\n",
    "test_text = ' '.join(test_text)\n",
    "test_text = re.sub('[\\d,^ㄱ-ㅎㅏ-ㅣ]', '', test_text)"
   ]
  },
  {
   "cell_type": "code",
   "execution_count": 39,
   "metadata": {
    "ExecuteTime": {
     "end_time": "2020-01-22T17:57:10.757893Z",
     "start_time": "2020-01-22T17:57:09.415690Z"
    }
   },
   "outputs": [
    {
     "data": {
      "image/png": "[encoded data removed]",
      "text/plain": [
       "<Figure size 432x288 with 1 Axes>"
      ]
     },
     "metadata": {
      "needs_background": "light"
     },
     "output_type": "display_data"
    }
   ],
   "source": [
    "wc2 = wc.generate(test_text)\n",
    "plt.imshow(wc2)\n",
    "plt.axis('off')\n",
    "plt.show()"
   ]
  }
 ],
 "metadata": {
  "hide_input": false,
  "kernelspec": {
   "display_name": "Python 3",
   "language": "python",
   "name": "python3"
  },
  "language_info": {
   "codemirror_mode": {
    "name": "ipython",
    "version": 3
   },
   "file_extension": ".py",
   "mimetype": "text/x-python",
   "name": "python",
   "nbconvert_exporter": "python",
   "pygments_lexer": "ipython3",
   "version": "3.7.4"
  },
  "toc": {
   "base_numbering": 1,
   "nav_menu": {},
   "number_sections": true,
   "sideBar": true,
   "skip_h1_title": false,
   "title_cell": "Table of Contents",
   "title_sidebar": "Contents",
   "toc_cell": false,
   "toc_position": {},
   "toc_section_display": true,
   "toc_window_display": false
  },
  "varInspector": {
   "cols": {
    "lenName": 16,
    "lenType": 16,
    "lenVar": 40
   },
   "kernels_config": {
    "python": {
     "delete_cmd_postfix": "",
     "delete_cmd_prefix": "del ",
     "library": "var_list.py",
     "varRefreshCmd": "print(var_dic_list())"
    },
    "r": {
     "delete_cmd_postfix": ") ",
     "delete_cmd_prefix": "rm(",
     "library": "var_list.r",
     "varRefreshCmd": "cat(var_dic_list()) "
    }
   },
   "types_to_exclude": [
    "module",
    "function",
    "builtin_function_or_method",
    "instance",
    "_Feature"
   ],
   "window_display": false
  }
 },
 "nbformat": 4,
 "nbformat_minor": 2
}
