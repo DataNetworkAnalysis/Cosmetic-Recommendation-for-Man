{
 "cells": [
  {
   "cell_type": "code",
   "execution_count": 191,
   "metadata": {
    "ExecuteTime": {
     "end_time": "2020-01-22T05:56:35.341791Z",
     "start_time": "2020-01-22T05:56:35.334787Z"
    }
   },
   "outputs": [],
   "source": [
    "import pandas as pd\n",
    "import pickle \n",
    "import re\n",
    "\n",
    "from scipy.spatial.distance import cosine\n",
    "from gensim.models import FastText\n",
    "\n",
    "import sys\n",
    "sys.path.append('../code')\n",
    "\n",
    "from preprocessing import GlowpickPreprocessing"
   ]
  },
  {
   "cell_type": "markdown",
   "metadata": {},
   "source": [
    "# Load data"
   ]
  },
  {
   "cell_type": "code",
   "execution_count": 6,
   "metadata": {
    "ExecuteTime": {
     "end_time": "2020-01-22T04:50:28.438496Z",
     "start_time": "2020-01-22T04:50:26.690759Z"
    }
   },
   "outputs": [
    {
     "name": "stdout",
     "output_type": "stream",
     "text": [
      "reviews.shape:  (461659, 7)\n",
      "products.shape:  (12698, 9)\n"
     ]
    }
   ],
   "source": [
    "reviews = pd.read_csv('../dataset/glowpick_reviews.csv')\n",
    "products = pd.read_csv('../dataset/glowpick_products.csv')\n",
    "print('reviews.shape: ',reviews.shape)\n",
    "print('products.shape: ',products.shape)"
   ]
  },
  {
   "cell_type": "markdown",
   "metadata": {},
   "source": [
    "# Load saved file"
   ]
  },
  {
   "cell_type": "code",
   "execution_count": 8,
   "metadata": {
    "ExecuteTime": {
     "end_time": "2020-01-22T04:50:40.079432Z",
     "start_time": "2020-01-22T04:50:39.526834Z"
    }
   },
   "outputs": [],
   "source": [
    "text = pickle.load(open('../saved_file/new_pre_text.pickle','rb'))\n",
    "text_word = pickle.load(open('../saved_file/new_pre_text_word.pickle','rb'))\n",
    "text_pos = pickle.load(open('../saved_file/new_pre_text_pos.pickle','rb'))\n",
    "text_word_pos = pickle.load(open('../saved_file/new_pre_text_word_pos.pickle','rb'))"
   ]
  },
  {
   "cell_type": "code",
   "execution_count": 9,
   "metadata": {
    "ExecuteTime": {
     "end_time": "2020-01-22T04:50:48.858385Z",
     "start_time": "2020-01-22T04:50:48.846952Z"
    }
   },
   "outputs": [],
   "source": [
    "vec = pickle.load(open('../saved_file/new_pre_embed.pickle','rb'))\n",
    "vec_word = pickle.load(open('../saved_file/new_pre_embed_word.pickle','rb'))\n",
    "vec_pos = pickle.load(open('../saved_file/new_pre_embed_pos.pickle','rb'))\n",
    "vec_word_pos = pickle.load(open('../saved_file/new_pre_embed_word_pos.pickle','rb'))"
   ]
  },
  {
   "cell_type": "code",
   "execution_count": 10,
   "metadata": {
    "ExecuteTime": {
     "end_time": "2020-01-22T04:50:55.836569Z",
     "start_time": "2020-01-22T04:50:54.638426Z"
    },
    "scrolled": true
   },
   "outputs": [],
   "source": [
    "model = FastText.load('../saved_file/new_model.bin')\n",
    "model_word = FastText.load('../saved_file/new_model_word.bin')\n",
    "model_pos = FastText.load('../saved_file/new_model_pos.bin')\n",
    "model_word_pos = FastText.load('../saved_file/new_model_word_pos.bin')"
   ]
  },
  {
   "cell_type": "markdown",
   "metadata": {},
   "source": [
    "# Test"
   ]
  },
  {
   "cell_type": "code",
   "execution_count": 11,
   "metadata": {
    "ExecuteTime": {
     "end_time": "2020-01-22T04:50:57.729401Z",
     "start_time": "2020-01-22T04:50:57.727209Z"
    }
   },
   "outputs": [],
   "source": [
    "wordpath = '../saved_file/replace_word.json'\n",
    "pospath = '../saved_file/pos_dict.json'"
   ]
  },
  {
   "cell_type": "code",
   "execution_count": 259,
   "metadata": {
    "ExecuteTime": {
     "end_time": "2020-01-22T06:30:30.470252Z",
     "start_time": "2020-01-22T06:30:30.468328Z"
    }
   },
   "outputs": [],
   "source": [
    "search = ['향 좋은 핸드크림']"
   ]
  },
  {
   "cell_type": "code",
   "execution_count": 260,
   "metadata": {
    "ExecuteTime": {
     "end_time": "2020-01-22T06:30:31.341564Z",
     "start_time": "2020-01-22T06:30:31.169773Z"
    }
   },
   "outputs": [
    {
     "name": "stdout",
     "output_type": "stream",
     "text": [
      "[PREPROCESSING]: complete stopword\n",
      "Loading JIT Compiled ChatSpace Model\n",
      "[PREPROCESSING]: complete spacefix\n",
      "[PREPROCESSING]: complete stopword\n",
      "Loading JIT Compiled ChatSpace Model\n",
      "[PREPROCESSING]: complete spacefix\n",
      "[PREPROCESSING]: complete wordfix\n",
      "[PREPROCESSING]: complete stopword\n",
      "Loading JIT Compiled ChatSpace Model\n",
      "[PREPROCESSING]: complete spacefix\n",
      "[PREPROCESSING]: complete posfix\n",
      "[PREPROCESSING]: complete stopword\n",
      "Loading JIT Compiled ChatSpace Model\n",
      "[PREPROCESSING]: complete spacefix\n",
      "[PREPROCESSING]: complete wordfix\n",
      "[PREPROCESSING]: complete posfix\n"
     ]
    }
   ],
   "source": [
    "GP = GlowpickPreprocessing()\n",
    "s_text = GP.fit(search)\n",
    "s_text_word = GP.fit(search, wordfix_path=wordpath)\n",
    "s_text_pos = GP.fit(search, posfix_path=pospath)\n",
    "s_text_word_pos = GP.fit(search, wordfix_path=wordpath, posfix_path=pospath)\n",
    "\n",
    "s_vec = GP.sent2vec(s_text, model)\n",
    "s_vec_word = GP.sent2vec(s_text_word, model_word)\n",
    "s_vec_pos = GP.sent2vec(s_text_pos, model_pos)\n",
    "s_vec_word_pos = GP.sent2vec(s_text_word_pos, model_word_pos)"
   ]
  },
  {
   "cell_type": "code",
   "execution_count": 292,
   "metadata": {
    "ExecuteTime": {
     "end_time": "2020-01-22T06:31:38.712096Z",
     "start_time": "2020-01-22T06:31:38.709895Z"
    }
   },
   "outputs": [
    {
     "name": "stdout",
     "output_type": "stream",
     "text": [
      "s_text:  [['향', '좋은', '핸드크림']]\n"
     ]
    }
   ],
   "source": [
    "print('s_text: ',s_text)"
   ]
  },
  {
   "cell_type": "markdown",
   "metadata": {},
   "source": [
    "# Filtering"
   ]
  },
  {
   "cell_type": "code",
   "execution_count": 261,
   "metadata": {
    "ExecuteTime": {
     "end_time": "2020-01-22T06:30:32.037754Z",
     "start_time": "2020-01-22T06:30:31.954319Z"
    }
   },
   "outputs": [
    {
     "name": "stdout",
     "output_type": "stream",
     "text": [
      "[LOAD] filtering data\n",
      "filtering reviews shape:  (10390, 6)\n"
     ]
    }
   ],
   "source": [
    "# feature selection\n",
    "features = ['product_url','category','brand','vol_price','nb_reviews','sex','age_skin_type','rate_x','product','content']\n",
    "show_features = ['category','brand','nb_reviews','vol_price','product']\n",
    "\n",
    "# filtering 여성용품\n",
    "if '여성용품' in products.title.unique():\n",
    "    print('[LOAD] filtering data')\n",
    "    data_prod = pd.merge(reviews, products, on='product_url', how='left')\n",
    "\n",
    "    male_cosmetic = data_prod[data_prod.title=='남성화장품']\n",
    "    male_reviews = data_prod[(data_prod.title!='남성화장품')&(data_prod.sex=='m')]\n",
    "\n",
    "    reviews = pd.concat([male_cosmetic, male_reviews], axis=0)\n",
    "\n",
    "    # rate_x -> rate\n",
    "    reviews = reviews.rename(columns={'rate_x':'rate'})\n",
    "    reviews = reviews[['user_id','sex','age_skin_type','rate','content','product_url']].drop_duplicates()\n",
    "    print('filtering reviews shape: ',reviews.shape)"
   ]
  },
  {
   "cell_type": "markdown",
   "metadata": {},
   "source": [
    "# distance"
   ]
  },
  {
   "cell_type": "code",
   "execution_count": 262,
   "metadata": {
    "ExecuteTime": {
     "end_time": "2020-01-22T06:30:32.595139Z",
     "start_time": "2020-01-22T06:30:32.584646Z"
    }
   },
   "outputs": [],
   "source": [
    "def cosine_dist(m, v):\n",
    "    dist_arr = np.zeros((m.shape[0]))\n",
    "    for i, sent in enumerate(m):\n",
    "        dist = cosine(sent, v[0])\n",
    "        dist_arr[i] = dist\n",
    "    return dist_arr"
   ]
  },
  {
   "cell_type": "code",
   "execution_count": 263,
   "metadata": {
    "ExecuteTime": {
     "end_time": "2020-01-22T06:30:33.846952Z",
     "start_time": "2020-01-22T06:30:32.979290Z"
    }
   },
   "outputs": [],
   "source": [
    "dist = cosine_dist(vec, s_vec)\n",
    "dist_word = cosine_dist(vec_word, s_vec_word)\n",
    "dist_pos = cosine_dist(vec_pos, s_vec_pos)\n",
    "dist_word_pos = cosine_dist(vec_word_pos, s_vec_word_pos)"
   ]
  },
  {
   "cell_type": "code",
   "execution_count": 264,
   "metadata": {
    "ExecuteTime": {
     "end_time": "2020-01-22T06:30:34.188621Z",
     "start_time": "2020-01-22T06:30:34.184499Z"
    }
   },
   "outputs": [],
   "source": [
    "reviews['dist'] = dist\n",
    "reviews['dist_word'] = dist_word\n",
    "reviews['dist_pos'] = dist_pos\n",
    "reviews['dist_word_pos'] = dist_word_pos"
   ]
  },
  {
   "cell_type": "code",
   "execution_count": 320,
   "metadata": {
    "ExecuteTime": {
     "end_time": "2020-01-22T07:19:15.130936Z",
     "start_time": "2020-01-22T07:19:15.102109Z"
    }
   },
   "outputs": [],
   "source": [
    "reviews_prod = pd.merge(reviews, products, on='product_url', how='left')"
   ]
  },
  {
   "cell_type": "code",
   "execution_count": 321,
   "metadata": {
    "ExecuteTime": {
     "end_time": "2020-01-22T07:19:15.608356Z",
     "start_time": "2020-01-22T07:19:15.493663Z"
    }
   },
   "outputs": [
    {
     "data": {
      "text/plain": [
       "<matplotlib.axes._subplots.AxesSubplot at 0x7f067f387a50>"
      ]
     },
     "execution_count": 321,
     "metadata": {},
     "output_type": "execute_result"
    },
    {
     "data": {
      "image/png": "[encoded data removed]",
      "text/plain": [
       "<Figure size 432x288 with 1 Axes>"
      ]
     },
     "metadata": {
      "needs_background": "light"
     },
     "output_type": "display_data"
    }
   ],
   "source": [
    "reviews_prod.dist.plot.hist()"
   ]
  },
  {
   "cell_type": "code",
   "execution_count": 322,
   "metadata": {
    "ExecuteTime": {
     "end_time": "2020-01-22T07:19:16.067986Z",
     "start_time": "2020-01-22T07:19:15.954179Z"
    }
   },
   "outputs": [
    {
     "data": {
      "text/plain": [
       "<matplotlib.axes._subplots.AxesSubplot at 0x7f068daba850>"
      ]
     },
     "execution_count": 322,
     "metadata": {},
     "output_type": "execute_result"
    },
    {
     "data": {
      "image/png": "[encoded data removed]",
      "text/plain": [
       "<Figure size 432x288 with 1 Axes>"
      ]
     },
     "metadata": {
      "needs_background": "light"
     },
     "output_type": "display_data"
    }
   ],
   "source": [
    "reviews_prod.dist_pos.plot.hist()"
   ]
  },
  {
   "cell_type": "code",
   "execution_count": 323,
   "metadata": {
    "ExecuteTime": {
     "end_time": "2020-01-22T07:19:16.540857Z",
     "start_time": "2020-01-22T07:19:16.428894Z"
    }
   },
   "outputs": [
    {
     "data": {
      "text/plain": [
       "<matplotlib.axes._subplots.AxesSubplot at 0x7f067ef08350>"
      ]
     },
     "execution_count": 323,
     "metadata": {},
     "output_type": "execute_result"
    },
    {
     "data": {
      "image/png": "[encoded data removed]",
      "text/plain": [
       "<Figure size 432x288 with 1 Axes>"
      ]
     },
     "metadata": {
      "needs_background": "light"
     },
     "output_type": "display_data"
    }
   ],
   "source": [
    "reviews_prod.dist_word.plot.hist()"
   ]
  },
  {
   "cell_type": "code",
   "execution_count": 324,
   "metadata": {
    "ExecuteTime": {
     "end_time": "2020-01-22T07:19:17.012107Z",
     "start_time": "2020-01-22T07:19:16.890490Z"
    }
   },
   "outputs": [
    {
     "data": {
      "text/plain": [
       "<matplotlib.axes._subplots.AxesSubplot at 0x7f067f873a50>"
      ]
     },
     "execution_count": 324,
     "metadata": {},
     "output_type": "execute_result"
    },
    {
     "data": {
      "image/png": "[encoded data removed]",
      "text/plain": [
       "<Figure size 432x288 with 1 Axes>"
      ]
     },
     "metadata": {
      "needs_background": "light"
     },
     "output_type": "display_data"
    }
   ],
   "source": [
    "reviews_prod.dist_word_pos.plot.hist()"
   ]
  },
  {
   "cell_type": "code",
   "execution_count": 342,
   "metadata": {
    "ExecuteTime": {
     "end_time": "2020-01-22T07:20:15.313260Z",
     "start_time": "2020-01-22T07:20:15.308791Z"
    }
   },
   "outputs": [
    {
     "data": {
      "text/plain": [
       "[['향', '좋은', '핸드크림']]"
      ]
     },
     "execution_count": 342,
     "metadata": {},
     "output_type": "execute_result"
    }
   ],
   "source": [
    "s_text"
   ]
  },
  {
   "cell_type": "markdown",
   "metadata": {},
   "source": [
    "# Filtering"
   ]
  },
  {
   "cell_type": "markdown",
   "metadata": {},
   "source": [
    "## category"
   ]
  },
  {
   "cell_type": "code",
   "execution_count": 299,
   "metadata": {
    "ExecuteTime": {
     "end_time": "2020-01-22T06:32:21.247592Z",
     "start_time": "2020-01-22T06:32:21.244478Z"
    }
   },
   "outputs": [],
   "source": [
    "cat_lst = reviews_prod.category.unique()"
   ]
  },
  {
   "cell_type": "code",
   "execution_count": 300,
   "metadata": {
    "ExecuteTime": {
     "end_time": "2020-01-22T06:32:21.589399Z",
     "start_time": "2020-01-22T06:32:21.586487Z"
    }
   },
   "outputs": [
    {
     "data": {
      "text/plain": [
       "array(['비비크림', '메이크업', '바디워시', '클렌징', '데오도란트', '헤어/바디', '린스/컨디셔너',\n",
       "       '헤어스타일링', '제모제/용품', '애프터쉐이브', '스크럽/필링', '쉐이빙', '마스크/팩', '로션', '스킨',\n",
       "       '에센스', '크림', '선케어', '트러블케어', '미스트', '화이트닝케어', '링클케어', '수딩젤/팩',\n",
       "       '바디로션', '베이비스킨케어', '모공케어', '바디크림', '수면팩', '토너/필링패드', '페이스오일',\n",
       "       '바디오일', '바디밤/파우더', '메이크업픽서', '바디미스트', '클렌징폼', '베이비클렌저/샴푸', '워시오프',\n",
       "       '클렌징젤', '클렌징오일', '클렌징밀크', '클렌징크림', '클렌징워터', '바디스크럽', '포인트리무버',\n",
       "       '클렌징티슈', '클렌징비누', '목욕비누', '메이크업베이스', '선블록', '톤업크림', '베이스프라이머',\n",
       "       '포인트프라이머', '파운데이션', '쿠션타입', '팩트', '씨씨크림', '컨실러', '하이라이터', '파우더',\n",
       "       '트윈케익', '립스틱', '블러셔', '립글로스/락커', '립틴트', '립밤', '핸드케어', '립라이너',\n",
       "       '아이라이너-펜슬&젤', '아이라이너-리퀴드', '마스카라', '픽서/영양제', '아이섀도우', '아이브로우-펜슬',\n",
       "       '아이브로우-파우더', '아이브로우-마스카라&리퀴드', '쉐딩', '마스크시트', '필오프', '코팩',\n",
       "       '베이비선케어', '선스프레이', '선스틱', '선쿠션', '태닝', '아이케어', '넥케어', '샴푸',\n",
       "       '베이비바디', '바디슬리밍', '아로마테라피', '바디에센스', '풋케어', '입욕제', '트리트먼트/팩',\n",
       "       '헤어에센스', '헤어소품', '염색제/퍼머제', '헤어기기', '네일컬러', '네일아트/소품', '네일영양',\n",
       "       '네일리무버', '소형', '중형', '대형', '오버나이트', '청결제', '컬러렌즈', '렌즈관리용품',\n",
       "       '투명렌즈', '여성향수', '남성향수', '방향제', '향초', '디퓨저', '브러쉬', '스펀지/퍼프', '뷰러',\n",
       "       '페이스소품', '아이소품', '키즈제품', '맘케어', '건강/다이어트식품'], dtype=object)"
      ]
     },
     "execution_count": 300,
     "metadata": {},
     "output_type": "execute_result"
    }
   ],
   "source": [
    "cat_lst"
   ]
  },
  {
   "cell_type": "code",
   "execution_count": 301,
   "metadata": {
    "ExecuteTime": {
     "end_time": "2020-01-22T06:32:21.922847Z",
     "start_time": "2020-01-22T06:32:21.921406Z"
    }
   },
   "outputs": [],
   "source": [
    "# 추출된 키워드가 카테고리 내에 있으면 걔네만 추천\n",
    "\n",
    "inter_cat = []\n",
    "for cat in cat_lst:\n",
    "    for s in s_text[0]:\n",
    "        if s in cat:\n",
    "            inter_cat.append(cat)"
   ]
  },
  {
   "cell_type": "code",
   "execution_count": 302,
   "metadata": {
    "ExecuteTime": {
     "end_time": "2020-01-22T06:32:22.259898Z",
     "start_time": "2020-01-22T06:32:22.256265Z"
    }
   },
   "outputs": [],
   "source": [
    "if len(inter_cat) > 0:\n",
    "    reviews_prod = reviews_prod[reviews_prod.category.isin(inter_cat)]"
   ]
  },
  {
   "cell_type": "code",
   "execution_count": 303,
   "metadata": {
    "ExecuteTime": {
     "end_time": "2020-01-22T06:32:22.590397Z",
     "start_time": "2020-01-22T06:32:22.588069Z"
    }
   },
   "outputs": [
    {
     "name": "stdout",
     "output_type": "stream",
     "text": [
      "reviews_prod.shape:  (614, 18)\n"
     ]
    }
   ],
   "source": [
    "print('reviews_prod.shape: ',reviews_prod.shape)"
   ]
  },
  {
   "cell_type": "markdown",
   "metadata": {},
   "source": [
    "## product name"
   ]
  },
  {
   "cell_type": "code",
   "execution_count": 326,
   "metadata": {
    "ExecuteTime": {
     "end_time": "2020-01-22T07:19:22.751719Z",
     "start_time": "2020-01-22T07:19:22.745602Z"
    }
   },
   "outputs": [],
   "source": [
    "s_dict = {\n",
    "    #메이크업항목\n",
    "    'makeup_dict':{\n",
    "#     '비비':['BB','파운데이션','듀얼 스틱','원 플루이드 그린','저스트 스킨','모이스처라이저 B'],\n",
    "    '톤업':['톤 업','톤 매너','아프리카 버드 옴므 올인원 브라이트닝 에센스'],\n",
    "#     '씨씨':['CC','CC크림','리얼컴플렉션 젤 피니셔','포맨 히든스틱'],\n",
    "#     '쿠션':['쿠션크림'],\n",
    "#     '립':['밤','듀얼 스틱'],\n",
    "#     '브로우':['눈썹','마스터 커버스틱','숯 유어셀프'],\n",
    "    },\n",
    "\n",
    "    #헤어/바디 항목\n",
    "    'hair_body_dict':{\n",
    "#     '바디워시':['워시','바디 워시','비어 원샷 클렌저 포맨','맨즈 시트러스 민트 3 IN 1'],\n",
    "#     '샴푸':['방 덴시피크 옴므','두쉐르 베제딸 뿌르옴므','또니끄 비비휘앙 뿌르옴므','뱅 떼에스 뿌르옴므','뱅 트레땅 알라 프로폴리스 뿌르옴므'],\n",
    "    '샤워젤':['샤워','샤워 젤'],\n",
    "    '스프레이':['퍼퓸건','미스트','라스트 샷'],\n",
    "#     '로션':['크림','핸드크림','핸드','맨올로지 101 에너자이징 바디 에멀젼'],\n",
    "    '데오드란트':['데오도란트','맨 블랙 앤 화이트 롤 온','매너 키트','데오도런트'],\n",
    "    '오일':['맨 퓨어-포먼스 컴포지션']\n",
    "    },\n",
    "\n",
    "    #헤어스타일링 항목 \n",
    "    'hairstyle_dict':{\n",
    "    '왁스':['무빙러버','젤','하드','헤어잼','크래프트 클레이 리모델러블 매트 텍스처라이저','알앤비','포맨 오리지널 슈퍼 매트','버번 바닐라 & 텐저린 헤어 텍스처라이저','맨 퓨어-포먼스 그루밍 클레이'],\n",
    "#     '컬':['볼륨미아 볼륨 무스']\n",
    "    }\n",
    "}"
   ]
  },
  {
   "cell_type": "code",
   "execution_count": 327,
   "metadata": {
    "ExecuteTime": {
     "end_time": "2020-01-22T07:19:23.478809Z",
     "start_time": "2020-01-22T07:19:23.120312Z"
    }
   },
   "outputs": [],
   "source": [
    "inter_word = []\n",
    "for cat, dic in s_dict.items():\n",
    "    for k, v in dic.items():\n",
    "        if k in s_text[0]:\n",
    "            inter_word = v\n",
    "            continue\n",
    "        for i in v:\n",
    "            if i in s_text[0]:\n",
    "                inter_word = v"
   ]
  },
  {
   "cell_type": "code",
   "execution_count": 328,
   "metadata": {
    "ExecuteTime": {
     "end_time": "2020-01-22T07:19:23.865765Z",
     "start_time": "2020-01-22T07:19:23.863044Z"
    }
   },
   "outputs": [],
   "source": [
    "if len(inter_word) > 0:\n",
    "    inter_idx = []\n",
    "    for i, p in enumerate(reviews_prod['product']):\n",
    "        for c in inter_word:\n",
    "            if c in p:\n",
    "                inter_idx.append(i)\n",
    "    reviews_prod = reviews_prod.iloc[inter_idx]"
   ]
  },
  {
   "cell_type": "code",
   "execution_count": 329,
   "metadata": {
    "ExecuteTime": {
     "end_time": "2020-01-22T07:19:27.324446Z",
     "start_time": "2020-01-22T07:19:27.315941Z"
    }
   },
   "outputs": [
    {
     "name": "stdout",
     "output_type": "stream",
     "text": [
      "len(inter_idx):  0\n"
     ]
    }
   ],
   "source": [
    "print('len(inter_idx): ', len(inter_idx))"
   ]
  },
  {
   "cell_type": "code",
   "execution_count": 330,
   "metadata": {
    "ExecuteTime": {
     "end_time": "2020-01-22T07:19:27.820995Z",
     "start_time": "2020-01-22T07:19:27.817150Z"
    }
   },
   "outputs": [
    {
     "name": "stdout",
     "output_type": "stream",
     "text": [
      "reviews_prod.shape:  (11667, 18)\n"
     ]
    }
   ],
   "source": [
    "print('reviews_prod.shape: ',reviews_prod.shape)"
   ]
  },
  {
   "cell_type": "markdown",
   "metadata": {},
   "source": [
    "## nb_reviews"
   ]
  },
  {
   "cell_type": "code",
   "execution_count": 331,
   "metadata": {
    "ExecuteTime": {
     "end_time": "2020-01-22T07:19:28.785415Z",
     "start_time": "2020-01-22T07:19:28.777542Z"
    }
   },
   "outputs": [],
   "source": [
    "def repl(x):\n",
    "    pattern = '[^\\d]'\n",
    "    return re.sub(pattern, '', x)"
   ]
  },
  {
   "cell_type": "code",
   "execution_count": 332,
   "metadata": {
    "ExecuteTime": {
     "end_time": "2020-01-22T07:19:29.186646Z",
     "start_time": "2020-01-22T07:19:29.168804Z"
    }
   },
   "outputs": [],
   "source": [
    "reviews_prod.nb_reviews = reviews_prod.nb_reviews.map(repl).astype(int)"
   ]
  },
  {
   "cell_type": "code",
   "execution_count": 333,
   "metadata": {
    "ExecuteTime": {
     "end_time": "2020-01-22T07:19:29.540316Z",
     "start_time": "2020-01-22T07:19:29.534567Z"
    }
   },
   "outputs": [],
   "source": [
    "nb_reviews_med = reviews_prod.nb_reviews.describe().loc['50%']"
   ]
  },
  {
   "cell_type": "code",
   "execution_count": 334,
   "metadata": {
    "ExecuteTime": {
     "end_time": "2020-01-22T07:19:29.910242Z",
     "start_time": "2020-01-22T07:19:29.906249Z"
    }
   },
   "outputs": [],
   "source": [
    "reviews_prod = reviews_prod[reviews_prod.nb_reviews >= nb_reviews_med]"
   ]
  },
  {
   "cell_type": "code",
   "execution_count": 335,
   "metadata": {
    "ExecuteTime": {
     "end_time": "2020-01-22T07:19:30.263884Z",
     "start_time": "2020-01-22T07:19:30.261379Z"
    }
   },
   "outputs": [
    {
     "name": "stdout",
     "output_type": "stream",
     "text": [
      "reviews_prod.shape:  (5834, 18)\n"
     ]
    }
   ],
   "source": [
    "print('reviews_prod.shape: ',reviews_prod.shape)"
   ]
  },
  {
   "cell_type": "markdown",
   "metadata": {},
   "source": [
    "## rate"
   ]
  },
  {
   "cell_type": "code",
   "execution_count": 336,
   "metadata": {
    "ExecuteTime": {
     "end_time": "2020-01-22T07:19:30.616292Z",
     "start_time": "2020-01-22T07:19:30.611493Z"
    }
   },
   "outputs": [],
   "source": [
    "rate_dict = {\n",
    "    'best':0,\n",
    "    'good':1,\n",
    "    'soso':2,\n",
    "    'bad':3,\n",
    "    'worst':4\n",
    "}\n",
    "reviews_prod.rate_x = reviews_prod.rate_x.map(rate_dict)"
   ]
  },
  {
   "cell_type": "code",
   "execution_count": 337,
   "metadata": {
    "ExecuteTime": {
     "end_time": "2020-01-22T07:19:30.977141Z",
     "start_time": "2020-01-22T07:19:30.971718Z"
    }
   },
   "outputs": [
    {
     "name": "stdout",
     "output_type": "stream",
     "text": [
      "reviews_prod.shape:  (4320, 18)\n"
     ]
    }
   ],
   "source": [
    "reviews_prod = reviews_prod[reviews_prod.rate_x.isin([0,1])]\n",
    "print('reviews_prod.shape: ',reviews_prod.shape)"
   ]
  },
  {
   "cell_type": "markdown",
   "metadata": {},
   "source": [
    "# Recommander"
   ]
  },
  {
   "cell_type": "code",
   "execution_count": 338,
   "metadata": {
    "ExecuteTime": {
     "end_time": "2020-01-22T07:19:32.428746Z",
     "start_time": "2020-01-22T07:19:32.387024Z"
    }
   },
   "outputs": [
    {
     "data": {
      "text/html": [
       "<div>\n",
       "<style scoped>\n",
       "    .dataframe tbody tr th:only-of-type {\n",
       "        vertical-align: middle;\n",
       "    }\n",
       "\n",
       "    .dataframe tbody tr th {\n",
       "        vertical-align: top;\n",
       "    }\n",
       "\n",
       "    .dataframe thead th {\n",
       "        text-align: right;\n",
       "    }\n",
       "</style>\n",
       "<table border=\"1\" class=\"dataframe\">\n",
       "  <thead>\n",
       "    <tr style=\"text-align: right;\">\n",
       "      <th></th>\n",
       "      <th>category</th>\n",
       "      <th>brand</th>\n",
       "      <th>nb_reviews</th>\n",
       "      <th>vol_price</th>\n",
       "      <th>product</th>\n",
       "      <th>content</th>\n",
       "    </tr>\n",
       "  </thead>\n",
       "  <tbody>\n",
       "    <tr>\n",
       "      <td>7173</td>\n",
       "      <td>미스트</td>\n",
       "      <td>보타닉힐 보 (boH)</td>\n",
       "      <td>708</td>\n",
       "      <td>120ml15,000원</td>\n",
       "      <td>더마 인텐시브 판테놀 크림 미스트</td>\n",
       "      <td>나오는 것도 좋고 가성비가 좋은 제품이군요! 크림향도 나는거같고 촉촉하네요~</td>\n",
       "    </tr>\n",
       "    <tr>\n",
       "      <td>10132</td>\n",
       "      <td>핸드케어</td>\n",
       "      <td>이솝 (Aesop)</td>\n",
       "      <td>237</td>\n",
       "      <td>75ml30,000원</td>\n",
       "      <td>레저렉션 아로마틱 핸드 밤</td>\n",
       "      <td>핸드크림중에 제일 좋은거 같아요 은은한 우드향이라 과하지 않고 좋아요!</td>\n",
       "    </tr>\n",
       "    <tr>\n",
       "      <td>9147</td>\n",
       "      <td>수딩젤/팩</td>\n",
       "      <td>아로마티카 (AROMATICA)</td>\n",
       "      <td>1538</td>\n",
       "      <td>300ml11,000원</td>\n",
       "      <td>95% 유기농 알로에 베라 젤</td>\n",
       "      <td>진짜 좋아요! 피부에 무리도 없고 믿을만한 제품인것 같아요!</td>\n",
       "    </tr>\n",
       "    <tr>\n",
       "      <td>4354</td>\n",
       "      <td>로션</td>\n",
       "      <td>이니스프리 (innisfree)</td>\n",
       "      <td>59</td>\n",
       "      <td>120ml22,000원</td>\n",
       "      <td>포레스트 포맨 모이스처 로션</td>\n",
       "      <td>남자친구 선물해줬는데 좋아해요ㅎㅎ 무난하니 가격도그렇고 선물하기 좋은것같아요ㅎ</td>\n",
       "    </tr>\n",
       "    <tr>\n",
       "      <td>9152</td>\n",
       "      <td>수딩젤/팩</td>\n",
       "      <td>토니모리 (TONYMOLY)</td>\n",
       "      <td>144</td>\n",
       "      <td>250ml3,300원</td>\n",
       "      <td>알로에 99% 촉촉 수딩젤</td>\n",
       "      <td>이거만큼 저렴하구 좋은 수딩젤 못봤습니당!</td>\n",
       "    </tr>\n",
       "  </tbody>\n",
       "</table>\n",
       "</div>"
      ],
      "text/plain": [
       "      category              brand  nb_reviews     vol_price  \\\n",
       "7173       미스트       보타닉힐 보 (boH)         708  120ml15,000원   \n",
       "10132     핸드케어         이솝 (Aesop)         237   75ml30,000원   \n",
       "9147     수딩젤/팩  아로마티카 (AROMATICA)        1538  300ml11,000원   \n",
       "4354        로션  이니스프리 (innisfree)          59  120ml22,000원   \n",
       "9152     수딩젤/팩    토니모리 (TONYMOLY)         144   250ml3,300원   \n",
       "\n",
       "                  product                                      content  \n",
       "7173   더마 인텐시브 판테놀 크림 미스트   나오는 것도 좋고 가성비가 좋은 제품이군요! 크림향도 나는거같고 촉촉하네요~  \n",
       "10132      레저렉션 아로마틱 핸드 밤      핸드크림중에 제일 좋은거 같아요 은은한 우드향이라 과하지 않고 좋아요!  \n",
       "9147     95% 유기농 알로에 베라 젤            진짜 좋아요! 피부에 무리도 없고 믿을만한 제품인것 같아요!  \n",
       "4354      포레스트 포맨 모이스처 로션  남자친구 선물해줬는데 좋아해요ㅎㅎ 무난하니 가격도그렇고 선물하기 좋은것같아요ㅎ  \n",
       "9152       알로에 99% 촉촉 수딩젤                      이거만큼 저렴하구 좋은 수딩젤 못봤습니당!  "
      ]
     },
     "execution_count": 338,
     "metadata": {},
     "output_type": "execute_result"
    }
   ],
   "source": [
    "f = set(s_text[0]) & set(cat_lst)\n",
    "if len(f) > 0:\n",
    "    temp = reviews_prod[['dist'] + features]\n",
    "    temp = temp[temp.category.isin(f)].sort_values(by=['rate_x','dist']).drop_duplicates()\n",
    "else:\n",
    "    temp = reviews_prod[['dist'] + features].sort_values(by=['rate_x','dist']).drop_duplicates()\n",
    "temp[show_features + ['content']].head()"
   ]
  },
  {
   "cell_type": "code",
   "execution_count": 339,
   "metadata": {
    "ExecuteTime": {
     "end_time": "2020-01-22T07:19:37.596169Z",
     "start_time": "2020-01-22T07:19:37.570367Z"
    }
   },
   "outputs": [
    {
     "data": {
      "text/html": [
       "<div>\n",
       "<style scoped>\n",
       "    .dataframe tbody tr th:only-of-type {\n",
       "        vertical-align: middle;\n",
       "    }\n",
       "\n",
       "    .dataframe tbody tr th {\n",
       "        vertical-align: top;\n",
       "    }\n",
       "\n",
       "    .dataframe thead th {\n",
       "        text-align: right;\n",
       "    }\n",
       "</style>\n",
       "<table border=\"1\" class=\"dataframe\">\n",
       "  <thead>\n",
       "    <tr style=\"text-align: right;\">\n",
       "      <th></th>\n",
       "      <th>category</th>\n",
       "      <th>brand</th>\n",
       "      <th>nb_reviews</th>\n",
       "      <th>vol_price</th>\n",
       "      <th>product</th>\n",
       "      <th>content</th>\n",
       "    </tr>\n",
       "  </thead>\n",
       "  <tbody>\n",
       "    <tr>\n",
       "      <td>8160</td>\n",
       "      <td>파운데이션</td>\n",
       "      <td>바비브라운 (BOBBI BROWN)</td>\n",
       "      <td>153</td>\n",
       "      <td>30ml65,000원</td>\n",
       "      <td>스킨 롱웨어 웨이트리스 파운데이션 [SPF15/PA++]</td>\n",
       "      <td>남자가 쓰기에 너무 좋은듯 한듯 안한듯하면서 커버력이 너무 좋음</td>\n",
       "    </tr>\n",
       "    <tr>\n",
       "      <td>5213</td>\n",
       "      <td>에센스</td>\n",
       "      <td>보타닉힐 보 아이디얼 포 맨 (ideal)</td>\n",
       "      <td>139</td>\n",
       "      <td>150ml28,000원</td>\n",
       "      <td>퍼펙트 올인원</td>\n",
       "      <td>향도없고 남자들이쓰기좋은거같아요! 발림성도좋고 땡기는거도 덜함!</td>\n",
       "    </tr>\n",
       "    <tr>\n",
       "      <td>7186</td>\n",
       "      <td>미스트</td>\n",
       "      <td>샤넬 (CHANEL)</td>\n",
       "      <td>259</td>\n",
       "      <td>50ml130,000원</td>\n",
       "      <td>보떼 이니샬 에너자이징 멀티 프로텍션 컨센트레이트 스프레이 쎄럼</td>\n",
       "      <td>좋은데 가격이ㅜㅠㅠㅠㅠ</td>\n",
       "    </tr>\n",
       "    <tr>\n",
       "      <td>10132</td>\n",
       "      <td>핸드케어</td>\n",
       "      <td>이솝 (Aesop)</td>\n",
       "      <td>237</td>\n",
       "      <td>75ml30,000원</td>\n",
       "      <td>레저렉션 아로마틱 핸드 밤</td>\n",
       "      <td>핸드크림중에 제일 좋은거 같아요 은은한 우드향이라 과하지 않고 좋아요!</td>\n",
       "    </tr>\n",
       "    <tr>\n",
       "      <td>7173</td>\n",
       "      <td>미스트</td>\n",
       "      <td>보타닉힐 보 (boH)</td>\n",
       "      <td>708</td>\n",
       "      <td>120ml15,000원</td>\n",
       "      <td>더마 인텐시브 판테놀 크림 미스트</td>\n",
       "      <td>나오는 것도 좋고 가성비가 좋은 제품이군요! 크림향도 나는거같고 촉촉하네요~</td>\n",
       "    </tr>\n",
       "  </tbody>\n",
       "</table>\n",
       "</div>"
      ],
      "text/plain": [
       "      category                    brand  nb_reviews     vol_price  \\\n",
       "8160     파운데이션      바비브라운 (BOBBI BROWN)         153   30ml65,000원   \n",
       "5213       에센스  보타닉힐 보 아이디얼 포 맨 (ideal)         139  150ml28,000원   \n",
       "7186       미스트              샤넬 (CHANEL)         259  50ml130,000원   \n",
       "10132     핸드케어               이솝 (Aesop)         237   75ml30,000원   \n",
       "7173       미스트             보타닉힐 보 (boH)         708  120ml15,000원   \n",
       "\n",
       "                                   product  \\\n",
       "8160       스킨 롱웨어 웨이트리스 파운데이션 [SPF15/PA++]   \n",
       "5213                               퍼펙트 올인원   \n",
       "7186   보떼 이니샬 에너자이징 멀티 프로텍션 컨센트레이트 스프레이 쎄럼   \n",
       "10132                       레저렉션 아로마틱 핸드 밤   \n",
       "7173                    더마 인텐시브 판테놀 크림 미스트   \n",
       "\n",
       "                                          content  \n",
       "8160          남자가 쓰기에 너무 좋은듯 한듯 안한듯하면서 커버력이 너무 좋음  \n",
       "5213          향도없고 남자들이쓰기좋은거같아요! 발림성도좋고 땡기는거도 덜함!  \n",
       "7186                                 좋은데 가격이ㅜㅠㅠㅠㅠ  \n",
       "10132     핸드크림중에 제일 좋은거 같아요 은은한 우드향이라 과하지 않고 좋아요!  \n",
       "7173   나오는 것도 좋고 가성비가 좋은 제품이군요! 크림향도 나는거같고 촉촉하네요~  "
      ]
     },
     "execution_count": 339,
     "metadata": {},
     "output_type": "execute_result"
    }
   ],
   "source": [
    "f = set(s_text[0]) & set(cat_lst)\n",
    "if len(f) > 0:\n",
    "    temp = reviews_prod[['dist_word'] + features]\n",
    "    temp = temp[temp.category.isin(f)].sort_values(by=['rate_x','dist_word']).drop_duplicates()\n",
    "else:\n",
    "    temp = reviews_prod[['dist_word'] + features].sort_values(by=['rate_x','dist_word']).drop_duplicates()\n",
    "temp[show_features + ['content']].head()"
   ]
  },
  {
   "cell_type": "code",
   "execution_count": 340,
   "metadata": {
    "ExecuteTime": {
     "end_time": "2020-01-22T07:19:39.518374Z",
     "start_time": "2020-01-22T07:19:39.497271Z"
    }
   },
   "outputs": [
    {
     "data": {
      "text/html": [
       "<div>\n",
       "<style scoped>\n",
       "    .dataframe tbody tr th:only-of-type {\n",
       "        vertical-align: middle;\n",
       "    }\n",
       "\n",
       "    .dataframe tbody tr th {\n",
       "        vertical-align: top;\n",
       "    }\n",
       "\n",
       "    .dataframe thead th {\n",
       "        text-align: right;\n",
       "    }\n",
       "</style>\n",
       "<table border=\"1\" class=\"dataframe\">\n",
       "  <thead>\n",
       "    <tr style=\"text-align: right;\">\n",
       "      <th></th>\n",
       "      <th>category</th>\n",
       "      <th>brand</th>\n",
       "      <th>nb_reviews</th>\n",
       "      <th>vol_price</th>\n",
       "      <th>product</th>\n",
       "      <th>content</th>\n",
       "    </tr>\n",
       "  </thead>\n",
       "  <tbody>\n",
       "    <tr>\n",
       "      <td>10193</td>\n",
       "      <td>풋케어</td>\n",
       "      <td>뉴트로지나 (Neutrogena)</td>\n",
       "      <td>310</td>\n",
       "      <td>56g8,000원</td>\n",
       "      <td>노르웨이젼 포뮬러 풋 크림</td>\n",
       "      <td>핸드크림 풋크림 차이 잘 모르겠지만 보습 충분해서 좋다</td>\n",
       "    </tr>\n",
       "    <tr>\n",
       "      <td>7173</td>\n",
       "      <td>미스트</td>\n",
       "      <td>보타닉힐 보 (boH)</td>\n",
       "      <td>708</td>\n",
       "      <td>120ml15,000원</td>\n",
       "      <td>더마 인텐시브 판테놀 크림 미스트</td>\n",
       "      <td>나오는 것도 좋고 가성비가 좋은 제품이군요! 크림향도 나는거같고 촉촉하네요~</td>\n",
       "    </tr>\n",
       "    <tr>\n",
       "      <td>9315</td>\n",
       "      <td>선블록</td>\n",
       "      <td>닥터아토 (Dr.ato)</td>\n",
       "      <td>108</td>\n",
       "      <td>50ml16,000원</td>\n",
       "      <td>수분 촉촉 데일리 선 로션 [SPF30/PA++]</td>\n",
       "      <td>선크림바르면 막 하얗게 잘 뜨는 타입이라 제가 원래 진짜 너무 싫어했는데 얘는 색이...</td>\n",
       "    </tr>\n",
       "    <tr>\n",
       "      <td>9316</td>\n",
       "      <td>베이비선케어</td>\n",
       "      <td>닥터아토 (Dr.ato)</td>\n",
       "      <td>108</td>\n",
       "      <td>50ml16,000원</td>\n",
       "      <td>수분 촉촉 데일리 선 로션 [SPF30/PA++]</td>\n",
       "      <td>선크림바르면 막 하얗게 잘 뜨는 타입이라 제가 원래 진짜 너무 싫어했는데 얘는 색이...</td>\n",
       "    </tr>\n",
       "    <tr>\n",
       "      <td>9419</td>\n",
       "      <td>선스틱</td>\n",
       "      <td>홀리카홀리카 (HOLIKA HOLIKA)</td>\n",
       "      <td>121</td>\n",
       "      <td>17g19,000원</td>\n",
       "      <td>알로에 워터톡 선스틱 [SPF50+/PA++++]</td>\n",
       "      <td>제가 제일 선호하는 선스틱이나 선크림류 제품이에요! 아침에 저같은 경우는 시간이 적...</td>\n",
       "    </tr>\n",
       "  </tbody>\n",
       "</table>\n",
       "</div>"
      ],
      "text/plain": [
       "      category                   brand  nb_reviews     vol_price  \\\n",
       "10193      풋케어      뉴트로지나 (Neutrogena)         310     56g8,000원   \n",
       "7173       미스트            보타닉힐 보 (boH)         708  120ml15,000원   \n",
       "9315       선블록           닥터아토 (Dr.ato)         108   50ml16,000원   \n",
       "9316    베이비선케어           닥터아토 (Dr.ato)         108   50ml16,000원   \n",
       "9419       선스틱  홀리카홀리카 (HOLIKA HOLIKA)         121    17g19,000원   \n",
       "\n",
       "                           product  \\\n",
       "10193               노르웨이젼 포뮬러 풋 크림   \n",
       "7173            더마 인텐시브 판테놀 크림 미스트   \n",
       "9315   수분 촉촉 데일리 선 로션 [SPF30/PA++]   \n",
       "9316   수분 촉촉 데일리 선 로션 [SPF30/PA++]   \n",
       "9419   알로에 워터톡 선스틱 [SPF50+/PA++++]   \n",
       "\n",
       "                                                 content  \n",
       "10193                     핸드크림 풋크림 차이 잘 모르겠지만 보습 충분해서 좋다  \n",
       "7173          나오는 것도 좋고 가성비가 좋은 제품이군요! 크림향도 나는거같고 촉촉하네요~  \n",
       "9315   선크림바르면 막 하얗게 잘 뜨는 타입이라 제가 원래 진짜 너무 싫어했는데 얘는 색이...  \n",
       "9316   선크림바르면 막 하얗게 잘 뜨는 타입이라 제가 원래 진짜 너무 싫어했는데 얘는 색이...  \n",
       "9419   제가 제일 선호하는 선스틱이나 선크림류 제품이에요! 아침에 저같은 경우는 시간이 적...  "
      ]
     },
     "execution_count": 340,
     "metadata": {},
     "output_type": "execute_result"
    }
   ],
   "source": [
    "f = set(s_text[0]) & set(cat_lst)\n",
    "if len(f) > 0:\n",
    "    temp = reviews_prod[['dist_pos'] + features]\n",
    "    temp = temp[temp.category.isin(f)].sort_values(by=['rate_x','dist_pos']).drop_duplicates()\n",
    "else:\n",
    "    temp = reviews_prod[['dist_pos'] + features].sort_values(by=['rate_x','dist_pos']).drop_duplicates()\n",
    "temp[show_features + ['content']].head()"
   ]
  },
  {
   "cell_type": "code",
   "execution_count": 341,
   "metadata": {
    "ExecuteTime": {
     "end_time": "2020-01-22T07:19:39.892481Z",
     "start_time": "2020-01-22T07:19:39.871295Z"
    }
   },
   "outputs": [
    {
     "data": {
      "text/html": [
       "<div>\n",
       "<style scoped>\n",
       "    .dataframe tbody tr th:only-of-type {\n",
       "        vertical-align: middle;\n",
       "    }\n",
       "\n",
       "    .dataframe tbody tr th {\n",
       "        vertical-align: top;\n",
       "    }\n",
       "\n",
       "    .dataframe thead th {\n",
       "        text-align: right;\n",
       "    }\n",
       "</style>\n",
       "<table border=\"1\" class=\"dataframe\">\n",
       "  <thead>\n",
       "    <tr style=\"text-align: right;\">\n",
       "      <th></th>\n",
       "      <th>category</th>\n",
       "      <th>brand</th>\n",
       "      <th>nb_reviews</th>\n",
       "      <th>vol_price</th>\n",
       "      <th>product</th>\n",
       "      <th>content</th>\n",
       "    </tr>\n",
       "  </thead>\n",
       "  <tbody>\n",
       "    <tr>\n",
       "      <td>10193</td>\n",
       "      <td>풋케어</td>\n",
       "      <td>뉴트로지나 (Neutrogena)</td>\n",
       "      <td>310</td>\n",
       "      <td>56g8,000원</td>\n",
       "      <td>노르웨이젼 포뮬러 풋 크림</td>\n",
       "      <td>핸드크림 풋크림 차이 잘 모르겠지만 보습 충분해서 좋다</td>\n",
       "    </tr>\n",
       "    <tr>\n",
       "      <td>9656</td>\n",
       "      <td>화이트닝케어</td>\n",
       "      <td>이니스프리 (innisfree)</td>\n",
       "      <td>189</td>\n",
       "      <td>50ml20,000원</td>\n",
       "      <td>제주 왕벚꽃 젤리 크림</td>\n",
       "      <td>톤업크림이랑 같이 사용하고 있어요! 수분목적 보다는 톤업크림과 같이 쓴다는 용도 느낌?</td>\n",
       "    </tr>\n",
       "    <tr>\n",
       "      <td>9943</td>\n",
       "      <td>바디로션</td>\n",
       "      <td>록시땅 (LOCCITANE)</td>\n",
       "      <td>73</td>\n",
       "      <td>250ml42,000원</td>\n",
       "      <td>체리 블라썸 쉬머링 바디 로션</td>\n",
       "      <td>이거핸드로션도같이쓰는중인데...향도너무좋고 보습도너무좋다♥</td>\n",
       "    </tr>\n",
       "    <tr>\n",
       "      <td>8350</td>\n",
       "      <td>컨실러</td>\n",
       "      <td>클레어스 (dear, klairs)</td>\n",
       "      <td>63</td>\n",
       "      <td>6ml11,900원</td>\n",
       "      <td>크리미앤내추럴핏컨실러</td>\n",
       "      <td>비비크림으로 못가린 잡티 가릴때 좋음</td>\n",
       "    </tr>\n",
       "    <tr>\n",
       "      <td>7173</td>\n",
       "      <td>미스트</td>\n",
       "      <td>보타닉힐 보 (boH)</td>\n",
       "      <td>708</td>\n",
       "      <td>120ml15,000원</td>\n",
       "      <td>더마 인텐시브 판테놀 크림 미스트</td>\n",
       "      <td>나오는 것도 좋고 가성비가 좋은 제품이군요! 크림향도 나는거같고 촉촉하네요~</td>\n",
       "    </tr>\n",
       "  </tbody>\n",
       "</table>\n",
       "</div>"
      ],
      "text/plain": [
       "      category                brand  nb_reviews     vol_price  \\\n",
       "10193      풋케어   뉴트로지나 (Neutrogena)         310     56g8,000원   \n",
       "9656    화이트닝케어    이니스프리 (innisfree)         189   50ml20,000원   \n",
       "9943      바디로션      록시땅 (LOCCITANE)          73  250ml42,000원   \n",
       "8350       컨실러  클레어스 (dear, klairs)          63    6ml11,900원   \n",
       "7173       미스트         보타닉힐 보 (boH)         708  120ml15,000원   \n",
       "\n",
       "                  product                                           content  \n",
       "10193      노르웨이젼 포뮬러 풋 크림                    핸드크림 풋크림 차이 잘 모르겠지만 보습 충분해서 좋다  \n",
       "9656         제주 왕벚꽃 젤리 크림  톤업크림이랑 같이 사용하고 있어요! 수분목적 보다는 톤업크림과 같이 쓴다는 용도 느낌?  \n",
       "9943     체리 블라썸 쉬머링 바디 로션                  이거핸드로션도같이쓰는중인데...향도너무좋고 보습도너무좋다♥  \n",
       "8350          크리미앤내추럴핏컨실러                              비비크림으로 못가린 잡티 가릴때 좋음  \n",
       "7173   더마 인텐시브 판테놀 크림 미스트        나오는 것도 좋고 가성비가 좋은 제품이군요! 크림향도 나는거같고 촉촉하네요~  "
      ]
     },
     "execution_count": 341,
     "metadata": {},
     "output_type": "execute_result"
    }
   ],
   "source": [
    "f = set(s_text[0]) & set(cat_lst)\n",
    "if len(f) > 0:\n",
    "    temp = reviews_prod[['dist_word_pos'] + features]\n",
    "    temp = temp[temp.category.isin(f)].sort_values(by=['rate_x','dist_word_pos']).drop_duplicates()\n",
    "else:\n",
    "    temp = reviews_prod[['dist_word_pos'] + features].sort_values(by=['rate_x','dist_word_pos']).drop_duplicates()\n",
    "temp[show_features + ['content']].head()"
   ]
  },
  {
   "cell_type": "code",
   "execution_count": null,
   "metadata": {},
   "outputs": [],
   "source": []
  }
 ],
 "metadata": {
  "hide_input": false,
  "kernelspec": {
   "display_name": "Python 3",
   "language": "python",
   "name": "python3"
  },
  "language_info": {
   "codemirror_mode": {
    "name": "ipython",
    "version": 3
   },
   "file_extension": ".py",
   "mimetype": "text/x-python",
   "name": "python",
   "nbconvert_exporter": "python",
   "pygments_lexer": "ipython3",
   "version": "3.7.4"
  },
  "toc": {
   "base_numbering": 1,
   "nav_menu": {},
   "number_sections": true,
   "sideBar": true,
   "skip_h1_title": false,
   "title_cell": "Table of Contents",
   "title_sidebar": "Contents",
   "toc_cell": false,
   "toc_position": {},
   "toc_section_display": true,
   "toc_window_display": false
  },
  "varInspector": {
   "cols": {
    "lenName": 16,
    "lenType": 16,
    "lenVar": 40
   },
   "kernels_config": {
    "python": {
     "delete_cmd_postfix": "",
     "delete_cmd_prefix": "del ",
     "library": "var_list.py",
     "varRefreshCmd": "print(var_dic_list())"
    },
    "r": {
     "delete_cmd_postfix": ") ",
     "delete_cmd_prefix": "rm(",
     "library": "var_list.r",
     "varRefreshCmd": "cat(var_dic_list()) "
    }
   },
   "types_to_exclude": [
    "module",
    "function",
    "builtin_function_or_method",
    "instance",
    "_Feature"
   ],
   "window_display": false
  }
 },
 "nbformat": 4,
 "nbformat_minor": 2
}
