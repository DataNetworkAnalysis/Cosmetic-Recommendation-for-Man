{
 "cells": [
  {
   "cell_type": "markdown",
   "metadata": {
    "toc": true
   },
   "source": [
    "<h1>Table of Contents<span class=\"tocSkip\"></span></h1>\n",
    "<div class=\"toc\"><ul class=\"toc-item\"><li><span><a href=\"#Load-Data\" data-toc-modified-id=\"Load-Data-1\"><span class=\"toc-item-num\">1&nbsp;&nbsp;</span>Load Data</a></span></li><li><span><a href=\"#Information\" data-toc-modified-id=\"Information-2\"><span class=\"toc-item-num\">2&nbsp;&nbsp;</span>Information</a></span></li></ul></div>"
   ]
  },
  {
   "cell_type": "code",
   "execution_count": 2,
   "metadata": {
    "ExecuteTime": {
     "end_time": "2019-11-09T09:20:02.085704Z",
     "start_time": "2019-11-09T09:20:02.080718Z"
    }
   },
   "outputs": [
    {
     "name": "stdout",
     "output_type": "stream",
     "text": [
      "['glowpick_products.csv', 'glowpick_reviews.csv', 'oliveyoung_product_info.csv']\n"
     ]
    }
   ],
   "source": [
    "import pandas as pd\n",
    "import os \n",
    "\n",
    "print(os.listdir('../dataset'))"
   ]
  },
  {
   "cell_type": "markdown",
   "metadata": {},
   "source": [
    "# Load Data"
   ]
  },
  {
   "cell_type": "code",
   "execution_count": 5,
   "metadata": {
    "ExecuteTime": {
     "end_time": "2019-11-09T09:21:04.919984Z",
     "start_time": "2019-11-09T09:21:04.909986Z"
    }
   },
   "outputs": [
    {
     "name": "stdout",
     "output_type": "stream",
     "text": [
      "glowpick product data shape:  (1183, 8)\n"
     ]
    }
   ],
   "source": [
    "product_df = pd.read_csv('../dataset/glowpick_products.csv')\n",
    "print('glowpick product data shape: ',product_df.shape)"
   ]
  },
  {
   "cell_type": "code",
   "execution_count": 7,
   "metadata": {
    "ExecuteTime": {
     "end_time": "2019-11-09T09:21:26.096133Z",
     "start_time": "2019-11-09T09:21:26.084165Z"
    }
   },
   "outputs": [
    {
     "data": {
      "text/html": [
       "<div>\n",
       "<style scoped>\n",
       "    .dataframe tbody tr th:only-of-type {\n",
       "        vertical-align: middle;\n",
       "    }\n",
       "\n",
       "    .dataframe tbody tr th {\n",
       "        vertical-align: top;\n",
       "    }\n",
       "\n",
       "    .dataframe thead th {\n",
       "        text-align: right;\n",
       "    }\n",
       "</style>\n",
       "<table border=\"1\" class=\"dataframe\">\n",
       "  <thead>\n",
       "    <tr style=\"text-align: right;\">\n",
       "      <th></th>\n",
       "      <th>brand</th>\n",
       "      <th>product</th>\n",
       "      <th>vol_price</th>\n",
       "      <th>rate</th>\n",
       "      <th>nb_reviews</th>\n",
       "      <th>sales_rank</th>\n",
       "      <th>product_url</th>\n",
       "      <th>category</th>\n",
       "    </tr>\n",
       "  </thead>\n",
       "  <tbody>\n",
       "    <tr>\n",
       "      <th>0</th>\n",
       "      <td>이니스프리(innisfree)</td>\n",
       "      <td>포레스트 포맨 모이스처 스킨</td>\n",
       "      <td>180ml19,000원</td>\n",
       "      <td>4.07</td>\n",
       "      <td>(81)</td>\n",
       "      <td>1</td>\n",
       "      <td>/product/7212</td>\n",
       "      <td>스킨</td>\n",
       "    </tr>\n",
       "    <tr>\n",
       "      <th>1</th>\n",
       "      <td>비오템옴므</td>\n",
       "      <td>아쿠아파워 토너</td>\n",
       "      <td>200ml54,000원</td>\n",
       "      <td>4.09</td>\n",
       "      <td>(65)</td>\n",
       "      <td>2</td>\n",
       "      <td>/product/4108</td>\n",
       "      <td>스킨</td>\n",
       "    </tr>\n",
       "    <tr>\n",
       "      <th>2</th>\n",
       "      <td>키엘 (Kiehl's)</td>\n",
       "      <td>칼렌듈라 허벌 엑스트렉트 토너</td>\n",
       "      <td>250ml59,000원</td>\n",
       "      <td>3.82</td>\n",
       "      <td>(730)</td>\n",
       "      <td>3</td>\n",
       "      <td>/product/11071</td>\n",
       "      <td>스킨</td>\n",
       "    </tr>\n",
       "    <tr>\n",
       "      <th>3</th>\n",
       "      <td>반트 36.5 (VANT 36.5)</td>\n",
       "      <td>포 맨 올 인 원 스킨</td>\n",
       "      <td>120ml35,000원</td>\n",
       "      <td>4.29</td>\n",
       "      <td>(31)</td>\n",
       "      <td>4</td>\n",
       "      <td>/product/21577</td>\n",
       "      <td>스킨</td>\n",
       "    </tr>\n",
       "    <tr>\n",
       "      <th>4</th>\n",
       "      <td>프리메라</td>\n",
       "      <td>맨 오가니언스 트리트먼트 워터</td>\n",
       "      <td>180ml30,000원</td>\n",
       "      <td>4.38</td>\n",
       "      <td>(26)</td>\n",
       "      <td>5</td>\n",
       "      <td>/product/13159</td>\n",
       "      <td>스킨</td>\n",
       "    </tr>\n",
       "  </tbody>\n",
       "</table>\n",
       "</div>"
      ],
      "text/plain": [
       "                 brand           product     vol_price  rate nb_reviews  \\\n",
       "0     이니스프리(innisfree)   포레스트 포맨 모이스처 스킨  180ml19,000원  4.07       (81)   \n",
       "1                비오템옴므          아쿠아파워 토너  200ml54,000원  4.09       (65)   \n",
       "2         키엘 (Kiehl's)  칼렌듈라 허벌 엑스트렉트 토너  250ml59,000원  3.82      (730)   \n",
       "3  반트 36.5 (VANT 36.5)      포 맨 올 인 원 스킨  120ml35,000원  4.29       (31)   \n",
       "4                 프리메라  맨 오가니언스 트리트먼트 워터  180ml30,000원  4.38       (26)   \n",
       "\n",
       "  sales_rank     product_url category  \n",
       "0          1   /product/7212       스킨  \n",
       "1          2   /product/4108       스킨  \n",
       "2          3  /product/11071       스킨  \n",
       "3          4  /product/21577       스킨  \n",
       "4          5  /product/13159       스킨  "
      ]
     },
     "execution_count": 7,
     "metadata": {},
     "output_type": "execute_result"
    }
   ],
   "source": [
    "product_df.head()"
   ]
  },
  {
   "cell_type": "markdown",
   "metadata": {},
   "source": [
    "# Information"
   ]
  },
  {
   "cell_type": "code",
   "execution_count": 11,
   "metadata": {
    "ExecuteTime": {
     "end_time": "2019-11-09T09:24:45.841381Z",
     "start_time": "2019-11-09T09:24:45.836368Z"
    }
   },
   "outputs": [],
   "source": [
    "# 리뷰가 있는 제품만 추출\n",
    "product_df_review = product_df[product_df.nb_reviews != '(0)']"
   ]
  },
  {
   "cell_type": "code",
   "execution_count": 12,
   "metadata": {
    "ExecuteTime": {
     "end_time": "2019-11-09T09:25:47.343925Z",
     "start_time": "2019-11-09T09:25:47.338911Z"
    }
   },
   "outputs": [
    {
     "name": "stdout",
     "output_type": "stream",
     "text": [
      "전체 제품 수:  1110\n",
      "리뷰가 있는 제품 수: 703\n"
     ]
    }
   ],
   "source": [
    "print('전체 제품 수: ',product_df.product_url.nunique())\n",
    "print('리뷰가 있는 제품 수:',product_df_review.product_url.nunique())"
   ]
  },
  {
   "cell_type": "code",
   "execution_count": 20,
   "metadata": {
    "ExecuteTime": {
     "end_time": "2019-11-09T09:28:19.248392Z",
     "start_time": "2019-11-09T09:28:19.169575Z"
    }
   },
   "outputs": [
    {
     "name": "stdout",
     "output_type": "stream",
     "text": [
      "전체 리뷰 수:  6112\n"
     ]
    }
   ],
   "source": [
    "unique_product_df = product_df_review[['nb_reviews','product_url']].drop_duplicates()\n",
    "unique_product_df.nb_reviews = unique_product_df.nb_reviews.str.replace('(','').str.replace(')','')\n",
    "unique_product_df.nb_reviews = unique_product_df.nb_reviews.astype(int)\n",
    "print('전체 리뷰 수: ',unique_product_df.nb_reviews.sum())"
   ]
  }
 ],
 "metadata": {
  "hide_input": false,
  "kernelspec": {
   "display_name": "Python 3",
   "language": "python",
   "name": "python3"
  },
  "language_info": {
   "codemirror_mode": {
    "name": "ipython",
    "version": 3
   },
   "file_extension": ".py",
   "mimetype": "text/x-python",
   "name": "python",
   "nbconvert_exporter": "python",
   "pygments_lexer": "ipython3",
   "version": "3.7.3"
  },
  "toc": {
   "base_numbering": 1,
   "nav_menu": {},
   "number_sections": true,
   "sideBar": true,
   "skip_h1_title": false,
   "title_cell": "Table of Contents",
   "title_sidebar": "Contents",
   "toc_cell": true,
   "toc_position": {},
   "toc_section_display": true,
   "toc_window_display": false
  },
  "varInspector": {
   "cols": {
    "lenName": 16,
    "lenType": 16,
    "lenVar": 40
   },
   "kernels_config": {
    "python": {
     "delete_cmd_postfix": "",
     "delete_cmd_prefix": "del ",
     "library": "var_list.py",
     "varRefreshCmd": "print(var_dic_list())"
    },
    "r": {
     "delete_cmd_postfix": ") ",
     "delete_cmd_prefix": "rm(",
     "library": "var_list.r",
     "varRefreshCmd": "cat(var_dic_list()) "
    }
   },
   "types_to_exclude": [
    "module",
    "function",
    "builtin_function_or_method",
    "instance",
    "_Feature"
   ],
   "window_display": false
  }
 },
 "nbformat": 4,
 "nbformat_minor": 2
}
