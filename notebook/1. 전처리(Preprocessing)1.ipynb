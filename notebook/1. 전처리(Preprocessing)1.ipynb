{
 "cells": [
  {
   "cell_type": "code",
   "execution_count": 1,
   "metadata": {
    "ExecuteTime": {
     "end_time": "2019-12-26T01:00:24.329787Z",
     "start_time": "2019-12-26T01:00:24.071477Z"
    }
   },
   "outputs": [],
   "source": [
    "import numpy as np\n",
    "import pandas as pd\n",
    "import matplotlib.pyplot as plt\n",
    "import matplotlib\n",
    "import seaborn as sns\n",
    "from matplotlib import font_manager, rc\n",
    "%matplotlib inline\n",
    "font_name = font_manager.FontProperties(fname=\"c:/Windows/Fonts/malgun.ttf\").get_name()\n",
    "rc('font', family=font_name)\n",
    "import warnings\n",
    "warnings.filterwarnings('ignore')\n",
    "\n",
    "from ckonlpy.tag import Twitter; t= Twitter()\n",
    "from ckonlpy.tag import Postprocessor\n",
    "import nltk\n",
    "from nltk.corpus import stopwords\n",
    "from nltk.tokenize import word_tokenize\n",
    "import re\n",
    "\n",
    "pd.set_option('display.max_rows', 500)\n",
    "pd.set_option('display.max_columns', 500)"
   ]
  },
  {
   "cell_type": "markdown",
   "metadata": {},
   "source": [
    "# 데이터 불러오기"
   ]
  },
  {
   "cell_type": "code",
   "execution_count": 2,
   "metadata": {
    "ExecuteTime": {
     "end_time": "2019-12-26T01:00:25.281294Z",
     "start_time": "2019-12-26T01:00:25.252353Z"
    }
   },
   "outputs": [],
   "source": [
    "olive_man_skin = pd.read_csv('../dataset/oliveyoung_product_info.csv')\n",
    "rew = pd.read_csv('../dataset/glowpick_reviews.csv')\n",
    "#g_prod = pd.read_csv('../dataset/glowpick_products.csv')"
   ]
  },
  {
   "cell_type": "markdown",
   "metadata": {},
   "source": [
    "# 데이터 확인"
   ]
  },
  {
   "cell_type": "code",
   "execution_count": 3,
   "metadata": {
    "ExecuteTime": {
     "end_time": "2019-12-26T01:00:25.863722Z",
     "start_time": "2019-12-26T01:00:25.835796Z"
    }
   },
   "outputs": [
    {
     "name": "stdout",
     "output_type": "stream",
     "text": [
      "shape: (5125, 7)\n",
      "\n",
      "#### 결측치 갯수 ####\n",
      "\n",
      "date             0\n",
      "user_id          0\n",
      "sex              0\n",
      "age_skin_type    0\n",
      "rate             0\n",
      "content          1\n",
      "product_url      0\n",
      "dtype: int64\n"
     ]
    },
    {
     "data": {
      "text/html": [
       "<div>\n",
       "<style scoped>\n",
       "    .dataframe tbody tr th:only-of-type {\n",
       "        vertical-align: middle;\n",
       "    }\n",
       "\n",
       "    .dataframe tbody tr th {\n",
       "        vertical-align: top;\n",
       "    }\n",
       "\n",
       "    .dataframe thead th {\n",
       "        text-align: right;\n",
       "    }\n",
       "</style>\n",
       "<table border=\"1\" class=\"dataframe\">\n",
       "  <thead>\n",
       "    <tr style=\"text-align: right;\">\n",
       "      <th></th>\n",
       "      <th>date</th>\n",
       "      <th>user_id</th>\n",
       "      <th>sex</th>\n",
       "      <th>age_skin_type</th>\n",
       "      <th>rate</th>\n",
       "      <th>content</th>\n",
       "      <th>product_url</th>\n",
       "    </tr>\n",
       "  </thead>\n",
       "  <tbody>\n",
       "    <tr>\n",
       "      <th>0</th>\n",
       "      <td>28일 전</td>\n",
       "      <td>minseo6666</td>\n",
       "      <td>f</td>\n",
       "      <td>16세 · 복합성 ·</td>\n",
       "      <td>good</td>\n",
       "      <td>아빠 사드렸는데 저아해여</td>\n",
       "      <td>/product/7212</td>\n",
       "    </tr>\n",
       "    <tr>\n",
       "      <th>1</th>\n",
       "      <td>2개월 전</td>\n",
       "      <td>피부에관심있는남자</td>\n",
       "      <td>m</td>\n",
       "      <td>20세 · 복합성 ·</td>\n",
       "      <td>good</td>\n",
       "      <td>향이 좋아요 근데 좀 제 피부가 민감해서</td>\n",
       "      <td>/product/7212</td>\n",
       "    </tr>\n",
       "    <tr>\n",
       "      <th>2</th>\n",
       "      <td>3개월 전</td>\n",
       "      <td>타라타라</td>\n",
       "      <td>f</td>\n",
       "      <td>23세 · 복합성 ·</td>\n",
       "      <td>good</td>\n",
       "      <td>가격이 저렴하고 냄새가 안 쎄서 좋아요. 👍</td>\n",
       "      <td>/product/7212</td>\n",
       "    </tr>\n",
       "    <tr>\n",
       "      <th>3</th>\n",
       "      <td>4개월 전</td>\n",
       "      <td>흐시너</td>\n",
       "      <td>f</td>\n",
       "      <td>18세 · 복합성 ·</td>\n",
       "      <td>good</td>\n",
       "      <td>선물용으로 사서 선물했는데 나름 만족했는지 매일 바른다네요;</td>\n",
       "      <td>/product/7212</td>\n",
       "    </tr>\n",
       "    <tr>\n",
       "      <th>4</th>\n",
       "      <td>4개월 전</td>\n",
       "      <td>홍끼루</td>\n",
       "      <td>f</td>\n",
       "      <td>32세 · 복합성 ·</td>\n",
       "      <td>good</td>\n",
       "      <td>향이 청량해서 좋아요.</td>\n",
       "      <td>/product/7212</td>\n",
       "    </tr>\n",
       "  </tbody>\n",
       "</table>\n",
       "</div>"
      ],
      "text/plain": [
       "    date     user_id sex age_skin_type  rate  \\\n",
       "0  28일 전  minseo6666   f   16세 · 복합성 ·  good   \n",
       "1  2개월 전   피부에관심있는남자   m   20세 · 복합성 ·  good   \n",
       "2  3개월 전        타라타라   f   23세 · 복합성 ·  good   \n",
       "3  4개월 전         흐시너   f   18세 · 복합성 ·  good   \n",
       "4  4개월 전         홍끼루   f   32세 · 복합성 ·  good   \n",
       "\n",
       "                             content    product_url  \n",
       "0                      아빠 사드렸는데 저아해여  /product/7212  \n",
       "1             향이 좋아요 근데 좀 제 피부가 민감해서  /product/7212  \n",
       "2           가격이 저렴하고 냄새가 안 쎄서 좋아요. 👍  /product/7212  \n",
       "3  선물용으로 사서 선물했는데 나름 만족했는지 매일 바른다네요;  /product/7212  \n",
       "4                       향이 청량해서 좋아요.  /product/7212  "
      ]
     },
     "execution_count": 3,
     "metadata": {},
     "output_type": "execute_result"
    }
   ],
   "source": [
    "print('shape:',rew.shape)\n",
    "print('\\n#### 결측치 갯수 ####\\n')\n",
    "print(rew.isnull().sum())\n",
    "rew.head()"
   ]
  },
  {
   "cell_type": "markdown",
   "metadata": {},
   "source": [
    "- 나이와 피부타입이 합쳐져있다. 따로 분리가 필요하다.\n",
    "- content 속성에 결측치가 있다 처리가 필요하다."
   ]
  },
  {
   "cell_type": "markdown",
   "metadata": {},
   "source": [
    "# 전처리"
   ]
  },
  {
   "cell_type": "code",
   "execution_count": 4,
   "metadata": {
    "ExecuteTime": {
     "end_time": "2019-12-26T01:00:27.028622Z",
     "start_time": "2019-12-26T01:00:27.005629Z"
    }
   },
   "outputs": [],
   "source": [
    "np.array([i.split('·') for i in rew['age_skin_type']])[:,0]\n",
    "rew['age']= np.array([i.split('·') for i in rew['age_skin_type']])[:,0]\n",
    "rew['skin_type']= np.array([i.split('·') for i in rew['age_skin_type']])[:,1]"
   ]
  },
  {
   "cell_type": "code",
   "execution_count": 5,
   "metadata": {
    "ExecuteTime": {
     "end_time": "2019-12-26T01:00:27.367697Z",
     "start_time": "2019-12-26T01:00:27.361678Z"
    }
   },
   "outputs": [],
   "source": [
    "del rew['age_skin_type']"
   ]
  },
  {
   "cell_type": "code",
   "execution_count": 6,
   "metadata": {
    "ExecuteTime": {
     "end_time": "2019-12-26T01:00:27.664898Z",
     "start_time": "2019-12-26T01:00:27.650904Z"
    },
    "scrolled": true
   },
   "outputs": [
    {
     "data": {
      "text/html": [
       "<div>\n",
       "<style scoped>\n",
       "    .dataframe tbody tr th:only-of-type {\n",
       "        vertical-align: middle;\n",
       "    }\n",
       "\n",
       "    .dataframe tbody tr th {\n",
       "        vertical-align: top;\n",
       "    }\n",
       "\n",
       "    .dataframe thead th {\n",
       "        text-align: right;\n",
       "    }\n",
       "</style>\n",
       "<table border=\"1\" class=\"dataframe\">\n",
       "  <thead>\n",
       "    <tr style=\"text-align: right;\">\n",
       "      <th></th>\n",
       "      <th>date</th>\n",
       "      <th>user_id</th>\n",
       "      <th>sex</th>\n",
       "      <th>rate</th>\n",
       "      <th>content</th>\n",
       "      <th>product_url</th>\n",
       "      <th>age</th>\n",
       "      <th>skin_type</th>\n",
       "    </tr>\n",
       "  </thead>\n",
       "  <tbody>\n",
       "    <tr>\n",
       "      <th>2322</th>\n",
       "      <td>2016.12.4</td>\n",
       "      <td>En960</td>\n",
       "      <td>f</td>\n",
       "      <td>good</td>\n",
       "      <td>NaN</td>\n",
       "      <td>/product/82765</td>\n",
       "      <td>24세</td>\n",
       "      <td>건성</td>\n",
       "    </tr>\n",
       "  </tbody>\n",
       "</table>\n",
       "</div>"
      ],
      "text/plain": [
       "           date user_id sex  rate content     product_url   age skin_type\n",
       "2322  2016.12.4   En960   f  good     NaN  /product/82765  24세        건성 "
      ]
     },
     "execution_count": 6,
     "metadata": {},
     "output_type": "execute_result"
    }
   ],
   "source": [
    "rew.loc[rew['content'].isnull()]"
   ]
  },
  {
   "cell_type": "markdown",
   "metadata": {},
   "source": [
    "- 결측치가 하나 보인다. 결측치가 하나뿐이니 이를 제거해준다."
   ]
  },
  {
   "cell_type": "code",
   "execution_count": 7,
   "metadata": {
    "ExecuteTime": {
     "end_time": "2019-12-26T01:00:28.320113Z",
     "start_time": "2019-12-26T01:00:28.310178Z"
    }
   },
   "outputs": [],
   "source": [
    "rew = rew.dropna().copy()"
   ]
  },
  {
   "cell_type": "code",
   "execution_count": 8,
   "metadata": {
    "ExecuteTime": {
     "end_time": "2019-12-26T01:00:28.615325Z",
     "start_time": "2019-12-26T01:00:28.603357Z"
    }
   },
   "outputs": [
    {
     "data": {
      "text/html": [
       "<div>\n",
       "<style scoped>\n",
       "    .dataframe tbody tr th:only-of-type {\n",
       "        vertical-align: middle;\n",
       "    }\n",
       "\n",
       "    .dataframe tbody tr th {\n",
       "        vertical-align: top;\n",
       "    }\n",
       "\n",
       "    .dataframe thead th {\n",
       "        text-align: right;\n",
       "    }\n",
       "</style>\n",
       "<table border=\"1\" class=\"dataframe\">\n",
       "  <thead>\n",
       "    <tr style=\"text-align: right;\">\n",
       "      <th></th>\n",
       "      <th>date</th>\n",
       "      <th>user_id</th>\n",
       "      <th>sex</th>\n",
       "      <th>rate</th>\n",
       "      <th>content</th>\n",
       "      <th>product_url</th>\n",
       "      <th>age</th>\n",
       "      <th>skin_type</th>\n",
       "    </tr>\n",
       "  </thead>\n",
       "  <tbody>\n",
       "    <tr>\n",
       "      <th>0</th>\n",
       "      <td>28일 전</td>\n",
       "      <td>minseo6666</td>\n",
       "      <td>f</td>\n",
       "      <td>good</td>\n",
       "      <td>아빠 사드렸는데 저아해여</td>\n",
       "      <td>/product/7212</td>\n",
       "      <td>16세</td>\n",
       "      <td>복합성</td>\n",
       "    </tr>\n",
       "    <tr>\n",
       "      <th>1</th>\n",
       "      <td>2개월 전</td>\n",
       "      <td>피부에관심있는남자</td>\n",
       "      <td>m</td>\n",
       "      <td>good</td>\n",
       "      <td>향이 좋아요 근데 좀 제 피부가 민감해서</td>\n",
       "      <td>/product/7212</td>\n",
       "      <td>20세</td>\n",
       "      <td>복합성</td>\n",
       "    </tr>\n",
       "  </tbody>\n",
       "</table>\n",
       "</div>"
      ],
      "text/plain": [
       "    date     user_id sex  rate                 content    product_url   age  \\\n",
       "0  28일 전  minseo6666   f  good           아빠 사드렸는데 저아해여  /product/7212  16세    \n",
       "1  2개월 전   피부에관심있는남자   m  good  향이 좋아요 근데 좀 제 피부가 민감해서  /product/7212  20세    \n",
       "\n",
       "  skin_type  \n",
       "0      복합성   \n",
       "1      복합성   "
      ]
     },
     "execution_count": 8,
     "metadata": {},
     "output_type": "execute_result"
    }
   ],
   "source": [
    "rew.head(2)"
   ]
  },
  {
   "cell_type": "markdown",
   "metadata": {},
   "source": [
    "# CKonlpy"
   ]
  },
  {
   "cell_type": "markdown",
   "metadata": {},
   "source": [
    "https://github.com/lovit/customized_konlpy"
   ]
  },
  {
   "cell_type": "markdown",
   "metadata": {},
   "source": [
    "- KoNLPy의 customized version이다.\n",
    "- meceb, khaiii는 윈도위 버전을 지원하지 않아 제외하였다.\n",
    "- 사용자 사전을 쉽게 사용할 수 있다.\n",
    "- 단어 치환을 위한 후처리를 할 수 있다.\n",
    "    - passwords 에 등록된 단어, (단어, 품사)만 출력됩니다.\n",
    "    - stopwords 에 등록된 단어, (단어, 품사)는 출력되지 않습니다.\n",
    "    - 특정 품사를 지정하면, 해당 품사만 출력됩니다.\n",
    "    - 치환할 단어, (단어, 품사)를 dict 형식으로 정의하면 tag 에서 단어가 치환되어 출력됩니다."
   ]
  },
  {
   "cell_type": "markdown",
   "metadata": {},
   "source": [
    "# 리뷰 전처리"
   ]
  },
  {
   "cell_type": "code",
   "execution_count": 9,
   "metadata": {
    "ExecuteTime": {
     "end_time": "2019-12-26T01:00:29.847030Z",
     "start_time": "2019-12-26T01:00:29.842081Z"
    }
   },
   "outputs": [
    {
     "name": "stdout",
     "output_type": "stream",
     "text": [
      "리뷰 총 갯수: 5124\n"
     ]
    }
   ],
   "source": [
    "print('리뷰 총 갯수: {}'.format(rew['content'].shape[0]))"
   ]
  },
  {
   "cell_type": "code",
   "execution_count": 10,
   "metadata": {
    "ExecuteTime": {
     "end_time": "2019-12-26T01:00:30.175151Z",
     "start_time": "2019-12-26T01:00:30.169168Z"
    }
   },
   "outputs": [],
   "source": [
    "def preprocessing(text):\n",
    "    # 개행문자 제거(줄바꿈 문자)\n",
    "    text = re.sub('\\n', ' ', text)\n",
    "    # 의성어 제거\n",
    "    text = re.sub('[ㄱ-ㅎㅏ-ㅣ!?~]', ' ',text)\n",
    "    # 특수문자 제거\n",
    "    # 특수문자나 이모티콘 등은 때로는 의미를 갖기도 하지만 여기서는 제거\n",
    "    # re.sub : 첫번째 인수에 바꿀 문자열을 입력하고 두 번째 인수에 대상 문자열을 입력한다.\n",
    "    # text = re.sub('[?.,;:|\\)*~'!^\\- +<>@\\#$%&-=#}*]','',text)\n",
    "    # 한글, 영문, 숫자만 남기고 모두 제거하도록 합니다.\n",
    "    # text = re.sub('[^가-힣ㄱ-ㅎㅏ-ㅣa-zA-Z0-9]',' ',text)\n",
    "    # [^5]와 같이 '^'가 []안에서 쓰이는 경우에는 5를 제외한 모든 문자를 나타냄\n",
    "    # 가-힣ㄱ-ㅎㅏ-ㅣa-zA-Z을 만족하는 것들을 제외한 것들을 ' '로 치환\n",
    "    text = re.sub('[^가-힣ㄱ-ㅎㅏ-ㅣa-zA-Z]', ' ', text)\n",
    "    # 중복으로 생성된 공백값을 제거합니다.\n",
    "    text = re.sub(' +',' ',text)\n",
    "    return text"
   ]
  },
  {
   "cell_type": "code",
   "execution_count": 11,
   "metadata": {
    "ExecuteTime": {
     "end_time": "2019-12-26T01:00:30.468367Z",
     "start_time": "2019-12-26T01:00:30.461385Z"
    }
   },
   "outputs": [],
   "source": [
    "rew['content'] = rew['content'].map(str)"
   ]
  },
  {
   "cell_type": "code",
   "execution_count": 12,
   "metadata": {
    "ExecuteTime": {
     "end_time": "2019-12-26T01:00:30.876277Z",
     "start_time": "2019-12-26T01:00:30.796490Z"
    }
   },
   "outputs": [],
   "source": [
    "rew['rew_pre'] = rew['content'].apply(preprocessing)"
   ]
  },
  {
   "cell_type": "code",
   "execution_count": 13,
   "metadata": {
    "ExecuteTime": {
     "end_time": "2019-12-26T01:00:43.626173Z",
     "start_time": "2019-12-26T01:00:43.619226Z"
    }
   },
   "outputs": [
    {
     "data": {
      "text/plain": [
       "0                        아빠 사드렸는데 저아해여\n",
       "1               향이 좋아요 근데 좀 제 피부가 민감해서\n",
       "2               가격이 저렴하고 냄새가 안 쎄서 좋아요 \n",
       "3    선물용으로 사서 선물했는데 나름 만족했는지 매일 바른다네요 \n",
       "4                         향이 청량해서 좋아요 \n",
       "Name: rew_pre, dtype: object"
      ]
     },
     "execution_count": 13,
     "metadata": {},
     "output_type": "execute_result"
    }
   ],
   "source": [
    "rew['rew_pre'].head()"
   ]
  },
  {
   "cell_type": "code",
   "execution_count": 14,
   "metadata": {
    "ExecuteTime": {
     "end_time": "2019-12-26T01:00:54.702546Z",
     "start_time": "2019-12-26T01:00:44.639463Z"
    }
   },
   "outputs": [],
   "source": [
    "rew['morphs'] = rew['rew_pre'].map(t.morphs)\n",
    "#rew['morphs'] = rew['morphs'].map(' '.join)"
   ]
  },
  {
   "cell_type": "code",
   "execution_count": 15,
   "metadata": {
    "ExecuteTime": {
     "end_time": "2019-12-26T01:00:57.248765Z",
     "start_time": "2019-12-26T01:00:57.241788Z"
    }
   },
   "outputs": [
    {
     "data": {
      "text/plain": [
       "good     2214\n",
       "best     1476\n",
       "soso      979\n",
       "bad       360\n",
       "worst      95\n",
       "Name: rate, dtype: int64"
      ]
     },
     "execution_count": 15,
     "metadata": {},
     "output_type": "execute_result"
    }
   ],
   "source": [
    "rew['rate'].value_counts()"
   ]
  },
  {
   "cell_type": "code",
   "execution_count": 16,
   "metadata": {
    "ExecuteTime": {
     "end_time": "2019-12-26T01:00:58.159302Z",
     "start_time": "2019-12-26T01:00:58.155344Z"
    }
   },
   "outputs": [],
   "source": [
    "rew_r = rew['rew_pre']"
   ]
  },
  {
   "cell_type": "code",
   "execution_count": 17,
   "metadata": {
    "ExecuteTime": {
     "end_time": "2019-12-26T01:00:58.646996Z",
     "start_time": "2019-12-26T01:00:58.625091Z"
    }
   },
   "outputs": [],
   "source": [
    "worst_r = rew.loc[rew['rate'] == 'worst']['rew_pre']\n",
    "bad_r = rew.loc[rew['rate'] == 'bad']['rew_pre']\n",
    "soso_r = rew.loc[rew['rate'] == 'soso']['rew_pre']\n",
    "best_r = rew.loc[rew['rate'] == 'best']['rew_pre']\n",
    "good_r = rew.loc[rew['rate'] == 'good']['rew_pre']\n",
    "worst_r_a = ' '.join(worst_r)\n",
    "bad_r_a = ' '.join(bad_r)\n",
    "soso_r_a = ' '.join(soso_r)\n",
    "best_r_a = ' '.join(best_r)\n",
    "good_r_a = ' '.join(good_r)\n",
    "rew_r_a = ' '.join(rew_r)"
   ]
  },
  {
   "cell_type": "markdown",
   "metadata": {},
   "source": [
    "# 불용어 정의"
   ]
  },
  {
   "cell_type": "code",
   "execution_count": 18,
   "metadata": {
    "ExecuteTime": {
     "end_time": "2019-12-26T01:00:59.739109Z",
     "start_time": "2019-12-26T01:00:59.719169Z"
    }
   },
   "outputs": [],
   "source": [
    "rew_n = Postprocessor(t,passtags = 'Noun')\n",
    "rew_v = Postprocessor(t,passtags = 'Verb')\n",
    "rew_a = Postprocessor(t,passtags = 'Adjective')\n",
    "rew_j = Postprocessor(t,passtags = 'Josa')"
   ]
  },
  {
   "cell_type": "code",
   "execution_count": 19,
   "metadata": {
    "ExecuteTime": {
     "end_time": "2019-12-26T01:01:00.090172Z",
     "start_time": "2019-12-26T01:01:00.087179Z"
    }
   },
   "outputs": [],
   "source": [
    "#rew['token'] = [i.split(' ') for i in rew['rew_pre']]"
   ]
  },
  {
   "cell_type": "code",
   "execution_count": 20,
   "metadata": {
    "ExecuteTime": {
     "end_time": "2019-12-26T01:01:40.874342Z",
     "start_time": "2019-12-26T01:01:00.742393Z"
    }
   },
   "outputs": [],
   "source": [
    "rew_n_df = pd.DataFrame(rew_n.pos(rew_r_a)) # 명사\n",
    "rew_v_df = pd.DataFrame(rew_v.pos(rew_r_a)) # 동사\n",
    "rew_a_df = pd.DataFrame(rew_a.pos(rew_r_a)) # 형용사\n",
    "rew_j_df = pd.DataFrame(rew_j.pos(rew_r_a)) # 조사"
   ]
  },
  {
   "cell_type": "code",
   "execution_count": 21,
   "metadata": {
    "ExecuteTime": {
     "end_time": "2019-12-26T01:01:43.118047Z",
     "start_time": "2019-12-26T01:01:43.114101Z"
    }
   },
   "outputs": [],
   "source": [
    "stop_words = ['거','어요','단','것','평가','때','이','리뷰','어서','좀','저','제','요','더','고','진짜','쓰기','생각','입니다','같아요','있','같','써','쓰고','들']"
   ]
  },
  {
   "cell_type": "markdown",
   "metadata": {},
   "source": [
    "# replace"
   ]
  },
  {
   "cell_type": "code",
   "execution_count": 22,
   "metadata": {
    "ExecuteTime": {
     "end_time": "2019-12-26T01:01:44.063553Z",
     "start_time": "2019-12-26T01:01:44.059529Z"
    }
   },
   "outputs": [],
   "source": [
    "replace = {'좋아요':'좋다','좋':'좋다','좋은':'좋다','좋고':'좋다','좋다고':'좋다','좋은데':'좋다','좋습니다':'좋다','좋아서':'좋다','좋았':'좋다','좋은데':'좋다','좋네요':'좋다','새빨간':'빨간','약해서':'약하다','남친':'남자친구','남자':'남성'}"
   ]
  },
  {
   "cell_type": "code",
   "execution_count": 23,
   "metadata": {
    "ExecuteTime": {
     "end_time": "2019-12-26T01:01:46.154923Z",
     "start_time": "2019-12-26T01:01:46.150974Z"
    }
   },
   "outputs": [],
   "source": [
    "postprocessor_r = Postprocessor(t, replace = replace) # replace"
   ]
  },
  {
   "cell_type": "code",
   "execution_count": 24,
   "metadata": {
    "ExecuteTime": {
     "end_time": "2019-12-26T01:01:46.718454Z",
     "start_time": "2019-12-26T01:01:46.701500Z"
    }
   },
   "outputs": [],
   "source": [
    "# 평점 등급별 리뷰 확인\n",
    "worst_r = rew.loc[rew['rate'] == 'worst']['rew_pre']\n",
    "bad_r = rew.loc[rew['rate'] == 'bad']['rew_pre']\n",
    "soso_r = rew.loc[rew['rate'] == 'soso']['rew_pre']\n",
    "best_r = rew.loc[rew['rate'] == 'best']['rew_pre']\n",
    "good_r = rew.loc[rew['rate'] == 'good']['rew_pre']\n",
    "worst_r_a = ' '.join(worst_r)\n",
    "bad_r_a = ' '.join(bad_r)\n",
    "soso_r_a = ' '.join(soso_r)\n",
    "best_r_a = ' '.join(best_r)\n",
    "good_r_a = ' '.join(good_r)\n",
    "rew_r_a = ' '.join(rew_r)"
   ]
  },
  {
   "cell_type": "code",
   "execution_count": 25,
   "metadata": {
    "ExecuteTime": {
     "end_time": "2019-12-26T01:01:57.572712Z",
     "start_time": "2019-12-26T01:01:47.352748Z"
    }
   },
   "outputs": [],
   "source": [
    "worst_re = np.array(postprocessor_r.pos(worst_r_a))[:,0]\n",
    "bad_re = np.array(postprocessor_r.pos(bad_r_a))[:,0]\n",
    "soso_re = np.array(postprocessor_r.pos(soso_r_a))[:,0]\n",
    "best_re = np.array(postprocessor_r.pos(best_r_a))[:,0]\n",
    "good_re = np.array(postprocessor_r.pos(good_r_a))[:,0]"
   ]
  },
  {
   "cell_type": "markdown",
   "metadata": {},
   "source": [
    "# 불용어 제거"
   ]
  },
  {
   "cell_type": "code",
   "execution_count": 26,
   "metadata": {
    "ExecuteTime": {
     "end_time": "2019-12-26T01:02:00.097633Z",
     "start_time": "2019-12-26T01:02:00.083701Z"
    }
   },
   "outputs": [
    {
     "name": "stdout",
     "output_type": "stream",
     "text": [
      "['비오템', '입', '문하', '자마자', '떠나게', '한', '제품', '피부', '에', '신경안', '쓰던', '적', '에', '올인원', '제품', '하나', '만', '겨울', '에', '바를']\n"
     ]
    }
   ],
   "source": [
    "# 불용어 추가한 것들을 제거해준다.\n",
    "result_worst = []; result_bed = []; result_soso = []; result_best = []; result_good = []\n",
    "\n",
    "[result_worst.append(i) for i in worst_re if i not in stop_words]\n",
    "[result_bed.append(i) for i in worst_re if i not in stop_words]\n",
    "[result_soso.append(i) for i in worst_re if i not in stop_words]\n",
    "[result_best.append(i) for i in worst_re if i not in stop_words]\n",
    "[result_good.append(i) for i in worst_re if i not in stop_words]\n",
    "\n",
    "print(result_worst[:20])"
   ]
  },
  {
   "cell_type": "code",
   "execution_count": 27,
   "metadata": {
    "ExecuteTime": {
     "end_time": "2019-12-26T01:02:00.583331Z",
     "start_time": "2019-12-26T01:02:00.563420Z"
    },
    "scrolled": false
   },
   "outputs": [
    {
     "data": {
      "text/html": [
       "<div>\n",
       "<style scoped>\n",
       "    .dataframe tbody tr th:only-of-type {\n",
       "        vertical-align: middle;\n",
       "    }\n",
       "\n",
       "    .dataframe tbody tr th {\n",
       "        vertical-align: top;\n",
       "    }\n",
       "\n",
       "    .dataframe thead th {\n",
       "        text-align: right;\n",
       "    }\n",
       "</style>\n",
       "<table border=\"1\" class=\"dataframe\">\n",
       "  <thead>\n",
       "    <tr style=\"text-align: right;\">\n",
       "      <th></th>\n",
       "      <th>index</th>\n",
       "      <th>rew_pre</th>\n",
       "      <th>morphs</th>\n",
       "    </tr>\n",
       "  </thead>\n",
       "  <tbody>\n",
       "    <tr>\n",
       "      <th>30</th>\n",
       "      <td>3130</td>\n",
       "      <td>이거 쓰고 피부 다 뒤집어졌던 기억이 나네요 단순히 여드름이나 트러블이 났던게 아니...</td>\n",
       "      <td>[이, 거, 쓰고, 피부, 다, 뒤집어졌던, 기억, 이, 나네요, 단순, 히, 여드...</td>\n",
       "    </tr>\n",
       "    <tr>\n",
       "      <th>31</th>\n",
       "      <td>3204</td>\n",
       "      <td>이건 걍 돈아까음 얼굴 넘 건조해서 뱅기타기전에 면세에서 샀는데 걍 다른거랑 다를게...</td>\n",
       "      <td>[이건, 걍, 돈, 아까음, 얼굴, 넘, 건조, 해서, 뱅, 기타, 기전, 에, 면...</td>\n",
       "    </tr>\n",
       "    <tr>\n",
       "      <th>32</th>\n",
       "      <td>3222</td>\n",
       "      <td>그냥 물임</td>\n",
       "      <td>[그냥, 물임]</td>\n",
       "    </tr>\n",
       "    <tr>\n",
       "      <th>33</th>\n",
       "      <td>3269</td>\n",
       "      <td>향이 남자화장품냄새 딱 그건데</td>\n",
       "      <td>[향, 이, 남자, 화장품, 냄새, 딱, 그건, 데]</td>\n",
       "    </tr>\n",
       "    <tr>\n",
       "      <th>34</th>\n",
       "      <td>3615</td>\n",
       "      <td>거짓된 양 내구성 부족 제품을 만족시키지 못하는 부담스러운 가격</td>\n",
       "      <td>[거짓, 된, 양, 내, 구성, 부족, 제품, 을, 만족, 시키지, 못, 하는, 부...</td>\n",
       "    </tr>\n",
       "  </tbody>\n",
       "</table>\n",
       "</div>"
      ],
      "text/plain": [
       "    index                                            rew_pre  \\\n",
       "30   3130  이거 쓰고 피부 다 뒤집어졌던 기억이 나네요 단순히 여드름이나 트러블이 났던게 아니...   \n",
       "31   3204  이건 걍 돈아까음 얼굴 넘 건조해서 뱅기타기전에 면세에서 샀는데 걍 다른거랑 다를게...   \n",
       "32   3222                                             그냥 물임    \n",
       "33   3269                                  향이 남자화장품냄새 딱 그건데    \n",
       "34   3615               거짓된 양 내구성 부족 제품을 만족시키지 못하는 부담스러운 가격    \n",
       "\n",
       "                                               morphs  \n",
       "30  [이, 거, 쓰고, 피부, 다, 뒤집어졌던, 기억, 이, 나네요, 단순, 히, 여드...  \n",
       "31  [이건, 걍, 돈, 아까음, 얼굴, 넘, 건조, 해서, 뱅, 기타, 기전, 에, 면...  \n",
       "32                                           [그냥, 물임]  \n",
       "33                      [향, 이, 남자, 화장품, 냄새, 딱, 그건, 데]  \n",
       "34  [거짓, 된, 양, 내, 구성, 부족, 제품, 을, 만족, 시키지, 못, 하는, 부...  "
      ]
     },
     "execution_count": 27,
     "metadata": {},
     "output_type": "execute_result"
    }
   ],
   "source": [
    "rew.loc[rew['rate'] == 'worst'][['rew_pre','morphs']].reset_index().iloc[30:35,]"
   ]
  },
  {
   "cell_type": "code",
   "execution_count": 28,
   "metadata": {
    "ExecuteTime": {
     "end_time": "2019-12-26T01:02:01.003246Z",
     "start_time": "2019-12-26T01:02:00.998222Z"
    }
   },
   "outputs": [
    {
     "data": {
      "text/plain": [
       "[('시원', 'Noun'), ('함', 'Noun')]"
      ]
     },
     "execution_count": 28,
     "metadata": {},
     "output_type": "execute_result"
    }
   ],
   "source": [
    "t.pos('시원함') # 원함까지함"
   ]
  },
  {
   "cell_type": "code",
   "execution_count": 30,
   "metadata": {
    "ExecuteTime": {
     "end_time": "2019-12-26T01:02:01.440040Z",
     "start_time": "2019-12-26T01:02:01.435054Z"
    }
   },
   "outputs": [
    {
     "name": "stdout",
     "output_type": "stream",
     "text": [
      "['비오템', '입', '문하', '자마자', '떠나게', '한', '제품', '피부', '에', '신경안', '쓰던', '적', '에', '올인원', '제품', '하나', '만', '겨울', '에', '바를']\n"
     ]
    }
   ],
   "source": [
    "print(result_worst[:20])"
   ]
  },
  {
   "cell_type": "markdown",
   "metadata": {},
   "source": [
    "# 띄어쓰기 수정"
   ]
  },
  {
   "cell_type": "code",
   "execution_count": 29,
   "metadata": {
    "ExecuteTime": {
     "end_time": "2019-12-26T01:02:02.210979Z",
     "start_time": "2019-12-26T01:02:02.204001Z"
    }
   },
   "outputs": [],
   "source": [
    "rew['rew_pre'][132] = '비오템 입문 하자마자 떠나게 한 제품 피부에 신경안쓰던적에 올인원 제품 하나만 겨울에 바를만큼 무신경했는데 요 라인은 참을수 없이 건조했다 '\n",
    "rew['rew_pre'][2435] = '최악중최악 바르면 얼굴따갑고 아침엔트러블로가득찬 내얼굴 한번쯤 여드름쟁이가 되고 싶다면 추천 하는 크림'\n",
    "rew['rew_pre'][2818]= '내가 흑우인지 괜히 면도세안 한꺼번에 되는 폼이라길래 구매했다가 제대로 돈날린 제품 쫀쫀이고 쫀득이고 간에 일단 샤워하면서는 절대 쓸수 없었다 어찌된 영문인지 물에 상당히 약해서 얼굴이 세면후 상태로 촉촉하면 죄다 녹아 내려서 폼이 오일로 바뀌는 매직을 겪게된다 샤워 전 최저한의 수분으로 거품유지하며 씻는 스트레스에 매번 조절 실패해서 제품낭비 돈낭비 제대로 한 역대급 최악 클랜징 제품 지금은 차세안 하기위해서 그냥 세안 전 한번 사용해주고 전용 클랜징폼은 따로 쓴다 오히려 면도크림 용으로만 나왔었어도 평균은 가지 않았을까 하는 느낌 상당히 화한 느낌으로 트러블 없이 면도가 가능하긴 한데 이걸 면도크림만으로 쓰기엔 가격면에서 상당히 그냥 따로 면도할렵니다 '\n",
    "rew['rew_pre'][2822] = '내 인생 최고의 똥템'"
   ]
  },
  {
   "cell_type": "code",
   "execution_count": 31,
   "metadata": {
    "ExecuteTime": {
     "end_time": "2019-12-26T01:02:02.735575Z",
     "start_time": "2019-12-26T01:02:02.716625Z"
    }
   },
   "outputs": [],
   "source": [
    "#print('내', '가', '흑우', '인지', '괜히', '면도', '세안', '한꺼', '번', '에', '되는', '폼', '이라', '길래', '구매', '했', '다가', '제대로', '돈', '날린', '제품', '쫀쫀', '이고', '쫀득', '이고', '간', '에', '일단', '샤워', '하', '면서', '는', '절대', '쓸수', '없었다', '어찌', '된', '영문', '인지', '물', '에', '상당', '히', '약', '해서', '얼굴', '세면', '후', '상태', '로', '촉촉하면', '죄다', '녹', '아내', '려', '서', '폼', '오일', '로', '바뀌는', '매직', '을', '겪게', '된다', '샤워', '전', '최저', '한', '의', '수분', '으로', '거품', '유지', '하며', '씻는', '스트레스', '에', '매번', '조절', '실패', '해서', '제품', '낭비', '돈', '낭비', '제대로', '한', '역대', '급', '최악', '클랜', '징', '제품', '지금', '은', '차', '세안', '하기', '위해', '서', '그냥', '세안', '전', '한번', '사용', '해주', '전용', '클랜', '징폼', '은', '따로', '쓴다', '오히려', '면도', '크림', '용으', '로만', '나왔었', '어도', '평균', '은', '가지', '않았을까', '하는', '느낌', '상당', '히', '화한', '느낌', '으로', '트러블', '없이', '면도', '가', '가능', '하긴', '한데', '걸', '면도', '크림', '만으로', '엔', '가격', '면', '에서', '상당', '히', '그냥', '따로', '면도', '할렵니', '다')"
   ]
  },
  {
   "cell_type": "code",
   "execution_count": 32,
   "metadata": {
    "ExecuteTime": {
     "end_time": "2019-12-26T01:02:03.132513Z",
     "start_time": "2019-12-26T01:02:03.128523Z"
    }
   },
   "outputs": [
    {
     "data": {
      "text/plain": [
       "'이거 쓰고 피부 다 뒤집어졌던 기억이 나네요 단순히 여드름이나 트러블이 났던게 아니라 턱쪽 전체에 피부염 같은게 났더래서 고생 좀 했었습니다 지금 생각해보니 바를 때 시원함을 넘어서 화한 기분이 들던게 느낌부터 싸했던거 같군요 매우 비추입니다 가격도 ml에 원이라니 차라리 그 돈으로 우유 ml 개 사서 얼굴에 부비겠습니다 길바닥 개미들에게 사탕이나 젤리 사서 나눠주는게 차라리 돈 덜 아까울 것 같습니다 원 주고 이거 써서 피부병 걸린 후에 피부과 다니느라 만원도 더 썼었네요 아무튼 매우 비추 '"
      ]
     },
     "execution_count": 32,
     "metadata": {},
     "output_type": "execute_result"
    }
   ],
   "source": [
    "rew['rew_pre'][3130]"
   ]
  },
  {
   "cell_type": "markdown",
   "metadata": {},
   "source": [
    "# 사전추가"
   ]
  },
  {
   "cell_type": "code",
   "execution_count": 34,
   "metadata": {
    "ExecuteTime": {
     "end_time": "2019-12-26T01:27:20.529248Z",
     "start_time": "2019-12-26T01:27:20.519273Z"
    }
   },
   "outputs": [],
   "source": [
    "t.add_dictionary('잔고통', 'Noun')\n",
    "t.add_dictionary('유분기', 'Noun')\n",
    "t.add_dictionary('남성미', 'Noun')\n",
    "t.add_dictionary('한꺼번에','Adverb')\n",
    "t.add_dictionary('클랜징', 'Noun')\n",
    "t.add_dictionary('쉐이빙폼', 'Noun')\n",
    "t.add_dictionary('시원함', 'Noun')\n",
    "t.add_dictionary('끈적', 'Noun')\n",
    "t.add_dictionary('유분', 'Noun')\n",
    "t.add_dictionary('인생템', 'Noun')"
   ]
  },
  {
   "cell_type": "code",
   "execution_count": 35,
   "metadata": {
    "ExecuteTime": {
     "end_time": "2019-12-26T01:02:04.557703Z",
     "start_time": "2019-12-26T01:02:04.551753Z"
    }
   },
   "outputs": [
    {
     "data": {
      "text/plain": [
       "[('Adjective',),\n",
       " ('Adverb',),\n",
       " ('Conjunction',),\n",
       " ('Exclamation',),\n",
       " ('KoreanParticle',),\n",
       " ('Noun',),\n",
       " ('Verb',),\n",
       " ('Noun', 'Noun'),\n",
       " ('Noun', 'Josa'),\n",
       " ('Noun', 'Adjective'),\n",
       " ('Noun', 'Verb'),\n",
       " ('Modifier', 'Noun'),\n",
       " ('Noun', 'Noun', 'Adjective'),\n",
       " ('Noun', 'Noun', 'Josa'),\n",
       " ('Noun', 'Noun', 'Verb'),\n",
       " ('Modifier', 'Noun', 'Josa'),\n",
       " ('Josa',)]"
      ]
     },
     "execution_count": 35,
     "metadata": {},
     "output_type": "execute_result"
    }
   ],
   "source": [
    "t.template_tagger.templates"
   ]
  },
  {
   "cell_type": "markdown",
   "metadata": {
    "ExecuteTime": {
     "end_time": "2019-12-23T03:00:56.749907Z",
     "start_time": "2019-12-23T03:00:56.744261Z"
    }
   },
   "source": [
    "# 추가 전처리(~ing)"
   ]
  },
  {
   "cell_type": "code",
   "execution_count": 36,
   "metadata": {
    "ExecuteTime": {
     "end_time": "2019-12-26T01:02:05.491204Z",
     "start_time": "2019-12-26T01:02:05.467270Z"
    }
   },
   "outputs": [
    {
     "data": {
      "text/plain": [
       "제품        1113\n",
       "향         1021\n",
       "거          870\n",
       "어요         813\n",
       "피부         796\n",
       "것          660\n",
       "사용         646\n",
       "선물         610\n",
       "단          598\n",
       "평가         576\n",
       "남자         541\n",
       "느낌         486\n",
       "남자친구       479\n",
       "때          476\n",
       "리뷰         441\n",
       "냄새         431\n",
       "이          393\n",
       "아빠         380\n",
       "어서         361\n",
       "남친         338\n",
       "좀          323\n",
       "저          309\n",
       "가격         291\n",
       "남성         285\n",
       "스킨         282\n",
       "제          276\n",
       "그냥         266\n",
       "요          258\n",
       "얼굴         251\n",
       "더          235\n",
       "진짜         232\n",
       "끈          231\n",
       "고          231\n",
       "로션         228\n",
       "올인원        220\n",
       "화장품        217\n",
       "쓰기         214\n",
       "데          206\n",
       "머리         205\n",
       "생각         203\n",
       "크림         195\n",
       "안          193\n",
       "구매         192\n",
       "분          192\n",
       "발라         191\n",
       "정말         190\n",
       "다른         189\n",
       "그          188\n",
       "남편         188\n",
       "다가         186\n",
       "정도         184\n",
       "용          178\n",
       "후          178\n",
       "하나         178\n",
       "추천         176\n",
       "무난         176\n",
       "트러블        175\n",
       "중          175\n",
       "함          174\n",
       "아하         174\n",
       "듯          172\n",
       "별로         169\n",
       "지성         165\n",
       "면서         164\n",
       "수          163\n",
       "일단         163\n",
       "건조         160\n",
       "한번         159\n",
       "조금         156\n",
       "촉촉         155\n",
       "걸          155\n",
       "편          145\n",
       "효과         144\n",
       "전          143\n",
       "감          143\n",
       "개          141\n",
       "번          140\n",
       "만족         140\n",
       "사          139\n",
       "뭐          138\n",
       "형          137\n",
       "시원         135\n",
       "수분         132\n",
       "유          131\n",
       "나          130\n",
       "당첨         130\n",
       "처음         129\n",
       "이나         127\n",
       "흡수         126\n",
       "오빠         126\n",
       "면도         126\n",
       "자연         126\n",
       "약간         125\n",
       "건성         124\n",
       "성분         123\n",
       "보고         121\n",
       "거품         121\n",
       "커버         120\n",
       "이건         118\n",
       "선크림        118\n",
       "비비         118\n",
       "내          118\n",
       "까지         115\n",
       "성          114\n",
       "여름         112\n",
       "편이         112\n",
       "왁스         110\n",
       "토너         110\n",
       "보습         108\n",
       "사람         108\n",
       "타입         107\n",
       "아주         103\n",
       "고정력        102\n",
       "쉐          102\n",
       "사드         101\n",
       "발림         100\n",
       "젤          100\n",
       "적          100\n",
       "완전          99\n",
       "동생          99\n",
       "더니          99\n",
       "이지          99\n",
       "점           99\n",
       "기름          96\n",
       "여자          96\n",
       "적당          96\n",
       "게           96\n",
       "민감          96\n",
       "스프레이        95\n",
       "안나          95\n",
       "겨울          95\n",
       "라서          94\n",
       "자극          93\n",
       "거나          93\n",
       "처럼          92\n",
       "지도          92\n",
       "세           92\n",
       "후기          91\n",
       "도           90\n",
       "보           90\n",
       "고요          89\n",
       "이빙          89\n",
       "말           89\n",
       "일           87\n",
       "지금          86\n",
       "무           86\n",
       "원래          85\n",
       "임           84\n",
       "톤           84\n",
       "날           84\n",
       "확실          84\n",
       "손           82\n",
       "신랑          82\n",
       "려고          81\n",
       "에센스         81\n",
       "아무          80\n",
       "쓰시          80\n",
       "여드름         80\n",
       "순           80\n",
       "거리          79\n",
       "뿌리          79\n",
       "고정          79\n",
       "건           78\n",
       "템           78\n",
       "때문          77\n",
       "사서          76\n",
       "남동생         76\n",
       "폼           75\n",
       "바로          75\n",
       "적임          75\n",
       "수분크림        75\n",
       "난하          74\n",
       "자           74\n",
       "래서          74\n",
       "은           74\n",
       "해           73\n",
       "해지          73\n",
       "거의          73\n",
       "샴푸          73\n",
       "세트          73\n",
       "스킨로션        72\n",
       "화장          72\n",
       "비           72\n",
       "군대          72\n",
       "력도          72\n",
       "재           71\n",
       "물           71\n",
       "살짝          71\n",
       "해주          70\n",
       "력           70\n",
       "오래          69\n",
       "제일          68\n",
       "년           67\n",
       "친구          66\n",
       "아버지         66\n",
       "기능          65\n",
       "가지          65\n",
       "각질          65\n",
       "막           64\n",
       "라인          64\n",
       "세안          64\n",
       "통           64\n",
       "렸는데         63\n",
       "양           63\n",
       "하니          63\n",
       "시           62\n",
       "계속          61\n",
       "대요          60\n",
       "시간          60\n",
       "매우          59\n",
       "두피          59\n",
       "남           59\n",
       "간편          59\n",
       "발리          58\n",
       "또           57\n",
       "맘           57\n",
       "가장          57\n",
       "저렴          57\n",
       "용기          57\n",
       "지고          56\n",
       "부담          56\n",
       "덜           56\n",
       "지속          55\n",
       "기           55\n",
       "만           55\n",
       "티           55\n",
       "만큼          55\n",
       "기도          54\n",
       "항상          54\n",
       "다만          54\n",
       "구           54\n",
       "부터          54\n",
       "마음          53\n",
       "기분          53\n",
       "용량          53\n",
       "무엇          53\n",
       "디자인         52\n",
       "지성인         52\n",
       "전혀          52\n",
       "아침          52\n",
       "꽤           52\n",
       "자체          51\n",
       "정력          51\n",
       "구입          51\n",
       "극적          51\n",
       "인적          51\n",
       "대비          50\n",
       "단점          50\n",
       "여러          50\n",
       "브랜드         50\n",
       "          ... \n",
       "국산           1\n",
       "선뭉           1\n",
       "듈라향          1\n",
       "통인           1\n",
       "진공           1\n",
       "롸            1\n",
       "맘씨           1\n",
       "자리           1\n",
       "티슈           1\n",
       "골로           1\n",
       "악평           1\n",
       "이분           1\n",
       "퇴짜           1\n",
       "오신           1\n",
       "깨달음          1\n",
       "부대찌개         1\n",
       "체워           1\n",
       "싹잡           1\n",
       "소문           1\n",
       "행            1\n",
       "매리           1\n",
       "어쨌든          1\n",
       "피니쉬          1\n",
       "간소화          1\n",
       "무크           1\n",
       "썸            1\n",
       "문인           1\n",
       "대보           1\n",
       "위기           1\n",
       "앙증           1\n",
       "다섯손가락        1\n",
       "첨가           1\n",
       "카시트          1\n",
       "도중           1\n",
       "우노           1\n",
       "페어           1\n",
       "지잔           1\n",
       "정양           1\n",
       "남성지          1\n",
       "관건           1\n",
       "에센           1\n",
       "치덕치덕         1\n",
       "처지           1\n",
       "구닌           1\n",
       "폭팔           1\n",
       "분대           1\n",
       "카페인          1\n",
       "도기           1\n",
       "애플           1\n",
       "구석구석         1\n",
       "굿임           1\n",
       "부비           1\n",
       "가운데          1\n",
       "다이소          1\n",
       "가이드          1\n",
       "스티브          1\n",
       "콧물형          1\n",
       "슝슝           1\n",
       "음습           1\n",
       "번지르르         1\n",
       "전성           1\n",
       "샀어욤          1\n",
       "여행가          1\n",
       "가난뱅이         1\n",
       "오시           1\n",
       "셨던           1\n",
       "하우스          1\n",
       "랑            1\n",
       "헤어디자이너       1\n",
       "구성원          1\n",
       "직빵           1\n",
       "바꿧는데         1\n",
       "알루미늄         1\n",
       "소시지          1\n",
       "흙색           1\n",
       "헤어드레서        1\n",
       "뉴            1\n",
       "갸편           1\n",
       "거렸           1\n",
       "흑흘프흫         1\n",
       "백스터          1\n",
       "에스           1\n",
       "선생님          1\n",
       "애교           1\n",
       "체성           1\n",
       "우리나라         1\n",
       "소셜           1\n",
       "똑            1\n",
       "회사원          1\n",
       "모낭           1\n",
       "고사           1\n",
       "다대           1\n",
       "오도           1\n",
       "물약           1\n",
       "기선           1\n",
       "눌리           1\n",
       "레시           1\n",
       "개츠비          1\n",
       "향취           1\n",
       "여름날          1\n",
       "흐름           1\n",
       "더바디샵         1\n",
       "했습니닼         1\n",
       "바랬는데         1\n",
       "짓            1\n",
       "쉐이           1\n",
       "회하           1\n",
       "양쪽           1\n",
       "노력           1\n",
       "비포           1\n",
       "나봄           1\n",
       "단도직입         1\n",
       "철철           1\n",
       "군소리          1\n",
       "제보           1\n",
       "회끼           1\n",
       "막판           1\n",
       "먼가깨끗         1\n",
       "괜츈했음         1\n",
       "써클           1\n",
       "예븝니          1\n",
       "망설           1\n",
       "율            1\n",
       "포지션          1\n",
       "요깄           1\n",
       "치자           1\n",
       "릴까           1\n",
       "프로폴리스        1\n",
       "시력           1\n",
       "라스트          1\n",
       "자외선차단제       1\n",
       "분스           1\n",
       "가려진          1\n",
       "조건           1\n",
       "우리동네         1\n",
       "린답           1\n",
       "쟁여줌          1\n",
       "약속           1\n",
       "코슷코          1\n",
       "가주           1\n",
       "증인           1\n",
       "었던걸          1\n",
       "어중간          1\n",
       "선뜻           1\n",
       "카페           1\n",
       "쒯            1\n",
       "색각           1\n",
       "수렴           1\n",
       "출구           1\n",
       "네임드          1\n",
       "드봉           1\n",
       "남아도          1\n",
       "부적합          1\n",
       "헬스하          1\n",
       "조감           1\n",
       "중요시          1\n",
       "웬걸           1\n",
       "단비           1\n",
       "힌            1\n",
       "말뜻           1\n",
       "르르함          1\n",
       "탈출           1\n",
       "쏙            1\n",
       "원만           1\n",
       "지갑           1\n",
       "레이더스         1\n",
       "인따           1\n",
       "하룻밤          1\n",
       "정이안          1\n",
       "장안           1\n",
       "불때           1\n",
       "삼만           1\n",
       "해드           1\n",
       "맣            1\n",
       "랐            1\n",
       "시즌           1\n",
       "서고           1\n",
       "만년           1\n",
       "꽝            1\n",
       "딘짜           1\n",
       "병원           1\n",
       "핼스장          1\n",
       "어이쿠          1\n",
       "지조           1\n",
       "브레이          1\n",
       "오만           1\n",
       "은진           1\n",
       "사봣           1\n",
       "생전           1\n",
       "티니           1\n",
       "간파           1\n",
       "쫀득쫀득하        1\n",
       "이대           1\n",
       "구고           1\n",
       "궂            1\n",
       "미쉘           1\n",
       "리쪽           1\n",
       "청조           1\n",
       "편하몀          1\n",
       "정복           1\n",
       "이타입          1\n",
       "손톱           1\n",
       "각도           1\n",
       "무언가          1\n",
       "간만           1\n",
       "훼            1\n",
       "곡물           1\n",
       "옷장           1\n",
       "콜라           1\n",
       "구부           1\n",
       "샴프           1\n",
       "주심           1\n",
       "곱            1\n",
       "르고           1\n",
       "핑키           1\n",
       "내달           1\n",
       "쩍쩍           1\n",
       "껍질           1\n",
       "어후           1\n",
       "하네욬          1\n",
       "숯            1\n",
       "신상           1\n",
       "정도리          1\n",
       "국            1\n",
       "부문           1\n",
       "음청           1\n",
       "난경           1\n",
       "사심           1\n",
       "어르신          1\n",
       "행보           1\n",
       "휴식           1\n",
       "이제야          1\n",
       "탁탁           1\n",
       "하위호환         1\n",
       "맨첨           1\n",
       "로스           1\n",
       "전신           1\n",
       "로움           1\n",
       "리만           1\n",
       "것땜           1\n",
       "볕            1\n",
       "옼            1\n",
       "물바다          1\n",
       "해쥼           1\n",
       "존바           1\n",
       "단정           1\n",
       "르겠음          1\n",
       "완료           1\n",
       "력높           1\n",
       "팩스           1\n",
       "Name: 0, Length: 5149, dtype: int64"
      ]
     },
     "execution_count": 36,
     "metadata": {},
     "output_type": "execute_result"
    }
   ],
   "source": [
    "rew_n_df.loc[:,0].value_counts()"
   ]
  },
  {
   "cell_type": "code",
   "execution_count": 37,
   "metadata": {
    "ExecuteTime": {
     "end_time": "2019-12-26T01:02:05.950978Z",
     "start_time": "2019-12-26T01:02:05.942997Z"
    }
   },
   "outputs": [],
   "source": [
    "stop_words = ['거','어요','단','것','평가','때','이','리뷰','어서','좀','저','제','요','더','고','진짜','쓰기','생각','입니다','같아요','있','같','써','쓰고','들','그냥','데','안','그','다가','정도','후','용','하나','중','아하','함','듯','면서','수','일단','한번','걸','편','사','뭐','형','유','나','이나','보고','이건','내','까지','성','아주','사드','젤','적','쓰기','때']"
   ]
  },
  {
   "cell_type": "code",
   "execution_count": 38,
   "metadata": {
    "ExecuteTime": {
     "end_time": "2019-12-26T01:02:16.610779Z",
     "start_time": "2019-12-26T01:02:06.363908Z"
    }
   },
   "outputs": [],
   "source": [
    "rew['rew_n'] = rew['rew_pre'].apply(rew_n.pos)"
   ]
  },
  {
   "cell_type": "code",
   "execution_count": 39,
   "metadata": {
    "ExecuteTime": {
     "end_time": "2019-12-26T01:02:19.671276Z",
     "start_time": "2019-12-26T01:02:19.664295Z"
    }
   },
   "outputs": [
    {
     "data": {
      "text/plain": [
       "'아빠 사드렸는데 저아해여'"
      ]
     },
     "execution_count": 39,
     "metadata": {},
     "output_type": "execute_result"
    }
   ],
   "source": [
    "rew['rew_pre'][0]"
   ]
  },
  {
   "cell_type": "code",
   "execution_count": 41,
   "metadata": {
    "ExecuteTime": {
     "end_time": "2019-12-26T01:02:22.636346Z",
     "start_time": "2019-12-26T01:02:22.630411Z"
    }
   },
   "outputs": [
    {
     "data": {
      "text/plain": [
       "[('아빠', 'Noun'),\n",
       " ('사드', 'Noun'),\n",
       " ('렸는데', 'Noun'),\n",
       " ('저', 'Noun'),\n",
       " ('아해', 'Noun')]"
      ]
     },
     "execution_count": 41,
     "metadata": {},
     "output_type": "execute_result"
    }
   ],
   "source": [
    "rew['rew_n'][0]"
   ]
  },
  {
   "cell_type": "code",
   "execution_count": 40,
   "metadata": {
    "ExecuteTime": {
     "end_time": "2019-12-26T01:03:51.474760Z",
     "start_time": "2019-12-26T01:03:51.470737Z"
    }
   },
   "outputs": [],
   "source": [
    "#rew['morphs']"
   ]
  },
  {
   "cell_type": "code",
   "execution_count": 42,
   "metadata": {
    "ExecuteTime": {
     "end_time": "2019-12-26T01:02:24.992045Z",
     "start_time": "2019-12-26T01:02:24.986061Z"
    }
   },
   "outputs": [
    {
     "data": {
      "text/plain": [
       "True"
      ]
     },
     "execution_count": 42,
     "metadata": {},
     "output_type": "execute_result"
    }
   ],
   "source": [
    "'향' in rew['morphs'][1]"
   ]
  },
  {
   "cell_type": "code",
   "execution_count": 44,
   "metadata": {
    "ExecuteTime": {
     "end_time": "2019-12-26T01:02:27.885306Z",
     "start_time": "2019-12-26T01:02:27.879394Z"
    }
   },
   "outputs": [],
   "source": [
    "def find_word_idx(word):\n",
    "    cnt = 0\n",
    "    cnt_l1 = []\n",
    "    for i in rew['morphs']:\n",
    "        if word in i:\n",
    "            cnt_l1.append(cnt)\n",
    "        cnt += 1\n",
    "    return cnt_l1"
   ]
  },
  {
   "cell_type": "code",
   "execution_count": 45,
   "metadata": {},
   "outputs": [
    {
     "data": {
      "text/plain": [
       "84      선물로 참 좋아함 일단 향이 시원하고 가볍다 마치 정말 가벼운 코롱같은 향은 금방날...\n",
       "102                                    수분감이 부족햇던 때에 썻었습니다\n",
       "107     인천공항에서 토너 로션 아이크림 세트로 구매하였고 운동후에 사용중입니다 자극도 덜한...\n",
       "126     우리 신랑 극지성인데 이니스프리 쓰다가 이라인으로 갈아탐 적당히 유수분 잘 잡아주고...\n",
       "177     좁쌀여드름이나 뾰루지가 나올때 솜에 적신 토너로 진정해주면 좋습니다 워낙 천연성분으...\n",
       "225     진정효과 진짜 좋아요 가격 해외에서 사서 한국가격 만원 넘는건 몰랐는데 저가격이어도...\n",
       "282     남자사람친구 본인도 써보고 저한테도 예전에 하나줬는데 장점은 향이 좋았어요 거부감드...\n",
       "320     피톤치드 캡슐이 들었다고 하던데 그래서 그런지 아주 약간 화한 느낌이 나면서 시원하...\n",
       "330     남자친구 군대갈때 입대선물로 사줬는데 편하고 쓰기좋대요 겨울에는 비추구요 여름용으로...\n",
       "344     친구집에서 있길래 써보게되었는데 괜찮았어요 올인원이 원래 스킨로션이 다들어가있는거라...\n",
       "378     스킨 크림 바르지 않고 로션만 바르는 사람한테는 조금 부족할 수도 있는 수분감 하지...\n",
       "408     아빠한테 사드렸는데 은근 좋고 올인원이라 편해서 나도 가끔 사용한다 스킨냄새 좋아해...\n",
       "426     이 제품도 뭐 로션처럼 그냥 흔한 남성용 스킨케어 제품 같아요 답답한 느낌이 없도록...\n",
       "427     결론적으로 그냥 그래요 무난합니다 평가단 당첨으로 써봤는데 향도 너무 뻔한 아저씨 ...\n",
       "482     너무 세지도 않고 향도 좋고 겨울에만 수분감이 조금 부족하지만 계절 잘 쓰고 있습니...\n",
       "525     저는 이거 년넘게 계속 사서 쓰고 있습니다 사실 외국화장품이라 가격이 상당히 비싼편...\n",
       "654              사용감 좋고 향도 좋은데 향이 약해 진한향을 원하시면 조금 고려해보세요 \n",
       "725     일단 향이 맘에 들구요 올인원 제품이라 정말 간편합니다 겨울엔 이것만 쓰기엔 건조한...\n",
       "729      년 정도 쓰고 있고 스킨이랑 세트로 사용중 입니다 인터넷으로 구매하면 좀 저렴하게...\n",
       "739            토너는 약간의 점성이 있고 수분감 좋음 향도 은은하니 좋고 자극적이지 않아요\n",
       "774     바르면 시원한감이 있고 수분유지가 잘되는감이 있다 향은 처음에는 뭐지 라는 느낌이 ...\n",
       "835     그냥 진짜 무난템 향기에 민감한 남자친구도 만족에서 쓸만큼 아저씨화장품 냄새가 덜 ...\n",
       "850     군대에서 선물받아서 처음 사용햇었는데 너무 좋았었어요 유분감보단 수분감이 좋아 산뜻...\n",
       "857      산뜻한 사용감이 참 좋았던 남성용 로션이고 흔히들 남자들은 끈적거리는거 싫어하기 ...\n",
       "914     묽은편의 흐르는 제형이고 향은 남자화장품 특유의향 같은것이 없고 기분좋은 은은한향이...\n",
       "942     우선 용기가 위생적으로 사용하기 편하다 잘 눌러지고 제품이 묽은 에센스 정도의 제형...\n",
       "994     평가단에 당첨되어서 주동안 써봤습니다 제형은 흔히쓰는 로션보다 조금 묽습니다 향도 ...\n",
       "1002    아빠랑 동생드릴라고 신청해봤는데 감사하게도 당첨됬어요 사실 돈주고 샀다면 비싼감이없...\n",
       "1074    있잔아요 저 여잔데요 크림 쓸게 없어서 오빠꺼 훔쳐썼거든요 딱 바르자마자 아니 유수...\n",
       "1103    선물로 참 좋아함 유분감이 많지않다 이름에서부터 아쿠아를 강조하는데 수분감많은 에센...\n",
       "1115    인천공항에서 토너 로션 아이크림 세트로 구매하였고 운동후에 사용중입니다 자극도 덜한...\n",
       "1177    결론적으로 그냥 그래요 무난합니다 평가단 당첨으로 써봤는데 향도 너무 뻔한 아저씨 ...\n",
       "1206    이것저것 바르기 귀찮은 날 우르x스 쓰듯이 생각없이 바르기 좋음 향이 있으나 거부감...\n",
       "1270    남자친구가 수분감이 부족해서 사줬는데 너무 좋다그러더라고요 지성인데도 수분라인이라서...\n",
       "1277    좋은거 세트로 사줘봤자 화장대서 썪히는 남편을 위해 구매 슼푸 남성용 제품군중 하나...\n",
       "1279    참고로 제 남친은 x살까지 클린앤클리어 스킨 쓰던 사람입니다 제발 제가 다른거 써보...\n",
       "1396    수분 부족형 민감성인 저는 우선 처음에는 바르고나면 뭔가 코팅감이 생김요 무광식으로...\n",
       "1398    아르쌩뜨 라인이 순하고 좋아서 아빠 피부 민감하실 때 선물해드렸어요 가볍지만 보습감...\n",
       "1406    좋아요 끈적임 전혀 없고 흡수빠름 하지만 오히려 아쉽게 수분감이 오래가지 못함 악지...\n",
       "1408    기전에 쓰던 제품에 비해 수분감이 부족 한 것 같아요 그래서 아이오페 맨 사용하고 ...\n",
       "1415    뭐 여러개 바르기 세상 귀찮아하는 악건성 남자친구 사줬는데 이걸로 바꾼 후로는 그래...\n",
       "1523    무난하게 쓰기 좋아요 가격도 비싸지 않아요 여드름성 피부라 트러블이 잘 나는데 이 ...\n",
       "1537    엄마 선물드릴 갈색병 사는 김에 아빠것도 사려고 지성피부 남성 올인원 추천 부탁드렸...\n",
       "1594                  진짜 편하고 보습력도 짱입니다 가볍고 끈적임 없어서 사용감 굿굿\n",
       "1607    오빠 군대갈때 건성용으로 선물해줬는데 너무잘쓰고 있어요 테스트할때 사용해봤는데 마무...\n",
       "1627           남자친구 화장품 떨어졌다길래 사줬는데 유분감없이 촉촉하다고 되게 좋아합니닼 \n",
       "1644                       올 산뜻함 제형도 지성쓰기 좋아요 유분감 거의 없구요 \n",
       "1667    남자친구를 항상 빌리프 남성 라인을 사줬었는데 이번에 평가단 당첨되서 선물로 써보라...\n",
       "1668    지성피부에 적합한 제품이예요 수분감이 많진 않아서 건성피부는 건조할듯싶네요 올인원이...\n",
       "1676    항상 성분표를 제일 먼저 확인하는 습관이 있는데 나쁘지 않아요 미백성분이 다섯손가락...\n",
       "1700    평소에 화장품은 선크림 말곤 다 필요없어 하시는 아빠 때문에 남성 올인원 제품을 알...\n",
       "1784    이제품은 직접 사서 써본적은 없으나 다른 제품 살때 샘플로 자주 받아 써봄 상당히 ...\n",
       "1920    마무리감이 매트해지더라구요 친구 사줬었는게 미백 효과도 빠르게 나타나그 친구도 좋아...\n",
       "1955    대박 대박 근 년간 스킨 로션 등등 다 귀찮고 이거 하나로 버팁니다 계절 구분 없이...\n",
       "1999    물같은 제형이 아니라 로션과 크림의 중간 정도의 점도라서 바르는데 불편함은 없었는데...\n",
       "2036    이것저것 바르기 귀찮아하는 신랑이 올인원으로 사달라해서 사봤는데 향강한거 싫어하는 ...\n",
       "2079    하나만으로 끈적한 여름을 날 수 있음 기름기가 조금 많이 나오는 분들은 다 잡아줄 ...\n",
       "2104    손에 잔여감이 좀 있긴한데 바르고 조금 지나면 괜찮아져요 쓰기 간편해서 요샌 아침에...\n",
       "2131            이거 쓰다가 여드름 폭발해서 뒤질뻔 귀찮다고 올인원 사봤는데 피부 골로감 \n",
       "2182    발림성 좋고 끈적임없이 마무리되요 남자분들 특히 번들거리거나 끈적이는 기초제품 싫어...\n",
       "2189    지성피부가 사용할만한 로션으론 괜찮다 피부트러블에 여드름 쩔어서 진짜 유분기 많은거...\n",
       "2198    평가단으로 받아 써본 제품인데 받아보고 첫인상은 이걸 언제 다 써 수분크림인데 ml...\n",
       "2203    남성제품이라서 남자친구한테 써보라하고 어떤지 물어봤어요 남자친구가 약간 건성이라그런...\n",
       "2220                오늘 배송받아서 손등에 우선 발라보니 시원한 감이 있고 향이 났어요\n",
       "2228    너무 늦은 리뷰 죄송합니다 이번에 평가단으로 처음 제품을 받았어요 첫 배송때 택배도...\n",
       "2268    평가단제품으로받은거 아버지드렸어요 워낙에 스킨로션만바르셔서 드렸습니다 용기가 너무 ...\n",
       "2298    우연히 평가단 응모 했다가 받은 제품 오자마자 남자친구랑 같이 뜯어봄 우선 남자친구...\n",
       "2299    향도 좋고 남편이 이거 바르면 얼굴이 코팅된듯 수분감 충만이래요 겨울엔 이거 하나면...\n",
       "2330    정말 좋아요 남성분들 가볍게 바르고 싶으신분들 사세요 정말 간편하고 기본적으로 바를...\n",
       "2336    성분 착할뿐 아니라 심지어 우수하고 미백 주름개선 가격 착하고 물론 시드물의 울트라...\n",
       "2338    이 제품은 저처럼 세안후 급건성이고 차후 지성으로 개기름이 금새 올라오는 복합성의 ...\n",
       "2343                                    수분감넘치고 좋긴한데 사악한가격\n",
       "2399    수분감이 가득하고 가볍게 피부에 얹혀지는 라이트한 제형이 맘에듭니다 유분감이 적어 ...\n",
       "2405    인천공항에서 토너 로션 아이크림 세트로 구매하였고 운동후에 사용중입니다 자극도 덜한...\n",
       "2411    남자친구에게 선물했던 건데 같이 여행갔다가 제 아이크림을 안 챙겨가서 빌려서 썼어요...\n",
       "2414    남자친구 피부가 지복합성인데 여름에는 유분으로 고생하고 겨울엔 수분감이없어서 고민인...\n",
       "2418    남성 전용 제품으로 수분크림 같은 느낌이에요 아버지께 선물 드렸는데 마무리 감이 좋...\n",
       "2430    오덕이라서 원피스 본능에 동생 사줬는데 제가 쓰고 싶더라구요 수분감이 남다름 제품이에요 \n",
       "2432                      수분감이 살 작부좃 그냥 저냥쓰기 좋고 양이 많아서 좋가\n",
       "2519    평가단으로 한달 정도 사용한 느낌 적어봅니다 일단 젤 타입이니 폼 타입의 클렌저 제...\n",
       "2549    주변에 줄 남자가 없어서 따흑 오빠에게 주고 받아온 후기 입니다 일단 쉐이빙 겸 폼...\n",
       "2598    데이케어 로션을 씻어내려면 이걸 써야 한다는 상술 때문에 사면서 좀 언짢았어요 그치...\n",
       "2605     샘플사용 유명하다고도 하고 성별 관계 없이 사용해도 된다고 해서 쪼꼬미 사이즈로 ...\n",
       "2753    뷰티윈도 구경하다가 세일하길래 사서 남친 줬는데 그동안 제가 사줬던 클렌징폼 중에 ...\n",
       "2939    쿨킥보다 조금 나은것같긴한데 비슷비슷 하다 좀더 거품이 순한 느낌이다 가격대 사용감...\n",
       "2959                            향도 거부감 앖고 거품도 잘 나오고 괜찮던데 \n",
       "3082    티트리 병풀추출물 들어있대서 남자친구한테 선물해줌 여드름이 좀 있는 지성피부 수염이...\n",
       "3084    성분이순해요 하지만 쉐이빙제품으로 기능은 저한테미미했어요 젤자체가 도포시 밀착감이 ...\n",
       "3246    쓰세요 두 번 쓰세요 로션 별도로 쓸 필요 없을 정도로 수분감 유지에 좋음 케이스도...\n",
       "3304    체험단 제품으로 먼저 써봤습니다 감사하게도 호수를 호 호 호 개씩이나 주셨더라고요 ...\n",
       "3307    제가 다른브랜드 호파데 사용시 살짝 피부톤보다 밝다고 생각햇는데 이제품은 호로 사용...\n",
       "3320    피부가 완전 어둡진 않은편인데 그래도 여자 파데 호 쓰면 조금 겉도는 느낌 뜨는 감...\n",
       "3500                                                  사용감\n",
       "3579                                      자연스러운 커버력과 사용감 \n",
       "3580    사용감 측면에서 끈적이지 않아 좋고 커버력도 나쁘지 않은 편입니다 색감도 일반적 남...\n",
       "3607    동생 주려고 구매했는데 직접 동생 얼굴에 발라줘보니 지 혼자 잘 못 발라서 발림성도...\n",
       "3740     년동안 쓰던 제품인데 이번에 새로 주문한 제품이 사용감 최악 수준이길래 전화해서 ...\n",
       "3780     수분감은 하나도없고 유분감잔뜩 각질부각 오지고 지속력도 별로 역대급 최악템 냄새도 꾸림\n",
       "3830               역시 남성용 제품들은 뭔가 귀찮은 남자들을 위해 대충 만든 감이 있다\n",
       "3853    어두운 남자피부는 절대 사용못할 톤입니다 남자 쿠션치고 하얀분들이 사용하기에 딱 알...\n",
       "3895    남자친구 선물 해줬는데 리뷰가 좋은것같기에 이걸로 질렀다 가격이 좀 비싼것같긴했는데...\n",
       "3896    이거 정가 원이던데 음 생각보다 비싼데 스틱이라 헤프게 쓰는 감이 있다 근데 보송보...\n",
       "3932    디자인이 심플해 이쁘고 가지고 다니기도 편한 크기에 그립감이에요 데일리용 아웃도어용...\n",
       "3951    남자친구한테 선물 주면서 저도 써봤는데 성분도 순하고 보송하고 손에 안 묻혀도 되서...\n",
       "3989    굉장히 촉촉하게 마무리 되네요 흡수가 조금 더딘면이 있지만 흡수되기만 하면 정말 피...\n",
       "3990                                         수분감이 좋은 선크림 \n",
       "4066    제가 써본 몇몇 랩시리즈 제품중에 가장 실망한 제품입니다 향이나 발림성은 나쁘지 않...\n",
       "4147    포맨이라 향도 강할거같아서 남자친구줄까 그냥쓸까하다가 그냥 써봤는데 생각보다 가볍고...\n",
       "4214    일단 용량이 겁나크다 가격대비 용량 가성비 좋은거같음 평가단 택배왓을때 무거워서 깜...\n",
       "4241    땀이 많은 남치니에게 선물하고 얻은 리뷰입니당 샤워하면서 머리까지 한번에 감을 수 ...\n",
       "4247    지루성두피이기도하고 집안에 탈모인들도 몇몇있어서 지금은 풍성하긴하지만 미래를위해 샴...\n",
       "4252    멘솔 샴푸의 시원함을 즐기다가 머리가 시원하게 빠질 위기라서 탈모에 좋다는 샴프를 ...\n",
       "4310    평가단입니다 동생선물해주고 평가단 써야한다는걸 잊고있었네요 제가 느꼈던건 좀 모기퇴...\n",
       "4326    첨에 용기만 보고 독한 스킨냄새 아닐까 했는데 맡아보니 전혀 거부감 들지 않고 중성...\n",
       "4334    남성제품들 남자 스킨 냄새 정말 싫어하는데 뭔가 이 제품은 적당선을 잘 지킨 향 같...\n",
       "4404    남자친구랑 아리따움 갔다가 바로 남친이 사들고온 제품 올인원보자마자 와 이건 나를위...\n",
       "4568    네 슈퍼하드 이름 그대로 슈퍼하드합니다 제품의 본질에는 충성한 듯 그것만 본다면 역...\n",
       "4582    고정력 나쁘지않고 무엇보다 향이없는게 맘에듦 분사력도 좋음 한번말고 한번뿌리고 하면...\n",
       "4632    롸 냄새 진짜 지독함 진짜역함 뿌리고 몇초는 숨쉬면안됨 근데 문제는 이 냄새가 하루...\n",
       "4704    신랑이 몇년째 쓰고 있어요 고정력도 좋고 무엇보다 머리 감을때 왁스가 잘 벗겨져서 좋데요\n",
       "4709    확실히 세정력이 좋네요 가볍게 머리를 감아도 상쾌하네요 왁스란게 고정력도 중요하지만...\n",
       "4716    평이 좋아서 신랑 사다줬는데 첨엔 괜찮은것 같다고 하더니 다 떨어져가길래 또 사다놓...\n",
       "4723    남자친구가 이니스프리 왁스 쓸 때 미용사 언니가 머리 감겨주면서 세정 너무 안 된다...\n",
       "4751    엠자형이마인데 제가 남자라서 그런지 아무래도 사용하기 어려운감이 있어요 양 조절이 ...\n",
       "4847                                메트한감이있긴하지만세팅이잘되서좋은것같다\n",
       "4850    미용실 원장님 추천템 그런데 요즘은 모르간 오일 쓰시더라고요 파마 후 볼륨감 살리고...\n",
       "4939                              가성비좋은제품이예요 찐득거리는 감이 있어서\n",
       "5070                          고정력은 나쁘지않은데 뭉치는 감이 없지않아 있어요\n",
       "5086    세팅력은 이거따라올만한게 없는데 세정력이 최악 of 최악 모리 두세번감아야되고 머리...\n",
       "5089                                            지속력이 오래못감\n",
       "Name: rew_pre, dtype: object"
      ]
     },
     "execution_count": 45,
     "metadata": {},
     "output_type": "execute_result"
    }
   ],
   "source": [
    "rew['rew_pre'].iloc[find_word_idx('감')]"
   ]
  },
  {
   "cell_type": "code",
   "execution_count": 46,
   "metadata": {
    "ExecuteTime": {
     "end_time": "2019-12-26T01:23:35.516101Z",
     "start_time": "2019-12-26T01:23:35.505167Z"
    }
   },
   "outputs": [
    {
     "data": {
      "text/plain": [
       "'저는 이거 년넘게 계속 사서 쓰고 있습니다 사실 외국화장품이라 가격이 상당히 비싼편이고 이 제품 단일로는 엄청난 효과가 있다던가 하진 않지만 여름엔 단독으로 써도 좋을만큼 산뜻하고 가벼운 느낌이 아주 매력적입니다 봄이나 가을엔 같은 회사의 워터크림을 써주면 좋은거 같고 겨울철엔 약간 유분감이 있는 크림을 쓰는 편인데 꼭 같은 회사 제품이 아니더라도 어느 로션이든 크림이든 쓰기전에 기본 스킨은 오직 이걸로 시작합니다 '"
      ]
     },
     "execution_count": 46,
     "metadata": {},
     "output_type": "execute_result"
    }
   ],
   "source": [
    "rew['rew_pre'].iloc[find_word_idx('감')].iloc[15]"
   ]
  },
  {
   "cell_type": "code",
   "execution_count": 47,
   "metadata": {
    "ExecuteTime": {
     "end_time": "2019-12-26T01:32:01.426946Z",
     "start_time": "2019-12-26T01:32:01.420972Z"
    }
   },
   "outputs": [
    {
     "data": {
      "text/plain": [
       "[('수분', 'Noun'), ('감', 'Noun')]"
      ]
     },
     "execution_count": 47,
     "metadata": {},
     "output_type": "execute_result"
    }
   ],
   "source": [
    "t.pos('수분감')"
   ]
  },
  {
   "cell_type": "code",
   "execution_count": null,
   "metadata": {},
   "outputs": [],
   "source": [
    "#t.add_dictionary('그래서', 'Con',force=True)"
   ]
  },
  {
   "cell_type": "code",
   "execution_count": null,
   "metadata": {
    "ExecuteTime": {
     "end_time": "2019-12-26T01:13:32.748357Z",
     "start_time": "2019-12-26T01:13:32.744368Z"
    }
   },
   "outputs": [],
   "source": [
    "#stop_words = ['거','어요','단','것','평가','때','이','리뷰','어서','좀','저','제','요','더','고','진짜','쓰기','생각','입니다','같아요','있','같','써','쓰고','들','그냥','데','그','다가','정도','후','용','하나','중','아하','함','듯','면서','수','일단','한번','걸','편','사','뭐','형','유','나','이나','보고','이건','내','까지','성','아주','사드','젤','적','쓰기','분','어서','편']"
   ]
  },
  {
   "cell_type": "code",
   "execution_count": 124,
   "metadata": {},
   "outputs": [],
   "source": [
    "#############33"
   ]
  }
 ],
 "metadata": {
  "hide_input": false,
  "kernelspec": {
   "display_name": "Python 3",
   "language": "python",
   "name": "python3"
  },
  "language_info": {
   "codemirror_mode": {
    "name": "ipython",
    "version": 3
   },
   "file_extension": ".py",
   "mimetype": "text/x-python",
   "name": "python",
   "nbconvert_exporter": "python",
   "pygments_lexer": "ipython3",
   "version": "3.7.4"
  },
  "toc": {
   "base_numbering": 1,
   "nav_menu": {},
   "number_sections": true,
   "sideBar": true,
   "skip_h1_title": false,
   "title_cell": "Table of Contents",
   "title_sidebar": "Contents",
   "toc_cell": false,
   "toc_position": {
    "height": "calc(100% - 180px)",
    "left": "10px",
    "top": "150px",
    "width": "177px"
   },
   "toc_section_display": true,
   "toc_window_display": false
  },
  "varInspector": {
   "cols": {
    "lenName": 16,
    "lenType": 16,
    "lenVar": 40
   },
   "kernels_config": {
    "python": {
     "delete_cmd_postfix": "",
     "delete_cmd_prefix": "del ",
     "library": "var_list.py",
     "varRefreshCmd": "print(var_dic_list())"
    },
    "r": {
     "delete_cmd_postfix": ") ",
     "delete_cmd_prefix": "rm(",
     "library": "var_list.r",
     "varRefreshCmd": "cat(var_dic_list()) "
    }
   },
   "types_to_exclude": [
    "module",
    "function",
    "builtin_function_or_method",
    "instance",
    "_Feature"
   ],
   "window_display": false
  }
 },
 "nbformat": 4,
 "nbformat_minor": 2
}
