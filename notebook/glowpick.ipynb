{
 "cells": [
  {
   "cell_type": "code",
   "execution_count": 1,
   "metadata": {
    "ExecuteTime": {
     "end_time": "2019-12-26T01:00:24.329787Z",
     "start_time": "2019-12-26T01:00:24.071477Z"
    }
   },
   "outputs": [],
   "source": [
    "import numpy as np\n",
    "import pandas as pd\n",
    "import matplotlib.pyplot as plt\n",
    "import matplotlib\n",
    "import seaborn as sns\n",
    "from matplotlib import font_manager, rc\n",
    "%matplotlib inline\n",
    "font_name = font_manager.FontProperties(fname=\"c:/Windows/Fonts/malgun.ttf\").get_name()\n",
    "rc('font', family=font_name)\n",
    "import warnings\n",
    "warnings.filterwarnings('ignore')\n",
    "\n",
    "from ckonlpy.tag import Twitter; t= Twitter()\n",
    "from ckonlpy.tag import Postprocessor\n",
    "import nltk\n",
    "from nltk.corpus import stopwords\n",
    "from nltk.tokenize import word_tokenize\n",
    "import re\n",
    "\n",
    "pd.set_option('display.max_rows', 500)\n",
    "pd.set_option('display.max_columns', 500)"
   ]
  },
  {
   "cell_type": "markdown",
   "metadata": {},
   "source": [
    "# 데이터 불러오기"
   ]
  },
  {
   "cell_type": "code",
   "execution_count": 2,
   "metadata": {
    "ExecuteTime": {
     "end_time": "2019-12-26T01:00:25.281294Z",
     "start_time": "2019-12-26T01:00:25.252353Z"
    }
   },
   "outputs": [],
   "source": [
    "olive_man_skin = pd.read_csv('../dataset/oliveyoung_product_info.csv')\n",
    "rew = pd.read_csv('../dataset/glowpick_reviews.csv')\n",
    "#g_prod = pd.read_csv('../dataset/glowpick_products.csv')"
   ]
  },
  {
   "cell_type": "markdown",
   "metadata": {},
   "source": [
    "# 데이터 확인"
   ]
  },
  {
   "cell_type": "code",
   "execution_count": 3,
   "metadata": {
    "ExecuteTime": {
     "end_time": "2019-12-26T01:00:25.863722Z",
     "start_time": "2019-12-26T01:00:25.835796Z"
    }
   },
   "outputs": [
    {
     "name": "stdout",
     "output_type": "stream",
     "text": [
      "shape: (5125, 7)\n",
      "\n",
      "#### 결측치 갯수 ####\n",
      "\n",
      "date             0\n",
      "user_id          0\n",
      "sex              0\n",
      "age_skin_type    0\n",
      "rate             0\n",
      "content          1\n",
      "product_url      0\n",
      "dtype: int64\n"
     ]
    },
    {
     "data": {
      "text/html": [
       "<div>\n",
       "<style scoped>\n",
       "    .dataframe tbody tr th:only-of-type {\n",
       "        vertical-align: middle;\n",
       "    }\n",
       "\n",
       "    .dataframe tbody tr th {\n",
       "        vertical-align: top;\n",
       "    }\n",
       "\n",
       "    .dataframe thead th {\n",
       "        text-align: right;\n",
       "    }\n",
       "</style>\n",
       "<table border=\"1\" class=\"dataframe\">\n",
       "  <thead>\n",
       "    <tr style=\"text-align: right;\">\n",
       "      <th></th>\n",
       "      <th>date</th>\n",
       "      <th>user_id</th>\n",
       "      <th>sex</th>\n",
       "      <th>age_skin_type</th>\n",
       "      <th>rate</th>\n",
       "      <th>content</th>\n",
       "      <th>product_url</th>\n",
       "    </tr>\n",
       "  </thead>\n",
       "  <tbody>\n",
       "    <tr>\n",
       "      <th>0</th>\n",
       "      <td>28일 전</td>\n",
       "      <td>minseo6666</td>\n",
       "      <td>f</td>\n",
       "      <td>16세 · 복합성 ·</td>\n",
       "      <td>good</td>\n",
       "      <td>아빠 사드렸는데 저아해여</td>\n",
       "      <td>/product/7212</td>\n",
       "    </tr>\n",
       "    <tr>\n",
       "      <th>1</th>\n",
       "      <td>2개월 전</td>\n",
       "      <td>피부에관심있는남자</td>\n",
       "      <td>m</td>\n",
       "      <td>20세 · 복합성 ·</td>\n",
       "      <td>good</td>\n",
       "      <td>향이 좋아요 근데 좀 제 피부가 민감해서</td>\n",
       "      <td>/product/7212</td>\n",
       "    </tr>\n",
       "    <tr>\n",
       "      <th>2</th>\n",
       "      <td>3개월 전</td>\n",
       "      <td>타라타라</td>\n",
       "      <td>f</td>\n",
       "      <td>23세 · 복합성 ·</td>\n",
       "      <td>good</td>\n",
       "      <td>가격이 저렴하고 냄새가 안 쎄서 좋아요. 👍</td>\n",
       "      <td>/product/7212</td>\n",
       "    </tr>\n",
       "    <tr>\n",
       "      <th>3</th>\n",
       "      <td>4개월 전</td>\n",
       "      <td>흐시너</td>\n",
       "      <td>f</td>\n",
       "      <td>18세 · 복합성 ·</td>\n",
       "      <td>good</td>\n",
       "      <td>선물용으로 사서 선물했는데 나름 만족했는지 매일 바른다네요;</td>\n",
       "      <td>/product/7212</td>\n",
       "    </tr>\n",
       "    <tr>\n",
       "      <th>4</th>\n",
       "      <td>4개월 전</td>\n",
       "      <td>홍끼루</td>\n",
       "      <td>f</td>\n",
       "      <td>32세 · 복합성 ·</td>\n",
       "      <td>good</td>\n",
       "      <td>향이 청량해서 좋아요.</td>\n",
       "      <td>/product/7212</td>\n",
       "    </tr>\n",
       "  </tbody>\n",
       "</table>\n",
       "</div>"
      ],
      "text/plain": [
       "    date     user_id sex age_skin_type  rate  \\\n",
       "0  28일 전  minseo6666   f   16세 · 복합성 ·  good   \n",
       "1  2개월 전   피부에관심있는남자   m   20세 · 복합성 ·  good   \n",
       "2  3개월 전        타라타라   f   23세 · 복합성 ·  good   \n",
       "3  4개월 전         흐시너   f   18세 · 복합성 ·  good   \n",
       "4  4개월 전         홍끼루   f   32세 · 복합성 ·  good   \n",
       "\n",
       "                             content    product_url  \n",
       "0                      아빠 사드렸는데 저아해여  /product/7212  \n",
       "1             향이 좋아요 근데 좀 제 피부가 민감해서  /product/7212  \n",
       "2           가격이 저렴하고 냄새가 안 쎄서 좋아요. 👍  /product/7212  \n",
       "3  선물용으로 사서 선물했는데 나름 만족했는지 매일 바른다네요;  /product/7212  \n",
       "4                       향이 청량해서 좋아요.  /product/7212  "
      ]
     },
     "execution_count": 3,
     "metadata": {},
     "output_type": "execute_result"
    }
   ],
   "source": [
    "print('shape:',rew.shape)\n",
    "print('\\n#### 결측치 갯수 ####\\n')\n",
    "print(rew.isnull().sum())\n",
    "rew.head()"
   ]
  },
  {
   "cell_type": "markdown",
   "metadata": {},
   "source": [
    "- 나이와 피부타입이 합쳐져있다. 따로 분리가 필요하다.\n",
    "- content 속성에 결측치가 있다 처리가 필요하다."
   ]
  },
  {
   "cell_type": "markdown",
   "metadata": {},
   "source": [
    "# 전처리"
   ]
  },
  {
   "cell_type": "code",
   "execution_count": 4,
   "metadata": {
    "ExecuteTime": {
     "end_time": "2019-12-26T01:00:27.028622Z",
     "start_time": "2019-12-26T01:00:27.005629Z"
    }
   },
   "outputs": [],
   "source": [
    "np.array([i.split('·') for i in rew['age_skin_type']])[:,0]\n",
    "rew['age']= np.array([i.split('·') for i in rew['age_skin_type']])[:,0]\n",
    "rew['skin_type']= np.array([i.split('·') for i in rew['age_skin_type']])[:,1]"
   ]
  },
  {
   "cell_type": "code",
   "execution_count": 5,
   "metadata": {
    "ExecuteTime": {
     "end_time": "2019-12-26T01:00:27.367697Z",
     "start_time": "2019-12-26T01:00:27.361678Z"
    }
   },
   "outputs": [],
   "source": [
    "del rew['age_skin_type']"
   ]
  },
  {
   "cell_type": "code",
   "execution_count": 6,
   "metadata": {
    "ExecuteTime": {
     "end_time": "2019-12-26T01:00:27.664898Z",
     "start_time": "2019-12-26T01:00:27.650904Z"
    },
    "scrolled": true
   },
   "outputs": [
    {
     "data": {
      "text/html": [
       "<div>\n",
       "<style scoped>\n",
       "    .dataframe tbody tr th:only-of-type {\n",
       "        vertical-align: middle;\n",
       "    }\n",
       "\n",
       "    .dataframe tbody tr th {\n",
       "        vertical-align: top;\n",
       "    }\n",
       "\n",
       "    .dataframe thead th {\n",
       "        text-align: right;\n",
       "    }\n",
       "</style>\n",
       "<table border=\"1\" class=\"dataframe\">\n",
       "  <thead>\n",
       "    <tr style=\"text-align: right;\">\n",
       "      <th></th>\n",
       "      <th>date</th>\n",
       "      <th>user_id</th>\n",
       "      <th>sex</th>\n",
       "      <th>rate</th>\n",
       "      <th>content</th>\n",
       "      <th>product_url</th>\n",
       "      <th>age</th>\n",
       "      <th>skin_type</th>\n",
       "    </tr>\n",
       "  </thead>\n",
       "  <tbody>\n",
       "    <tr>\n",
       "      <th>2322</th>\n",
       "      <td>2016.12.4</td>\n",
       "      <td>En960</td>\n",
       "      <td>f</td>\n",
       "      <td>good</td>\n",
       "      <td>NaN</td>\n",
       "      <td>/product/82765</td>\n",
       "      <td>24세</td>\n",
       "      <td>건성</td>\n",
       "    </tr>\n",
       "  </tbody>\n",
       "</table>\n",
       "</div>"
      ],
      "text/plain": [
       "           date user_id sex  rate content     product_url   age skin_type\n",
       "2322  2016.12.4   En960   f  good     NaN  /product/82765  24세        건성 "
      ]
     },
     "execution_count": 6,
     "metadata": {},
     "output_type": "execute_result"
    }
   ],
   "source": [
    "rew.loc[rew['content'].isnull()]"
   ]
  },
  {
   "cell_type": "markdown",
   "metadata": {},
   "source": [
    "- 결측치가 하나 보인다. 결측치가 하나뿐이니 이를 제거해준다."
   ]
  },
  {
   "cell_type": "code",
   "execution_count": 7,
   "metadata": {
    "ExecuteTime": {
     "end_time": "2019-12-26T01:00:28.320113Z",
     "start_time": "2019-12-26T01:00:28.310178Z"
    }
   },
   "outputs": [],
   "source": [
    "rew = rew.dropna().copy()"
   ]
  },
  {
   "cell_type": "code",
   "execution_count": 8,
   "metadata": {
    "ExecuteTime": {
     "end_time": "2019-12-26T01:00:28.615325Z",
     "start_time": "2019-12-26T01:00:28.603357Z"
    }
   },
   "outputs": [
    {
     "data": {
      "text/html": [
       "<div>\n",
       "<style scoped>\n",
       "    .dataframe tbody tr th:only-of-type {\n",
       "        vertical-align: middle;\n",
       "    }\n",
       "\n",
       "    .dataframe tbody tr th {\n",
       "        vertical-align: top;\n",
       "    }\n",
       "\n",
       "    .dataframe thead th {\n",
       "        text-align: right;\n",
       "    }\n",
       "</style>\n",
       "<table border=\"1\" class=\"dataframe\">\n",
       "  <thead>\n",
       "    <tr style=\"text-align: right;\">\n",
       "      <th></th>\n",
       "      <th>date</th>\n",
       "      <th>user_id</th>\n",
       "      <th>sex</th>\n",
       "      <th>rate</th>\n",
       "      <th>content</th>\n",
       "      <th>product_url</th>\n",
       "      <th>age</th>\n",
       "      <th>skin_type</th>\n",
       "    </tr>\n",
       "  </thead>\n",
       "  <tbody>\n",
       "    <tr>\n",
       "      <th>0</th>\n",
       "      <td>28일 전</td>\n",
       "      <td>minseo6666</td>\n",
       "      <td>f</td>\n",
       "      <td>good</td>\n",
       "      <td>아빠 사드렸는데 저아해여</td>\n",
       "      <td>/product/7212</td>\n",
       "      <td>16세</td>\n",
       "      <td>복합성</td>\n",
       "    </tr>\n",
       "    <tr>\n",
       "      <th>1</th>\n",
       "      <td>2개월 전</td>\n",
       "      <td>피부에관심있는남자</td>\n",
       "      <td>m</td>\n",
       "      <td>good</td>\n",
       "      <td>향이 좋아요 근데 좀 제 피부가 민감해서</td>\n",
       "      <td>/product/7212</td>\n",
       "      <td>20세</td>\n",
       "      <td>복합성</td>\n",
       "    </tr>\n",
       "  </tbody>\n",
       "</table>\n",
       "</div>"
      ],
      "text/plain": [
       "    date     user_id sex  rate                 content    product_url   age  \\\n",
       "0  28일 전  minseo6666   f  good           아빠 사드렸는데 저아해여  /product/7212  16세    \n",
       "1  2개월 전   피부에관심있는남자   m  good  향이 좋아요 근데 좀 제 피부가 민감해서  /product/7212  20세    \n",
       "\n",
       "  skin_type  \n",
       "0      복합성   \n",
       "1      복합성   "
      ]
     },
     "execution_count": 8,
     "metadata": {},
     "output_type": "execute_result"
    }
   ],
   "source": [
    "rew.head(2)"
   ]
  },
  {
   "cell_type": "markdown",
   "metadata": {},
   "source": [
    "# CKonlpy"
   ]
  },
  {
   "cell_type": "markdown",
   "metadata": {},
   "source": [
    "https://github.com/lovit/customized_konlpy"
   ]
  },
  {
   "cell_type": "markdown",
   "metadata": {},
   "source": [
    "- KoNLPy의 customized version이다.\n",
    "- meceb, khaiii는 윈도위 버전을 지원하지 않아 제외하였다.\n",
    "- 사용자 사전을 쉽게 사용할 수 있다.\n",
    "- 단어 치환을 위한 후처리를 할 수 있다.\n",
    "    - passwords 에 등록된 단어, (단어, 품사)만 출력됩니다.\n",
    "    - stopwords 에 등록된 단어, (단어, 품사)는 출력되지 않습니다.\n",
    "    - 특정 품사를 지정하면, 해당 품사만 출력됩니다.\n",
    "    - 치환할 단어, (단어, 품사)를 dict 형식으로 정의하면 tag 에서 단어가 치환되어 출력됩니다."
   ]
  },
  {
   "cell_type": "markdown",
   "metadata": {},
   "source": [
    "# 리뷰 전처리"
   ]
  },
  {
   "cell_type": "code",
   "execution_count": 9,
   "metadata": {
    "ExecuteTime": {
     "end_time": "2019-12-26T01:00:29.847030Z",
     "start_time": "2019-12-26T01:00:29.842081Z"
    }
   },
   "outputs": [
    {
     "name": "stdout",
     "output_type": "stream",
     "text": [
      "리뷰 총 갯수: 5124\n"
     ]
    }
   ],
   "source": [
    "print('리뷰 총 갯수: {}'.format(rew['content'].shape[0]))"
   ]
  },
  {
   "cell_type": "code",
   "execution_count": 10,
   "metadata": {
    "ExecuteTime": {
     "end_time": "2019-12-26T01:00:30.175151Z",
     "start_time": "2019-12-26T01:00:30.169168Z"
    }
   },
   "outputs": [],
   "source": [
    "def preprocessing(text):\n",
    "    # 개행문자 제거(줄바꿈 문자)\n",
    "    text = re.sub('\\n', ' ', text)\n",
    "    # 의성어 제거\n",
    "    text = re.sub('[ㄱ-ㅎㅏ-ㅣ!?~]', ' ',text)\n",
    "    # 특수문자 제거\n",
    "    # 특수문자나 이모티콘 등은 때로는 의미를 갖기도 하지만 여기서는 제거\n",
    "    # re.sub : 첫번째 인수에 바꿀 문자열을 입력하고 두 번째 인수에 대상 문자열을 입력한다.\n",
    "    # text = re.sub('[?.,;:|\\)*~'!^\\- +<>@\\#$%&-=#}*]','',text)\n",
    "    # 한글, 영문, 숫자만 남기고 모두 제거하도록 합니다.\n",
    "    # text = re.sub('[^가-힣ㄱ-ㅎㅏ-ㅣa-zA-Z0-9]',' ',text)\n",
    "    # [^5]와 같이 '^'가 []안에서 쓰이는 경우에는 5를 제외한 모든 문자를 나타냄\n",
    "    # 가-힣ㄱ-ㅎㅏ-ㅣa-zA-Z을 만족하는 것들을 제외한 것들을 ' '로 치환\n",
    "    text = re.sub('[^가-힣ㄱ-ㅎㅏ-ㅣa-zA-Z]', ' ', text)\n",
    "    # 중복으로 생성된 공백값을 제거합니다.\n",
    "    text = re.sub(' +',' ',text)\n",
    "    return text"
   ]
  },
  {
   "cell_type": "code",
   "execution_count": 11,
   "metadata": {
    "ExecuteTime": {
     "end_time": "2019-12-26T01:00:30.468367Z",
     "start_time": "2019-12-26T01:00:30.461385Z"
    }
   },
   "outputs": [],
   "source": [
    "rew['content'] = rew['content'].map(str)"
   ]
  },
  {
   "cell_type": "code",
   "execution_count": 12,
   "metadata": {
    "ExecuteTime": {
     "end_time": "2019-12-26T01:00:30.876277Z",
     "start_time": "2019-12-26T01:00:30.796490Z"
    }
   },
   "outputs": [],
   "source": [
    "rew['rew_pre'] = rew['content'].apply(preprocessing)"
   ]
  },
  {
   "cell_type": "code",
   "execution_count": 13,
   "metadata": {
    "ExecuteTime": {
     "end_time": "2019-12-26T01:00:43.626173Z",
     "start_time": "2019-12-26T01:00:43.619226Z"
    }
   },
   "outputs": [
    {
     "data": {
      "text/plain": [
       "0                        아빠 사드렸는데 저아해여\n",
       "1               향이 좋아요 근데 좀 제 피부가 민감해서\n",
       "2               가격이 저렴하고 냄새가 안 쎄서 좋아요 \n",
       "3    선물용으로 사서 선물했는데 나름 만족했는지 매일 바른다네요 \n",
       "4                         향이 청량해서 좋아요 \n",
       "Name: rew_pre, dtype: object"
      ]
     },
     "execution_count": 13,
     "metadata": {},
     "output_type": "execute_result"
    }
   ],
   "source": [
    "rew['rew_pre'].head()"
   ]
  },
  {
   "cell_type": "code",
   "execution_count": 14,
   "metadata": {
    "ExecuteTime": {
     "end_time": "2019-12-26T01:00:54.702546Z",
     "start_time": "2019-12-26T01:00:44.639463Z"
    }
   },
   "outputs": [],
   "source": [
    "rew['morphs'] = rew['rew_pre'].map(t.morphs)\n",
    "#rew['morphs'] = rew['morphs'].map(' '.join)"
   ]
  },
  {
   "cell_type": "code",
   "execution_count": 15,
   "metadata": {
    "ExecuteTime": {
     "end_time": "2019-12-26T01:00:57.248765Z",
     "start_time": "2019-12-26T01:00:57.241788Z"
    }
   },
   "outputs": [
    {
     "data": {
      "text/plain": [
       "good     2214\n",
       "best     1476\n",
       "soso      979\n",
       "bad       360\n",
       "worst      95\n",
       "Name: rate, dtype: int64"
      ]
     },
     "execution_count": 15,
     "metadata": {},
     "output_type": "execute_result"
    }
   ],
   "source": [
    "rew['rate'].value_counts()"
   ]
  },
  {
   "cell_type": "code",
   "execution_count": 16,
   "metadata": {
    "ExecuteTime": {
     "end_time": "2019-12-26T01:00:58.159302Z",
     "start_time": "2019-12-26T01:00:58.155344Z"
    }
   },
   "outputs": [],
   "source": [
    "rew_r = rew['rew_pre']"
   ]
  },
  {
   "cell_type": "code",
   "execution_count": 17,
   "metadata": {
    "ExecuteTime": {
     "end_time": "2019-12-26T01:00:58.646996Z",
     "start_time": "2019-12-26T01:00:58.625091Z"
    }
   },
   "outputs": [],
   "source": [
    "worst_r = rew.loc[rew['rate'] == 'worst']['rew_pre']\n",
    "bad_r = rew.loc[rew['rate'] == 'bad']['rew_pre']\n",
    "soso_r = rew.loc[rew['rate'] == 'soso']['rew_pre']\n",
    "best_r = rew.loc[rew['rate'] == 'best']['rew_pre']\n",
    "good_r = rew.loc[rew['rate'] == 'good']['rew_pre']\n",
    "worst_r_a = ' '.join(worst_r)\n",
    "bad_r_a = ' '.join(bad_r)\n",
    "soso_r_a = ' '.join(soso_r)\n",
    "best_r_a = ' '.join(best_r)\n",
    "good_r_a = ' '.join(good_r)\n",
    "rew_r_a = ' '.join(rew_r)"
   ]
  },
  {
   "cell_type": "markdown",
   "metadata": {},
   "source": [
    "# 불용어 정의"
   ]
  },
  {
   "cell_type": "code",
   "execution_count": 18,
   "metadata": {
    "ExecuteTime": {
     "end_time": "2019-12-26T01:00:59.739109Z",
     "start_time": "2019-12-26T01:00:59.719169Z"
    }
   },
   "outputs": [],
   "source": [
    "rew_n = Postprocessor(t,passtags = 'Noun')\n",
    "rew_v = Postprocessor(t,passtags = 'Verb')\n",
    "rew_a = Postprocessor(t,passtags = 'Adjective')\n",
    "rew_j = Postprocessor(t,passtags = 'Josa')"
   ]
  },
  {
   "cell_type": "code",
   "execution_count": 19,
   "metadata": {
    "ExecuteTime": {
     "end_time": "2019-12-26T01:01:00.090172Z",
     "start_time": "2019-12-26T01:01:00.087179Z"
    }
   },
   "outputs": [],
   "source": [
    "#rew['token'] = [i.split(' ') for i in rew['rew_pre']]"
   ]
  },
  {
   "cell_type": "code",
   "execution_count": 21,
   "metadata": {
    "ExecuteTime": {
     "end_time": "2019-12-26T01:01:40.874342Z",
     "start_time": "2019-12-26T01:01:00.742393Z"
    }
   },
   "outputs": [],
   "source": [
    "rew_n_df = pd.DataFrame(rew_n.pos(rew_r_a)) # 명사\n",
    "rew_v_df = pd.DataFrame(rew_v.pos(rew_r_a)) # 동사\n",
    "rew_a_df = pd.DataFrame(rew_a.pos(rew_r_a)) # 형용사\n",
    "rew_j_df = pd.DataFrame(rew_j.pos(rew_r_a)) # 조사"
   ]
  },
  {
   "cell_type": "code",
   "execution_count": 22,
   "metadata": {
    "ExecuteTime": {
     "end_time": "2019-12-26T01:01:43.118047Z",
     "start_time": "2019-12-26T01:01:43.114101Z"
    }
   },
   "outputs": [],
   "source": [
    "stop_words = ['거','어요','단','것','평가','때','이','리뷰','어서','좀','저','제','요','더','고','진짜','쓰기','생각','입니다','같아요','있','같','써','쓰고','들']"
   ]
  },
  {
   "cell_type": "markdown",
   "metadata": {},
   "source": [
    "# replace"
   ]
  },
  {
   "cell_type": "code",
   "execution_count": 23,
   "metadata": {
    "ExecuteTime": {
     "end_time": "2019-12-26T01:01:44.063553Z",
     "start_time": "2019-12-26T01:01:44.059529Z"
    }
   },
   "outputs": [],
   "source": [
    "replace = {'좋아요':'좋다','좋':'좋다','좋은':'좋다','좋고':'좋다','좋다고':'좋다','좋은데':'좋다','좋습니다':'좋다','좋아서':'좋다','좋았':'좋다','좋은데':'좋다','좋네요':'좋다','새빨간':'빨간','약해서':'약하다','남친':'남자친구','남자':'남성'}"
   ]
  },
  {
   "cell_type": "code",
   "execution_count": 24,
   "metadata": {
    "ExecuteTime": {
     "end_time": "2019-12-26T01:01:46.154923Z",
     "start_time": "2019-12-26T01:01:46.150974Z"
    }
   },
   "outputs": [],
   "source": [
    "postprocessor_r = Postprocessor(t, replace = replace) # replace"
   ]
  },
  {
   "cell_type": "code",
   "execution_count": 25,
   "metadata": {
    "ExecuteTime": {
     "end_time": "2019-12-26T01:01:46.718454Z",
     "start_time": "2019-12-26T01:01:46.701500Z"
    }
   },
   "outputs": [],
   "source": [
    "# 평점 등급별 리뷰 확인\n",
    "worst_r = rew.loc[rew['rate'] == 'worst']['rew_pre']\n",
    "bad_r = rew.loc[rew['rate'] == 'bad']['rew_pre']\n",
    "soso_r = rew.loc[rew['rate'] == 'soso']['rew_pre']\n",
    "best_r = rew.loc[rew['rate'] == 'best']['rew_pre']\n",
    "good_r = rew.loc[rew['rate'] == 'good']['rew_pre']\n",
    "worst_r_a = ' '.join(worst_r)\n",
    "bad_r_a = ' '.join(bad_r)\n",
    "soso_r_a = ' '.join(soso_r)\n",
    "best_r_a = ' '.join(best_r)\n",
    "good_r_a = ' '.join(good_r)\n",
    "rew_r_a = ' '.join(rew_r)"
   ]
  },
  {
   "cell_type": "code",
   "execution_count": 26,
   "metadata": {
    "ExecuteTime": {
     "end_time": "2019-12-26T01:01:57.572712Z",
     "start_time": "2019-12-26T01:01:47.352748Z"
    }
   },
   "outputs": [],
   "source": [
    "worst_re = np.array(postprocessor_r.pos(worst_r_a))[:,0]\n",
    "bad_re = np.array(postprocessor_r.pos(bad_r_a))[:,0]\n",
    "soso_re = np.array(postprocessor_r.pos(soso_r_a))[:,0]\n",
    "best_re = np.array(postprocessor_r.pos(best_r_a))[:,0]\n",
    "good_re = np.array(postprocessor_r.pos(good_r_a))[:,0]"
   ]
  },
  {
   "cell_type": "markdown",
   "metadata": {},
   "source": [
    "# 불용어 제거"
   ]
  },
  {
   "cell_type": "code",
   "execution_count": 27,
   "metadata": {
    "ExecuteTime": {
     "end_time": "2019-12-26T01:02:00.097633Z",
     "start_time": "2019-12-26T01:02:00.083701Z"
    }
   },
   "outputs": [
    {
     "name": "stdout",
     "output_type": "stream",
     "text": [
      "['비오템', '입', '문하', '자마자', '떠나게', '한', '제품', '피부', '에', '신경안', '쓰던', '적', '에', '올인원', '제품', '하나', '만', '겨울', '에', '바를']\n"
     ]
    }
   ],
   "source": [
    "# 불용어 추가한 것들을 제거해준다.\n",
    "result_worst = []; result_bed = []; result_soso = []; result_best = []; result_good = []\n",
    "\n",
    "[result_worst.append(i) for i in worst_re if i not in stop_words]\n",
    "[result_bed.append(i) for i in worst_re if i not in stop_words]\n",
    "[result_soso.append(i) for i in worst_re if i not in stop_words]\n",
    "[result_best.append(i) for i in worst_re if i not in stop_words]\n",
    "[result_good.append(i) for i in worst_re if i not in stop_words]\n",
    "\n",
    "print(result_worst[:20])"
   ]
  },
  {
   "cell_type": "code",
   "execution_count": 28,
   "metadata": {
    "ExecuteTime": {
     "end_time": "2019-12-26T01:02:00.583331Z",
     "start_time": "2019-12-26T01:02:00.563420Z"
    },
    "scrolled": false
   },
   "outputs": [
    {
     "data": {
      "text/html": [
       "<div>\n",
       "<style scoped>\n",
       "    .dataframe tbody tr th:only-of-type {\n",
       "        vertical-align: middle;\n",
       "    }\n",
       "\n",
       "    .dataframe tbody tr th {\n",
       "        vertical-align: top;\n",
       "    }\n",
       "\n",
       "    .dataframe thead th {\n",
       "        text-align: right;\n",
       "    }\n",
       "</style>\n",
       "<table border=\"1\" class=\"dataframe\">\n",
       "  <thead>\n",
       "    <tr style=\"text-align: right;\">\n",
       "      <th></th>\n",
       "      <th>index</th>\n",
       "      <th>rew_pre</th>\n",
       "      <th>morphs</th>\n",
       "    </tr>\n",
       "  </thead>\n",
       "  <tbody>\n",
       "    <tr>\n",
       "      <th>30</th>\n",
       "      <td>3130</td>\n",
       "      <td>이거 쓰고 피부 다 뒤집어졌던 기억이 나네요 단순히 여드름이나 트러블이 났던게 아니...</td>\n",
       "      <td>[이, 거, 쓰고, 피부, 다, 뒤집어졌던, 기억, 이, 나네요, 단순, 히, 여드...</td>\n",
       "    </tr>\n",
       "    <tr>\n",
       "      <th>31</th>\n",
       "      <td>3204</td>\n",
       "      <td>이건 걍 돈아까음 얼굴 넘 건조해서 뱅기타기전에 면세에서 샀는데 걍 다른거랑 다를게...</td>\n",
       "      <td>[이건, 걍, 돈, 아까음, 얼굴, 넘, 건조, 해서, 뱅, 기타, 기전, 에, 면...</td>\n",
       "    </tr>\n",
       "    <tr>\n",
       "      <th>32</th>\n",
       "      <td>3222</td>\n",
       "      <td>그냥 물임</td>\n",
       "      <td>[그냥, 물임]</td>\n",
       "    </tr>\n",
       "    <tr>\n",
       "      <th>33</th>\n",
       "      <td>3269</td>\n",
       "      <td>향이 남자화장품냄새 딱 그건데</td>\n",
       "      <td>[향, 이, 남자, 화장품, 냄새, 딱, 그건, 데]</td>\n",
       "    </tr>\n",
       "    <tr>\n",
       "      <th>34</th>\n",
       "      <td>3615</td>\n",
       "      <td>거짓된 양 내구성 부족 제품을 만족시키지 못하는 부담스러운 가격</td>\n",
       "      <td>[거짓, 된, 양, 내, 구성, 부족, 제품, 을, 만족, 시키지, 못, 하는, 부...</td>\n",
       "    </tr>\n",
       "  </tbody>\n",
       "</table>\n",
       "</div>"
      ],
      "text/plain": [
       "    index                                            rew_pre  \\\n",
       "30   3130  이거 쓰고 피부 다 뒤집어졌던 기억이 나네요 단순히 여드름이나 트러블이 났던게 아니...   \n",
       "31   3204  이건 걍 돈아까음 얼굴 넘 건조해서 뱅기타기전에 면세에서 샀는데 걍 다른거랑 다를게...   \n",
       "32   3222                                             그냥 물임    \n",
       "33   3269                                  향이 남자화장품냄새 딱 그건데    \n",
       "34   3615               거짓된 양 내구성 부족 제품을 만족시키지 못하는 부담스러운 가격    \n",
       "\n",
       "                                               morphs  \n",
       "30  [이, 거, 쓰고, 피부, 다, 뒤집어졌던, 기억, 이, 나네요, 단순, 히, 여드...  \n",
       "31  [이건, 걍, 돈, 아까음, 얼굴, 넘, 건조, 해서, 뱅, 기타, 기전, 에, 면...  \n",
       "32                                           [그냥, 물임]  \n",
       "33                      [향, 이, 남자, 화장품, 냄새, 딱, 그건, 데]  \n",
       "34  [거짓, 된, 양, 내, 구성, 부족, 제품, 을, 만족, 시키지, 못, 하는, 부...  "
      ]
     },
     "execution_count": 28,
     "metadata": {},
     "output_type": "execute_result"
    }
   ],
   "source": [
    "rew.loc[rew['rate'] == 'worst'][['rew_pre','morphs']].reset_index().iloc[30:35,]"
   ]
  },
  {
   "cell_type": "code",
   "execution_count": 29,
   "metadata": {
    "ExecuteTime": {
     "end_time": "2019-12-26T01:02:01.003246Z",
     "start_time": "2019-12-26T01:02:00.998222Z"
    }
   },
   "outputs": [
    {
     "data": {
      "text/plain": [
       "[('시원', 'Noun'), ('함', 'Noun')]"
      ]
     },
     "execution_count": 29,
     "metadata": {},
     "output_type": "execute_result"
    }
   ],
   "source": [
    "t.pos('시원함') # 원함까지함"
   ]
  },
  {
   "cell_type": "code",
   "execution_count": 30,
   "metadata": {
    "ExecuteTime": {
     "end_time": "2019-12-26T01:02:01.440040Z",
     "start_time": "2019-12-26T01:02:01.435054Z"
    }
   },
   "outputs": [
    {
     "name": "stdout",
     "output_type": "stream",
     "text": [
      "['비오템', '입', '문하', '자마자', '떠나게', '한', '제품', '피부', '에', '신경안', '쓰던', '적', '에', '올인원', '제품', '하나', '만', '겨울', '에', '바를']\n"
     ]
    }
   ],
   "source": [
    "print(result_worst[:20])"
   ]
  },
  {
   "cell_type": "markdown",
   "metadata": {},
   "source": [
    "# 띄어쓰기 수정"
   ]
  },
  {
   "cell_type": "code",
   "execution_count": 33,
   "metadata": {},
   "outputs": [],
   "source": [
    "def find_word_idx(word):\n",
    "    cnt = 0\n",
    "    cnt_l1 = []\n",
    "    for i in rew['morphs']:\n",
    "        if word in i:\n",
    "            cnt_l1.append(cnt)\n",
    "        cnt += 1\n",
    "    return cnt_l1"
   ]
  },
  {
   "cell_type": "code",
   "execution_count": 34,
   "metadata": {
    "ExecuteTime": {
     "end_time": "2019-12-26T01:02:02.210979Z",
     "start_time": "2019-12-26T01:02:02.204001Z"
    }
   },
   "outputs": [],
   "source": [
    "rew['rew_pre'][132] = '비오템 입문 하자마자 떠나게 한 제품 피부에 신경안쓰던적에 올인원 제품 하나만 겨울에 바를만큼 무신경했는데 요 라인은 참을수 없이 건조했다 '\n",
    "rew['rew_pre'][2435] = '최악중최악 바르면 얼굴따갑고 아침엔트러블로가득찬 내얼굴 한번쯤 여드름쟁이가 되고 싶다면 추천 하는 크림'\n",
    "rew['rew_pre'][2818]= '내가 흑우인지 괜히 면도세안 한꺼번에 되는 폼이라길래 구매했다가 제대로 돈날린 제품 쫀쫀이고 쫀득이고 간에 일단 샤워하면서는 절대 쓸수 없었다 어찌된 영문인지 물에 상당히 약해서 얼굴이 세면후 상태로 촉촉하면 죄다 녹아 내려서 폼이 오일로 바뀌는 매직을 겪게된다 샤워 전 최저한의 수분으로 거품유지하며 씻는 스트레스에 매번 조절 실패해서 제품낭비 돈낭비 제대로 한 역대급 최악 클랜징 제품 지금은 차세안 하기위해서 그냥 세안 전 한번 사용해주고 전용 클랜징폼은 따로 쓴다 오히려 면도크림 용으로만 나왔었어도 평균은 가지 않았을까 하는 느낌 상당히 화한 느낌으로 트러블 없이 면도가 가능하긴 한데 이걸 면도크림만으로 쓰기엔 가격면에서 상당히 그냥 따로 면도할렵니다 '\n",
    "rew['rew_pre'][2822] = '내 인생 최고의 똥템'\n",
    "rew['rew_pre'][147] = '원래 sk 를 사용하다가 갈아탔는데 순한거같기는 하나 그렇게 피부가 좋아지는데 도움을 주는거는 크게 못느꼈어요 무난한 사용감 이긴해요'\n",
    "# 무난\n",
    "rew['rew_pre'].iloc[find_word_idx('난하')] = rew['rew_pre'].iloc[find_word_idx('난하')].map(lambda x: str(x).replace('무난하게','무난 하게'))"
   ]
  },
  {
   "cell_type": "code",
   "execution_count": null,
   "metadata": {
    "ExecuteTime": {
     "end_time": "2019-12-26T01:02:02.735575Z",
     "start_time": "2019-12-26T01:02:02.716625Z"
    }
   },
   "outputs": [],
   "source": [
    "#print('내', '가', '흑우', '인지', '괜히', '면도', '세안', '한꺼', '번', '에', '되는', '폼', '이라', '길래', '구매', '했', '다가', '제대로', '돈', '날린', '제품', '쫀쫀', '이고', '쫀득', '이고', '간', '에', '일단', '샤워', '하', '면서', '는', '절대', '쓸수', '없었다', '어찌', '된', '영문', '인지', '물', '에', '상당', '히', '약', '해서', '얼굴', '세면', '후', '상태', '로', '촉촉하면', '죄다', '녹', '아내', '려', '서', '폼', '오일', '로', '바뀌는', '매직', '을', '겪게', '된다', '샤워', '전', '최저', '한', '의', '수분', '으로', '거품', '유지', '하며', '씻는', '스트레스', '에', '매번', '조절', '실패', '해서', '제품', '낭비', '돈', '낭비', '제대로', '한', '역대', '급', '최악', '클랜', '징', '제품', '지금', '은', '차', '세안', '하기', '위해', '서', '그냥', '세안', '전', '한번', '사용', '해주', '전용', '클랜', '징폼', '은', '따로', '쓴다', '오히려', '면도', '크림', '용으', '로만', '나왔었', '어도', '평균', '은', '가지', '않았을까', '하는', '느낌', '상당', '히', '화한', '느낌', '으로', '트러블', '없이', '면도', '가', '가능', '하긴', '한데', '걸', '면도', '크림', '만으로', '엔', '가격', '면', '에서', '상당', '히', '그냥', '따로', '면도', '할렵니', '다')"
   ]
  },
  {
   "cell_type": "code",
   "execution_count": 35,
   "metadata": {
    "ExecuteTime": {
     "end_time": "2019-12-26T01:02:03.132513Z",
     "start_time": "2019-12-26T01:02:03.128523Z"
    }
   },
   "outputs": [
    {
     "data": {
      "text/plain": [
       "'이거 쓰고 피부 다 뒤집어졌던 기억이 나네요 단순히 여드름이나 트러블이 났던게 아니라 턱쪽 전체에 피부염 같은게 났더래서 고생 좀 했었습니다 지금 생각해보니 바를 때 시원함을 넘어서 화한 기분이 들던게 느낌부터 싸했던거 같군요 매우 비추입니다 가격도 ml에 원이라니 차라리 그 돈으로 우유 ml 개 사서 얼굴에 부비겠습니다 길바닥 개미들에게 사탕이나 젤리 사서 나눠주는게 차라리 돈 덜 아까울 것 같습니다 원 주고 이거 써서 피부병 걸린 후에 피부과 다니느라 만원도 더 썼었네요 아무튼 매우 비추 '"
      ]
     },
     "execution_count": 35,
     "metadata": {},
     "output_type": "execute_result"
    }
   ],
   "source": [
    "rew['rew_pre'][3130]"
   ]
  },
  {
   "cell_type": "markdown",
   "metadata": {},
   "source": [
    "# 사전추가"
   ]
  },
  {
   "cell_type": "code",
   "execution_count": 36,
   "metadata": {
    "ExecuteTime": {
     "end_time": "2019-12-26T01:27:20.529248Z",
     "start_time": "2019-12-26T01:27:20.519273Z"
    }
   },
   "outputs": [],
   "source": [
    "t.add_dictionary('잔고통', 'Noun')\n",
    "t.add_dictionary('유분기', 'Noun')\n",
    "t.add_dictionary('남성미', 'Noun')\n",
    "t.add_dictionary('한꺼번에','Adverb')\n",
    "t.add_dictionary('클랜징', 'Noun')\n",
    "t.add_dictionary('쉐이빙폼', 'Noun')\n",
    "t.add_dictionary('시원함', 'Noun')\n",
    "t.add_dictionary('끈적', 'Noun')\n",
    "t.add_dictionary('유분', 'Noun')\n",
    "t.add_dictionary('인생템', 'Noun')\n",
    "t.add_dictionary('전체적', 'Noun')\n",
    "t.add_dictionary('번들', 'Noun')\n",
    "t.add_dictionary('사용감', 'Noun')\n",
    "# 화장품을 사용목적이나 용도에 맞게 형태를 만드는것을 제형\n",
    "t.add_dictionary('제형', 'Noun')\n",
    "t.add_dictionary('세일', 'Noun')\n",
    "t.add_dictionary('세정', 'Noun')\n",
    "t.add_dictionary('보들', 'Noun')"
   ]
  },
  {
   "cell_type": "markdown",
   "metadata": {},
   "source": [
    "- 명사, 명사로 나눠지는 경우 [ex) 전체적 > 전(명사) 체적(명사)] 그 단어를 명사로 추가해줘야 단어가 추가됨"
   ]
  },
  {
   "cell_type": "code",
   "execution_count": 37,
   "metadata": {
    "ExecuteTime": {
     "end_time": "2019-12-26T01:02:04.557703Z",
     "start_time": "2019-12-26T01:02:04.551753Z"
    }
   },
   "outputs": [
    {
     "data": {
      "text/plain": [
       "[('Adjective',),\n",
       " ('Adverb',),\n",
       " ('Conjunction',),\n",
       " ('Exclamation',),\n",
       " ('KoreanParticle',),\n",
       " ('Noun',),\n",
       " ('Verb',),\n",
       " ('Noun', 'Noun'),\n",
       " ('Noun', 'Josa'),\n",
       " ('Noun', 'Adjective'),\n",
       " ('Noun', 'Verb'),\n",
       " ('Modifier', 'Noun'),\n",
       " ('Noun', 'Noun', 'Adjective'),\n",
       " ('Noun', 'Noun', 'Josa'),\n",
       " ('Noun', 'Noun', 'Verb'),\n",
       " ('Modifier', 'Noun', 'Josa'),\n",
       " ('Josa',)]"
      ]
     },
     "execution_count": 37,
     "metadata": {},
     "output_type": "execute_result"
    }
   ],
   "source": [
    "t.template_tagger.templates"
   ]
  },
  {
   "cell_type": "markdown",
   "metadata": {
    "ExecuteTime": {
     "end_time": "2019-12-23T03:00:56.749907Z",
     "start_time": "2019-12-23T03:00:56.744261Z"
    }
   },
   "source": [
    "# 추가 전처리(~ing)"
   ]
  },
  {
   "cell_type": "code",
   "execution_count": 38,
   "metadata": {
    "ExecuteTime": {
     "end_time": "2019-12-26T01:02:05.491204Z",
     "start_time": "2019-12-26T01:02:05.467270Z"
    }
   },
   "outputs": [
    {
     "data": {
      "text/plain": [
       "제품        1113\n",
       "향         1021\n",
       "거          870\n",
       "어요         813\n",
       "피부         796\n",
       "것          660\n",
       "사용         646\n",
       "선물         610\n",
       "단          598\n",
       "평가         576\n",
       "남자         541\n",
       "느낌         486\n",
       "남자친구       479\n",
       "때          476\n",
       "리뷰         441\n",
       "냄새         431\n",
       "이          393\n",
       "아빠         380\n",
       "어서         361\n",
       "남친         338\n",
       "좀          323\n",
       "저          309\n",
       "가격         291\n",
       "남성         285\n",
       "스킨         282\n",
       "제          276\n",
       "그냥         266\n",
       "요          258\n",
       "얼굴         251\n",
       "더          235\n",
       "진짜         232\n",
       "고          231\n",
       "끈          231\n",
       "로션         228\n",
       "올인원        220\n",
       "화장품        217\n",
       "쓰기         214\n",
       "데          206\n",
       "머리         205\n",
       "생각         203\n",
       "크림         195\n",
       "안          193\n",
       "구매         192\n",
       "분          192\n",
       "발라         191\n",
       "정말         190\n",
       "다른         189\n",
       "그          188\n",
       "남편         188\n",
       "다가         186\n",
       "정도         184\n",
       "용          178\n",
       "후          178\n",
       "하나         178\n",
       "무난         176\n",
       "추천         176\n",
       "트러블        175\n",
       "중          175\n",
       "아하         174\n",
       "함          174\n",
       "듯          172\n",
       "별로         169\n",
       "지성         165\n",
       "면서         164\n",
       "수          163\n",
       "일단         163\n",
       "건조         160\n",
       "한번         159\n",
       "조금         156\n",
       "걸          155\n",
       "촉촉         155\n",
       "편          145\n",
       "효과         144\n",
       "전          143\n",
       "감          143\n",
       "개          141\n",
       "번          140\n",
       "만족         140\n",
       "사          139\n",
       "뭐          138\n",
       "형          137\n",
       "시원         135\n",
       "수분         132\n",
       "유          131\n",
       "당첨         130\n",
       "나          130\n",
       "처음         129\n",
       "이나         127\n",
       "오빠         126\n",
       "자연         126\n",
       "흡수         126\n",
       "면도         126\n",
       "약간         125\n",
       "건성         124\n",
       "성분         123\n",
       "보고         121\n",
       "거품         121\n",
       "커버         120\n",
       "이건         118\n",
       "선크림        118\n",
       "내          118\n",
       "비비         118\n",
       "까지         115\n",
       "성          114\n",
       "여름         112\n",
       "편이         112\n",
       "토너         110\n",
       "왁스         110\n",
       "사람         108\n",
       "보습         108\n",
       "타입         107\n",
       "아주         103\n",
       "고정력        102\n",
       "쉐          102\n",
       "사드         101\n",
       "적          100\n",
       "젤          100\n",
       "발림         100\n",
       "점           99\n",
       "더니          99\n",
       "완전          99\n",
       "이지          99\n",
       "동생          99\n",
       "민감          96\n",
       "여자          96\n",
       "적당          96\n",
       "기름          96\n",
       "게           96\n",
       "안나          95\n",
       "겨울          95\n",
       "스프레이        95\n",
       "라서          94\n",
       "자극          93\n",
       "거나          93\n",
       "지도          92\n",
       "세           92\n",
       "처럼          92\n",
       "후기          91\n",
       "보           90\n",
       "도           90\n",
       "이빙          89\n",
       "고요          89\n",
       "말           89\n",
       "일           87\n",
       "지금          86\n",
       "무           86\n",
       "원래          85\n",
       "확실          84\n",
       "임           84\n",
       "날           84\n",
       "톤           84\n",
       "손           82\n",
       "신랑          82\n",
       "려고          81\n",
       "에센스         81\n",
       "여드름         80\n",
       "쓰시          80\n",
       "순           80\n",
       "아무          80\n",
       "거리          79\n",
       "뿌리          79\n",
       "고정          79\n",
       "건           78\n",
       "템           78\n",
       "때문          77\n",
       "남동생         76\n",
       "사서          76\n",
       "폼           75\n",
       "수분크림        75\n",
       "바로          75\n",
       "적임          75\n",
       "자           74\n",
       "난하          74\n",
       "은           74\n",
       "래서          74\n",
       "해           73\n",
       "거의          73\n",
       "세트          73\n",
       "샴푸          73\n",
       "해지          73\n",
       "군대          72\n",
       "력도          72\n",
       "스킨로션        72\n",
       "화장          72\n",
       "비           72\n",
       "재           71\n",
       "물           71\n",
       "살짝          71\n",
       "해주          70\n",
       "력           70\n",
       "오래          69\n",
       "제일          68\n",
       "년           67\n",
       "아버지         66\n",
       "친구          66\n",
       "가지          65\n",
       "각질          65\n",
       "기능          65\n",
       "라인          64\n",
       "통           64\n",
       "막           64\n",
       "세안          64\n",
       "양           63\n",
       "하니          63\n",
       "렸는데         63\n",
       "시           62\n",
       "계속          61\n",
       "시간          60\n",
       "대요          60\n",
       "간편          59\n",
       "두피          59\n",
       "남           59\n",
       "매우          59\n",
       "발리          58\n",
       "맘           57\n",
       "용기          57\n",
       "가장          57\n",
       "저렴          57\n",
       "또           57\n",
       "지고          56\n",
       "부담          56\n",
       "덜           56\n",
       "티           55\n",
       "만큼          55\n",
       "지속          55\n",
       "만           55\n",
       "기           55\n",
       "항상          54\n",
       "기도          54\n",
       "구           54\n",
       "부터          54\n",
       "다만          54\n",
       "무엇          53\n",
       "마음          53\n",
       "용량          53\n",
       "기분          53\n",
       "디자인         52\n",
       "지성인         52\n",
       "아침          52\n",
       "꽤           52\n",
       "전혀          52\n",
       "인적          51\n",
       "구입          51\n",
       "극적          51\n",
       "자체          51\n",
       "정력          51\n",
       "케어          50\n",
       "단점          50\n",
       "대비          50\n",
       "여러          50\n",
       "          ... \n",
       "엑스티엠         1\n",
       "릴까           1\n",
       "애교           1\n",
       "슝슝           1\n",
       "떰섭           1\n",
       "의치           1\n",
       "흙            1\n",
       "호갱           1\n",
       "묘            1\n",
       "양감           1\n",
       "버거           1\n",
       "걸사           1\n",
       "평가원          1\n",
       "우수수          1\n",
       "추억           1\n",
       "닷            1\n",
       "오지랖          1\n",
       "건물           1\n",
       "해뵜늗데         1\n",
       "선뮬해          1\n",
       "가주           1\n",
       "완성           1\n",
       "자신감          1\n",
       "지보           1\n",
       "쇼핑           1\n",
       "하위           1\n",
       "성향           1\n",
       "샤워실          1\n",
       "달걀           1\n",
       "고수           1\n",
       "치먄           1\n",
       "화농           1\n",
       "릭            1\n",
       "껄꺼롭길         1\n",
       "시지           1\n",
       "턱수염          1\n",
       "아이유          1\n",
       "유리아          1\n",
       "실내           1\n",
       "피니쉬          1\n",
       "간간           1\n",
       "얼씬           1\n",
       "정작           1\n",
       "써봣습니         1\n",
       "력좋아          1\n",
       "아시           1\n",
       "심각           1\n",
       "치약           1\n",
       "꽝            1\n",
       "메포           1\n",
       "컬셋팅          1\n",
       "청상           1\n",
       "진가           1\n",
       "안넘           1\n",
       "쉐이프          1\n",
       "밤샘           1\n",
       "분분           1\n",
       "과감           1\n",
       "쑥            1\n",
       "만세           1\n",
       "쉬이           1\n",
       "어딧나          1\n",
       "황토           1\n",
       "초보           1\n",
       "헤어쇼          1\n",
       "이삼만          1\n",
       "안됫           1\n",
       "해조           1\n",
       "산물           1\n",
       "입소           1\n",
       "중학생          1\n",
       "쿨톤           1\n",
       "춘해           1\n",
       "바이           1\n",
       "젠틀           1\n",
       "무용지물         1\n",
       "수프림          1\n",
       "격렬           1\n",
       "효능           1\n",
       "왓을때          1\n",
       "줫었           1\n",
       "수킨           1\n",
       "권유           1\n",
       "금전           1\n",
       "왜냐면          1\n",
       "무비           1\n",
       "코파           1\n",
       "여주시          1\n",
       "향동           1\n",
       "왕뾰           1\n",
       "애애           1\n",
       "볼드           1\n",
       "명가           1\n",
       "륭            1\n",
       "머릿털          1\n",
       "쨍            1\n",
       "찜질방          1\n",
       "쫀득쫀득하        1\n",
       "함보           1\n",
       "마법           1\n",
       "적톤           1\n",
       "연합           1\n",
       "발랏을때         1\n",
       "개츠비          1\n",
       "만화           1\n",
       "일간           1\n",
       "허심           1\n",
       "김승연          1\n",
       "율            1\n",
       "이불           1\n",
       "미국           1\n",
       "올여름          1\n",
       "모리           1\n",
       "카라           1\n",
       "어럽겠          1\n",
       "곰돌이          1\n",
       "방울           1\n",
       "군데           1\n",
       "드라잉          1\n",
       "헤맷           1\n",
       "글리세린         1\n",
       "자외선차단제       1\n",
       "페어           1\n",
       "대행           1\n",
       "손실           1\n",
       "친히           1\n",
       "문            1\n",
       "흐름           1\n",
       "트러븖          1\n",
       "각도           1\n",
       "맥스           1\n",
       "염위           1\n",
       "범범           1\n",
       "행보           1\n",
       "오신           1\n",
       "토업           1\n",
       "도착           1\n",
       "하거느          1\n",
       "특정           1\n",
       "솔솔           1\n",
       "산뜻햐          1\n",
       "겔            1\n",
       "증발           1\n",
       "맘씨           1\n",
       "입시           1\n",
       "르겠음          1\n",
       "모습           1\n",
       "잇츠           1\n",
       "토스           1\n",
       "유난           1\n",
       "자아           1\n",
       "능이           1\n",
       "맨라           1\n",
       "퉁퉁           1\n",
       "워주           1\n",
       "허리           1\n",
       "줄때           1\n",
       "괜츈했음         1\n",
       "썪히           1\n",
       "필자           1\n",
       "과연           1\n",
       "선임           1\n",
       "유향           1\n",
       "소품           1\n",
       "모히칸          1\n",
       "대상           1\n",
       "산지           1\n",
       "기조           1\n",
       "악평           1\n",
       "이합           1\n",
       "유튜브          1\n",
       "둥굴둥굴         1\n",
       "사봣           1\n",
       "마네           1\n",
       "비타           1\n",
       "마이너스         1\n",
       "콘            1\n",
       "영문           1\n",
       "맘함           1\n",
       "질렛           1\n",
       "한남           1\n",
       "수액           1\n",
       "놉            1\n",
       "마무           1\n",
       "보타           1\n",
       "이제야          1\n",
       "이하이          1\n",
       "형성           1\n",
       "황색           1\n",
       "독촉           1\n",
       "요소           1\n",
       "만년           1\n",
       "십분           1\n",
       "미량           1\n",
       "껏            1\n",
       "보람           1\n",
       "원피스          1\n",
       "슷비슷          1\n",
       "군소리          1\n",
       "절절           1\n",
       "클라인          1\n",
       "이성           1\n",
       "옮            1\n",
       "세팅감          1\n",
       "만만           1\n",
       "룰            1\n",
       "오페라          1\n",
       "그랫냐          1\n",
       "훼이셜          1\n",
       "비만           1\n",
       "환경           1\n",
       "셨구           1\n",
       "예술           1\n",
       "턱드름땜         1\n",
       "물티슈          1\n",
       "진작           1\n",
       "정안           1\n",
       "미지수          1\n",
       "오직           1\n",
       "미미           1\n",
       "짬            1\n",
       "이원           1\n",
       "레벨           1\n",
       "재작년          1\n",
       "아이보리         1\n",
       "무진장          1\n",
       "아뻐           1\n",
       "시슬리          1\n",
       "조건           1\n",
       "적신           1\n",
       "태            1\n",
       "훌륭           1\n",
       "가우           1\n",
       "흑우           1\n",
       "서고           1\n",
       "정신           1\n",
       "바틀           1\n",
       "헌혈           1\n",
       "감기           1\n",
       "부적합          1\n",
       "도모           1\n",
       "학년           1\n",
       "덕임           1\n",
       "헤퍼           1\n",
       "무관           1\n",
       "이이           1\n",
       "군복무          1\n",
       "비누거품         1\n",
       "영세           1\n",
       "소유자          1\n",
       "Name: 0, Length: 5149, dtype: int64"
      ]
     },
     "execution_count": 38,
     "metadata": {},
     "output_type": "execute_result"
    }
   ],
   "source": [
    "rew_n_df.loc[:,0].value_counts()"
   ]
  },
  {
   "cell_type": "code",
   "execution_count": 39,
   "metadata": {
    "ExecuteTime": {
     "end_time": "2019-12-26T01:02:05.950978Z",
     "start_time": "2019-12-26T01:02:05.942997Z"
    }
   },
   "outputs": [],
   "source": [
    "stop_words = ['거','어요','단','것','평가','때','이','리뷰','어서','좀','저','제','요','더','고','진짜','쓰기','생각','입니다','같아요','있','같','써','쓰고','들','그냥','데','안','그','다가','정도','후','용','하나','중','아하','함','듯','면서','수','일단','한번','걸','편','사','뭐','형','유','나','이나','보고','이건','내','까지','성','아주','사드','젤','적','쓰기','때']"
   ]
  },
  {
   "cell_type": "code",
   "execution_count": 40,
   "metadata": {
    "ExecuteTime": {
     "end_time": "2019-12-26T01:02:16.610779Z",
     "start_time": "2019-12-26T01:02:06.363908Z"
    }
   },
   "outputs": [],
   "source": [
    "rew['rew_n'] = rew['rew_pre'].apply(rew_n.pos)"
   ]
  },
  {
   "cell_type": "code",
   "execution_count": 41,
   "metadata": {
    "ExecuteTime": {
     "end_time": "2019-12-26T01:02:19.671276Z",
     "start_time": "2019-12-26T01:02:19.664295Z"
    }
   },
   "outputs": [
    {
     "data": {
      "text/plain": [
       "'아빠 사드렸는데 저아해여'"
      ]
     },
     "execution_count": 41,
     "metadata": {},
     "output_type": "execute_result"
    }
   ],
   "source": [
    "rew['rew_pre'][0]"
   ]
  },
  {
   "cell_type": "code",
   "execution_count": 42,
   "metadata": {
    "ExecuteTime": {
     "end_time": "2019-12-26T01:02:22.636346Z",
     "start_time": "2019-12-26T01:02:22.630411Z"
    }
   },
   "outputs": [
    {
     "data": {
      "text/plain": [
       "[('아빠', 'Noun'),\n",
       " ('사드', 'Noun'),\n",
       " ('렸는데', 'Noun'),\n",
       " ('저', 'Noun'),\n",
       " ('아해', 'Noun')]"
      ]
     },
     "execution_count": 42,
     "metadata": {},
     "output_type": "execute_result"
    }
   ],
   "source": [
    "rew['rew_n'][0]"
   ]
  },
  {
   "cell_type": "code",
   "execution_count": null,
   "metadata": {
    "ExecuteTime": {
     "end_time": "2019-12-26T01:03:51.474760Z",
     "start_time": "2019-12-26T01:03:51.470737Z"
    }
   },
   "outputs": [],
   "source": [
    "#rew['morphs']"
   ]
  },
  {
   "cell_type": "code",
   "execution_count": 43,
   "metadata": {
    "ExecuteTime": {
     "end_time": "2019-12-26T01:02:24.992045Z",
     "start_time": "2019-12-26T01:02:24.986061Z"
    }
   },
   "outputs": [
    {
     "data": {
      "text/plain": [
       "True"
      ]
     },
     "execution_count": 43,
     "metadata": {},
     "output_type": "execute_result"
    }
   ],
   "source": [
    "'향' in rew['morphs'][1]"
   ]
  },
  {
   "cell_type": "code",
   "execution_count": 44,
   "metadata": {
    "ExecuteTime": {
     "end_time": "2019-12-26T01:02:27.885306Z",
     "start_time": "2019-12-26T01:02:27.879394Z"
    }
   },
   "outputs": [],
   "source": [
    "def find_word_idx(word):\n",
    "    cnt = 0\n",
    "    cnt_l1 = []\n",
    "    for i in rew['morphs']:\n",
    "        if word in i:\n",
    "            cnt_l1.append(cnt)\n",
    "        cnt += 1\n",
    "    return cnt_l1"
   ]
  },
  {
   "cell_type": "code",
   "execution_count": 45,
   "metadata": {
    "scrolled": true
   },
   "outputs": [
    {
     "data": {
      "text/plain": [
       "'일단 향이별로입니다 요즘그다지 선호하지않을 조금 자극적인향입니다 그리고 보습력도 그다지 '"
      ]
     },
     "execution_count": 45,
     "metadata": {},
     "output_type": "execute_result"
    }
   ],
   "source": [
    "rew['rew_pre'].iloc[find_word_idx('자')].iloc[19]"
   ]
  },
  {
   "cell_type": "code",
   "execution_count": null,
   "metadata": {},
   "outputs": [],
   "source": [
    "#rew['rew_pre'][147] = '원래 sk 를 사용하다가 갈아탔는데 순한거같기는 하나 그렇게 피부가 좋아지는데 도움을 주는거는 크게 못느꼈어요 무난한 사용감 이긴해요'"
   ]
  },
  {
   "cell_type": "code",
   "execution_count": null,
   "metadata": {
    "ExecuteTime": {
     "end_time": "2019-12-26T01:23:35.516101Z",
     "start_time": "2019-12-26T01:23:35.505167Z"
    }
   },
   "outputs": [],
   "source": [
    "#rew['rew_pre'].iloc[find_word_idx('감')].iloc[15]"
   ]
  },
  {
   "cell_type": "code",
   "execution_count": 46,
   "metadata": {
    "ExecuteTime": {
     "end_time": "2019-12-26T01:32:01.426946Z",
     "start_time": "2019-12-26T01:32:01.420972Z"
    }
   },
   "outputs": [
    {
     "data": {
      "text/plain": [
       "[('자', 'Noun'),\n",
       " ('극적', 'Noun'),\n",
       " ('인', 'Josa'),\n",
       " ('향', 'Noun'),\n",
       " ('입니다', 'Adjective')]"
      ]
     },
     "execution_count": 46,
     "metadata": {},
     "output_type": "execute_result"
    }
   ],
   "source": [
    "t.pos('자극적인향입니다')"
   ]
  },
  {
   "cell_type": "code",
   "execution_count": null,
   "metadata": {},
   "outputs": [],
   "source": [
    "#t.add_dictionary('그래서', 'Con',force=True)"
   ]
  },
  {
   "cell_type": "code",
   "execution_count": null,
   "metadata": {
    "ExecuteTime": {
     "end_time": "2019-12-26T01:13:32.748357Z",
     "start_time": "2019-12-26T01:13:32.744368Z"
    }
   },
   "outputs": [],
   "source": [
    "#stop_words = ['거','어요','단','것','평가','때','이','리뷰','어서','좀','저','제','요','더','고','진짜','쓰기','생각','입니다','같아요','있','같','써','쓰고','들','그냥','데','그','다가','정도','후','용','하나','중','아하','함','듯','면서','수','일단','한번','걸','편','사','뭐','형','유','나','이나','보고','이건','내','까지','성','아주','사드','젤','적','쓰기','분','어서','편','뭐','나','이나','보고','이건','내','까지','성','임']"
   ]
  },
  {
   "cell_type": "code",
   "execution_count": null,
   "metadata": {},
   "outputs": [],
   "source": [
    "#############33"
   ]
  },
  {
   "cell_type": "markdown",
   "metadata": {},
   "source": [
    "# 띄어쓰기 모델"
   ]
  },
  {
   "cell_type": "code",
   "execution_count": 50,
   "metadata": {},
   "outputs": [],
   "source": [
    "from soyspacing.countbase import CountSpace"
   ]
  },
  {
   "cell_type": "code",
   "execution_count": 51,
   "metadata": {},
   "outputs": [],
   "source": [
    "model_fname = 'C:/Users/jhlee/OneDrive/home/processed/processed/space-correct.model'"
   ]
  },
  {
   "cell_type": "code",
   "execution_count": 52,
   "metadata": {},
   "outputs": [],
   "source": [
    "model = CountSpace()"
   ]
  },
  {
   "cell_type": "code",
   "execution_count": 53,
   "metadata": {},
   "outputs": [],
   "source": [
    "model.load_model(model_fname, json_format = False)"
   ]
  },
  {
   "cell_type": "code",
   "execution_count": 54,
   "metadata": {},
   "outputs": [
    {
     "data": {
      "text/plain": [
       "('일단 향이별로입니다 요즘그다지 선호하지 않을 조금 자극적인향입니다 그리고 보습력도 그다지',\n",
       " [None,\n",
       "  1,\n",
       "  None,\n",
       "  None,\n",
       "  0,\n",
       "  None,\n",
       "  None,\n",
       "  0,\n",
       "  1,\n",
       "  None,\n",
       "  None,\n",
       "  None,\n",
       "  0,\n",
       "  1,\n",
       "  None,\n",
       "  None,\n",
       "  None,\n",
       "  1,\n",
       "  0,\n",
       "  1,\n",
       "  0,\n",
       "  1,\n",
       "  None,\n",
       "  0,\n",
       "  0,\n",
       "  None,\n",
       "  None,\n",
       "  None,\n",
       "  0,\n",
       "  1,\n",
       "  0,\n",
       "  0,\n",
       "  1,\n",
       "  None,\n",
       "  None,\n",
       "  None,\n",
       "  1,\n",
       "  0,\n",
       "  0,\n",
       "  1])"
      ]
     },
     "execution_count": 54,
     "metadata": {},
     "output_type": "execute_result"
    }
   ],
   "source": [
    "model.correct('일단 향이별로입니다 요즘그다지 선호하지않을 조금 자극적인향입니다 그리고 보습력도 그다지 ')"
   ]
  }
 ],
 "metadata": {
  "hide_input": false,
  "kernelspec": {
   "display_name": "Python 3",
   "language": "python",
   "name": "python3"
  },
  "language_info": {
   "codemirror_mode": {
    "name": "ipython",
    "version": 3
   },
   "file_extension": ".py",
   "mimetype": "text/x-python",
   "name": "python",
   "nbconvert_exporter": "python",
   "pygments_lexer": "ipython3",
   "version": "3.7.3"
  },
  "toc": {
   "base_numbering": 1,
   "nav_menu": {},
   "number_sections": true,
   "sideBar": true,
   "skip_h1_title": false,
   "title_cell": "Table of Contents",
   "title_sidebar": "Contents",
   "toc_cell": false,
   "toc_position": {
    "height": "calc(100% - 180px)",
    "left": "10px",
    "top": "150px",
    "width": "177px"
   },
   "toc_section_display": true,
   "toc_window_display": false
  },
  "varInspector": {
   "cols": {
    "lenName": 16,
    "lenType": 16,
    "lenVar": 40
   },
   "kernels_config": {
    "python": {
     "delete_cmd_postfix": "",
     "delete_cmd_prefix": "del ",
     "library": "var_list.py",
     "varRefreshCmd": "print(var_dic_list())"
    },
    "r": {
     "delete_cmd_postfix": ") ",
     "delete_cmd_prefix": "rm(",
     "library": "var_list.r",
     "varRefreshCmd": "cat(var_dic_list()) "
    }
   },
   "types_to_exclude": [
    "module",
    "function",
    "builtin_function_or_method",
    "instance",
    "_Feature"
   ],
   "window_display": false
  }
 },
 "nbformat": 4,
 "nbformat_minor": 2
}
