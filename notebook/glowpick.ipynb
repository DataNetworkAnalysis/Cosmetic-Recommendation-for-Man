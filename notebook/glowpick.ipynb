{
 "cells": [
  {
   "cell_type": "code",
   "execution_count": 35,
   "metadata": {
    "ExecuteTime": {
     "end_time": "2019-12-23T02:34:28.470514Z",
     "start_time": "2019-12-23T02:34:28.014953Z"
    }
   },
   "outputs": [],
   "source": [
    "import numpy as np\n",
    "import pandas as pd\n",
    "import matplotlib.pyplot as plt\n",
    "import matplotlib\n",
    "import seaborn as sns\n",
    "from matplotlib import font_manager, rc\n",
    "%matplotlib inline\n",
    "font_name = font_manager.FontProperties(fname=\"c:/Windows/Fonts/malgun.ttf\").get_name()\n",
    "rc('font', family=font_name)\n",
    "import warnings\n",
    "warnings.filterwarnings('ignore')\n",
    "\n",
    "from ckonlpy.tag import Twitter; t= Twitter()\n",
    "from ckonlpy.tag import Postprocessor\n",
    "import nltk\n",
    "from nltk.corpus import stopwords\n",
    "from nltk.tokenize import word_tokenize\n",
    "import re\n",
    "\n",
    "pd.set_option('display.max_rows', 500)\n",
    "pd.set_option('display.max_columns', 500)"
   ]
  },
  {
   "cell_type": "markdown",
   "metadata": {},
   "source": [
    "# 데이터 불러오기"
   ]
  },
  {
   "cell_type": "code",
   "execution_count": 2,
   "metadata": {
    "ExecuteTime": {
     "end_time": "2019-12-23T02:24:35.368570Z",
     "start_time": "2019-12-23T02:24:35.302376Z"
    }
   },
   "outputs": [],
   "source": [
    "#o_prod = pd.read_csv('../dataset/oliveyoung_product_info.csv')\n",
    "rew = pd.read_csv('../dataset/glowpick_reviews.csv')\n",
    "#g_prod = pd.read_csv('../dataset/glowpick_products.csv')"
   ]
  },
  {
   "cell_type": "markdown",
   "metadata": {},
   "source": [
    "# 데이터 확인"
   ]
  },
  {
   "cell_type": "code",
   "execution_count": 3,
   "metadata": {
    "ExecuteTime": {
     "end_time": "2019-12-23T02:24:36.830497Z",
     "start_time": "2019-12-23T02:24:36.785745Z"
    }
   },
   "outputs": [
    {
     "name": "stdout",
     "output_type": "stream",
     "text": [
      "shape: (5125, 7)\n",
      "\n",
      "#### 결측치 갯수 ####\n",
      "\n",
      "date             0\n",
      "user_id          0\n",
      "sex              0\n",
      "age_skin_type    0\n",
      "rate             0\n",
      "content          1\n",
      "product_url      0\n",
      "dtype: int64\n"
     ]
    },
    {
     "data": {
      "text/html": [
       "<div>\n",
       "<style scoped>\n",
       "    .dataframe tbody tr th:only-of-type {\n",
       "        vertical-align: middle;\n",
       "    }\n",
       "\n",
       "    .dataframe tbody tr th {\n",
       "        vertical-align: top;\n",
       "    }\n",
       "\n",
       "    .dataframe thead th {\n",
       "        text-align: right;\n",
       "    }\n",
       "</style>\n",
       "<table border=\"1\" class=\"dataframe\">\n",
       "  <thead>\n",
       "    <tr style=\"text-align: right;\">\n",
       "      <th></th>\n",
       "      <th>date</th>\n",
       "      <th>user_id</th>\n",
       "      <th>sex</th>\n",
       "      <th>age_skin_type</th>\n",
       "      <th>rate</th>\n",
       "      <th>content</th>\n",
       "      <th>product_url</th>\n",
       "    </tr>\n",
       "  </thead>\n",
       "  <tbody>\n",
       "    <tr>\n",
       "      <th>0</th>\n",
       "      <td>28일 전</td>\n",
       "      <td>minseo6666</td>\n",
       "      <td>f</td>\n",
       "      <td>16세 · 복합성 ·</td>\n",
       "      <td>good</td>\n",
       "      <td>아빠 사드렸는데 저아해여</td>\n",
       "      <td>/product/7212</td>\n",
       "    </tr>\n",
       "    <tr>\n",
       "      <th>1</th>\n",
       "      <td>2개월 전</td>\n",
       "      <td>피부에관심있는남자</td>\n",
       "      <td>m</td>\n",
       "      <td>20세 · 복합성 ·</td>\n",
       "      <td>good</td>\n",
       "      <td>향이 좋아요 근데 좀 제 피부가 민감해서</td>\n",
       "      <td>/product/7212</td>\n",
       "    </tr>\n",
       "    <tr>\n",
       "      <th>2</th>\n",
       "      <td>3개월 전</td>\n",
       "      <td>타라타라</td>\n",
       "      <td>f</td>\n",
       "      <td>23세 · 복합성 ·</td>\n",
       "      <td>good</td>\n",
       "      <td>가격이 저렴하고 냄새가 안 쎄서 좋아요. 👍</td>\n",
       "      <td>/product/7212</td>\n",
       "    </tr>\n",
       "    <tr>\n",
       "      <th>3</th>\n",
       "      <td>4개월 전</td>\n",
       "      <td>흐시너</td>\n",
       "      <td>f</td>\n",
       "      <td>18세 · 복합성 ·</td>\n",
       "      <td>good</td>\n",
       "      <td>선물용으로 사서 선물했는데 나름 만족했는지 매일 바른다네요;</td>\n",
       "      <td>/product/7212</td>\n",
       "    </tr>\n",
       "    <tr>\n",
       "      <th>4</th>\n",
       "      <td>4개월 전</td>\n",
       "      <td>홍끼루</td>\n",
       "      <td>f</td>\n",
       "      <td>32세 · 복합성 ·</td>\n",
       "      <td>good</td>\n",
       "      <td>향이 청량해서 좋아요.</td>\n",
       "      <td>/product/7212</td>\n",
       "    </tr>\n",
       "  </tbody>\n",
       "</table>\n",
       "</div>"
      ],
      "text/plain": [
       "    date     user_id sex age_skin_type  rate  \\\n",
       "0  28일 전  minseo6666   f   16세 · 복합성 ·  good   \n",
       "1  2개월 전   피부에관심있는남자   m   20세 · 복합성 ·  good   \n",
       "2  3개월 전        타라타라   f   23세 · 복합성 ·  good   \n",
       "3  4개월 전         흐시너   f   18세 · 복합성 ·  good   \n",
       "4  4개월 전         홍끼루   f   32세 · 복합성 ·  good   \n",
       "\n",
       "                             content    product_url  \n",
       "0                      아빠 사드렸는데 저아해여  /product/7212  \n",
       "1             향이 좋아요 근데 좀 제 피부가 민감해서  /product/7212  \n",
       "2           가격이 저렴하고 냄새가 안 쎄서 좋아요. 👍  /product/7212  \n",
       "3  선물용으로 사서 선물했는데 나름 만족했는지 매일 바른다네요;  /product/7212  \n",
       "4                       향이 청량해서 좋아요.  /product/7212  "
      ]
     },
     "execution_count": 3,
     "metadata": {},
     "output_type": "execute_result"
    }
   ],
   "source": [
    "print('shape:',rew.shape)\n",
    "print('\\n#### 결측치 갯수 ####\\n')\n",
    "print(rew.isnull().sum())\n",
    "rew.head()"
   ]
  },
  {
   "cell_type": "markdown",
   "metadata": {},
   "source": [
    "- 나이와 피부타입이 합쳐져있다. 따로 분리가 필요하다.\n",
    "- content 속성에 결측치가 있다 처리가 필요하다."
   ]
  },
  {
   "cell_type": "markdown",
   "metadata": {},
   "source": [
    "# 전처리"
   ]
  },
  {
   "cell_type": "code",
   "execution_count": 4,
   "metadata": {
    "ExecuteTime": {
     "end_time": "2019-12-23T02:24:39.067933Z",
     "start_time": "2019-12-23T02:24:38.998071Z"
    }
   },
   "outputs": [],
   "source": [
    "np.array([i.split('·') for i in rew['age_skin_type']])[:,0]\n",
    "rew['age']= np.array([i.split('·') for i in rew['age_skin_type']])[:,0]\n",
    "rew['skin_type']= np.array([i.split('·') for i in rew['age_skin_type']])[:,1]"
   ]
  },
  {
   "cell_type": "code",
   "execution_count": 5,
   "metadata": {
    "ExecuteTime": {
     "end_time": "2019-12-23T02:24:39.529242Z",
     "start_time": "2019-12-23T02:24:39.521295Z"
    }
   },
   "outputs": [],
   "source": [
    "del rew['age_skin_type']"
   ]
  },
  {
   "cell_type": "code",
   "execution_count": 6,
   "metadata": {
    "ExecuteTime": {
     "end_time": "2019-12-23T02:24:40.068213Z",
     "start_time": "2019-12-23T02:24:40.022022Z"
    },
    "scrolled": true
   },
   "outputs": [
    {
     "data": {
      "text/html": [
       "<div>\n",
       "<style scoped>\n",
       "    .dataframe tbody tr th:only-of-type {\n",
       "        vertical-align: middle;\n",
       "    }\n",
       "\n",
       "    .dataframe tbody tr th {\n",
       "        vertical-align: top;\n",
       "    }\n",
       "\n",
       "    .dataframe thead th {\n",
       "        text-align: right;\n",
       "    }\n",
       "</style>\n",
       "<table border=\"1\" class=\"dataframe\">\n",
       "  <thead>\n",
       "    <tr style=\"text-align: right;\">\n",
       "      <th></th>\n",
       "      <th>date</th>\n",
       "      <th>user_id</th>\n",
       "      <th>sex</th>\n",
       "      <th>rate</th>\n",
       "      <th>content</th>\n",
       "      <th>product_url</th>\n",
       "      <th>age</th>\n",
       "      <th>skin_type</th>\n",
       "    </tr>\n",
       "  </thead>\n",
       "  <tbody>\n",
       "    <tr>\n",
       "      <th>2322</th>\n",
       "      <td>2016.12.4</td>\n",
       "      <td>En960</td>\n",
       "      <td>f</td>\n",
       "      <td>good</td>\n",
       "      <td>NaN</td>\n",
       "      <td>/product/82765</td>\n",
       "      <td>24세</td>\n",
       "      <td>건성</td>\n",
       "    </tr>\n",
       "  </tbody>\n",
       "</table>\n",
       "</div>"
      ],
      "text/plain": [
       "           date user_id sex  rate content     product_url   age skin_type\n",
       "2322  2016.12.4   En960   f  good     NaN  /product/82765  24세        건성 "
      ]
     },
     "execution_count": 6,
     "metadata": {},
     "output_type": "execute_result"
    }
   ],
   "source": [
    "rew.loc[rew['content'].isnull()]"
   ]
  },
  {
   "cell_type": "markdown",
   "metadata": {},
   "source": [
    "- 결측치가 하나 보인다. 결측치가 하나뿐이니 이를 제거해준다."
   ]
  },
  {
   "cell_type": "code",
   "execution_count": 7,
   "metadata": {
    "ExecuteTime": {
     "end_time": "2019-12-23T02:24:40.986190Z",
     "start_time": "2019-12-23T02:24:40.963156Z"
    }
   },
   "outputs": [],
   "source": [
    "rew = rew.dropna().copy()"
   ]
  },
  {
   "cell_type": "code",
   "execution_count": 8,
   "metadata": {
    "ExecuteTime": {
     "end_time": "2019-12-23T02:24:41.499009Z",
     "start_time": "2019-12-23T02:24:41.476045Z"
    }
   },
   "outputs": [
    {
     "data": {
      "text/html": [
       "<div>\n",
       "<style scoped>\n",
       "    .dataframe tbody tr th:only-of-type {\n",
       "        vertical-align: middle;\n",
       "    }\n",
       "\n",
       "    .dataframe tbody tr th {\n",
       "        vertical-align: top;\n",
       "    }\n",
       "\n",
       "    .dataframe thead th {\n",
       "        text-align: right;\n",
       "    }\n",
       "</style>\n",
       "<table border=\"1\" class=\"dataframe\">\n",
       "  <thead>\n",
       "    <tr style=\"text-align: right;\">\n",
       "      <th></th>\n",
       "      <th>date</th>\n",
       "      <th>user_id</th>\n",
       "      <th>sex</th>\n",
       "      <th>rate</th>\n",
       "      <th>content</th>\n",
       "      <th>product_url</th>\n",
       "      <th>age</th>\n",
       "      <th>skin_type</th>\n",
       "    </tr>\n",
       "  </thead>\n",
       "  <tbody>\n",
       "    <tr>\n",
       "      <th>0</th>\n",
       "      <td>28일 전</td>\n",
       "      <td>minseo6666</td>\n",
       "      <td>f</td>\n",
       "      <td>good</td>\n",
       "      <td>아빠 사드렸는데 저아해여</td>\n",
       "      <td>/product/7212</td>\n",
       "      <td>16세</td>\n",
       "      <td>복합성</td>\n",
       "    </tr>\n",
       "    <tr>\n",
       "      <th>1</th>\n",
       "      <td>2개월 전</td>\n",
       "      <td>피부에관심있는남자</td>\n",
       "      <td>m</td>\n",
       "      <td>good</td>\n",
       "      <td>향이 좋아요 근데 좀 제 피부가 민감해서</td>\n",
       "      <td>/product/7212</td>\n",
       "      <td>20세</td>\n",
       "      <td>복합성</td>\n",
       "    </tr>\n",
       "  </tbody>\n",
       "</table>\n",
       "</div>"
      ],
      "text/plain": [
       "    date     user_id sex  rate                 content    product_url   age  \\\n",
       "0  28일 전  minseo6666   f  good           아빠 사드렸는데 저아해여  /product/7212  16세    \n",
       "1  2개월 전   피부에관심있는남자   m  good  향이 좋아요 근데 좀 제 피부가 민감해서  /product/7212  20세    \n",
       "\n",
       "  skin_type  \n",
       "0      복합성   \n",
       "1      복합성   "
      ]
     },
     "execution_count": 8,
     "metadata": {},
     "output_type": "execute_result"
    }
   ],
   "source": [
    "rew.head(2)"
   ]
  },
  {
   "cell_type": "markdown",
   "metadata": {},
   "source": [
    "# CKonlpy"
   ]
  },
  {
   "cell_type": "markdown",
   "metadata": {},
   "source": [
    "https://github.com/lovit/customized_konlpy"
   ]
  },
  {
   "cell_type": "markdown",
   "metadata": {},
   "source": [
    "- KoNLPy의 customized version이다.\n",
    "- meceb, khaiii는 윈도위 버전을 지원하지 않아 제외하였다.\n",
    "- 사용자 사전을 쉽게 사용할 수 있다.\n",
    "- 단어 치환을 위한 후처리를 할 수 있다.\n",
    "    - passwords 에 등록된 단어, (단어, 품사)만 출력됩니다.\n",
    "    - stopwords 에 등록된 단어, (단어, 품사)는 출력되지 않습니다.\n",
    "    - 특정 품사를 지정하면, 해당 품사만 출력됩니다.\n",
    "    - 치환할 단어, (단어, 품사)를 dict 형식으로 정의하면 tag 에서 단어가 치환되어 출력됩니다."
   ]
  },
  {
   "cell_type": "markdown",
   "metadata": {},
   "source": [
    "# 리뷰 전처리"
   ]
  },
  {
   "cell_type": "code",
   "execution_count": 9,
   "metadata": {
    "ExecuteTime": {
     "end_time": "2019-12-23T02:24:43.553033Z",
     "start_time": "2019-12-23T02:24:43.546056Z"
    }
   },
   "outputs": [
    {
     "name": "stdout",
     "output_type": "stream",
     "text": [
      "리뷰 총 갯수: 5124\n"
     ]
    }
   ],
   "source": [
    "print('리뷰 총 갯수: {}'.format(rew['content'].shape[0]))"
   ]
  },
  {
   "cell_type": "code",
   "execution_count": 10,
   "metadata": {
    "ExecuteTime": {
     "end_time": "2019-12-23T02:24:44.466203Z",
     "start_time": "2019-12-23T02:24:44.458197Z"
    }
   },
   "outputs": [],
   "source": [
    "def preprocessing(text):\n",
    "    # 개행문자 제거(줄바꿈 문자)\n",
    "    text = re.sub('\\n', ' ', text)\n",
    "    # 의성어 제거\n",
    "    text = re.sub('[ㄱ-ㅎㅏ-ㅣ!?~]', ' ',text)\n",
    "    # 특수문자 제거\n",
    "    # 특수문자나 이모티콘 등은 때로는 의미를 갖기도 하지만 여기서는 제거\n",
    "    # re.sub : 첫번째 인수에 바꿀 문자열을 입력하고 두 번째 인수에 대상 문자열을 입력한다.\n",
    "    # text = re.sub('[?.,;:|\\)*~'!^\\- +<>@\\#$%&-=#}*]','',text)\n",
    "    # 한글, 영문, 숫자만 남기고 모두 제거하도록 합니다.\n",
    "    # text = re.sub('[^가-힣ㄱ-ㅎㅏ-ㅣa-zA-Z0-9]',' ',text)\n",
    "    # [^5]와 같이 '^'가 []안에서 쓰이는 경우에는 5를 제외한 모든 문자를 나타냄\n",
    "    # 가-힣ㄱ-ㅎㅏ-ㅣa-zA-Z을 만족하는 것들을 제외한 것들을 ' '로 치환\n",
    "    text = re.sub('[^가-힣ㄱ-ㅎㅏ-ㅣa-zA-Z]', ' ', text)\n",
    "    # 중복으로 생성된 공백값을 제거합니다.\n",
    "    text = re.sub(' +',' ',text)\n",
    "    return text"
   ]
  },
  {
   "cell_type": "code",
   "execution_count": 11,
   "metadata": {
    "ExecuteTime": {
     "end_time": "2019-12-23T02:24:45.493096Z",
     "start_time": "2019-12-23T02:24:45.482151Z"
    }
   },
   "outputs": [],
   "source": [
    "rew['content'] = rew['content'].map(str)"
   ]
  },
  {
   "cell_type": "code",
   "execution_count": 12,
   "metadata": {
    "ExecuteTime": {
     "end_time": "2019-12-23T02:24:46.270330Z",
     "start_time": "2019-12-23T02:24:46.061168Z"
    }
   },
   "outputs": [],
   "source": [
    "rew['rew_pre'] = rew['content'].apply(preprocessing)"
   ]
  },
  {
   "cell_type": "code",
   "execution_count": 13,
   "metadata": {
    "ExecuteTime": {
     "end_time": "2019-12-23T02:24:46.837335Z",
     "start_time": "2019-12-23T02:24:46.825650Z"
    }
   },
   "outputs": [
    {
     "data": {
      "text/plain": [
       "0                        아빠 사드렸는데 저아해여\n",
       "1               향이 좋아요 근데 좀 제 피부가 민감해서\n",
       "2               가격이 저렴하고 냄새가 안 쎄서 좋아요 \n",
       "3    선물용으로 사서 선물했는데 나름 만족했는지 매일 바른다네요 \n",
       "4                         향이 청량해서 좋아요 \n",
       "Name: rew_pre, dtype: object"
      ]
     },
     "execution_count": 13,
     "metadata": {},
     "output_type": "execute_result"
    }
   ],
   "source": [
    "rew['rew_pre'].head()"
   ]
  },
  {
   "cell_type": "code",
   "execution_count": 14,
   "metadata": {
    "ExecuteTime": {
     "end_time": "2019-12-23T02:25:19.216029Z",
     "start_time": "2019-12-23T02:24:47.480259Z"
    }
   },
   "outputs": [],
   "source": [
    "rew['morphs'] = rew['rew_pre'].map(t.morphs)\n",
    "#rew['morphs'] = rew['morphs'].map(' '.join)"
   ]
  },
  {
   "cell_type": "code",
   "execution_count": 15,
   "metadata": {
    "ExecuteTime": {
     "end_time": "2019-12-23T02:25:22.180477Z",
     "start_time": "2019-12-23T02:25:22.167568Z"
    }
   },
   "outputs": [
    {
     "data": {
      "text/plain": [
       "good     2214\n",
       "best     1476\n",
       "soso      979\n",
       "bad       360\n",
       "worst      95\n",
       "Name: rate, dtype: int64"
      ]
     },
     "execution_count": 15,
     "metadata": {},
     "output_type": "execute_result"
    }
   ],
   "source": [
    "rew['rate'].value_counts()"
   ]
  },
  {
   "cell_type": "code",
   "execution_count": 16,
   "metadata": {
    "ExecuteTime": {
     "end_time": "2019-12-23T02:25:22.675381Z",
     "start_time": "2019-12-23T02:25:22.669122Z"
    }
   },
   "outputs": [],
   "source": [
    "rew_r = rew['rew_pre']"
   ]
  },
  {
   "cell_type": "code",
   "execution_count": 17,
   "metadata": {
    "ExecuteTime": {
     "end_time": "2019-12-23T02:25:23.418076Z",
     "start_time": "2019-12-23T02:25:23.380490Z"
    }
   },
   "outputs": [],
   "source": [
    "worst_r = rew.loc[rew['rate'] == 'worst']['rew_pre']\n",
    "bad_r = rew.loc[rew['rate'] == 'bad']['rew_pre']\n",
    "soso_r = rew.loc[rew['rate'] == 'soso']['rew_pre']\n",
    "best_r = rew.loc[rew['rate'] == 'best']['rew_pre']\n",
    "good_r = rew.loc[rew['rate'] == 'good']['rew_pre']\n",
    "worst_r_a = ' '.join(worst_r)\n",
    "bad_r_a = ' '.join(bad_r)\n",
    "soso_r_a = ' '.join(soso_r)\n",
    "best_r_a = ' '.join(best_r)\n",
    "good_r_a = ' '.join(good_r)\n",
    "rew_r_a = ' '.join(rew_r)"
   ]
  },
  {
   "cell_type": "markdown",
   "metadata": {},
   "source": [
    "# 불용어 정의"
   ]
  },
  {
   "cell_type": "code",
   "execution_count": 18,
   "metadata": {
    "ExecuteTime": {
     "end_time": "2019-12-23T02:25:24.474311Z",
     "start_time": "2019-12-23T02:25:24.466863Z"
    }
   },
   "outputs": [],
   "source": [
    "rew_n = Postprocessor(t,passtags = 'Noun')\n",
    "rew_v = Postprocessor(t,passtags = 'Verb')\n",
    "rew_a = Postprocessor(t,passtags = 'Adjective')\n",
    "rew_j = Postprocessor(t,passtags = 'Josa')"
   ]
  },
  {
   "cell_type": "code",
   "execution_count": 19,
   "metadata": {
    "ExecuteTime": {
     "end_time": "2019-12-23T02:25:25.203908Z",
     "start_time": "2019-12-23T02:25:25.197513Z"
    }
   },
   "outputs": [],
   "source": [
    "#rew['token'] = [i.split(' ') for i in rew['rew_pre']]"
   ]
  },
  {
   "cell_type": "code",
   "execution_count": 20,
   "metadata": {
    "ExecuteTime": {
     "end_time": "2019-12-23T02:27:46.302000Z",
     "start_time": "2019-12-23T02:25:26.253870Z"
    }
   },
   "outputs": [],
   "source": [
    "rew_n_df = pd.DataFrame(rew_n.pos(rew_r_a)) # 명사\n",
    "rew_v_df = pd.DataFrame(rew_v.pos(rew_r_a)) # 동사\n",
    "rew_a_df = pd.DataFrame(rew_a.pos(rew_r_a)) # 형용사\n",
    "rew_j_df = pd.DataFrame(rew_j.pos(rew_r_a)) # 조사"
   ]
  },
  {
   "cell_type": "code",
   "execution_count": 21,
   "metadata": {
    "ExecuteTime": {
     "end_time": "2019-12-23T02:28:44.202015Z",
     "start_time": "2019-12-23T02:28:44.195034Z"
    }
   },
   "outputs": [],
   "source": [
    "stop_words = ['거','어요','단','것','평가','때','이','리뷰','어서','좀','저','제','요','더','고','진짜','쓰기','생각','입니다','같아요','있','같','써','쓰고','들']"
   ]
  },
  {
   "cell_type": "markdown",
   "metadata": {},
   "source": [
    "# replace"
   ]
  },
  {
   "cell_type": "code",
   "execution_count": 22,
   "metadata": {
    "ExecuteTime": {
     "end_time": "2019-12-23T02:28:45.146039Z",
     "start_time": "2019-12-23T02:28:45.136065Z"
    }
   },
   "outputs": [],
   "source": [
    "replace = {'좋아요':'좋다','좋':'좋다','좋은':'좋다','좋고':'좋다','좋다고':'좋다','좋은데':'좋다','좋습니다':'좋다','좋아서':'좋다','좋았':'좋다','좋은데':'좋다','좋네요':'좋다','새빨간':'빨간','약해서':'약하다','남친':'남자친구','남자':'남성'}"
   ]
  },
  {
   "cell_type": "code",
   "execution_count": 23,
   "metadata": {
    "ExecuteTime": {
     "end_time": "2019-12-23T02:28:45.620801Z",
     "start_time": "2019-12-23T02:28:45.615739Z"
    }
   },
   "outputs": [],
   "source": [
    "postprocessor_r = Postprocessor(t, replace = replace) # replace"
   ]
  },
  {
   "cell_type": "code",
   "execution_count": 24,
   "metadata": {
    "ExecuteTime": {
     "end_time": "2019-12-23T02:28:46.021346Z",
     "start_time": "2019-12-23T02:28:45.970232Z"
    }
   },
   "outputs": [],
   "source": [
    "# 평점 등급별 리뷰 확인\n",
    "worst_r = rew.loc[rew['rate'] == 'worst']['rew_pre']\n",
    "bad_r = rew.loc[rew['rate'] == 'bad']['rew_pre']\n",
    "soso_r = rew.loc[rew['rate'] == 'soso']['rew_pre']\n",
    "best_r = rew.loc[rew['rate'] == 'best']['rew_pre']\n",
    "good_r = rew.loc[rew['rate'] == 'good']['rew_pre']\n",
    "worst_r_a = ' '.join(worst_r)\n",
    "bad_r_a = ' '.join(bad_r)\n",
    "soso_r_a = ' '.join(soso_r)\n",
    "best_r_a = ' '.join(best_r)\n",
    "good_r_a = ' '.join(good_r)\n",
    "rew_r_a = ' '.join(rew_r)"
   ]
  },
  {
   "cell_type": "code",
   "execution_count": 25,
   "metadata": {
    "ExecuteTime": {
     "end_time": "2019-12-23T02:29:26.069279Z",
     "start_time": "2019-12-23T02:28:46.812729Z"
    }
   },
   "outputs": [],
   "source": [
    "worst_re = np.array(postprocessor_r.pos(worst_r_a))[:,0]\n",
    "bad_re = np.array(postprocessor_r.pos(bad_r_a))[:,0]\n",
    "soso_re = np.array(postprocessor_r.pos(soso_r_a))[:,0]\n",
    "best_re = np.array(postprocessor_r.pos(best_r_a))[:,0]\n",
    "good_re = np.array(postprocessor_r.pos(good_r_a))[:,0]"
   ]
  },
  {
   "cell_type": "markdown",
   "metadata": {},
   "source": [
    "# 불용어 제거"
   ]
  },
  {
   "cell_type": "code",
   "execution_count": 26,
   "metadata": {
    "ExecuteTime": {
     "end_time": "2019-12-23T02:30:42.357641Z",
     "start_time": "2019-12-23T02:30:42.329716Z"
    }
   },
   "outputs": [
    {
     "name": "stdout",
     "output_type": "stream",
     "text": [
      "['비오템', '입', '문하', '자마자', '떠나게', '한', '제품', '피부', '에', '신경안', '쓰던', '적', '에', '올인원', '제품', '하나', '만', '겨울', '에', '바를']\n"
     ]
    }
   ],
   "source": [
    "# 불용어 추가한 것들을 제거해준다.\n",
    "result_worst = []; result_bed = []; result_soso = []; result_best = []; result_good = []\n",
    "\n",
    "[result_worst.append(i) for i in worst_re if i not in stop_words]\n",
    "[result_bed.append(i) for i in worst_re if i not in stop_words]\n",
    "[result_soso.append(i) for i in worst_re if i not in stop_words]\n",
    "[result_best.append(i) for i in worst_re if i not in stop_words]\n",
    "[result_good.append(i) for i in worst_re if i not in stop_words]\n",
    "\n",
    "print(result_worst[:20])"
   ]
  },
  {
   "cell_type": "code",
   "execution_count": 27,
   "metadata": {
    "ExecuteTime": {
     "end_time": "2019-12-23T02:30:42.882096Z",
     "start_time": "2019-12-23T02:30:42.838999Z"
    },
    "scrolled": false
   },
   "outputs": [
    {
     "data": {
      "text/html": [
       "<div>\n",
       "<style scoped>\n",
       "    .dataframe tbody tr th:only-of-type {\n",
       "        vertical-align: middle;\n",
       "    }\n",
       "\n",
       "    .dataframe tbody tr th {\n",
       "        vertical-align: top;\n",
       "    }\n",
       "\n",
       "    .dataframe thead th {\n",
       "        text-align: right;\n",
       "    }\n",
       "</style>\n",
       "<table border=\"1\" class=\"dataframe\">\n",
       "  <thead>\n",
       "    <tr style=\"text-align: right;\">\n",
       "      <th></th>\n",
       "      <th>index</th>\n",
       "      <th>rew_pre</th>\n",
       "      <th>morphs</th>\n",
       "    </tr>\n",
       "  </thead>\n",
       "  <tbody>\n",
       "    <tr>\n",
       "      <th>30</th>\n",
       "      <td>3130</td>\n",
       "      <td>이거 쓰고 피부 다 뒤집어졌던 기억이 나네요 단순히 여드름이나 트러블이 났던게 아니...</td>\n",
       "      <td>[이, 거, 쓰고, 피부, 다, 뒤집어졌던, 기억, 이, 나네요, 단순, 히, 여드...</td>\n",
       "    </tr>\n",
       "    <tr>\n",
       "      <th>31</th>\n",
       "      <td>3204</td>\n",
       "      <td>이건 걍 돈아까음 얼굴 넘 건조해서 뱅기타기전에 면세에서 샀는데 걍 다른거랑 다를게...</td>\n",
       "      <td>[이건, 걍, 돈, 아까음, 얼굴, 넘, 건조, 해서, 뱅, 기타, 기전, 에, 면...</td>\n",
       "    </tr>\n",
       "    <tr>\n",
       "      <th>32</th>\n",
       "      <td>3222</td>\n",
       "      <td>그냥 물임</td>\n",
       "      <td>[그냥, 물임]</td>\n",
       "    </tr>\n",
       "    <tr>\n",
       "      <th>33</th>\n",
       "      <td>3269</td>\n",
       "      <td>향이 남자화장품냄새 딱 그건데</td>\n",
       "      <td>[향, 이, 남자, 화장품, 냄새, 딱, 그건, 데]</td>\n",
       "    </tr>\n",
       "    <tr>\n",
       "      <th>34</th>\n",
       "      <td>3615</td>\n",
       "      <td>거짓된 양 내구성 부족 제품을 만족시키지 못하는 부담스러운 가격</td>\n",
       "      <td>[거짓, 된, 양, 내, 구성, 부족, 제품, 을, 만족, 시키지, 못, 하는, 부...</td>\n",
       "    </tr>\n",
       "  </tbody>\n",
       "</table>\n",
       "</div>"
      ],
      "text/plain": [
       "    index                                            rew_pre  \\\n",
       "30   3130  이거 쓰고 피부 다 뒤집어졌던 기억이 나네요 단순히 여드름이나 트러블이 났던게 아니...   \n",
       "31   3204  이건 걍 돈아까음 얼굴 넘 건조해서 뱅기타기전에 면세에서 샀는데 걍 다른거랑 다를게...   \n",
       "32   3222                                             그냥 물임    \n",
       "33   3269                                  향이 남자화장품냄새 딱 그건데    \n",
       "34   3615               거짓된 양 내구성 부족 제품을 만족시키지 못하는 부담스러운 가격    \n",
       "\n",
       "                                               morphs  \n",
       "30  [이, 거, 쓰고, 피부, 다, 뒤집어졌던, 기억, 이, 나네요, 단순, 히, 여드...  \n",
       "31  [이건, 걍, 돈, 아까음, 얼굴, 넘, 건조, 해서, 뱅, 기타, 기전, 에, 면...  \n",
       "32                                           [그냥, 물임]  \n",
       "33                      [향, 이, 남자, 화장품, 냄새, 딱, 그건, 데]  \n",
       "34  [거짓, 된, 양, 내, 구성, 부족, 제품, 을, 만족, 시키지, 못, 하는, 부...  "
      ]
     },
     "execution_count": 27,
     "metadata": {},
     "output_type": "execute_result"
    }
   ],
   "source": [
    "rew.loc[rew['rate'] == 'worst'][['rew_pre','morphs']].reset_index().iloc[30:35,]"
   ]
  },
  {
   "cell_type": "code",
   "execution_count": 28,
   "metadata": {
    "ExecuteTime": {
     "end_time": "2019-12-23T02:30:43.318534Z",
     "start_time": "2019-12-23T02:30:43.307565Z"
    }
   },
   "outputs": [
    {
     "data": {
      "text/plain": [
       "[('시원', 'Noun'), ('함', 'Noun')]"
      ]
     },
     "execution_count": 28,
     "metadata": {},
     "output_type": "execute_result"
    }
   ],
   "source": [
    "t.pos('시원함') # 원함까지함"
   ]
  },
  {
   "cell_type": "code",
   "execution_count": 53,
   "metadata": {
    "ExecuteTime": {
     "end_time": "2019-12-23T02:46:02.144094Z",
     "start_time": "2019-12-23T02:46:02.135118Z"
    }
   },
   "outputs": [
    {
     "name": "stdout",
     "output_type": "stream",
     "text": [
      "['비오템', '입', '문하', '자마자', '떠나게', '한', '제품', '피부', '에', '신경안', '쓰던', '적', '에', '올인원', '제품', '하나', '만', '겨울', '에', '바를']\n"
     ]
    }
   ],
   "source": [
    "print(result_worst[:20])"
   ]
  },
  {
   "cell_type": "markdown",
   "metadata": {},
   "source": [
    "# 띄어쓰기 수정"
   ]
  },
  {
   "cell_type": "code",
   "execution_count": 30,
   "metadata": {
    "ExecuteTime": {
     "end_time": "2019-12-23T02:30:47.198933Z",
     "start_time": "2019-12-23T02:30:47.182141Z"
    }
   },
   "outputs": [],
   "source": [
    "rew['rew_pre'][132] = '비오템 입문 하자마자 떠나게 한 제품 피부에 신경안쓰던적에 올인원 제품 하나만 겨울에 바를만큼 무신경했는데 요 라인은 참을수 없이 건조했다 '\n",
    "rew['rew_pre'][2435] = '최악중최악 바르면 얼굴따갑고 아침엔트러블로가득찬 내얼굴 한번쯤 여드름쟁이가 되고 싶다면 추천 하는 크림'\n",
    "rew['rew_pre'][2818]= '내가 흑우인지 괜히 면도세안 한꺼번에 되는 폼이라길래 구매했다가 제대로 돈날린 제품 쫀쫀이고 쫀득이고 간에 일단 샤워하면서는 절대 쓸수 없었다 어찌된 영문인지 물에 상당히 약해서 얼굴이 세면후 상태로 촉촉하면 죄다 녹아 내려서 폼이 오일로 바뀌는 매직을 겪게된다 샤워 전 최저한의 수분으로 거품유지하며 씻는 스트레스에 매번 조절 실패해서 제품낭비 돈낭비 제대로 한 역대급 최악 클랜징 제품 지금은 차세안 하기위해서 그냥 세안 전 한번 사용해주고 전용 클랜징폼은 따로 쓴다 오히려 면도크림 용으로만 나왔었어도 평균은 가지 않았을까 하는 느낌 상당히 화한 느낌으로 트러블 없이 면도가 가능하긴 한데 이걸 면도크림만으로 쓰기엔 가격면에서 상당히 그냥 따로 면도할렵니다 '\n",
    "rew['rew_pre'][2822] = '내 인생 최고의 똥템'"
   ]
  },
  {
   "cell_type": "code",
   "execution_count": 31,
   "metadata": {
    "ExecuteTime": {
     "end_time": "2019-12-23T02:30:47.736479Z",
     "start_time": "2019-12-23T02:30:47.709542Z"
    }
   },
   "outputs": [
    {
     "name": "stdout",
     "output_type": "stream",
     "text": [
      "내 가 흑우 인지 괜히 면도 세안 한꺼 번 에 되는 폼 이라 길래 구매 했 다가 제대로 돈 날린 제품 쫀쫀 이고 쫀득 이고 간 에 일단 샤워 하 면서 는 절대 쓸수 없었다 어찌 된 영문 인지 물 에 상당 히 약 해서 얼굴 세면 후 상태 로 촉촉하면 죄다 녹 아내 려 서 폼 오일 로 바뀌는 매직 을 겪게 된다 샤워 전 최저 한 의 수분 으로 거품 유지 하며 씻는 스트레스 에 매번 조절 실패 해서 제품 낭비 돈 낭비 제대로 한 역대 급 최악 클랜 징 제품 지금 은 차 세안 하기 위해 서 그냥 세안 전 한번 사용 해주 전용 클랜 징폼 은 따로 쓴다 오히려 면도 크림 용으 로만 나왔었 어도 평균 은 가지 않았을까 하는 느낌 상당 히 화한 느낌 으로 트러블 없이 면도 가 가능 하긴 한데 걸 면도 크림 만으로 엔 가격 면 에서 상당 히 그냥 따로 면도 할렵니 다\n"
     ]
    }
   ],
   "source": [
    "print('내', '가', '흑우', '인지', '괜히', '면도', '세안', '한꺼', '번', '에', '되는', '폼', '이라', '길래', '구매', '했', '다가', '제대로', '돈', '날린', '제품', '쫀쫀', '이고', '쫀득', '이고', '간', '에', '일단', '샤워', '하', '면서', '는', '절대', '쓸수', '없었다', '어찌', '된', '영문', '인지', '물', '에', '상당', '히', '약', '해서', '얼굴', '세면', '후', '상태', '로', '촉촉하면', '죄다', '녹', '아내', '려', '서', '폼', '오일', '로', '바뀌는', '매직', '을', '겪게', '된다', '샤워', '전', '최저', '한', '의', '수분', '으로', '거품', '유지', '하며', '씻는', '스트레스', '에', '매번', '조절', '실패', '해서', '제품', '낭비', '돈', '낭비', '제대로', '한', '역대', '급', '최악', '클랜', '징', '제품', '지금', '은', '차', '세안', '하기', '위해', '서', '그냥', '세안', '전', '한번', '사용', '해주', '전용', '클랜', '징폼', '은', '따로', '쓴다', '오히려', '면도', '크림', '용으', '로만', '나왔었', '어도', '평균', '은', '가지', '않았을까', '하는', '느낌', '상당', '히', '화한', '느낌', '으로', '트러블', '없이', '면도', '가', '가능', '하긴', '한데', '걸', '면도', '크림', '만으로', '엔', '가격', '면', '에서', '상당', '히', '그냥', '따로', '면도', '할렵니', '다')"
   ]
  },
  {
   "cell_type": "code",
   "execution_count": 32,
   "metadata": {
    "ExecuteTime": {
     "end_time": "2019-12-23T02:30:48.241887Z",
     "start_time": "2019-12-23T02:30:48.234697Z"
    }
   },
   "outputs": [
    {
     "data": {
      "text/plain": [
       "'이거 쓰고 피부 다 뒤집어졌던 기억이 나네요 단순히 여드름이나 트러블이 났던게 아니라 턱쪽 전체에 피부염 같은게 났더래서 고생 좀 했었습니다 지금 생각해보니 바를 때 시원함을 넘어서 화한 기분이 들던게 느낌부터 싸했던거 같군요 매우 비추입니다 가격도 ml에 원이라니 차라리 그 돈으로 우유 ml 개 사서 얼굴에 부비겠습니다 길바닥 개미들에게 사탕이나 젤리 사서 나눠주는게 차라리 돈 덜 아까울 것 같습니다 원 주고 이거 써서 피부병 걸린 후에 피부과 다니느라 만원도 더 썼었네요 아무튼 매우 비추 '"
      ]
     },
     "execution_count": 32,
     "metadata": {},
     "output_type": "execute_result"
    }
   ],
   "source": [
    "rew['rew_pre'][3130]"
   ]
  },
  {
   "cell_type": "markdown",
   "metadata": {},
   "source": [
    "# 사전추가"
   ]
  },
  {
   "cell_type": "code",
   "execution_count": 176,
   "metadata": {
    "ExecuteTime": {
     "end_time": "2019-12-23T03:38:17.017492Z",
     "start_time": "2019-12-23T03:38:17.011489Z"
    }
   },
   "outputs": [],
   "source": [
    "t.add_dictionary('잔고통', 'Noun')\n",
    "t.add_dictionary('유분기', 'Noun')\n",
    "t.add_dictionary('남성미', 'Noun')\n",
    "t.add_dictionary('한꺼번에','Adverb')\n",
    "t.add_dictionary('클랜징', 'Noun')\n",
    "t.add_dictionary('쉐이빙폼', 'Noun')\n",
    "t.add_dictionary('시원함', 'Noun')\n",
    "t.add_dictionary('끈적', 'Noun')\n",
    "t.add_dictionary('유분', 'Noun')\n",
    "t.add_dictionary('그래서', 'Conjunction')"
   ]
  },
  {
   "cell_type": "code",
   "execution_count": 34,
   "metadata": {
    "ExecuteTime": {
     "end_time": "2019-12-23T02:30:50.392260Z",
     "start_time": "2019-12-23T02:30:50.382656Z"
    }
   },
   "outputs": [
    {
     "data": {
      "text/plain": [
       "[('Adjective',),\n",
       " ('Adverb',),\n",
       " ('Conjunction',),\n",
       " ('Exclamation',),\n",
       " ('KoreanParticle',),\n",
       " ('Noun',),\n",
       " ('Verb',),\n",
       " ('Noun', 'Noun'),\n",
       " ('Noun', 'Josa'),\n",
       " ('Noun', 'Adjective'),\n",
       " ('Noun', 'Verb'),\n",
       " ('Modifier', 'Noun'),\n",
       " ('Noun', 'Noun', 'Adjective'),\n",
       " ('Noun', 'Noun', 'Josa'),\n",
       " ('Noun', 'Noun', 'Verb'),\n",
       " ('Modifier', 'Noun', 'Josa'),\n",
       " ('Josa',)]"
      ]
     },
     "execution_count": 34,
     "metadata": {},
     "output_type": "execute_result"
    }
   ],
   "source": [
    "t.template_tagger.templates"
   ]
  },
  {
   "cell_type": "markdown",
   "metadata": {
    "ExecuteTime": {
     "end_time": "2019-12-23T03:00:56.749907Z",
     "start_time": "2019-12-23T03:00:56.744261Z"
    }
   },
   "source": [
    "# 추가 전처리(~ing)"
   ]
  },
  {
   "cell_type": "code",
   "execution_count": 74,
   "metadata": {
    "ExecuteTime": {
     "end_time": "2019-12-23T02:53:19.287183Z",
     "start_time": "2019-12-23T02:53:19.238333Z"
    }
   },
   "outputs": [
    {
     "data": {
      "text/plain": [
       "제품        1113\n",
       "향         1021\n",
       "거          870\n",
       "어요         813\n",
       "피부         796\n",
       "것          660\n",
       "사용         646\n",
       "선물         610\n",
       "단          598\n",
       "평가         576\n",
       "남자         541\n",
       "느낌         486\n",
       "남자친구       479\n",
       "때          476\n",
       "리뷰         441\n",
       "냄새         431\n",
       "이          393\n",
       "아빠         380\n",
       "어서         361\n",
       "남친         338\n",
       "좀          323\n",
       "저          309\n",
       "가격         291\n",
       "남성         285\n",
       "스킨         282\n",
       "제          276\n",
       "그냥         266\n",
       "요          258\n",
       "얼굴         251\n",
       "더          235\n",
       "진짜         232\n",
       "끈          231\n",
       "고          231\n",
       "로션         228\n",
       "올인원        220\n",
       "화장품        217\n",
       "쓰기         214\n",
       "데          206\n",
       "머리         205\n",
       "생각         203\n",
       "크림         195\n",
       "안          193\n",
       "구매         192\n",
       "분          192\n",
       "발라         191\n",
       "정말         190\n",
       "다른         189\n",
       "그          188\n",
       "남편         188\n",
       "다가         186\n",
       "정도         184\n",
       "후          178\n",
       "용          178\n",
       "하나         178\n",
       "무난         176\n",
       "추천         176\n",
       "중          175\n",
       "트러블        175\n",
       "아하         174\n",
       "함          174\n",
       "듯          172\n",
       "별로         169\n",
       "지성         165\n",
       "면서         164\n",
       "수          163\n",
       "일단         163\n",
       "건조         160\n",
       "한번         159\n",
       "조금         156\n",
       "촉촉         155\n",
       "걸          155\n",
       "편          145\n",
       "효과         144\n",
       "감          143\n",
       "전          143\n",
       "개          141\n",
       "만족         140\n",
       "번          140\n",
       "사          139\n",
       "뭐          138\n",
       "형          137\n",
       "시원         135\n",
       "수분         132\n",
       "유          131\n",
       "나          130\n",
       "당첨         130\n",
       "처음         129\n",
       "이나         127\n",
       "오빠         126\n",
       "흡수         126\n",
       "자연         126\n",
       "면도         126\n",
       "약간         125\n",
       "건성         124\n",
       "성분         123\n",
       "거품         121\n",
       "보고         121\n",
       "커버         120\n",
       "이건         118\n",
       "비비         118\n",
       "선크림        118\n",
       "내          118\n",
       "까지         115\n",
       "성          114\n",
       "편이         112\n",
       "여름         112\n",
       "왁스         110\n",
       "토너         110\n",
       "보습         108\n",
       "사람         108\n",
       "타입         107\n",
       "아주         103\n",
       "고정력        102\n",
       "쉐          102\n",
       "사드         101\n",
       "젤          100\n",
       "적          100\n",
       "발림         100\n",
       "점           99\n",
       "이지          99\n",
       "더니          99\n",
       "완전          99\n",
       "동생          99\n",
       "민감          96\n",
       "여자          96\n",
       "적당          96\n",
       "기름          96\n",
       "게           96\n",
       "겨울          95\n",
       "안나          95\n",
       "스프레이        95\n",
       "라서          94\n",
       "자극          93\n",
       "거나          93\n",
       "세           92\n",
       "처럼          92\n",
       "지도          92\n",
       "후기          91\n",
       "도           90\n",
       "보           90\n",
       "말           89\n",
       "이빙          89\n",
       "고요          89\n",
       "일           87\n",
       "지금          86\n",
       "무           86\n",
       "원래          85\n",
       "톤           84\n",
       "확실          84\n",
       "날           84\n",
       "임           84\n",
       "신랑          82\n",
       "손           82\n",
       "려고          81\n",
       "에센스         81\n",
       "아무          80\n",
       "여드름         80\n",
       "순           80\n",
       "쓰시          80\n",
       "거리          79\n",
       "고정          79\n",
       "뿌리          79\n",
       "템           78\n",
       "건           78\n",
       "때문          77\n",
       "사서          76\n",
       "남동생         76\n",
       "바로          75\n",
       "적임          75\n",
       "수분크림        75\n",
       "폼           75\n",
       "자           74\n",
       "래서          74\n",
       "난하          74\n",
       "은           74\n",
       "거의          73\n",
       "세트          73\n",
       "샴푸          73\n",
       "해지          73\n",
       "해           73\n",
       "군대          72\n",
       "화장          72\n",
       "력도          72\n",
       "비           72\n",
       "스킨로션        72\n",
       "물           71\n",
       "재           71\n",
       "살짝          71\n",
       "해주          70\n",
       "력           70\n",
       "오래          69\n",
       "제일          68\n",
       "년           67\n",
       "아버지         66\n",
       "친구          66\n",
       "각질          65\n",
       "기능          65\n",
       "가지          65\n",
       "막           64\n",
       "라인          64\n",
       "통           64\n",
       "세안          64\n",
       "렸는데         63\n",
       "양           63\n",
       "하니          63\n",
       "시           62\n",
       "계속          61\n",
       "시간          60\n",
       "대요          60\n",
       "두피          59\n",
       "매우          59\n",
       "남           59\n",
       "간편          59\n",
       "발리          58\n",
       "저렴          57\n",
       "가장          57\n",
       "용기          57\n",
       "맘           57\n",
       "또           57\n",
       "부담          56\n",
       "덜           56\n",
       "지고          56\n",
       "티           55\n",
       "만큼          55\n",
       "만           55\n",
       "기           55\n",
       "지속          55\n",
       "다만          54\n",
       "구           54\n",
       "항상          54\n",
       "부터          54\n",
       "기도          54\n",
       "기분          53\n",
       "마음          53\n",
       "무엇          53\n",
       "용량          53\n",
       "지성인         52\n",
       "디자인         52\n",
       "전혀          52\n",
       "꽤           52\n",
       "아침          52\n",
       "인적          51\n",
       "자체          51\n",
       "구입          51\n",
       "극적          51\n",
       "정력          51\n",
       "여러          50\n",
       "브랜드         50\n",
       "단점          50\n",
       "케어          50\n",
       "          ... \n",
       "증인           1\n",
       "효            1\n",
       "동하           1\n",
       "일찍           1\n",
       "정양           1\n",
       "천지인          1\n",
       "알맹이          1\n",
       "스크럽제         1\n",
       "강츄           1\n",
       "루틴           1\n",
       "본능           1\n",
       "순위도          1\n",
       "형편           1\n",
       "징폼           1\n",
       "에센           1\n",
       "지근           1\n",
       "흔쾌           1\n",
       "바꿈           1\n",
       "리함           1\n",
       "간파           1\n",
       "품명           1\n",
       "토업           1\n",
       "로스           1\n",
       "웨이           1\n",
       "물광           1\n",
       "훼이셜          1\n",
       "춘해           1\n",
       "좌르르          1\n",
       "쫀쫀한데         1\n",
       "세영           1\n",
       "정진           1\n",
       "쉐이프          1\n",
       "홍차           1\n",
       "잎            1\n",
       "데이트          1\n",
       "김현           1\n",
       "진리           1\n",
       "아니스          1\n",
       "탈출           1\n",
       "판교           1\n",
       "다써봣          1\n",
       "짝궁           1\n",
       "증발           1\n",
       "간만           1\n",
       "줫는대          1\n",
       "했슴돠          1\n",
       "얗            1\n",
       "원주고          1\n",
       "확연           1\n",
       "비율           1\n",
       "작품           1\n",
       "무자           1\n",
       "송인           1\n",
       "쓰셧습니         1\n",
       "강추추추         1\n",
       "브랜           1\n",
       "소화           1\n",
       "은혜           1\n",
       "혼모           1\n",
       "인증           1\n",
       "떰섭           1\n",
       "발렌타인선물       1\n",
       "요망           1\n",
       "품목           1\n",
       "성미           1\n",
       "가운데          1\n",
       "통입           1\n",
       "불가능          1\n",
       "까슬까슬         1\n",
       "지적           1\n",
       "여럿           1\n",
       "조잡           1\n",
       "습괸           1\n",
       "동전           1\n",
       "퇴짜           1\n",
       "촤            1\n",
       "거려           1\n",
       "싱이긴          1\n",
       "로안           1\n",
       "거둘쁀          1\n",
       "광나           1\n",
       "얼음           1\n",
       "코드           1\n",
       "부드라운         1\n",
       "분대           1\n",
       "전달           1\n",
       "뿜는           1\n",
       "부비부비         1\n",
       "핑키           1\n",
       "소용           1\n",
       "비위생적         1\n",
       "녔는데          1\n",
       "뽝            1\n",
       "케이트          1\n",
       "각자           1\n",
       "쪼꼬만거         1\n",
       "부조           1\n",
       "부톤용          1\n",
       "스키장          1\n",
       "주신           1\n",
       "겆            1\n",
       "피셜           1\n",
       "파펙트          1\n",
       "타협           1\n",
       "존나           1\n",
       "뚫어버          1\n",
       "퓸            1\n",
       "릴때           1\n",
       "클렌저임         1\n",
       "로망           1\n",
       "빵            1\n",
       "버진           1\n",
       "불쌍           1\n",
       "일감           1\n",
       "도련님          1\n",
       "번거럽          1\n",
       "블라           1\n",
       "다썻           1\n",
       "음습           1\n",
       "들엇엇음         1\n",
       "내장           1\n",
       "꿀임           1\n",
       "데미지          1\n",
       "편하몀          1\n",
       "는단           1\n",
       "끝향           1\n",
       "베스트셀러        1\n",
       "쓰엿는데         1\n",
       "덕임           1\n",
       "식물           1\n",
       "파이터          1\n",
       "포스트          1\n",
       "아우           1\n",
       "백프로          1\n",
       "다대           1\n",
       "연적           1\n",
       "단짝           1\n",
       "본론           1\n",
       "태            1\n",
       "헐리우드         1\n",
       "사진관          1\n",
       "비타민          1\n",
       "핵폭탄          1\n",
       "강철           1\n",
       "제인           1\n",
       "글자           1\n",
       "알페신          1\n",
       "데오           1\n",
       "신상           1\n",
       "온도           1\n",
       "역함           1\n",
       "개뿔           1\n",
       "클레어          1\n",
       "나치           1\n",
       "안정           1\n",
       "하쉐           1\n",
       "프리미엄         1\n",
       "갯츠비          1\n",
       "수퍼           1\n",
       "케케케케케        1\n",
       "센스           1\n",
       "좋읐           1\n",
       "트긴           1\n",
       "마자           1\n",
       "단기간          1\n",
       "고로           1\n",
       "간때           1\n",
       "수프림          1\n",
       "간이           1\n",
       "존바           1\n",
       "취저           1\n",
       "흐윽           1\n",
       "줄평           1\n",
       "인핸서          1\n",
       "반했어          1\n",
       "랐            1\n",
       "쌔            1\n",
       "흐엉           1\n",
       "곡물           1\n",
       "라로슈포제        1\n",
       "의도           1\n",
       "아이거          1\n",
       "원피스          1\n",
       "세심           1\n",
       "시어           1\n",
       "나노           1\n",
       "쾨쾨           1\n",
       "킬때           1\n",
       "사쥬써          1\n",
       "악마           1\n",
       "해당           1\n",
       "샵껄           1\n",
       "성장           1\n",
       "비염           1\n",
       "은로           1\n",
       "날카           1\n",
       "명불허전         1\n",
       "거겉           1\n",
       "장식품          1\n",
       "도기           1\n",
       "노페           1\n",
       "웻            1\n",
       "실내           1\n",
       "시보           1\n",
       "헤어쇼          1\n",
       "납득           1\n",
       "조카           1\n",
       "리리코스         1\n",
       "강점           1\n",
       "요정           1\n",
       "웠다는          1\n",
       "였군욬          1\n",
       "의적           1\n",
       "썩            1\n",
       "연인           1\n",
       "상상           1\n",
       "정시           1\n",
       "격            1\n",
       "귀가           1\n",
       "도시           1\n",
       "무빙           1\n",
       "체워           1\n",
       "나본           1\n",
       "그녀           1\n",
       "곰신           1\n",
       "륵메꿔짐         1\n",
       "마다가스카르       1\n",
       "전신           1\n",
       "발전           1\n",
       "유지시          1\n",
       "스타           1\n",
       "연달           1\n",
       "크레센드         1\n",
       "구인           1\n",
       "부톤           1\n",
       "녀러분          1\n",
       "혁명           1\n",
       "씩            1\n",
       "체형           1\n",
       "블렌딩          1\n",
       "염위           1\n",
       "셨던           1\n",
       "덴            1\n",
       "이주일          1\n",
       "흡족           1\n",
       "손실           1\n",
       "단정           1\n",
       "이입           1\n",
       "수렴           1\n",
       "유향           1\n",
       "Name: 0, Length: 5149, dtype: int64"
      ]
     },
     "execution_count": 74,
     "metadata": {},
     "output_type": "execute_result"
    }
   ],
   "source": [
    "rew_n_df.loc[:,0].value_counts()"
   ]
  },
  {
   "cell_type": "code",
   "execution_count": null,
   "metadata": {},
   "outputs": [],
   "source": [
    "stop_words = ['거','어요','단','것','평가','때','이','리뷰','어서','좀','저','제','요','더','고','진짜','쓰기','생각','입니다','같아요','있','같','써','쓰고','들','그냥','데','안','그','다가','정도','후','용','하나','중','아하','함','듯','면서','수','일단','한번','걸','편','사','뭐','형','유','나','이나','보고','이건','내','까지','성','아주','사드','젤','적']"
   ]
  },
  {
   "cell_type": "code",
   "execution_count": 84,
   "metadata": {
    "ExecuteTime": {
     "end_time": "2019-12-23T03:07:27.246530Z",
     "start_time": "2019-12-23T03:07:07.744976Z"
    }
   },
   "outputs": [],
   "source": [
    "rew['rew_n'] = rew['rew_pre'].apply(rew_n.pos)"
   ]
  },
  {
   "cell_type": "code",
   "execution_count": 95,
   "metadata": {
    "ExecuteTime": {
     "end_time": "2019-12-23T03:10:53.435550Z",
     "start_time": "2019-12-23T03:10:53.417631Z"
    }
   },
   "outputs": [
    {
     "data": {
      "text/plain": [
       "'아빠 사드렸는데 저아해여'"
      ]
     },
     "execution_count": 95,
     "metadata": {},
     "output_type": "execute_result"
    }
   ],
   "source": [
    "rew['rew_pre'][0]"
   ]
  },
  {
   "cell_type": "code",
   "execution_count": 99,
   "metadata": {
    "ExecuteTime": {
     "end_time": "2019-12-23T03:11:54.699383Z",
     "start_time": "2019-12-23T03:11:54.691441Z"
    }
   },
   "outputs": [
    {
     "data": {
      "text/plain": [
       "[('아빠', 'Noun'),\n",
       " ('사드', 'Noun'),\n",
       " ('렸는데', 'Noun'),\n",
       " ('저', 'Noun'),\n",
       " ('아해', 'Noun')]"
      ]
     },
     "execution_count": 99,
     "metadata": {},
     "output_type": "execute_result"
    }
   ],
   "source": [
    "rew['rew_n'][0]"
   ]
  },
  {
   "cell_type": "code",
   "execution_count": 110,
   "metadata": {
    "ExecuteTime": {
     "end_time": "2019-12-23T03:14:24.675355Z",
     "start_time": "2019-12-23T03:14:24.403332Z"
    }
   },
   "outputs": [
    {
     "data": {
      "text/plain": [
       "0                                 [아빠, 사드, 렸는데, 저, 아해, 여]\n",
       "1                    [향, 이, 좋아요, 근데, 좀, 제, 피부, 가, 민감, 해서]\n",
       "2                      [가격, 이, 저렴, 하고, 냄새, 가, 안, 쎄서, 좋아요]\n",
       "3        [선물, 용, 으로, 사서, 선물, 했는데, 나름, 만족, 했는지, 매일, 바른다네요]\n",
       "4                                     [향, 이, 청량, 해서, 좋아요]\n",
       "5       [피부, 지성, 이어서, 최대한, 안, 끈, 적, 거리, 고, 수분, 보충, 할, ...\n",
       "6                                         [남치니, 사, 줫, 는데]\n",
       "7       [남자, 화장품, 향, 을, 중시, 하시는, 아빠, 선물, 로, 드렸는데, 만족, ...\n",
       "8                                    [지금, 오빠, 가, 쓰고, 있는데]\n",
       "9                      [복합, 성, 피부, 입니다, 생각, 보다, 별로, 였습니다]\n",
       "10      [실랑이, 복합, 성인, 데, 이, 거, 쓰고, 진짜, 좋다, 고하, 네, 요, 주...\n",
       "11                   [예민, 한, 분듵, 은, 트러블, 날, 수도, 있을거, 같아요]\n",
       "12      [아빠, 생신, 선물, 로, 드렸었는데, 향, 도, 좋고, 아빠, 가, 완전, 만,...\n",
       "13      [가볍게, 바르기, 좋은, 것, 같아요, 향, 도, 강하, 지도, 않고, 아빠, 가...\n",
       "14      [제, 가, 테스, 터, 써, 봤을, 때, 는, 트러블, 안나, 고, 향, 도, 괜...\n",
       "15                     [아빠, 가, 한, 번, 사시, 고, 는, 또, 사셧, 어요]\n",
       "16      [저렴, 하고, 제품, 력, 이, 강하, 기, 까지, 하니, 두, 말, 할, 따위,...\n",
       "17      [선물, 로, 드렸는데, 원래, 피부, 가, 민감, 하셔서, 선물, 드릴, 때, 고...\n",
       "18      [편, 하긴, 하, 지만, 향, 이, 세고, 성분, 도, 순, 한지, 는, 잘, 모...\n",
       "19      [아버지, 사용, 하시는, 제품, 인데, 겨울, 에, 스킨, 과, 로션, 만, 발라...\n",
       "20      [사, 요, 아버지, 가, 사용, 하고, 계시, 는, 데, 좋, 아하, 시, 는, ...\n",
       "21      [오빠, 선물, 로, 사줬는데, 진한, 남자, 스킨, 로션, 향, 이, 아닌, 은,...\n",
       "22                   [사, 요, 이번, 설, 에, 아빠, 설선물, 로, 드렸, 어요]\n",
       "23      [엥, 이, 거, 아빠, 가, 쓰시, 던거, 여기, 서, 보니, 반갑, 네, 용, ...\n",
       "24      [오빠, 선물, 로, 해줬는데, 민감, 한편, 이여, 도, 이, 제품, 은, 다행,...\n",
       "25      [아빠, 한테, 선물, 로, 사드, 렸는데, 아빠, 피부, 가, 거칠했던게, 촉촉,...\n",
       "26        [아빠, 선물, 러, 사드, 렸는데, 정말, 괜찮, 타고, 했던, 제, 퓸, 입니다]\n",
       "27      [남자친구, 꺼로, 비오템, 도, 사보, 고, 여러가지, 사봤는데, 이, 게, 제일...\n",
       "28      [저희, 아부지, 는, 올인원, 이런거, 별로, 안좋, 아하, 셔, 서, 이, 거,...\n",
       "29      [포레스트, 제, 가, 우연, 찮, 게, 이니스프리, 들려, 파란, 케이스, 보고,...\n",
       "30      [이, 제품, 뿐, 만, 아니, 라, 이니스프리, 특, 유의, 감귤, 향, 이, 나...\n",
       "31      [건조, 한, 남친, 피부, 에, 딱, 좋아요, 이번, 겨울, 에, 또, 사줄거, 에야]\n",
       "32                  [저, 도, 제품, 쓰, 면서, 피부, 가, 많이, 좋아졌, 어요]\n",
       "33                            [아빠, 사드, 렸는데, 잘, 쓰고, 계세, 요]\n",
       "34      [급하게, 스킨, 케어, 제품, 사라, 고, 하면, 살, 만, 한, 이니스프리, 포...\n",
       "35      [순, 하고, 가볍게, 바르기에, 좋아요, 아빠, 랑, 같이, 사용, 하고, 있, 어요]\n",
       "36      [남편, 은, 피부, 가, 좀, 예민, 한편, 인데, 이, 거, 쓰고, 따갑다고, ...\n",
       "37      [무난, 합니다, 보이, 는, 것, 처럼, 파란색, 이, 시원, 한, 느낌, 을, ...\n",
       "38      [군대, 간, 제, 동생, 한테, 사, 줫, 엇, 는데, 좋, 아하, 네, 요, 근...\n",
       "39      [겨울, 에, 코, 주변, 입, 주변, 볼, 따구, 다, 터, 가지, 고, 벌겋게,...\n",
       "40      [아버지, 가, 꾸준하게, 쓰시, 고, 있는, 제품, 향, 이, 남성, 들, 에게,...\n",
       "41      [피톤, 치드, 향, 이나, 면서, 적당, 히, 촉촉, 해서, 좋았, 어요, 바르고...\n",
       "42                       [아부지, 생신, 이라서, 세트, 로, 사드, 렸, 어요]\n",
       "43      [톡, 쏘지, 않고, 은, 은한, 향, 이, 순한, 느낌, 을, 줘서, 아주, 좋더...\n",
       "44                       [이, 거, 조음, 직접, 써, 본, 결과, 매우, 만족]\n",
       "45      [성분, 도, 남자, 꺼, 치고, 순한, 편, 에, 발림, 성, 또한, 우수, 한,...\n",
       "46      [이, 제품, 은, 로션, 이건, 스킨, 이건, 둘다, 짱, 입니당, 남성, 의향,...\n",
       "47            [스킨, 알콜, 향, 은, 없, 어서, 좋, 지만, 그린티, 랑, 차이, 가]\n",
       "48                   [발랐을, 때, 상쾌, 하고, 향, 도, 좋네요, 추천, 합니다]\n",
       "49                                       [리뷰, 에, 많이, 보인다]\n",
       "50                                 [남자, 들의, 공용, 스킨, 이, 죠]\n",
       "51                                         [오, 근데, 조아, 요]\n",
       "52                                             [기름, 진, 물]\n",
       "53      [수분, 이, 부족, 한, 남자, 분들껜, 가, 성비, 로, 치자, 면, 이, 게,...\n",
       "54                               [남편, 이, 애용, 하는, 제품, 입니다]\n",
       "55                            [남자친구, 피부, 많이, 좋아졌습니다, 좋아요]\n",
       "56              [남자친구, 선물, 해, 줫는데, 매우, 잘쓴다, 그, 래서, 만족, 중]\n",
       "57       [이번, 에, 포레스트, 포맨, 으로, 갈아, 탔는데, 지금, 까진, 나쁘지, 않네요]\n",
       "58                    [효과, 도, 어느, 정도, 잇는거, 같고, 괜춘, 한, 제품]\n",
       "59                                           [남친, 선물, 최애]\n",
       "60      [군대, 간, 남친, 휴가, 나, 오, 더니, 알아서, 이, 거, 사서, 들, 어감...\n",
       "61      [남성, 화장품, 가끔, 향, 이, 너무, 강해, 불호, 일, 때, 가, 있는데, ...\n",
       "62      [향, 은, 대체로, 남자, 향, 인데, 촉촉, 하고, 발랏을때, 흡수, 도, 잘,...\n",
       "63      [건성, 인, 옆, 지기, 가, 쓰기, 에, 촉촉, 하고, 무, 난하, 게, 쓰기,...\n",
       "64      [남자, 스킨, 은, 거의, 대부분, 의, 제품, 들이, 향, 이, 참, 독한데, ...\n",
       "65                                [남자친구, 가, 너무, 조, 아해, 요]\n",
       "66      [스킨로션, 전혀, 안, 바르시는, 아빠, 한테, 피부관리, 안, 하면, 더, 나이...\n",
       "67      [남친, 에게, 포레스트, 맨, 스킨, 케어, 세트, 로, 선물, 줬, 어요, 만족...\n",
       "68                     [남편, 이, 쭉, 쓰는, 스킨, 상쾌, 해서, 좋다, 고함]\n",
       "69                           [남자친구, 선물, 해, 줬는데, 좋, 아해, 요]\n",
       "70      [오빠, 가, 화장품, 뭐, 가, 좋냐고, 물어, 보길래, 인터넷, 에서, 순위, ...\n",
       "71                                [구닌, 남친, 이, 쓰는, 스킨, 로션]\n",
       "72      [아빠, 께, 사, 다드, 렸는데, 잘, 쓰시, 고, 계시, 네, 요, 향, 도, ...\n",
       "73                                         [남친, 이, 거, 쓴다]\n",
       "74          [친구, 가, 촉촉, 하고, 산뜻하다고, 매번, 자기, 남친, 사주, 는, 제품]\n",
       "75                                 [남친, 이, 만, 족하, 면서, 써요]\n",
       "76      [남자친구, 선물, 해, 줬는데, 잘쓴당, 그때, 사면, 서, 화장, 솜, 샘플, ...\n",
       "77          [어버이날, 에, 아빠, 생신, 선물, 로, 이, 거, 세트, 사다, 드렸었는데]\n",
       "78      [어느, 피부, 에도, 다, 사, 용이, 가능, 한, 스킨, 인, 것, 같아요, 피...\n",
       "79                                     [남자친구, 선물, 로, 줬는데]\n",
       "80                  [솜, 과, 함께, 사용, 하는데, 정말, 만족, 하고, 있습니다]\n",
       "81      [지성, 피부, 가, 바르기에, 좋은, 거, 같고, 건성, 피부, 엔, 좀, 약할듯...\n",
       "82                             [내, 가, 써, 본, 토너, 중, 에, 최고]\n",
       "83      [이, 거, 쓴지, 이, 년, 되, 어가, 는, 데, 넘, 좋아요, 촉촉, 하고, ...\n",
       "84      [선물, 로, 참, 좋, 아함, 일단, 향, 이, 시원, 하고, 가볍다, 마치, 정...\n",
       "85                 [아주, 좋아요, 촉촉, 해서, 좋습니다, 만족, 짱, 짱, 입니단]\n",
       "86      [우리, 아빠, 는, 향, 이, 진한, 걸, 싫어, 해서, 엄마, 가, 남자, 용,...\n",
       "87                                 [아빠, 템, 사, 요, 남성, 화장품]\n",
       "88            [남편, 이, 연애, 시절, 부터, 재겨, 두고, 늘, 쓰는, 제품, 이에요]\n",
       "89      [아빠, 생신, 선물, 로, 보습, 을, 위해, 사드, 렸는데, 정말, 좋, 아하,...\n",
       "90      [남편, 이, 무, 난하, 게, 잘, 맞는다, 고해, 서, 꾸준히, 사는, 제품, ...\n",
       "91             [제품, 은, 무난, 한, 데, 향, 이세, 고, 가격, 이, 너무, 쎄여]\n",
       "92      [이, 거, 바르고, 피부, 뒤집어져서, 고생, 함, 유명, 한, 데, 저, 랑은,...\n",
       "93      [항상, 헬스, 하고, 나서, 가볍게, 바르는, 제품, 입니다, 제, 가, 지성, ...\n",
       "94      [이, 거, 파란색, 도, 잇음, 이름, 은, 아쿠아, 파워, 똑같은데, 통, 이,...\n",
       "95                       [쿨링감, 이나, 보습, 감은, 괜찮은데, 너무, 비싸요]\n",
       "96                    [아빠, 께, 사드, 렸는데, 크게, 좋은걸, 못, 느끼셨데요]\n",
       "97      [이, 제품, 은, 진짜, 오래, 쓰던, 제품, 인데, 가격, 이, 좀, 있, 지만...\n",
       "98        [누나, 가, 사줘서, 써, 봤는데, 전, 비오템, 화장품, 향기, 가, 좋더라구요]\n",
       "99             [토너, 향, 이, 너무, 좋음, 헬스, 하고, 나서, 보습, 력도, 괜춘]\n",
       "100                        [남친, 선물, 로, 샀는데, 엄청, 좋, 아해, 요]\n",
       "101     [여름, 에, 이, 거, 하나, 만, 발라, 도, 보습, 이, 충분, 해지, 는, 느낌]\n",
       "102                     [수분, 감, 이, 부족, 햇던, 때, 에, 썻었습니, 다]\n",
       "103               [신랑, 이, 끈, 적, 이, 는걸, 싫어, 해서, 요것, 만, 써요]\n",
       "104                  [전, 좀, 끈, 적였는데, 자극, 은, 덜, 하긴, 했, 어요]\n",
       "105     [정석, 남자, 스킨, 냄새, 건성, 은, 사용, 어려울듯, 머, 비오템, 전부, ...\n",
       "106                [시원, 하고, 순, 하고, 자극, 없, 어서, 아주, 잘, 씁니다]\n",
       "107     [인천공항, 에서, 토너, 로션, 아이크, 림, 세트, 로, 구매, 하였고, 운동,...\n",
       "108     [남친, 한테, 선물, 해, 줬는데, 유, 분기, 는, 많으, 면서, 엄청, 건성,...\n",
       "109     [비싼, 가격, 만큼, 아주, 훌, 륭, 한, 제품, 향, 도, 좋고, 끈, 적임,...\n",
       "110     [여친, 이, 사줘서, 쓰는, 중인, 데, 년, 째, 아이오, 템것, 만, 쓰, 다...\n",
       "111                                  [짱, 완전, 좋음, 비싼것이, 흠]\n",
       "112          [남친, 이, 뾰, 루지, 올라와서, 면세, 찬스, 로, 티쀼르, 세트, 사줌]\n",
       "113                                     [여름철, 엔, 괜츈, 하네요]\n",
       "114                                   [와타시, 노, 남친, 대, 후반]\n",
       "115         [가격, 대는, 있, 지만, 향, 도, 좋고, 흡수, 가, 잘, 됩니다, 좋네요]\n",
       "116     [남편, 주, 려고, 샀는데요, 남편, 도, 좋, 아하, 고, 꾸준히, 사용, 하는...\n",
       "117     [남자, 화장품, 특, 유의, 강한, 알콜, 향, 이, 아닌, 상쾌, 한, 향, 이...\n",
       "118                              [향, 이, 너무, 좋아요, 최고, 입니다]\n",
       "119     [남자친구, 선물, 했는데, 약간, 생긴게, 순하게, 생기, 고, 향, 도, 무난,...\n",
       "120                               [냄새, 맡는, 순간, 알콜, 냄새, 확]\n",
       "121     [신랑, 한테, 세트, 사줬, 더니, 너무, 좋, 아함, 하, 지만, 비싸서, 기념...\n",
       "122                                     [바르면, 촉촉, 하니, 좋음]\n",
       "123      [초아, 초아, 초아, 요, 자극, 없, 어요, 머, 가, 마니, 나긴, 하지, 만요]\n",
       "124                                     [남친, 피부관리, 최애, 탬]\n",
       "125                                              [남친, 사줌]\n",
       "126     [우리, 신랑, 극, 지성인, 데, 이니스프리, 쓰, 다가, 이, 라인, 으로, 갈...\n",
       "127                                         [비싸, 지만, 않으면]\n",
       "128     [남친, 이, 스킨로션, 안, 바르는, 사람, 이라, 나이, 도, 들고, 건조, 해...\n",
       "129                              [남편, 은, 이, 게, 가장, 좋, 대요]\n",
       "130                        [아빠, 가, 쓰시, 는, 데, 걍, 무난, 해, 요]\n",
       "131                                             [역시, 비오템]\n",
       "132     [비오템, 입, 문하, 자마자, 떠나게, 한, 제품, 피부, 에, 신경안, 쓰던, ...\n",
       "133                         [촉촉함, 세수, 하고, 바로, 발라, 주기, 좋음]\n",
       "134                                                  [개굿]\n",
       "135                                   [흡수, 빠르고, 향, 도, 무난]\n",
       "136     [흡수, 빠르고, 향, 좋고, 좋음, 하, 지만, 아쿠아, 라고, 하기엔, 지, 속...\n",
       "137     [남자친구, 를, 직접, 데리, 고, 백화점, 을, 둘러다니, 면서, 여기저기, 화...\n",
       "138     [남편, 이, 지금, 쓰는, 보닌, 쓰, 기전, 에, 신혼, 때, 부터, 썼던, 제...\n",
       "139                            [특, 유의, 비오템, 향, 이나, 서, 좋음]\n",
       "140                             [여름철, 지친, 피부, 에, 너무, 좋아요]\n",
       "141     [남친, 선물, 해, 줬는데, 오빠, 가, 향, 이, 좀, 쏘는, 그런, 향, 이라...\n",
       "142                                  [향, 좋고, 빠르게, 흡수, 되요]\n",
       "143                        [좋아요, 얼굴, 이, 환, 해지, 는, 느낌, 받음]\n",
       "144     [비오템, 시원, 하고, 좋습니다, 끈, 적거, 림, 도, 없고, 보습, 력도, 좋...\n",
       "145     [향, 도, 좋고, 끈, 적, 거리, 지, 않아, 자주, 애용, 하는, 제품, 입니...\n",
       "146     [솔직, 히, 쓸게요, 수, 부지, 피부, 입니다, 백, 원도, 할인, 안, 받고,...\n",
       "147     [원래, sk, 를, 사용, 하, 다가, 갈아, 탔는데, 순한거, 같기는, 하나, ...\n",
       "148     [가격, 이, 좀, 쎄긴, 하, 지만, 가격, 값, 하는, 것, 같아요, 년전, 에...\n",
       "149                  [면세, 로, 항상, 대, 용량, 으로, 구, 입하, 는, 제품]\n",
       "150     [면세, 찬스, 로, 만, 구입, 해, 야하는, 근데, 너무, 좋은, 얼굴, 에, ...\n",
       "151     [너무, 따가워요, 쓰다, 보면, 나, 아지, 겠거니, 했는데, 똑같이, 따가워, ...\n",
       "152     [좀, 비싸서, 살, 때, 손, 떨, 리지, 만, 막상, 사고, 나면, 잘, 쓰는,...\n",
       "153     [좋아요, 좋아요, 피부, 가, 완전, 뒤집어졌을, 때, 피부, 에, 좋다는, 토너...\n",
       "154     [굳이, 이, 걸, 써야하는, 점, 을, 못, 느꼈음, 아무, 런, 장점, 도, 단...\n",
       "155                           [가격, 만, 놓고, 보면, 정말, 별로, 인데]\n",
       "156            [그냥, 순, 하고, 닦, 토, 하기, 좋은데, 자꾸, 꽃잎, 이, 나와요]\n",
       "157     [전, 가격, 대비, 좋, 은지, 모르겠, 어요, 그냥, 솜, 으로, 닦, 아내, ...\n",
       "158                      [비싸게, 샀는데, 쓰, 자마자, 바로, 뒤집혔습니, 다]\n",
       "159                                     [거의, 통, 넘게, 쓰고있음]\n",
       "160     [친구, 가, 엄청, 좋다고, 추천, 해, 줘서, 면세, 찬스, 로, 시중, 가격,...\n",
       "161     [그냥, 저, 냥, 보습, 도, 잘, 되고, 냄새, 도, 좋고, 나쁘지, 않은, 토...\n",
       "162                       [좋아요, 비싼, 만큼, 촉촉, 하고, 정말, 좋습니다]\n",
       "163     [제일, 유명, 하고, 좋은, 토너, 래, 요, 하, 지만, 년, 동안, 계속, 쓰...\n",
       "164                              [가격, 빼고는, 다, 좋은, 토너, 에요]\n",
       "165                                  [가격, 만, 조금, 저렴, 했다면]\n",
       "166     [피부, 가, 지성이면, 서, 민, 감성, 이라서, 오랫동안, 시행착오, 를, 겪,...\n",
       "167     [순, 하고, 끈, 적임, 없고, 수분, 도, 적당, 히, 채워주는, 느낌, 이어서...\n",
       "168     [여드름, 에, 좋다고, 추천, 받아서, 썼는데, 딱히, 효과, 는, 못, 느꼈, ...\n",
       "169     [피부, 에, 트러블, 이, 올라, 왔을, 때, 썼는데, 그, 다음, 날, 진정, ...\n",
       "170     [흡수, 빠르고, 까먹고, 크림, 안, 발라, 도, 그다지, 당김, 없음, 화장, ...\n",
       "171                                 [한, 통, 을, 다, 쓰긴, 했는데]\n",
       "172     [그저, 물, 이군, 요, 이, 쯤, 끝내, 야, 꽃잎, 이, 예쁘게, 남, 을, ...\n",
       "173                      [저, 는, 이, 게, 제, 인생, 토너, 인거, 같아요]\n",
       "174                                      [홍차, 냄새, 같은게, 남]\n",
       "175     [토너, 로서, 의, 기능, 에, 충실, 하다, 하, 지만, 너무, 비싼, 가격, ...\n",
       "176           [여름, 이, 되면, 속, 당, 김, 이, 심해, 항상, 사용, 하는, 제품]\n",
       "177     [좁쌀, 여드름, 이나, 뾰, 루지, 가, 나올, 때, 솜, 에, 적신, 토너, 로...\n",
       "178     [꽃잎, 이, 들어있, 대서, 한번, 써, 봤는데, 생각, 보다, 촉촉하지, 않고,...\n",
       "179     [매우, 비싼, 제품, 이, 죠, 면세점, 으로, 샀는데, 저, 에게, 여드름, 을...\n",
       "180                       [토너, 를, 딱, 보면, 그냥, 일단, 너무, 이뻐요]\n",
       "181     [역시, 비싼건, 비싼데, 이유, 가, 있죠, 속, 당, 김, 해결, 이, 엄청, ...\n",
       "182     [토너, 안, 에, 진짜, 꽃잎, 이, 들어있, 어요, 이런, 제품, 을, 처음, ...\n",
       "183                      [레이어, 드, 해서, 바르, 니까, 촉촉한, 느낌, 이]\n",
       "184             [와, 진짜, 피부, 가, 한번, 에, 흡수, 해서, 지성인, 저, 에겐]\n",
       "185     [선물, 받아서, 사용, 해, 봤는데, 알코올, 도, 없고, 무엇, 보다, 토너, ...\n",
       "186     [성분, 이, 완전, 좋은, 건, 아, 니지, 만, 예민, 한, 피, 부임, 에도,...\n",
       "187                            [닦, 토로, 좋은데, 가, 성비, 가, 별로]\n",
       "188     [일단, 다른, 토너, 들과, 다르게, 물, 같은, 가벼운, 토너, 임, 에도, 흡...\n",
       "189     [아무, 래, 도, 가격, 이, 아쉬워, 처음, 쓰시, 는, 분, 들, 은, 부담,...\n",
       "190              [키, 엘, 다른, 제품, 살때, 샘플, 로, 받아서, 몇번, 써, 봄]\n",
       "191     [키, 엘, 특, 유의, 깔끔한, 패키지, 가, 예뻐요, 성분, 이, 완전, 순한,...\n",
       "192          [성분, 은, 그렇게, 좋은, 건, 아, 니지, 만, 자, 극적, 이지, 않고]\n",
       "193     [진정, 효과, 있고, 수분, 감도, 있고, 계속, 쓰면, 얼굴, 도, 살짝, 환,...\n",
       "194                 [나, 피부, 디게, 좋았음, 하얗고, 잡티, 도, 거의, 없었음]\n",
       "195     [여드름, 이, 사용, 달, 만에, 거의, 없어져서, 완전, 추천, 해, 요, 스킨...\n",
       "196      [화농, 성, 여드름, 이, 많이, 났는데, 이, 거, 바르고, 완전, 좋아졌, 어요]\n",
       "197         [좋긴, 좋은데, 솔직, 히, 이, 가격, 주고, 살, 정도, 는, 아니, 에요]\n",
       "198     [차게, 해서, 얹으면, 진정, 효과, 도, 있는데, 빨리, 닳는, 편이, 고, 무...\n",
       "199     [가격, 이, 사악, 한, 게, 단점, 이지만, 데, 일리, 토너, 로, 아주, 굿...\n",
       "200     [스킨, 팩, 하고, 난, 뒤, 진정, 효과, 때문, 에, 떨어, 지면, 사고, 떨...\n",
       "201     [일단, 용량, 이, 완전, 많아서, 오래, 잘, 쓸거, 같아요, 향, 은, 카렌,...\n",
       "202     [믿고, 쓰는, 브랜드, 인, 키, 엘, 특히, 카란튤, 라, 토너, 는, 토너, ...\n",
       "203     [수분크림, 구, 매하, 면서, 받은, 샘플, 만, 사용, 해, 봤는데, 개, 인적...\n",
       "204     [그냥, 진정, 효과, 도, 좋고, 향, 도, 좋도, 여름, 에, 쓰기, 좋아요, ...\n",
       "205     [비싸, 지만, 정말, 좋습니다, 설명, 서, 처럼, 정말, 로, 피지, 조절, 에...\n",
       "206     [칼렌듈, 라, 꽃잎, 이, 들어있, 어서, 사용, 할, 때, 마다, 기분, 좋, ...\n",
       "207     [보습, 력, 은, 좋았, 지만, 민감, 성, 피부, 인, 저, 는, 제, 형, 이...\n",
       "208     [진정, 에, 좋다고, 해서, 수분, 팩, 용도, 로, 쓰, 려고, 샀는데, 저, ...\n",
       "209                          [여름, 이, 다, 왔다, 니까, 시원, 해, 요]\n",
       "210     [가격, 이, 너무, 사악, 하, 지만, 토너, 중, 가장, 촉촉하다고, 느끼는, ...\n",
       "211                               [여름, 되면, 생각, 나, 는, 화장품]\n",
       "212     [은, 은한, 꽃향, 이, 좋아요, 순, 해서, 좋아요, 근데, 마지막, 에, 꽃잎...\n",
       "213             [토너, 라고, 다, 같은, 토너, 가, 아님을, 알, 게, 해준, 제품]\n",
       "214     [저, 이, 거, 완전, 좋다고, 할수있, 어요, 트러블, 이, 가장, 많이, 났을...\n",
       "215     [여드름, 짜고, 이, 걸, 로, 스킨, 팩, 했는데, 그, 짓, 물을, 좀, 흡수...\n",
       "216     [저, 는, 미스트, 로, 사용, 했는데, 얼굴, 이, 화끈, 거렸, 어요, 그리,...\n",
       "217     [순, 하고, 산뜻해요, 가격, 은, 비싼, 편이, 지만, 흡수, 도, 잘, 되고,...\n",
       "218     [스킨, 팩, 할, 때, 좋아요, 요즘, 가치, 미세먼지, 쩌는날, 피부, 에게, ...\n",
       "219     [커밋, 뷰티, 페스티벌, 에서, 샘플, 받아, 쓰고있는데, 우와, 이건, 진짜, ...\n",
       "220                     [커밋, 뷰티, 페스티벌, 에서, 받아, 온, 샘플, 인데]\n",
       "221     [칠, 스킨, 하, 려고, 대, 용량, 으로, 사서, 사용, 중인, 데, 진짜, 좋아요]\n",
       "222     [이, 토너, 가, 트러블, 에도, 좋고, 홍조, 에도, 좋고, 여러, 모로, 가격...\n",
       "223                   [꽃잎, 이나, 꽃, 성분, 이, 안, 맞아서, 불안, 했지만]\n",
       "224                                                [사, 요]\n",
       "225     [진정, 효과, 진짜, 좋아요, 가격, 해외, 에서, 사서, 한국, 가격, 만원, ...\n",
       "226     [가격, 빼고는, 완벽, 한, 제품, 물, 스킨, 인데, 여러, 번, 덧, 바르면,...\n",
       "227     [저, 한테, 는, 너무나도, 좋았던, 제품, 진짜, 좋아용, 가격, 이, 좀, 비...\n",
       "228                                          [글로리, 추천, 템]\n",
       "229     [커밋, 뷰티, 키, 엘, 부스, 에서, ml, 받아서, 스킨, 팩, 으로, 써, ...\n",
       "230     [꽃잎, 나, 온, 거만, 빼면, 좋은, 거, 같아요, 어느, 정도, 진정, 도, ...\n",
       "231     [엄마, 가, 사주, 셨는데, 진짜, 좋아요, 꽃잎, 이, 가끔, 같이, 나와서, ...\n",
       "232               [아침, 저녁, 토너, 팩, 으로, 사용, 하기에, 정말, 좋아, 욧]\n",
       "233                          [꽃잎, 이, 있, 어서, 좋, 지만, 자극, 됨]\n",
       "234     [비싸, 지만, 좋아요, 꽃잎, 이, 그래, 로, 나와서, 뭔가, 더, 신뢰, 가,...\n",
       "235     [산뜻하게, 쓰긴, 좋, 지만, 산뜻한, 가격, 은, 아닌, 이, 가격, 으로, 다...\n",
       "236     [꽃잎, 도, 들어있고, 색도, 추출, 물, 같아서, 미관, 상, 보기, 는, 예쁜...\n",
       "237                   [순, 하긴, 한데, 크게, 좋, 지도, 나쁘, 지도, 않아요]\n",
       "238     [한동, 안, 계속, 썼었, 지만, 가격, 에, 비해, 뭐, 가, 좋, 은지, 모르...\n",
       "239               [남편, 과, 함께, 쓸, 수, 있, 어서, 너무, 감사, 한, 제품]\n",
       "240     [그냥, 있길래, 써, 봤던, 제품, 인데, 음, 엄청, 크게, 좋은, 점도, 크게...\n",
       "241     [이, 거, 예전, 에, 썼었는데, 너무, 좋아요, 잎, 이, 가끔, 나온다는, 점...\n",
       "242     [남자, 가, 쓰기, 에도, 여자, 가, 쓰기, 에도, 무, 난하, 게, 순, 하고...\n",
       "243     [아는, 언니, 가, 적극, 추천, 해서, 처음, 접, 해본, 키, 엘, 제품, 입...\n",
       "244                    [가격, 은, 어마, 무시, 하, 지만, 만족, 했던, 제품]\n",
       "245                            [스킨, 팩, 으로, 좋, 다기, 에, 샀는데]\n",
       "246     [신랑, 이, 쓰고있는데, 한번, 에, 바르니, 다른, 것, 보다, 잘, 바르고, ...\n",
       "247     [아버지, 선물, 로, 사드, 렸는데, 촉촉하다고, 만족, 하세요, 한번, 에, 모...\n",
       "248                               [아버지, 생신, 이라서, 사드, 렸는데]\n",
       "249     [아빠, 사드, 렸는데, 올인원, 이라서, 귀찮지, 않아서, 좋다, 고하, 더라, ...\n",
       "                              ...                        \n",
       "4875    [무거, 운, 제, 형, 이에요, 근데, 스스로, 는, 몰랐는데, 이, 거만, 바르...\n",
       "4876    [러쉬, 냄새, 좋, 아하, 시, 는, 분, 들, 은, 좋, 아하, 실, 냄새, 예...\n",
       "4877    [뭔가, 세련, 된, 느낌, 이라, 샀, 다가, 알, 고, 보니, 긴머리, 여자, ...\n",
       "4878            [넘나, 하드, 해서, 뭉칠, 때, 가, 종종, 있쥬, 나쁘진, 않습니다]\n",
       "4879                                   [고등학교, 때, 사용, 하던거]\n",
       "4880    [투, 블럭, 이라, 옆, 머리, 누를, 때, 주로, 쓰고, 가끔, 머리, 꾸밀, ...\n",
       "4881                                             [국민, 왁스]\n",
       "4882            [지금, 조금, 긴, 숏컷, 인데, 자꾸, 앞머리, 내려오는게, 거슬려서]\n",
       "4883     [왁스, 난, 이, 왁스, 잘안되, 던데, 내, 가, 손질, 을, 못, 하는것, 인가]\n",
       "4884                               [저, 는, 너무, 뻣뻣, 해서, 별로]\n",
       "4885                                          [그냥, 가성, 비]\n",
       "4886    [신랑, 이, 원래, 까만, 통, 에, 들은걸, 쓰는데, 궁금, 해서, 사봤데요, ...\n",
       "4887                                   [국민, 왁스, 라고, 할수있죠]\n",
       "4888    [숏컷, 하고, 머리, 기르는, 과정, 에서, 처음, 써, 본, 왁스, 에요, 떡,...\n",
       "4889                       [첨, 앤, 너무, 점, 성질, 이라, 어색, 했는데]\n",
       "4890    [약간, 길이, 감있는, 헤어, 에, 사용, 하기, 좋은, 왁스, 네, 요, 발림,...\n",
       "4891                          [향, 이, 좋은, 왁스, 발림, 성도, 좋아요]\n",
       "4892    [일단, 세, 정력, 에서, 가장, 맘에듭니, 다, 물, 로, 어느, 정도, 씻고,...\n",
       "4893    [좋아요, 좋은데, 왠지, 해수, 포마드, 보다, 오렌지색, 그, 라, 펜, 다른,...\n",
       "4894    [너무, 과, 하게, 스타일, 링, 돼서, 별로, 였, 어요, 저, 한테, 는, 머...\n",
       "4895    [일단, 수성, 이라, 잘, 씻겨서, 데이트, 나, 스케줄, 후, 늦은, 귀가, 에...\n",
       "4896    [스웨거, 포마드, 쓰고, 써, 봤는데, 다른, 포마드, 들은, 향, 이, 아저씨,...\n",
       "4897    [제, 가, 땀, 을, 많이, 흘리는, 타입, 이라, 수성, 제품, 은, 안, 맞네...\n",
       "4898    [수성, 포마드, 라서, 세척, 이, 너무, 쉽습니다, 이, 포마드, 만, 개월, ...\n",
       "4899                     [아니, 왜, 이, 제품, 이, 리뷰, 가, 없는, 거지]\n",
       "4900                                        [나, 의, 첫, 짱짱]\n",
       "4901           [친오빠, 왁스, 셔틀, 년차, 이, 젠, 쟁여놓, 고, 찾을, 때, 준다]\n",
       "4902    [일, 중, 에, 일, 은, 머리, 에, 제품, 바르는, 남정, 네, 인데, 미국,...\n",
       "4903    [판교, 현대, 백화점, 바버삽, 에서, 유명, 바버삽, 에서, 쓰고있는, 해어, ...\n",
       "4904    [리얼, 포마드, 죠, 부드러워서, 빗질, 이, 잘, 되요, 말, 이, 필요, 없는...\n",
       "4905    [요즘, 허쉬, 컷, 을, 하고, 있, 어서, 허쉬, 컷, 은, 웨트, 헤어, 해,...\n",
       "4906    [무용, 과, 라, 연습, 할, 때, 젤, 머리, 를, 하는데, 항상, 애용, 하고...\n",
       "4907    [좋아요, 무난, 한, 장점, 만, 모아놓은, 느낌, 입니다, 같은, 회사, 의, ...\n",
       "4908                                         [리뷰, 가, 없다니]\n",
       "4909    [갑자기, 목, 뒤, 가, 난리, 나기, 에, 혹시, 나, 싶어, 왁스, 성분, 을...\n",
       "4910    [다슈, 왁스, 는, 대체로, 좋은, 편, 인데, 저, 랑은, 안, 맞는지, 쓰고,...\n",
       "4911                     [고정력, 도, 괜찮은데, 발림, 성도, 나쁘지, 않아요]\n",
       "4912                            [남편, 이, 아주, 잘, 쓰고, 있, 어요]\n",
       "4913    [유광, 인, 왁스, 를, 별로, 선호, 하지, 않아서, 매트, 한, 것, 을, 찾...\n",
       "4914    [머리, 맨날, 만, 지고, 다니는데, 띄우는, 머리, 하시는, 분, 이, 거, 쓰...\n",
       "4915                                        [남동생, 명, 있어용]\n",
       "4916                       [키, 엘, 제품, 중, 에, 이, 게, 제일, 좋음]\n",
       "4917    [동생, 이, 쓰고있는데, 기름, 떡, 진거, 같아, 보이지, 도, 않고, 스타일,...\n",
       "4918    [이, 것, 만, 써요, 머리, 고정, 시킬, 때, 시간, 은, 거뜬히, 버텨요, ...\n",
       "4919         [사과, 향, 이, 나서, 쓰는, 사람, 도, 맡는, 사람, 도, 기분, 좋고]\n",
       "4920    [다른, 제품, 의, 향, 이, 너무, 역, 해서, 무향, 인, 제품, 찾, 다가,...\n",
       "4921                              [리뷰, 가, 없는게, 신기하, 네, 요]\n",
       "4922               [제, 가, 한번, 사서, 써, 봤는데, 너무, 좋은, 것, 같아요]\n",
       "4923                                   [손, 으로, 뜨는, 것, 보다]\n",
       "4924    [나쁘지, 않은, 제품, 입니다, 케이스, 에, 담긴, 손, 으로, 떠서, 쓰는, ...\n",
       "4925        [고정력, 도, 좋고, 세, 정력, 도, 물, 만, 있으면, 씻겨, 나가, 니까]\n",
       "4926                                            [블랙, 포마드]\n",
       "4927                         [왁스, 스프레이, 고정, 잘, 되는, 편, 인데]\n",
       "4928                [세팅, 은, 잘, 되구, 거리, 조절, 잘, 하시는게, 좋습니다]\n",
       "4929    [뿌리, 면, 시원, 함, 왜, 쿨, 인지, 알겠음, 두피, 에, 얼음, 뿌린거, 같음]\n",
       "4930                          [가볍게, 사용, 하기, 좋은, 제품, 인, 듯]\n",
       "4931    [뭐, 이, 것, 도, 무난, 한, 스프레이, 문제, 라, 할건, 없, 지만, 흠,...\n",
       "4932    [구, 하, 기도, 쉽고, 세, 팅, 력, 좋고, 광택, 적은데, 광택, 은, 왁스...\n",
       "4933    [갸스비, 우노, 다, 음으로, 넘어왔던, 왁스, 예요, 항상, 만족, 해서, 써,...\n",
       "4934    [미쟝센, 의, 머그, 샷, 과, 비교, 했을, 때, 기능, 의, 차이, 가, 없는...\n",
       "4935                    [뭉치, 지도, 않고, 끈, 적하, 지도, 않아서, 좋아요]\n",
       "4936    [남자, 앞머리, 텍스처, 주기, 좋아요, 손, 에, 살짝, 남는, 정도, 의, 점...\n",
       "4937                                   [옆, 머리, 누를, 때, 좋음]\n",
       "4938                   [머리, 손질, 인, 생, 년, 차인, 나, 의, 최애, 탬]\n",
       "4939     [가성, 비, 좋은, 제품, 이예, 요, 찐, 득, 거리, 는, 감, 이, 있, 어서]\n",
       "4940                                [예전, 에, 잘, 씀, 그냥, 왁스]\n",
       "4941    [남자, 어중간, 한, 머리, 스타일, 링, 에, 핵, 좋아요, 지속, 력도, 좀,...\n",
       "4942    [볼륨, 살리는데, 좋음, 오백, 원만, 큼, 짜서, 부풀, 면, 원하는데에, 바르...\n",
       "4943    [쓰는, 사람, 은, 한번, 에, 개, 씩, 구, 매하, 는, 마, 성의, 포마드,...\n",
       "4944    [년, 넘게, 쓰고, 있, 어요, 미용실, 에선, 다른, 건, 추천, 해서, 써, ...\n",
       "4945    [광택, 없고, 세, 팅, 력, 우수, 한, 편입, 니, 다, 잘, 못, 바르면, ...\n",
       "4946                              [요즘, 이, 왁스, 를, 사용, 하는데]\n",
       "4947                                      [아직, 도, 파는, 구나]\n",
       "4948             [고딩, 때, 내, 동반, 자였던, 왁스, 이, 젠, 보내줄께, 잘살아]\n",
       "4949                              [음, 그냥, 그냥, 왁스, 가격, 대비]\n",
       "4950                                 [글쎄, 잘, 모르겟다, 걍, 왁스]\n",
       "4951                              [올리브영, 세, 일, 할, 때, 샀다는]\n",
       "4952              [저, 는, 여자, 이지만, 이, 제품, 을, 애용, 하고, 있습니다]\n",
       "4953                                  [기능, 은, 중간, 은, 가는데]\n",
       "4954    [두피, 에, 자극, 도, 없는거, 같고, 약간, 유, 분이있, 어서, 금방, 떡,...\n",
       "4955    [세, 팅, 력, 은, 그냥, 그런데, 윤기, 도, 너무, 많지, 않고, 적당, 하...\n",
       "4956                                           [셋팅력, 좋구요]\n",
       "4957    [가격, 이, 저렴, 한, 편이, 아니, 긴, 하, 지만, 성분, 이, 좋아서, 트...\n",
       "4958                                [짜서, 쓰는거라, 편, 하긴, 한데]\n",
       "4959                  [남친, 이, 쓸, 려고, 올, 영, 가서, 구매, 했, 어요]\n",
       "4960                                    [피부, 에, 맞고, 좋습니다]\n",
       "4961    [하드, 왁스, 라고, 막, 끈, 적임, 없이, 부드럽게, 잘, 발려요, 조금, 만...\n",
       "4962    [무, 난하, 다, 무난, 해, 안성탕면, 진라면, 처럼, 자, 극적, 이지, 않고...\n",
       "4963    [히피, 펌, 하고, 부스스, 해, 진, 머리, 가, 감당, 이, 안되서, 컬링, ...\n",
       "4964    [나쁘지, 않게, 썼던거, 같아요, 무, 난하, 게, 바를, 수, 있고, 골, 고루...\n",
       "4965       [무난, 한, 왁스, 를, 써, 보고, 싶, 어서, 집어, 왔는데, 그냥, 그랬다]\n",
       "4966    [발림, 성, 좋다, 더니, 만, 시간, 지나, 면, 끈, 적거, 림, 심해, 지고...\n",
       "4967                                   [웨트, 헤어, 하, 려고, 삼]\n",
       "4968    [저, 는, 지금, 숏컷, 인데, 웻, 헤어, 도, 전해, 보고, 싶, 어서, 큰거...\n",
       "4969    [여잔, 데, 작년, 여름, 에, 숏컷, 해서, 머리, 모양, 잡는데, 사용, 했음...\n",
       "4970                                     [셋팅력, 은, 그저, 그럼]\n",
       "4971                  [자주, 사용, 하면, 모발, 이, 지, 저, 분, 해지, 고]\n",
       "4972    [M, 가지, 고, 있었는데, 친구, 네, 집, 갔, 다가, 이, 거, 쓰길래, 써...\n",
       "4973    [긴머리, 고데기로, 웨이브, 하고, 고정, 해주, 려고, 라, 인따, 라, 살짝,...\n",
       "4974    [미장, 셴, 왁스, 시리즈, 를, 많이, 이용, 해, 본, 결과, m, 은, 가르...\n",
       "4975    [긴머리, 에는, 왁스, 자체, 가, 하드, 해서, 스타일, 링, 자체, 는, 어렵...\n",
       "4976                       [평타, 침, 구, 하기, 쉬운, 왁스, 인게, 장점]\n",
       "4977    [올리브영, 에서, 직원, 분, 추천, 받아서, 구매, 했구요, 젤, 형태, 왁스,...\n",
       "4978    [일단, 향, 은, 좋은데, 발림, 성도, 그닥, 좋, 지도, 않고, 머리, 도, ...\n",
       "4979    [왁스, 보다, 바르기에, 편, 하기는, 함, 하, 지만, 모발, 에, 힘, 이, ...\n",
       "4980                                 [끈, 적임, 적은거, 빼면, 그닥]\n",
       "4981    [곱슬, 머리, 남친, 이, 매우, 만, 족하, 면서, 잘쓰던, 깔끔하게, 정돈, ...\n",
       "4982    [잼, 이라, 길래, 이, 걸, 어찌, 하나, 싶은데, 뭔가, 부드럽고, 바르, 고...\n",
       "4983    [과, 한, 허브, 향, 천연, 소재, 라고, 하나, 고정력, 이, 너무, 떨어, ...\n",
       "4984    [포마드, 의, 강렬, 한, 향, 이, 부담, 스럽고, 사용, 후, 손, 에, 남아...\n",
       "4985    [아줌마, 말빨, 에, 세, 일, 기간, 에, 속, 아, 서, 샀는데, 고정력, 은...\n",
       "4986                            [숏컷, 하고, 옆, 머리, 앉힐, 때, 씀]\n",
       "4987                                   [어마, 어마, 한, 꾸, 덕함]\n",
       "4988                                 [세, 팅, 력, 만, 좋은, 제품]\n",
       "4989    [숱, 은, 많은데, 힘, 없이, 쳐, 지는, 머리카락, 이라, 회사, 갈, 때, ...\n",
       "4990                   [갸스비은, 안, 망하냐, 이, 거, 깔, 별로, 만든, 놈]\n",
       "4991                     [이, 거, 자주, 쓰면, 탈모, 걸려요, 쓰지, 마세요]\n",
       "4992    [가장, 자주, 보, 여서, 급할, 때, 한번, 씩, 사서, 쓰는, 편, 인데, 세...\n",
       "4993                          [년, 간, 이, 왁스, 를, 사용, 해, 왔음]\n",
       "4994                             [중학생, 때, 처음, 사용, 했던, 제품]\n",
       "4995               [세, 팅, 력, 이, 좋고, 무난, 해서, 사용, 하고, 있습니다]\n",
       "4996    [미용실, 에서, 일, 하는, 인, 입니다, 고객, 님들, 샴푸, 할, 때, 한번,...\n",
       "4997    [가볍게, 머리, 손질, 하긴, 괜찮은, 듯, 양조, 절, 안, 하면, 살짝, 뭉쳐...\n",
       "4998    [왁스, 는, 갸스비, 그냥, 제일, 눈, 에, 자주, 띄, 니까, 쓰기, 시작, ...\n",
       "4999    [이, 왁스, 엄청, 많이, 쓰더라구요, 남동생, 이, 쓰는데, 스타일, 링, 이,...\n",
       "5000                      [남자, 들, 있는, 집, 에는, 하나, 씩, 있을텐데]\n",
       "5001                   [그냥, 여느, 남자, 들이, 라면, 다, 써, 봤을, 제품]\n",
       "5002    [숏컷, 쳤을, 때, 머리, 뭐, 같아서, 왁스, 차, 던, 중, 에, 이, 거, ...\n",
       "5003    [갸, 츠비, 광고, 진짜, 재밌, 던데, 멜빵, 튕, 기는거, 남친, 이, 이, ...\n",
       "5004                   [남친, 머리, 에, 한번, 씩, 은, 다, 발라, 봤을텐데]\n",
       "5005    [지금, 은, 머리, 기르고, 있, 지만, 짧은머리, 엔, 이제, 품, 밖에, 안,...\n",
       "5006                     [남편, 이, 이, 걸, 쓰는데, 좋다, 고하, 네, 요]\n",
       "5007                                            [정말, 좋아요]\n",
       "5008    [포니테일, 할, 때, 주변, 에, 잔, 머리, 들, 정리, 는, 데, 에, 쓰는데...\n",
       "5009    [끈, 적하, 고, 떠질, 때, 기분, 이, 좋, 지는, 않, 지만, 이, 거, 에...\n",
       "5010                            [이건, 왁스, 가, 아니, 라, 젤, 같음]\n",
       "5011    [젤리, 같이, 생겨서, 한번, 뜨고, 냅, 두면, 그, 자, 리가, 다시, 스르,...\n",
       "5012                                 [넌, 대체, 기능, 이, 뭐, 야]\n",
       "5013    [뿌릴, 때, 미세먼지, 같은, 가루, 겁, 나날, 림, 머리, 가, 긴데, 고정,...\n",
       "5014    [헤어스프레이, 처음, 사는데, 다른, 것, 들, 처럼, 뿌리, 면, 오, 홍홍, ...\n",
       "5015    [왁스, 사용, 후, 뿌려주면, 땀, 흘려도, 흘러내, 리지, 않아서, 지, 속력,...\n",
       "5016                 [고정력, 은, 나쁘지, 않은데, 음, 이름, 도, 있는데, 음]\n",
       "5017                                                 [와우]\n",
       "5018    [머리, 뿌리, 볼륨, 올릴, 때, 사용, 중이, 에요, 왠만한, 스프레이, 는, ...\n",
       "5019    [세, 일, 하는거, 아무, 거나, 샀음, 꼬리, 빗, 에, 뿌려서, 앞머리, 샥샥...\n",
       "5020    [제품, 력, 은, 나쁘지, 않고, 냄새, 가, 안좋긴, 한데, 금방, 사라, 지고...\n",
       "5021                                    [남편, 의, 애정, 스프레이]\n",
       "5022    [매일, 매일, 출근, 할, 때, 스프레이, 를, 써야, 해서, 이, 것, 저, 것...\n",
       "5023    [확실, 히, 안, 쓴것, 보다는, 앞머리, 볼륨, 지속, 시간, 이, 늘어나는데,...\n",
       "5024    [남자친구, 머리, 고, 정시, 킬때, 쓰는데, 이, 거만, 한, 게, 없는것, 같아요]\n",
       "5025                      [머리, 기장, 이, 굉장히, 길고, 숱, 이, 많아서]\n",
       "5026         [픽, 서, 스프레이, 에, 비해, 고정력, 뜬, 뜬, 하니, 아주, 좋습니다]\n",
       "5027                        [머리, 고정력, 갑, 년, 째, 사용, 중인, 데]\n",
       "5028    [어피, 할, 때, 이, 거, 뿌려주면, 머리, 하루, 종일, 고정, 돼요, 잔, ...\n",
       "5029    [그냥, 저, 냥, 무난, 해, 요, 고정력, 이, 뛰어나, 지는, 않은데, 나쁘지...\n",
       "5030            [남자, 들이, 이, 것, 만, 고집, 하는데, 에는, 이유, 가, 있음]\n",
       "5031                             [눈, 에, 자주, 띄길래, 하나, 샀는데]\n",
       "5032                           [년, 째, 쓰고있는데, 정말, 최고, 입니다]\n",
       "5033                  [어떤, 파워블로거, 가, 좋다고, 해서, 사서, 써, 봤는데]\n",
       "5034    [고정력, 은, 좋, 을지, 모르나, 세, 정진, 짜잘, 안됩니다, 고정력, 도, ...\n",
       "5035    [저, 는, 스프레이, 이, 것, 만, 써요, 이번, 에, 일본, 가, 서, 쟁여올...\n",
       "5036      [고정력, 진짜, 괜찮음, 나름, 쓰기, 좋았다고, 생각, 함, 죠, 음, 죠, 음]\n",
       "5037                                   [이, 거, 통, 정도, 썼는데]\n",
       "5038                                     [믿고, 거르, 는, 갸스비]\n",
       "5039    [집, 에, 두, 개, 놔두고, 쓰고, 있는, 중, 무, 난하, 게, 괜찮음, 가,...\n",
       "5040    [스프레이, 는, 세, 정력, 고정력, 지속, 력, 분사, 능력, 가지, 가, 중,...\n",
       "5041    [솔직, 히, 별로, 임, 어쩔, 수없이, 편의점, 에서, 쉽게, 구, 할수있, 어...\n",
       "5042    [세, 팅, 력, 정말, 괜찮고, 윤기, 도, 자연, 스럽게, 있는, 편이, 였, ...\n",
       "5043    [세, 팅, 력, 은, 정말, 좋은, 편이, 지만, 너무, 하드, 해서, 머릿털, ...\n",
       "5044                                              [좋은, 점]\n",
       "5045    [파마머리, 라, 머리, 감고, 나, 서, 스프레이, 뿌리, 고, 왁스, 바르는데,...\n",
       "5046    [엄청, 오래전, 에, 사서, 지금, 콩알, 만큼, 짜서, 씨컬, 웨이브, 드라이,...\n",
       "5047                         [예전, 에, 파마, 했을, 때, 급하게, 샀는데]\n",
       "5048                                          [그냥, 그래, 요]\n",
       "5049                    [파마, 하고, 컬, 잡아줄, 제품, 필요, 해서, 샀는데]\n",
       "5050    [머리카락, 웨이브, 줄때, 자연, 스럽게, 고정, 하기에, 쓸만, 함, 에센스, ...\n",
       "5051                                   [너무, 떡, 져, 보임, 별루]\n",
       "5052                          [비듬, 마냥, 하얀, 가루, 날리는거, 개극혐]\n",
       "5053    [왁스, 중, 에, 가장, 무난, 한, 데, 하얀, 제, 형, 이, 머리, 에, 묻...\n",
       "5054    [남친, 이, 이, 것, 만, 쓰는데, 고정력, 진짜, 개쩌는듯, 바람, 불어, 도...\n",
       "5055            [머리, 숱, 도, 많고, 힘, 도, 센, 짧은, 모히칸, 스타일, 이라]\n",
       "5056                             [엄청, 난, 고정력, 감당, 할수, 없다]\n",
       "5057    [남자친구, 가, 머리카락, 이, 굵고, 직모, 인데, 짧기, 까지, 해서, 옆, ...\n",
       "5058       [윤기, 가, 심하지, 않다고, 해서, 점, 만점, 에, 윤기, 가, 점, 이었음]\n",
       "5059                        [내동, 생, 이, 거, 쓰더라, 좋긴, 한가, 봥]\n",
       "5060    [딱풀, 같은, 방식, 으로, 쓰는건데, 요, 냄새, 도, 좋고, 옆, 머리, 가,...\n",
       "5061    [스틱, 형, 이라, 바르, 기, 가, 되게, 편함, 특히, 옆, 머리, 나, 뒷,...\n",
       "5062                                 [다운, 펌, 보다, 훨씬, 좋아요]\n",
       "5063    [파마, 처음, 했을, 때, 썼었는데, 그냥, 머리카락, 이, 뻣뻣, 해지, 기만,...\n",
       "5064    [남, 자칭, 구가, 왁스, 다썻, 대서, 이, 거, 사줬, 더니, 불편, 하다고,...\n",
       "5065    [제, 가, 긴, 파마머리, 인데, 왁스, 제품, 이랑, 쓰는, 헤어, 에센스, 랑...\n",
       "5066                                    [별로, 임, 이, 거, 흐물]\n",
       "5067          [너무, 끈, 적, 끈, 적하, 게, 늘어나서, 깔끔하게, 쓰기, 안, 좋음]\n",
       "5068    [핵, 별로, 입니다, 올리브영, 갔, 더니, 고정력, 좋고, 광택, 없다, 써, ...\n",
       "5069             [넌, 왁스, 계, 의, 쓰레기, 다, 쳐다, 보기, 도, 싫음, 극혐]\n",
       "5070       [고정력, 은, 나쁘지, 않은데, 뭉치, 는, 감, 이, 없지, 않아, 있, 어요]\n",
       "5071                                 [왁스, 는, 이, 것, 만, 써요]\n",
       "5072    [머릿결, 얇아서, 고정, 잘되, 는걸, 찾았는데, 생각, 보다, 고정력, 안좋음,...\n",
       "5073                     [습한, 날, 에, 앞머리, 고정, 시키는데, 개, 좋음]\n",
       "5074          [향, 은, 좋은데, 고정력, 도, 별로, 고, 머리, 도, 떡집, 니, 다]\n",
       "5075                                 [편의점, 아님, 머리, 다, 빠짐]\n",
       "5076                                   [서방, 님, 위해, 산, 제품]\n",
       "5077                                    [남자친구, 가, 쓰던, 제품]\n",
       "5078    [금손, 이면, 이만, 한, 제품, 은, 없, 지만, 대부분, 의, 남성, 들은, ...\n",
       "5079    [세, 팅, 력, 이, 좋습니다, 대신, 떡, 이, 좀, 잘져서, 양, 조절, 잘해...\n",
       "5080    [제, 가, 몰랐는데, 리뷰, 쓰며, 보니, 헤어, 제품, 은, 갸스, 비만, 쓰네...\n",
       "5081     [편의점, 만, 가면, 구, 할, 수, 있으니, 나름, 의, 장점, 인, 것, 같네요]\n",
       "5082                               [난, 광택, 겁나, 싫어, 하니, 까]\n",
       "5083                                          [그냥, 왁스, 죠]\n",
       "5084                         [회사, 남자, 분들, 다, 이, 거, 쓰더라구요]\n",
       "5085             [남편, 이, 몇, 년, 째, 고정, 으로, 쓰고, 있는, 아이, 예요]\n",
       "5086    [세, 팅, 력, 은, 이, 거, 따라올만, 한, 게, 없는데, 세, 정력, 이, ...\n",
       "5087                                      [우리, 오빠, 인, 생템]\n",
       "5088                                      [너무, 쎄요, 초, 강력]\n",
       "5089                                 [지, 속력, 이, 오래, 못, 감]\n",
       "5090                                          [떡, 잘지, 던데]\n",
       "5091     [세팅시, 조금, 만, 과, 해도, 머리카락, 이, 떡집, 니, 다, 향, 도, 별로]\n",
       "5092    [면접, 때, 여자, 들, 잔, 머리, 정, 리용, 으로, 추천, 저, 쪼마, 난,...\n",
       "5093    [역시, 갸스비, 무빙, 러버, 는, 핑크색, 이, 죠, 잘만, 손질, 하면, 머리...\n",
       "5094                                       [짧은머리, 국민, 왁스]\n",
       "5095                               [수능, 선물, 로, 주니, 잘쓰겠단다]\n",
       "5096    [일단, 제, 형, 은, 끈적끈적한, 핑크색, 크림, 제, 형, 입니다, 다른, 가...\n",
       "5097    [갯츠비, 가, 그래도, 좀, 무난, 한, 듯, 편의점, 에서, 사기, 도, 쉽고,...\n",
       "5098    [동생, 선물, 해, 주니, 세, 팅, 력, 이, 좋다고, 이, 것, 만, 쓰네, ...\n",
       "5099    [지속, 력, 완전, 꽝, 새끼손, 톱, 만큼, 발라, 도, 엄청, 떡짐, 뜨, 지...\n",
       "5100                       [바르다, 보면, 머리, 가, 떡집, 니, 다, 개쩜]\n",
       "5101                  [와, 효과, 일도, 없, 어요, 머리, 만, 다, 상하, 고]\n",
       "5102                    [어휴, 세, 일, 했을, 때, 샀으, 니까, 망, 정이지]\n",
       "5103                                [돈, 이, 아깝다, 다신, 안, 씀]\n",
       "5104               [스프레이, 계, 의, 뾰, 루지, 제조, 기, 성분, 도, 안좋고]\n",
       "5105    [동생, 이, 급하다고, 사왔던건데, 진짜, 한번, 쓰고, 절대, 안, 쓰더라구요,...\n",
       "5106    [봉고, 데기, 로, 머리말, 고, 뿌려, 줬었는데, 나갈, 때, 부터, 벌써, 풀...\n",
       "5107    [볼륨, 감도, 유지, 못, 시키고, 두, 번, 뿌렷는데, 머리카락, 가닥, 가닥,...\n",
       "5108    [남편, 이, 이, 것, 만, 써요, 하루, 종일, 끄, 떡, 없다고, 근데, 저,...\n",
       "5109    [생각, 보다, 별로, 라서, 놀랐음, 뭐, 수퍼, 하드, 이, 래서, 고정, 이,...\n",
       "5110              [정말, 그, 저그, 럼, 기능, 은, 하고, 있긴한데, 그게, 다임]\n",
       "5111    [고대, 하고, 한번, 뿌려주면, 웨이브, 가, 탱, 글, 하, 게, 오래오래, 간...\n",
       "5112                         [고정력, 그냥, 그렇구, 세, 정력, 은, 좋음]\n",
       "5113    [흔하게, 볼수있고, 접근성, 이, 우수, 해서, 좋음, 할인, 가, 에, 사는게,...\n",
       "5114                                          [찐득찐득, 하죠잉]\n",
       "5115                         [지, 속력, 이랑, 고정력, 이, 좋진, 않아요]\n",
       "5116    [이, 거, 통, 제작, 하, 신분, 한번, 만나서, 왜, 그랫냐, 고, 물어, 보...\n",
       "5117                          [요, 거, 울, 신랑, 이, 짱짱, 좋, 아함]\n",
       "5118                  [작은, 병, 으로, 된, 샘플, 을, 썼, 어서, 그, 런가]\n",
       "5119     [그냥, 딱풀, 을, 사, 다가, 옆, 머리, 굳히는데, 쓰는게, 더, 좋지, 않을까]\n",
       "5120    [잘, 나, 오지, 도, 않고, 잘, 되, 지도, 않고, 사촌오빠, 줬, 다가, 불...\n",
       "5121    [왁스, 자체, 를, 떠나서, 구멍, 이, 매일, 막혀서, 짜도, 나오질, 않아요,...\n",
       "5122                                                [좋아요]\n",
       "5123    [제, 가, 마블, 말고, 오리, 지, 널, 을, 샀는데, 그게, 없, 어서, 여기...\n",
       "5124    [갸스비, 회색, 이랑, 비슷할거, 같아요, 왁스, 중, 에, 제일, 매트, 한, ...\n",
       "Name: morphs, Length: 5124, dtype: object"
      ]
     },
     "execution_count": 110,
     "metadata": {},
     "output_type": "execute_result"
    }
   ],
   "source": [
    "rew['morphs']"
   ]
  },
  {
   "cell_type": "code",
   "execution_count": 129,
   "metadata": {
    "ExecuteTime": {
     "end_time": "2019-12-23T03:19:04.187428Z",
     "start_time": "2019-12-23T03:19:04.172984Z"
    }
   },
   "outputs": [
    {
     "data": {
      "text/plain": [
       "True"
      ]
     },
     "execution_count": 129,
     "metadata": {},
     "output_type": "execute_result"
    }
   ],
   "source": [
    "'향' in rew['morphs'][1]"
   ]
  },
  {
   "cell_type": "code",
   "execution_count": 134,
   "metadata": {
    "ExecuteTime": {
     "end_time": "2019-12-23T03:20:47.548040Z",
     "start_time": "2019-12-23T03:20:47.540061Z"
    }
   },
   "outputs": [],
   "source": [
    "def find_word_idx(word):\n",
    "    cnt = 0\n",
    "    cnt_l1 = []\n",
    "    for i in rew['morphs']:\n",
    "        if word in i:\n",
    "            cnt_l1.append(cnt)\n",
    "        cnt += 1\n",
    "    return cnt_l1"
   ]
  },
  {
   "cell_type": "code",
   "execution_count": 181,
   "metadata": {
    "ExecuteTime": {
     "end_time": "2019-12-23T03:52:23.121674Z",
     "start_time": "2019-12-23T03:52:23.111701Z"
    }
   },
   "outputs": [
    {
     "data": {
      "text/plain": [
       "'피부 지성이어서 최대한 안 끈적거리고 수분보충 할 수 있는 제품 찾으려고 하는 편인데 이거 써보니까 좋았어요 피부 기름 클렌징폼으로 세안하고 이거 바르면 저는 괜찮더라고요 '"
      ]
     },
     "execution_count": 181,
     "metadata": {},
     "output_type": "execute_result"
    }
   ],
   "source": [
    "rew['rew_pre'].iloc[find_word_idx('끈')].iloc[0]"
   ]
  },
  {
   "cell_type": "code",
   "execution_count": 173,
   "metadata": {
    "ExecuteTime": {
     "end_time": "2019-12-23T03:36:34.824569Z",
     "start_time": "2019-12-23T03:36:34.810557Z"
    }
   },
   "outputs": [
    {
     "data": {
      "text/plain": [
       "[('피톤', 'Noun'),\n",
       " ('치드', 'Noun'),\n",
       " ('캡슐', 'Noun'),\n",
       " ('이', 'Josa'),\n",
       " ('들었다고', 'Verb'),\n",
       " ('하', 'Exclamation'),\n",
       " ('던데', 'Noun'),\n",
       " ('그', 'Noun'),\n",
       " ('래서', 'Noun'),\n",
       " ('그런지', 'Adjective'),\n",
       " ('아주', 'Noun'),\n",
       " ('약간', 'Noun'),\n",
       " ('화한', 'Adjective'),\n",
       " ('느낌', 'Noun'),\n",
       " ('이', 'Josa'),\n",
       " ('나', 'Noun'),\n",
       " ('면서', 'Noun'),\n",
       " ('시원', 'Noun'),\n",
       " ('하게', 'Verb'),\n",
       " ('피부', 'Noun'),\n",
       " ('에', 'Josa'),\n",
       " ('발리', 'Noun'),\n",
       " ('는', 'Josa'),\n",
       " ('느낌', 'Noun'),\n",
       " ('이', 'Josa'),\n",
       " ('좋았', 'Adjective'),\n",
       " ('어요', 'Noun'),\n",
       " ('아빠', 'Noun'),\n",
       " ('가', 'Josa'),\n",
       " ('피부', 'Noun'),\n",
       " ('에', 'Josa'),\n",
       " ('유', 'Noun'),\n",
       " ('분', 'Suffix'),\n",
       " ('이', 'Josa'),\n",
       " ('많으신', 'Adjective'),\n",
       " ('편이', 'Noun'),\n",
       " ('라', 'Josa'),\n",
       " ('그런', 'Adjective'),\n",
       " ('사용', 'Noun'),\n",
       " ('감', 'Noun'),\n",
       " ('덕분', 'Noun'),\n",
       " ('에', 'Josa'),\n",
       " ('더', 'Noun'),\n",
       " ('잘', 'Verb'),\n",
       " ('쓰셨던', 'Verb'),\n",
       " ('것', 'Noun'),\n",
       " ('같아요', 'Adjective'),\n",
       " ('제', 'Noun'),\n",
       " ('피부', 'Noun'),\n",
       " ('는', 'Josa'),\n",
       " ('건성', 'Noun'),\n",
       " ('인데', 'Josa'),\n",
       " ('저', 'Noun'),\n",
       " ('한테', 'Josa'),\n",
       " ('도', 'Noun'),\n",
       " ('잘', 'Verb'),\n",
       " ('맞았', 'Verb'),\n",
       " ('어서', 'Noun'),\n",
       " ('피부', 'Noun'),\n",
       " ('타입', 'Noun'),\n",
       " ('을', 'Josa'),\n",
       " ('딱히', 'Adjective'),\n",
       " ('가리는', 'Verb'),\n",
       " ('것', 'Noun'),\n",
       " ('같', 'Adjective'),\n",
       " ('지는', 'Josa'),\n",
       " ('않아요', 'Verb')]"
      ]
     },
     "execution_count": 173,
     "metadata": {},
     "output_type": "execute_result"
    }
   ],
   "source": [
    "t.pos('피톤치드 캡슐이 들었다고 하던데 그래서 그런지 아주 약간 화한 느낌이 나면서 시원하게 피부에 발리는 느낌이 좋았어요 아빠가 피부에 유분이 많으신 편이라 그런 사용감 덕분에 더 잘 쓰셨던 것 같아요 제 피부는 건성인데 저한테도 잘 맞았어서 피부타입을 딱히 가리는 것 같지는 않아요 ')"
   ]
  }
 ],
 "metadata": {
  "hide_input": false,
  "kernelspec": {
   "display_name": "Python 3",
   "language": "python",
   "name": "python3"
  },
  "language_info": {
   "codemirror_mode": {
    "name": "ipython",
    "version": 3
   },
   "file_extension": ".py",
   "mimetype": "text/x-python",
   "name": "python",
   "nbconvert_exporter": "python",
   "pygments_lexer": "ipython3",
   "version": "3.7.3"
  },
  "toc": {
   "base_numbering": 1,
   "nav_menu": {},
   "number_sections": true,
   "sideBar": true,
   "skip_h1_title": false,
   "title_cell": "Table of Contents",
   "title_sidebar": "Contents",
   "toc_cell": false,
   "toc_position": {
    "height": "calc(100% - 180px)",
    "left": "10px",
    "top": "150px",
    "width": "177px"
   },
   "toc_section_display": true,
   "toc_window_display": true
  },
  "varInspector": {
   "cols": {
    "lenName": 16,
    "lenType": 16,
    "lenVar": 40
   },
   "kernels_config": {
    "python": {
     "delete_cmd_postfix": "",
     "delete_cmd_prefix": "del ",
     "library": "var_list.py",
     "varRefreshCmd": "print(var_dic_list())"
    },
    "r": {
     "delete_cmd_postfix": ") ",
     "delete_cmd_prefix": "rm(",
     "library": "var_list.r",
     "varRefreshCmd": "cat(var_dic_list()) "
    }
   },
   "types_to_exclude": [
    "module",
    "function",
    "builtin_function_or_method",
    "instance",
    "_Feature"
   ],
   "window_display": false
  }
 },
 "nbformat": 4,
 "nbformat_minor": 2
}
