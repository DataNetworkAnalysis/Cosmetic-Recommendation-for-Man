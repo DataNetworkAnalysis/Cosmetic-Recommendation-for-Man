{
 "cells": [
  {
   "cell_type": "code",
   "execution_count": 211,
   "metadata": {
    "ExecuteTime": {
     "end_time": "2020-01-22T11:28:15.253248Z",
     "start_time": "2020-01-22T11:28:15.249293Z"
    }
   },
   "outputs": [],
   "source": [
    "import pandas as pd\n",
    "import numpy as np\n",
    "\n",
    "import re\n",
    "import json\n",
    "import sys\n",
    "sys.path.append('../code')\n",
    "\n",
    "from preprocessing import GlowpickPreprocessing\n",
    "from loaddata import load\n",
    "from gensim.models import FastText"
   ]
  },
  {
   "cell_type": "code",
   "execution_count": 269,
   "metadata": {
    "ExecuteTime": {
     "end_time": "2020-01-22T13:20:23.293403Z",
     "start_time": "2020-01-22T13:20:23.274448Z"
    }
   },
   "outputs": [
    {
     "data": {
      "text/plain": [
       "'코스알엑스 COSRX'"
      ]
     },
     "execution_count": 269,
     "metadata": {},
     "output_type": "execute_result"
    }
   ],
   "source": [
    "brand_lst = products.brand\n",
    "pattern = '[^\\w\\s]'\n",
    "re.sub(pattern, '', brand_lst[0])"
   ]
  },
  {
   "cell_type": "code",
   "execution_count": 270,
   "metadata": {
    "ExecuteTime": {
     "end_time": "2020-01-22T13:21:03.472914Z",
     "start_time": "2020-01-22T13:21:03.458266Z"
    }
   },
   "outputs": [
    {
     "data": {
      "text/plain": [
       "2073"
      ]
     },
     "execution_count": 270,
     "metadata": {},
     "output_type": "execute_result"
    }
   ],
   "source": [
    "products.brand.nunique()"
   ]
  },
  {
   "cell_type": "code",
   "execution_count": 122,
   "metadata": {
    "ExecuteTime": {
     "end_time": "2020-01-22T09:37:06.202293Z",
     "start_time": "2020-01-22T09:37:06.138871Z"
    }
   },
   "outputs": [
    {
     "name": "stdout",
     "output_type": "stream",
     "text": [
      "(12243, 3)\n"
     ]
    }
   ],
   "source": [
    "data = pd.read_csv('../dataset/glowpick_info.csv')\n",
    "print(data.shape)"
   ]
  },
  {
   "cell_type": "code",
   "execution_count": 206,
   "metadata": {
    "ExecuteTime": {
     "end_time": "2020-01-22T11:24:21.259570Z",
     "start_time": "2020-01-22T11:24:21.220181Z"
    }
   },
   "outputs": [],
   "source": [
    "pickle.dump(sent_vec, open('description.pickle','wb'))"
   ]
  },
  {
   "cell_type": "code",
   "execution_count": 207,
   "metadata": {
    "ExecuteTime": {
     "end_time": "2020-01-22T11:24:36.849434Z",
     "start_time": "2020-01-22T11:24:36.806167Z"
    }
   },
   "outputs": [],
   "source": [
    "pickle.dump(sent_vec_tags, open('tags.pickle','wb'))"
   ]
  },
  {
   "cell_type": "code",
   "execution_count": 210,
   "metadata": {
    "ExecuteTime": {
     "end_time": "2020-01-22T11:26:33.058694Z",
     "start_time": "2020-01-22T11:26:33.053992Z"
    }
   },
   "outputs": [],
   "source": [
    "embed = pickle.load(open('../saved_file/new_pre_embed.pickle','rb'))"
   ]
  },
  {
   "cell_type": "code",
   "execution_count": 212,
   "metadata": {
    "ExecuteTime": {
     "end_time": "2020-01-22T11:32:08.194689Z",
     "start_time": "2020-01-22T11:32:08.189507Z"
    }
   },
   "outputs": [],
   "source": [
    "def load():\n",
    "    # Load data\n",
    "    print('[{0:15s}] Load data...'.format('LOAD'), end='')\n",
    "    data = pd.read_csv('../dataset/glowpick_reviews.csv')\n",
    "    products = pd.read_csv('../dataset/glowpick_products.csv')\n",
    "    infos = pd.read_csv('../dataset/glowpick_info.csv')\n",
    "    print('(data.shape: ,{})'.format(data.shape) ,end='')\n",
    "    print('(products.shape: ,{})'.format(products.shape), end='')\n",
    "    print('(infos.shape: ,{})'.format(infos.shape))\n",
    "\n",
    "    # filtering 여성용품\n",
    "    if '여성용품' in products.title.unique():\n",
    "        print('[{0:15s}] filtering data...'.format('LOAD'), end='')\n",
    "        data_prod = pd.merge(data, products, on='product_url', how='left')\n",
    "\n",
    "        # 1. 남성화장품\n",
    "        male_cosmetic = data_prod[data_prod.title=='남성화장품']\n",
    "        # 2. not 남성화장품 and male\n",
    "        male_reviews = data_prod[(data_prod.title!='남성화장품')&(data_prod.sex=='m')]\n",
    "        # concat 1,2\n",
    "        data = pd.concat([male_cosmetic, male_reviews], axis=0)\n",
    "\n",
    "        data = data.rename(columns={'rate_x':'rate'})\n",
    "        data = data[['user_id','rate','content','product_url']].drop_duplicates()\n",
    "        print(f'(filtering data shape: {data.shape}')\n",
    "\n",
    "    return data, products, infos"
   ]
  },
  {
   "cell_type": "code",
   "execution_count": 213,
   "metadata": {
    "ExecuteTime": {
     "end_time": "2020-01-22T11:32:19.682705Z",
     "start_time": "2020-01-22T11:32:17.515108Z"
    }
   },
   "outputs": [
    {
     "name": "stdout",
     "output_type": "stream",
     "text": [
      "[LOAD           ] Load data...(data.shape: ,(461659, 7))(products.shape: ,(12698, 9))(infos.shape: ,(12243, 3))\n",
      "[LOAD           ] filtering data...(filtering data shape: (10390, 4)\n"
     ]
    }
   ],
   "source": [
    "data, products, infos = load()"
   ]
  },
  {
   "cell_type": "code",
   "execution_count": 226,
   "metadata": {
    "ExecuteTime": {
     "end_time": "2020-01-22T11:35:19.977313Z",
     "start_time": "2020-01-22T11:35:19.972809Z"
    }
   },
   "outputs": [
    {
     "data": {
      "text/plain": [
       "12243"
      ]
     },
     "execution_count": 226,
     "metadata": {},
     "output_type": "execute_result"
    }
   ],
   "source": [
    "products.product_url.nunique()"
   ]
  },
  {
   "cell_type": "code",
   "execution_count": 225,
   "metadata": {
    "ExecuteTime": {
     "end_time": "2020-01-22T11:35:08.464277Z",
     "start_time": "2020-01-22T11:35:08.458632Z"
    }
   },
   "outputs": [
    {
     "data": {
      "text/plain": [
       "(12243, 3)"
      ]
     },
     "execution_count": 225,
     "metadata": {},
     "output_type": "execute_result"
    }
   ],
   "source": [
    "infos."
   ]
  },
  {
   "cell_type": "code",
   "execution_count": 230,
   "metadata": {
    "ExecuteTime": {
     "end_time": "2020-01-22T11:36:13.845724Z",
     "start_time": "2020-01-22T11:36:13.841934Z"
    }
   },
   "outputs": [],
   "source": [
    "embed_df = pd.DataFrame(embed)\n",
    "embed_df['product_url'] = data.product_url.values"
   ]
  },
  {
   "cell_type": "code",
   "execution_count": 233,
   "metadata": {
    "ExecuteTime": {
     "end_time": "2020-01-22T11:37:41.159102Z",
     "start_time": "2020-01-22T11:37:41.155280Z"
    }
   },
   "outputs": [],
   "source": [
    "sent_vec_df = pd.DataFrame(sent_vec)\n",
    "sent_vec_df['product_url'] = infos.product_url.values"
   ]
  },
  {
   "cell_type": "code",
   "execution_count": 239,
   "metadata": {
    "ExecuteTime": {
     "end_time": "2020-01-22T11:39:39.887682Z",
     "start_time": "2020-01-22T11:39:39.885302Z"
    }
   },
   "outputs": [],
   "source": [
    "x_embed = [f'{i}_x' for i in range(100)]\n",
    "y_embed = [f'{i}_y' for i in range(100)]"
   ]
  },
  {
   "cell_type": "code",
   "execution_count": 242,
   "metadata": {
    "ExecuteTime": {
     "end_time": "2020-01-22T11:39:53.251692Z",
     "start_time": "2020-01-22T11:39:53.233973Z"
    }
   },
   "outputs": [],
   "source": [
    "embed_join = pd.merge(embed_df, sent_vec_df, on='product_url', how='left')"
   ]
  },
  {
   "cell_type": "code",
   "execution_count": 247,
   "metadata": {
    "ExecuteTime": {
     "end_time": "2020-01-22T11:40:31.882404Z",
     "start_time": "2020-01-22T11:40:31.872134Z"
    }
   },
   "outputs": [
    {
     "data": {
      "text/plain": [
       "(10390, 100)"
      ]
     },
     "execution_count": 247,
     "metadata": {},
     "output_type": "execute_result"
    }
   ],
   "source": [
    "(embed_join[x_embed].values + embed_join[y_embed].values).shape"
   ]
  },
  {
   "cell_type": "code",
   "execution_count": 248,
   "metadata": {
    "ExecuteTime": {
     "end_time": "2020-01-22T11:42:13.684655Z",
     "start_time": "2020-01-22T11:42:13.682231Z"
    }
   },
   "outputs": [],
   "source": [
    "def l2norm(embed_matrix):\n",
    "    norm = np.sqrt(np.power(embed_matrix,2).sum(axis=1))\n",
    "    norm = np.expand_dims(norm, axis=1)\n",
    "    embed_matrix = embed_matrix / norm\n",
    "    return embed_matrix "
   ]
  },
  {
   "cell_type": "code",
   "execution_count": 252,
   "metadata": {
    "ExecuteTime": {
     "end_time": "2020-01-22T11:42:41.959490Z",
     "start_time": "2020-01-22T11:42:41.820079Z"
    }
   },
   "outputs": [
    {
     "name": "stderr",
     "output_type": "stream",
     "text": [
      "/home/jaehyuk/anaconda3/lib/python3.7/site-packages/ipykernel_launcher.py:4: RuntimeWarning: divide by zero encountered in true_divide\n",
      "  after removing the cwd from sys.path.\n",
      "/home/jaehyuk/anaconda3/lib/python3.7/site-packages/ipykernel_launcher.py:4: RuntimeWarning: invalid value encountered in true_divide\n",
      "  after removing the cwd from sys.path.\n",
      "/home/jaehyuk/anaconda3/lib/python3.7/site-packages/numpy/lib/histograms.py:829: RuntimeWarning: invalid value encountered in greater_equal\n",
      "  keep = (tmp_a >= first_edge)\n",
      "/home/jaehyuk/anaconda3/lib/python3.7/site-packages/numpy/lib/histograms.py:830: RuntimeWarning: invalid value encountered in less_equal\n",
      "  keep &= (tmp_a <= last_edge)\n"
     ]
    },
    {
     "data": {
      "text/plain": [
       "(array([   426.,   7896.,  42381., 189018., 357546., 296217., 229047.,\n",
       "         86563.,  12160.,   1546.]),\n",
       " array([-0.39315536, -0.31645744, -0.23975951, -0.16306158, -0.08636365,\n",
       "        -0.00966573,  0.0670322 ,  0.14373013,  0.22042806,  0.29712598,\n",
       "         0.37382391]),\n",
       " <a list of 10 Patch objects>)"
      ]
     },
     "execution_count": 252,
     "metadata": {},
     "output_type": "execute_result"
    },
    {
     "data": {
      "image/png": "[encoded data removed]",
      "text/plain": [
       "<Figure size 432x288 with 1 Axes>"
      ]
     },
     "metadata": {
      "needs_background": "light"
     },
     "output_type": "display_data"
    }
   ],
   "source": [
    "plt.hist(l2norm(sent_vec).reshape(-1))"
   ]
  },
  {
   "cell_type": "code",
   "execution_count": 253,
   "metadata": {
    "ExecuteTime": {
     "end_time": "2020-01-22T11:43:02.971461Z",
     "start_time": "2020-01-22T11:43:02.826005Z"
    }
   },
   "outputs": [
    {
     "name": "stderr",
     "output_type": "stream",
     "text": [
      "/home/jaehyuk/anaconda3/lib/python3.7/site-packages/ipykernel_launcher.py:4: RuntimeWarning: divide by zero encountered in true_divide\n",
      "  after removing the cwd from sys.path.\n",
      "/home/jaehyuk/anaconda3/lib/python3.7/site-packages/ipykernel_launcher.py:4: RuntimeWarning: invalid value encountered in true_divide\n",
      "  after removing the cwd from sys.path.\n",
      "/home/jaehyuk/anaconda3/lib/python3.7/site-packages/numpy/lib/histograms.py:829: RuntimeWarning: invalid value encountered in greater_equal\n",
      "  keep = (tmp_a >= first_edge)\n",
      "/home/jaehyuk/anaconda3/lib/python3.7/site-packages/numpy/lib/histograms.py:830: RuntimeWarning: invalid value encountered in less_equal\n",
      "  keep &= (tmp_a <= last_edge)\n"
     ]
    },
    {
     "data": {
      "text/plain": [
       "(array([ 23885.,  29783., 134257., 182228., 231279., 298521., 211161.,\n",
       "         51078.,  34133.,  10375.]),\n",
       " array([-0.2913866 , -0.23269267, -0.17399873, -0.1153048 , -0.05661087,\n",
       "         0.00208307,  0.060777  ,  0.11947094,  0.17816487,  0.23685881,\n",
       "         0.29555274]),\n",
       " <a list of 10 Patch objects>)"
      ]
     },
     "execution_count": 253,
     "metadata": {},
     "output_type": "execute_result"
    },
    {
     "data": {
      "image/png": "[encoded data removed]",
      "text/plain": [
       "<Figure size 432x288 with 1 Axes>"
      ]
     },
     "metadata": {
      "needs_background": "light"
     },
     "output_type": "display_data"
    }
   ],
   "source": [
    "plt.hist(l2norm(sent_vec_tags).reshape(-1))"
   ]
  }
 ],
 "metadata": {
  "hide_input": false,
  "kernelspec": {
   "display_name": "Python 3",
   "language": "python",
   "name": "python3"
  },
  "language_info": {
   "codemirror_mode": {
    "name": "ipython",
    "version": 3
   },
   "file_extension": ".py",
   "mimetype": "text/x-python",
   "name": "python",
   "nbconvert_exporter": "python",
   "pygments_lexer": "ipython3",
   "version": "3.7.4"
  },
  "toc": {
   "base_numbering": 1,
   "nav_menu": {},
   "number_sections": true,
   "sideBar": true,
   "skip_h1_title": false,
   "title_cell": "Table of Contents",
   "title_sidebar": "Contents",
   "toc_cell": false,
   "toc_position": {},
   "toc_section_display": true,
   "toc_window_display": false
  },
  "varInspector": {
   "cols": {
    "lenName": 16,
    "lenType": 16,
    "lenVar": 40
   },
   "kernels_config": {
    "python": {
     "delete_cmd_postfix": "",
     "delete_cmd_prefix": "del ",
     "library": "var_list.py",
     "varRefreshCmd": "print(var_dic_list())"
    },
    "r": {
     "delete_cmd_postfix": ") ",
     "delete_cmd_prefix": "rm(",
     "library": "var_list.r",
     "varRefreshCmd": "cat(var_dic_list()) "
    }
   },
   "types_to_exclude": [
    "module",
    "function",
    "builtin_function_or_method",
    "instance",
    "_Feature"
   ],
   "window_display": false
  }
 },
 "nbformat": 4,
 "nbformat_minor": 2
}
