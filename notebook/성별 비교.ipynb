{
 "cells": [
  {
   "cell_type": "markdown",
   "metadata": {
    "toc": true
   },
   "source": [
    "<h1>Table of Contents<span class=\"tocSkip\"></span></h1>\n",
    "<div class=\"toc\"><ul class=\"toc-item\"><li><span><a href=\"#Load-Data\" data-toc-modified-id=\"Load-Data-1\"><span class=\"toc-item-num\">1&nbsp;&nbsp;</span>Load Data</a></span></li><li><span><a href=\"#Preprocessing\" data-toc-modified-id=\"Preprocessing-2\"><span class=\"toc-item-num\">2&nbsp;&nbsp;</span>Preprocessing</a></span></li><li><span><a href=\"#성별-리뷰를-얼마나-남기는지\" data-toc-modified-id=\"성별-리뷰를-얼마나-남기는지-3\"><span class=\"toc-item-num\">3&nbsp;&nbsp;</span>성별 리뷰를 얼마나 남기는지</a></span></li><li><span><a href=\"#성별-피부타입\" data-toc-modified-id=\"성별-피부타입-4\"><span class=\"toc-item-num\">4&nbsp;&nbsp;</span>성별 피부타입</a></span></li><li><span><a href=\"#성별-평점-비율\" data-toc-modified-id=\"성별-평점-비율-5\"><span class=\"toc-item-num\">5&nbsp;&nbsp;</span>성별 평점 비율</a></span></li><li><span><a href=\"#성별-리뷰를-남기는-브랜드/상품/카테고리/유형\" data-toc-modified-id=\"성별-리뷰를-남기는-브랜드/상품/카테고리/유형-6\"><span class=\"toc-item-num\">6&nbsp;&nbsp;</span>성별 리뷰를 남기는 브랜드/상품/카테고리/유형</a></span></li></ul></div>"
   ]
  },
  {
   "cell_type": "code",
   "execution_count": 8,
   "metadata": {
    "ExecuteTime": {
     "end_time": "2019-12-23T02:38:45.310840Z",
     "start_time": "2019-12-23T02:38:44.864900Z"
    }
   },
   "outputs": [
    {
     "data": {
      "text/plain": [
       "['glowpick_products.csv',\n",
       " 'glowpick_reviews.csv',\n",
       " 'oliveyoung_product_info.csv']"
      ]
     },
     "execution_count": 8,
     "metadata": {},
     "output_type": "execute_result"
    }
   ],
   "source": [
    "import pandas as pd\n",
    "\n",
    "import pyecharts as pye\n",
    "import matplotlib.pyplot as plt\n",
    "import seaborn as sns\n",
    "\n",
    "import os\n",
    "os.listdir('../dataset')"
   ]
  },
  {
   "cell_type": "markdown",
   "metadata": {},
   "source": [
    "# Load Data"
   ]
  },
  {
   "cell_type": "code",
   "execution_count": 125,
   "metadata": {
    "ExecuteTime": {
     "end_time": "2019-12-23T03:30:14.606995Z",
     "start_time": "2019-12-23T03:30:14.597022Z"
    }
   },
   "outputs": [
    {
     "name": "stdout",
     "output_type": "stream",
     "text": [
      "glowpick_products shape:  (1183, 8)\n"
     ]
    }
   ],
   "source": [
    "glowpick_products = pd.read_csv('../dataset/glowpick_products.csv')\n",
    "print('glowpick_products shape: ',glowpick_products.shape)"
   ]
  },
  {
   "cell_type": "code",
   "execution_count": 126,
   "metadata": {
    "ExecuteTime": {
     "end_time": "2019-12-23T03:30:14.790531Z",
     "start_time": "2019-12-23T03:30:14.779535Z"
    }
   },
   "outputs": [
    {
     "data": {
      "text/html": [
       "<div>\n",
       "<style scoped>\n",
       "    .dataframe tbody tr th:only-of-type {\n",
       "        vertical-align: middle;\n",
       "    }\n",
       "\n",
       "    .dataframe tbody tr th {\n",
       "        vertical-align: top;\n",
       "    }\n",
       "\n",
       "    .dataframe thead th {\n",
       "        text-align: right;\n",
       "    }\n",
       "</style>\n",
       "<table border=\"1\" class=\"dataframe\">\n",
       "  <thead>\n",
       "    <tr style=\"text-align: right;\">\n",
       "      <th></th>\n",
       "      <th>brand</th>\n",
       "      <th>product</th>\n",
       "      <th>vol_price</th>\n",
       "      <th>rate</th>\n",
       "      <th>nb_reviews</th>\n",
       "      <th>sales_rank</th>\n",
       "      <th>product_url</th>\n",
       "      <th>category</th>\n",
       "    </tr>\n",
       "  </thead>\n",
       "  <tbody>\n",
       "    <tr>\n",
       "      <th>0</th>\n",
       "      <td>이니스프리(innisfree)</td>\n",
       "      <td>포레스트 포맨 모이스처 스킨</td>\n",
       "      <td>180ml19,000원</td>\n",
       "      <td>4.07</td>\n",
       "      <td>(81)</td>\n",
       "      <td>1</td>\n",
       "      <td>/product/7212</td>\n",
       "      <td>스킨</td>\n",
       "    </tr>\n",
       "    <tr>\n",
       "      <th>1</th>\n",
       "      <td>비오템옴므</td>\n",
       "      <td>아쿠아파워 토너</td>\n",
       "      <td>200ml54,000원</td>\n",
       "      <td>4.09</td>\n",
       "      <td>(65)</td>\n",
       "      <td>2</td>\n",
       "      <td>/product/4108</td>\n",
       "      <td>스킨</td>\n",
       "    </tr>\n",
       "    <tr>\n",
       "      <th>2</th>\n",
       "      <td>키엘 (Kiehl's)</td>\n",
       "      <td>칼렌듈라 허벌 엑스트렉트 토너</td>\n",
       "      <td>250ml59,000원</td>\n",
       "      <td>3.82</td>\n",
       "      <td>(730)</td>\n",
       "      <td>3</td>\n",
       "      <td>/product/11071</td>\n",
       "      <td>스킨</td>\n",
       "    </tr>\n",
       "    <tr>\n",
       "      <th>3</th>\n",
       "      <td>반트 36.5 (VANT 36.5)</td>\n",
       "      <td>포 맨 올 인 원 스킨</td>\n",
       "      <td>120ml35,000원</td>\n",
       "      <td>4.29</td>\n",
       "      <td>(31)</td>\n",
       "      <td>4</td>\n",
       "      <td>/product/21577</td>\n",
       "      <td>스킨</td>\n",
       "    </tr>\n",
       "    <tr>\n",
       "      <th>4</th>\n",
       "      <td>프리메라</td>\n",
       "      <td>맨 오가니언스 트리트먼트 워터</td>\n",
       "      <td>180ml30,000원</td>\n",
       "      <td>4.38</td>\n",
       "      <td>(26)</td>\n",
       "      <td>5</td>\n",
       "      <td>/product/13159</td>\n",
       "      <td>스킨</td>\n",
       "    </tr>\n",
       "  </tbody>\n",
       "</table>\n",
       "</div>"
      ],
      "text/plain": [
       "                 brand           product     vol_price  rate nb_reviews  \\\n",
       "0     이니스프리(innisfree)   포레스트 포맨 모이스처 스킨  180ml19,000원  4.07       (81)   \n",
       "1                비오템옴므          아쿠아파워 토너  200ml54,000원  4.09       (65)   \n",
       "2         키엘 (Kiehl's)  칼렌듈라 허벌 엑스트렉트 토너  250ml59,000원  3.82      (730)   \n",
       "3  반트 36.5 (VANT 36.5)      포 맨 올 인 원 스킨  120ml35,000원  4.29       (31)   \n",
       "4                 프리메라  맨 오가니언스 트리트먼트 워터  180ml30,000원  4.38       (26)   \n",
       "\n",
       "  sales_rank     product_url category  \n",
       "0          1   /product/7212       스킨  \n",
       "1          2   /product/4108       스킨  \n",
       "2          3  /product/11071       스킨  \n",
       "3          4  /product/21577       스킨  \n",
       "4          5  /product/13159       스킨  "
      ]
     },
     "execution_count": 126,
     "metadata": {},
     "output_type": "execute_result"
    }
   ],
   "source": [
    "glowpick_products.head()"
   ]
  },
  {
   "cell_type": "code",
   "execution_count": 70,
   "metadata": {
    "ExecuteTime": {
     "end_time": "2019-12-23T03:06:58.687152Z",
     "start_time": "2019-12-23T03:06:58.661193Z"
    }
   },
   "outputs": [
    {
     "name": "stdout",
     "output_type": "stream",
     "text": [
      "reviews shape:  (5125, 7)\n"
     ]
    }
   ],
   "source": [
    "reviews = pd.read_csv('../dataset/glowpick_reviews.csv')\n",
    "print('reviews shape: ',reviews.shape)"
   ]
  },
  {
   "cell_type": "code",
   "execution_count": 71,
   "metadata": {
    "ExecuteTime": {
     "end_time": "2019-12-23T03:06:58.859390Z",
     "start_time": "2019-12-23T03:06:58.849416Z"
    }
   },
   "outputs": [
    {
     "data": {
      "text/html": [
       "<div>\n",
       "<style scoped>\n",
       "    .dataframe tbody tr th:only-of-type {\n",
       "        vertical-align: middle;\n",
       "    }\n",
       "\n",
       "    .dataframe tbody tr th {\n",
       "        vertical-align: top;\n",
       "    }\n",
       "\n",
       "    .dataframe thead th {\n",
       "        text-align: right;\n",
       "    }\n",
       "</style>\n",
       "<table border=\"1\" class=\"dataframe\">\n",
       "  <thead>\n",
       "    <tr style=\"text-align: right;\">\n",
       "      <th></th>\n",
       "      <th>date</th>\n",
       "      <th>user_id</th>\n",
       "      <th>sex</th>\n",
       "      <th>age_skin_type</th>\n",
       "      <th>rate</th>\n",
       "      <th>content</th>\n",
       "      <th>product_url</th>\n",
       "    </tr>\n",
       "  </thead>\n",
       "  <tbody>\n",
       "    <tr>\n",
       "      <th>0</th>\n",
       "      <td>28일 전</td>\n",
       "      <td>minseo6666</td>\n",
       "      <td>f</td>\n",
       "      <td>16세 · 복합성 ·</td>\n",
       "      <td>good</td>\n",
       "      <td>아빠 사드렸는데 저아해여</td>\n",
       "      <td>/product/7212</td>\n",
       "    </tr>\n",
       "    <tr>\n",
       "      <th>1</th>\n",
       "      <td>2개월 전</td>\n",
       "      <td>피부에관심있는남자</td>\n",
       "      <td>m</td>\n",
       "      <td>20세 · 복합성 ·</td>\n",
       "      <td>good</td>\n",
       "      <td>향이 좋아요 근데 좀 제 피부가 민감해서</td>\n",
       "      <td>/product/7212</td>\n",
       "    </tr>\n",
       "    <tr>\n",
       "      <th>2</th>\n",
       "      <td>3개월 전</td>\n",
       "      <td>타라타라</td>\n",
       "      <td>f</td>\n",
       "      <td>23세 · 복합성 ·</td>\n",
       "      <td>good</td>\n",
       "      <td>가격이 저렴하고 냄새가 안 쎄서 좋아요. 👍</td>\n",
       "      <td>/product/7212</td>\n",
       "    </tr>\n",
       "    <tr>\n",
       "      <th>3</th>\n",
       "      <td>4개월 전</td>\n",
       "      <td>흐시너</td>\n",
       "      <td>f</td>\n",
       "      <td>18세 · 복합성 ·</td>\n",
       "      <td>good</td>\n",
       "      <td>선물용으로 사서 선물했는데 나름 만족했는지 매일 바른다네요;</td>\n",
       "      <td>/product/7212</td>\n",
       "    </tr>\n",
       "    <tr>\n",
       "      <th>4</th>\n",
       "      <td>4개월 전</td>\n",
       "      <td>홍끼루</td>\n",
       "      <td>f</td>\n",
       "      <td>32세 · 복합성 ·</td>\n",
       "      <td>good</td>\n",
       "      <td>향이 청량해서 좋아요.</td>\n",
       "      <td>/product/7212</td>\n",
       "    </tr>\n",
       "  </tbody>\n",
       "</table>\n",
       "</div>"
      ],
      "text/plain": [
       "    date     user_id sex age_skin_type  rate  \\\n",
       "0  28일 전  minseo6666   f   16세 · 복합성 ·  good   \n",
       "1  2개월 전   피부에관심있는남자   m   20세 · 복합성 ·  good   \n",
       "2  3개월 전        타라타라   f   23세 · 복합성 ·  good   \n",
       "3  4개월 전         흐시너   f   18세 · 복합성 ·  good   \n",
       "4  4개월 전         홍끼루   f   32세 · 복합성 ·  good   \n",
       "\n",
       "                             content    product_url  \n",
       "0                      아빠 사드렸는데 저아해여  /product/7212  \n",
       "1             향이 좋아요 근데 좀 제 피부가 민감해서  /product/7212  \n",
       "2           가격이 저렴하고 냄새가 안 쎄서 좋아요. 👍  /product/7212  \n",
       "3  선물용으로 사서 선물했는데 나름 만족했는지 매일 바른다네요;  /product/7212  \n",
       "4                       향이 청량해서 좋아요.  /product/7212  "
      ]
     },
     "execution_count": 71,
     "metadata": {},
     "output_type": "execute_result"
    }
   ],
   "source": [
    "reviews.head()"
   ]
  },
  {
   "cell_type": "markdown",
   "metadata": {},
   "source": [
    "# Preprocessing"
   ]
  },
  {
   "cell_type": "markdown",
   "metadata": {
    "ExecuteTime": {
     "end_time": "2019-12-23T03:34:34.515437Z",
     "start_time": "2019-12-23T03:34:34.510422Z"
    }
   },
   "source": [
    "TODO: 588개는 어디서 생긴걸까"
   ]
  },
  {
   "cell_type": "code",
   "execution_count": 136,
   "metadata": {
    "ExecuteTime": {
     "end_time": "2019-12-23T03:34:20.742837Z",
     "start_time": "2019-12-23T03:34:20.730841Z"
    }
   },
   "outputs": [
    {
     "name": "stdout",
     "output_type": "stream",
     "text": [
      "glowpick.shape:  (5713, 16)\n"
     ]
    }
   ],
   "source": [
    "# 리뷰가 있는 상품만 join\n",
    "glowpick = pd.merge(reviews, glowpick_products, on='product_url', how='inner')\n",
    "print('glowpick.shape: ',glowpick.shape)"
   ]
  },
  {
   "cell_type": "code",
   "execution_count": 72,
   "metadata": {
    "ExecuteTime": {
     "end_time": "2019-12-23T03:06:59.276687Z",
     "start_time": "2019-12-23T03:06:59.253364Z"
    }
   },
   "outputs": [],
   "source": [
    "# 성별명 변환\n",
    "reviews['sex'] = reviews.sex.map({'f':'여성','m':'남성'})\n",
    "\n",
    "# 나이와 피부타입 분리\n",
    "age_skin_df = reviews.age_skin_type.str.replace('·','').str.split('  ',expand=True)\n",
    "age_skin_df.columns = ['age','skin_type']\n",
    "age_skin_df['skin_type'] = age_skin_df.skin_type.str.strip()\n",
    "reviews = pd.concat([reviews, age_skin_df], axis=1)"
   ]
  },
  {
   "cell_type": "markdown",
   "metadata": {},
   "source": [
    "# 성별 리뷰를 얼마나 남기는지"
   ]
  },
  {
   "cell_type": "code",
   "execution_count": 160,
   "metadata": {
    "ExecuteTime": {
     "end_time": "2019-12-23T03:45:03.889758Z",
     "start_time": "2019-12-23T03:45:03.875795Z"
    }
   },
   "outputs": [],
   "source": [
    "# 성별 리뷰 수 카운트\n",
    "sex_cnt = reviews.sex.value_counts()\n",
    "\n",
    "# make pie charts\n",
    "sex_pie = pye.Pie(width=500, height=300)\n",
    "sex_pie.add(' ',sex_cnt.index, sex_cnt.tolist(), \n",
    "            is_label_show=True,\n",
    "            radius=[20, 50])\n",
    "sex_pie.render()"
   ]
  },
  {
   "cell_type": "markdown",
   "metadata": {},
   "source": [
    "# 성별 피부타입"
   ]
  },
  {
   "cell_type": "code",
   "execution_count": 74,
   "metadata": {
    "ExecuteTime": {
     "end_time": "2019-12-23T03:07:10.574282Z",
     "start_time": "2019-12-23T03:07:10.564280Z"
    }
   },
   "outputs": [],
   "source": [
    "f_skin_type_cnt = reviews[reviews.sex=='여성'].skin_type.value_counts()\n",
    "m_skin_type_cnt = reviews[reviews.sex=='남성'].skin_type.value_counts()"
   ]
  },
  {
   "cell_type": "code",
   "execution_count": 94,
   "metadata": {
    "ExecuteTime": {
     "end_time": "2019-12-23T03:12:02.727185Z",
     "start_time": "2019-12-23T03:12:02.715218Z"
    },
    "scrolled": false
   },
   "outputs": [
    {
     "data": {
      "text/html": [
       "<script>\n",
       "    require.config({\n",
       "        paths: {\n",
       "            'echarts': '/nbextensions/echarts/echarts.min'\n",
       "        }\n",
       "    });\n",
       "</script>\n",
       "    <div id=\"e6d080ec0e034df8a47d3c386db1ba40\" style=\"width:850px;height:400px;\"></div>\n",
       "\n",
       "\n",
       "<script>\n",
       "    require(['echarts'], function(echarts) {\n",
       "        \n",
       "var myChart_e6d080ec0e034df8a47d3c386db1ba40 = echarts.init(document.getElementById('e6d080ec0e034df8a47d3c386db1ba40'), 'light', {renderer: 'canvas'});\n",
       "\n",
       "var option_e6d080ec0e034df8a47d3c386db1ba40 = {\n",
       "    \"title\": [\n",
       "        {\n",
       "            \"text\": \"\\uc131\\ubcc4\\uc5d0 \\ub530\\ub978 \\ud53c\\ubd80\\ud0c0\\uc785 \\ubd84\\ud3ec [\\uc67c\\ucabd: \\uc5ec\\uc131, \\uc624\\ub978\\ucabd: \\ub0a8\\uc131]\",\n",
       "            \"left\": \"center\",\n",
       "            \"top\": \"auto\",\n",
       "            \"textStyle\": {\n",
       "                \"fontSize\": 18\n",
       "            },\n",
       "            \"subtextStyle\": {\n",
       "                \"fontSize\": 12\n",
       "            }\n",
       "        }\n",
       "    ],\n",
       "    \"toolbox\": {\n",
       "        \"show\": true,\n",
       "        \"orient\": \"vertical\",\n",
       "        \"left\": \"95%\",\n",
       "        \"top\": \"center\",\n",
       "        \"feature\": {\n",
       "            \"saveAsImage\": {\n",
       "                \"show\": true,\n",
       "                \"title\": \"\\u4e0b\\u8f7d\\u56fe\\u7247\"\n",
       "            },\n",
       "            \"restore\": {\n",
       "                \"show\": true\n",
       "            },\n",
       "            \"dataView\": {\n",
       "                \"show\": true\n",
       "            }\n",
       "        }\n",
       "    },\n",
       "    \"series_id\": 5572295,\n",
       "    \"tooltip\": {\n",
       "        \"trigger\": \"item\",\n",
       "        \"triggerOn\": \"mousemove|click\",\n",
       "        \"axisPointer\": {\n",
       "            \"type\": \"line\"\n",
       "        },\n",
       "        \"textStyle\": {\n",
       "            \"fontSize\": 14\n",
       "        },\n",
       "        \"backgroundColor\": \"rgba(50,50,50,0.7)\",\n",
       "        \"borderColor\": \"#333\",\n",
       "        \"borderWidth\": 0\n",
       "    },\n",
       "    \"series\": [\n",
       "        {\n",
       "            \"type\": \"pie\",\n",
       "            \"name\": \"\\uc5ec\\uc131\",\n",
       "            \"data\": [\n",
       "                {\n",
       "                    \"name\": \"\\ubcf5\\ud569\\uc131\",\n",
       "                    \"value\": 1395\n",
       "                },\n",
       "                {\n",
       "                    \"name\": \"\\uac74\\uc131\",\n",
       "                    \"value\": 779\n",
       "                },\n",
       "                {\n",
       "                    \"name\": \"\\ubbfc\\uac10\\uc131\",\n",
       "                    \"value\": 435\n",
       "                },\n",
       "                {\n",
       "                    \"name\": \"\\uc9c0\\uc131\",\n",
       "                    \"value\": 383\n",
       "                },\n",
       "                {\n",
       "                    \"name\": \"\\uc911\\uc131\",\n",
       "                    \"value\": 189\n",
       "                }\n",
       "            ],\n",
       "            \"radius\": [\n",
       "                \"20%\",\n",
       "                \"50%\"\n",
       "            ],\n",
       "            \"center\": [\n",
       "                \"25%\",\n",
       "                \"50%\"\n",
       "            ],\n",
       "            \"roseType\": \"radius\",\n",
       "            \"label\": {\n",
       "                \"normal\": {\n",
       "                    \"show\": true,\n",
       "                    \"position\": \"outside\",\n",
       "                    \"textStyle\": {\n",
       "                        \"fontSize\": 12\n",
       "                    },\n",
       "                    \"formatter\": \"{b}: {d}%\"\n",
       "                },\n",
       "                \"emphasis\": {\n",
       "                    \"show\": true,\n",
       "                    \"textStyle\": {\n",
       "                        \"fontSize\": 12\n",
       "                    },\n",
       "                    \"formatter\": \"{b}: {d}%\"\n",
       "                }\n",
       "            },\n",
       "            \"seriesId\": 5572295\n",
       "        },\n",
       "        {\n",
       "            \"type\": \"pie\",\n",
       "            \"name\": \"\\ub0a8\\uc131\",\n",
       "            \"data\": [\n",
       "                {\n",
       "                    \"name\": \"\\ubcf5\\ud569\\uc131\",\n",
       "                    \"value\": 745\n",
       "                },\n",
       "                {\n",
       "                    \"name\": \"\\uc9c0\\uc131\",\n",
       "                    \"value\": 567\n",
       "                },\n",
       "                {\n",
       "                    \"name\": \"\\uac74\\uc131\",\n",
       "                    \"value\": 305\n",
       "                },\n",
       "                {\n",
       "                    \"name\": \"\\ubbfc\\uac10\\uc131\",\n",
       "                    \"value\": 191\n",
       "                },\n",
       "                {\n",
       "                    \"name\": \"\\uc911\\uc131\",\n",
       "                    \"value\": 136\n",
       "                }\n",
       "            ],\n",
       "            \"radius\": [\n",
       "                \"20%\",\n",
       "                \"50%\"\n",
       "            ],\n",
       "            \"center\": [\n",
       "                \"75%\",\n",
       "                \"50%\"\n",
       "            ],\n",
       "            \"roseType\": \"radius\",\n",
       "            \"label\": {\n",
       "                \"normal\": {\n",
       "                    \"show\": true,\n",
       "                    \"position\": \"outside\",\n",
       "                    \"textStyle\": {\n",
       "                        \"fontSize\": 12\n",
       "                    },\n",
       "                    \"formatter\": \"{b}: {d}%\"\n",
       "                },\n",
       "                \"emphasis\": {\n",
       "                    \"show\": true,\n",
       "                    \"textStyle\": {\n",
       "                        \"fontSize\": 12\n",
       "                    },\n",
       "                    \"formatter\": \"{b}: {d}%\"\n",
       "                }\n",
       "            },\n",
       "            \"seriesId\": 5572295\n",
       "        }\n",
       "    ],\n",
       "    \"legend\": [\n",
       "        {\n",
       "            \"data\": [\n",
       "                \"\\ubcf5\\ud569\\uc131\",\n",
       "                \"\\uac74\\uc131\",\n",
       "                \"\\ubbfc\\uac10\\uc131\",\n",
       "                \"\\uc9c0\\uc131\",\n",
       "                \"\\uc911\\uc131\"\n",
       "            ],\n",
       "            \"selectedMode\": \"multiple\",\n",
       "            \"show\": false,\n",
       "            \"left\": \"center\",\n",
       "            \"top\": \"top\",\n",
       "            \"orient\": \"horizontal\",\n",
       "            \"textStyle\": {\n",
       "                \"fontSize\": 12\n",
       "            }\n",
       "        }\n",
       "    ],\n",
       "    \"color\": [\n",
       "        \"#fab27b\",\n",
       "        \"#ac6767\",\n",
       "        \"#61a0a8\",\n",
       "        \"#2a5caa\",\n",
       "        \"#6950a1\",\n",
       "        \"#726930\",\n",
       "        \"#f05b72\",\n",
       "        \"#546570\",\n",
       "        \"#ef5b9c\",\n",
       "        \"#c4ccd3\",\n",
       "        \"#f6f5ec\",\n",
       "        \"#2f4554\",\n",
       "        \"#bda29a\",\n",
       "        \"#444693\",\n",
       "        \"#d48265\",\n",
       "        \"#b2d235\",\n",
       "        \"#6d8346\",\n",
       "        \"#905a3d\",\n",
       "        \"#c23531\",\n",
       "        \"#749f83\",\n",
       "        \"#f47920\",\n",
       "        \"#ca8622\",\n",
       "        \"#1d953f\",\n",
       "        \"#918597\",\n",
       "        \"#6e7074\"\n",
       "    ]\n",
       "};\n",
       "myChart_e6d080ec0e034df8a47d3c386db1ba40.setOption(option_e6d080ec0e034df8a47d3c386db1ba40);\n",
       "\n",
       "    });\n",
       "</script>\n"
      ],
      "text/plain": [
       "<pyecharts.charts.pie.Pie at 0x24c9edae128>"
      ]
     },
     "execution_count": 94,
     "metadata": {},
     "output_type": "execute_result"
    }
   ],
   "source": [
    "skin_pie = pye.Pie(\"성별에 따른 피부타입 분포 [왼쪽: 여성, 오른쪽: 남성]\", title_pos='center', width=850)\n",
    "skin_pie.add(\"여성\", f_skin_type_cnt.index, f_skin_type_cnt.tolist(), \n",
    "             center=[25, 50], radius=[20, 50], rosetype='radius', \n",
    "             is_random=True, is_label_show=True)\n",
    "skin_pie.add(\"남성\", m_skin_type_cnt.index, m_skin_type_cnt.tolist(), \n",
    "             center=[75, 50], radius=[20, 50], rosetype='radius', \n",
    "             is_random=True, is_label_show=True, is_legend_show=False)\n",
    "skin_pie"
   ]
  },
  {
   "cell_type": "markdown",
   "metadata": {},
   "source": [
    "# 성별 평점 비율"
   ]
  },
  {
   "cell_type": "code",
   "execution_count": 95,
   "metadata": {
    "ExecuteTime": {
     "end_time": "2019-12-23T03:13:26.163412Z",
     "start_time": "2019-12-23T03:13:26.155435Z"
    }
   },
   "outputs": [],
   "source": [
    "f_rate_cnt = reviews[reviews.sex=='여성'].rate.value_counts()\n",
    "m_rate_cnt = reviews[reviews.sex=='남성'].rate.value_counts()"
   ]
  },
  {
   "cell_type": "code",
   "execution_count": 96,
   "metadata": {
    "ExecuteTime": {
     "end_time": "2019-12-23T03:13:41.332597Z",
     "start_time": "2019-12-23T03:13:41.320630Z"
    }
   },
   "outputs": [
    {
     "data": {
      "text/html": [
       "<script>\n",
       "    require.config({\n",
       "        paths: {\n",
       "            'echarts': '/nbextensions/echarts/echarts.min'\n",
       "        }\n",
       "    });\n",
       "</script>\n",
       "    <div id=\"cca585d1efcd4ca695bf2f6dff79eb0b\" style=\"width:850px;height:400px;\"></div>\n",
       "\n",
       "\n",
       "<script>\n",
       "    require(['echarts'], function(echarts) {\n",
       "        \n",
       "var myChart_cca585d1efcd4ca695bf2f6dff79eb0b = echarts.init(document.getElementById('cca585d1efcd4ca695bf2f6dff79eb0b'), 'light', {renderer: 'canvas'});\n",
       "\n",
       "var option_cca585d1efcd4ca695bf2f6dff79eb0b = {\n",
       "    \"title\": [\n",
       "        {\n",
       "            \"text\": \"\\uc131\\ubcc4\\uc5d0 \\ub530\\ub978 \\ud3c9\\uc810 \\ubd84\\ud3ec [\\uc67c\\ucabd: \\uc5ec\\uc131, \\uc624\\ub978\\ucabd: \\ub0a8\\uc131]\",\n",
       "            \"left\": \"center\",\n",
       "            \"top\": \"auto\",\n",
       "            \"textStyle\": {\n",
       "                \"fontSize\": 18\n",
       "            },\n",
       "            \"subtextStyle\": {\n",
       "                \"fontSize\": 12\n",
       "            }\n",
       "        }\n",
       "    ],\n",
       "    \"toolbox\": {\n",
       "        \"show\": true,\n",
       "        \"orient\": \"vertical\",\n",
       "        \"left\": \"95%\",\n",
       "        \"top\": \"center\",\n",
       "        \"feature\": {\n",
       "            \"saveAsImage\": {\n",
       "                \"show\": true,\n",
       "                \"title\": \"\\u4e0b\\u8f7d\\u56fe\\u7247\"\n",
       "            },\n",
       "            \"restore\": {\n",
       "                \"show\": true\n",
       "            },\n",
       "            \"dataView\": {\n",
       "                \"show\": true\n",
       "            }\n",
       "        }\n",
       "    },\n",
       "    \"series_id\": 1379838,\n",
       "    \"tooltip\": {\n",
       "        \"trigger\": \"item\",\n",
       "        \"triggerOn\": \"mousemove|click\",\n",
       "        \"axisPointer\": {\n",
       "            \"type\": \"line\"\n",
       "        },\n",
       "        \"textStyle\": {\n",
       "            \"fontSize\": 14\n",
       "        },\n",
       "        \"backgroundColor\": \"rgba(50,50,50,0.7)\",\n",
       "        \"borderColor\": \"#333\",\n",
       "        \"borderWidth\": 0\n",
       "    },\n",
       "    \"series\": [\n",
       "        {\n",
       "            \"type\": \"pie\",\n",
       "            \"name\": \"\\uc5ec\\uc131\",\n",
       "            \"data\": [\n",
       "                {\n",
       "                    \"name\": \"good\",\n",
       "                    \"value\": 1466\n",
       "                },\n",
       "                {\n",
       "                    \"name\": \"best\",\n",
       "                    \"value\": 967\n",
       "                },\n",
       "                {\n",
       "                    \"name\": \"soso\",\n",
       "                    \"value\": 539\n",
       "                },\n",
       "                {\n",
       "                    \"name\": \"bad\",\n",
       "                    \"value\": 172\n",
       "                },\n",
       "                {\n",
       "                    \"name\": \"worst\",\n",
       "                    \"value\": 37\n",
       "                }\n",
       "            ],\n",
       "            \"radius\": [\n",
       "                \"20%\",\n",
       "                \"50%\"\n",
       "            ],\n",
       "            \"center\": [\n",
       "                \"25%\",\n",
       "                \"50%\"\n",
       "            ],\n",
       "            \"roseType\": \"radius\",\n",
       "            \"label\": {\n",
       "                \"normal\": {\n",
       "                    \"show\": true,\n",
       "                    \"position\": \"outside\",\n",
       "                    \"textStyle\": {\n",
       "                        \"fontSize\": 12\n",
       "                    },\n",
       "                    \"formatter\": \"{b}: {d}%\"\n",
       "                },\n",
       "                \"emphasis\": {\n",
       "                    \"show\": true,\n",
       "                    \"textStyle\": {\n",
       "                        \"fontSize\": 12\n",
       "                    },\n",
       "                    \"formatter\": \"{b}: {d}%\"\n",
       "                }\n",
       "            },\n",
       "            \"seriesId\": 1379838\n",
       "        },\n",
       "        {\n",
       "            \"type\": \"pie\",\n",
       "            \"name\": \"\\ub0a8\\uc131\",\n",
       "            \"data\": [\n",
       "                {\n",
       "                    \"name\": \"good\",\n",
       "                    \"value\": 749\n",
       "                },\n",
       "                {\n",
       "                    \"name\": \"best\",\n",
       "                    \"value\": 509\n",
       "                },\n",
       "                {\n",
       "                    \"name\": \"soso\",\n",
       "                    \"value\": 440\n",
       "                },\n",
       "                {\n",
       "                    \"name\": \"bad\",\n",
       "                    \"value\": 188\n",
       "                },\n",
       "                {\n",
       "                    \"name\": \"worst\",\n",
       "                    \"value\": 58\n",
       "                }\n",
       "            ],\n",
       "            \"radius\": [\n",
       "                \"20%\",\n",
       "                \"50%\"\n",
       "            ],\n",
       "            \"center\": [\n",
       "                \"75%\",\n",
       "                \"50%\"\n",
       "            ],\n",
       "            \"roseType\": \"radius\",\n",
       "            \"label\": {\n",
       "                \"normal\": {\n",
       "                    \"show\": true,\n",
       "                    \"position\": \"outside\",\n",
       "                    \"textStyle\": {\n",
       "                        \"fontSize\": 12\n",
       "                    },\n",
       "                    \"formatter\": \"{b}: {d}%\"\n",
       "                },\n",
       "                \"emphasis\": {\n",
       "                    \"show\": true,\n",
       "                    \"textStyle\": {\n",
       "                        \"fontSize\": 12\n",
       "                    },\n",
       "                    \"formatter\": \"{b}: {d}%\"\n",
       "                }\n",
       "            },\n",
       "            \"seriesId\": 1379838\n",
       "        }\n",
       "    ],\n",
       "    \"legend\": [\n",
       "        {\n",
       "            \"data\": [\n",
       "                \"good\",\n",
       "                \"best\",\n",
       "                \"soso\",\n",
       "                \"bad\",\n",
       "                \"worst\"\n",
       "            ],\n",
       "            \"selectedMode\": \"multiple\",\n",
       "            \"show\": false,\n",
       "            \"left\": \"center\",\n",
       "            \"top\": \"top\",\n",
       "            \"orient\": \"horizontal\",\n",
       "            \"textStyle\": {\n",
       "                \"fontSize\": 12\n",
       "            }\n",
       "        }\n",
       "    ],\n",
       "    \"color\": [\n",
       "        \"#905a3d\",\n",
       "        \"#c23531\",\n",
       "        \"#ac6767\",\n",
       "        \"#61a0a8\",\n",
       "        \"#726930\",\n",
       "        \"#444693\",\n",
       "        \"#1d953f\",\n",
       "        \"#bda29a\",\n",
       "        \"#6e7074\",\n",
       "        \"#f6f5ec\",\n",
       "        \"#ef5b9c\",\n",
       "        \"#546570\",\n",
       "        \"#f47920\",\n",
       "        \"#2f4554\",\n",
       "        \"#749f83\",\n",
       "        \"#f05b72\",\n",
       "        \"#fab27b\",\n",
       "        \"#918597\",\n",
       "        \"#6d8346\",\n",
       "        \"#2a5caa\",\n",
       "        \"#ca8622\",\n",
       "        \"#6950a1\",\n",
       "        \"#b2d235\",\n",
       "        \"#c4ccd3\",\n",
       "        \"#d48265\"\n",
       "    ]\n",
       "};\n",
       "myChart_cca585d1efcd4ca695bf2f6dff79eb0b.setOption(option_cca585d1efcd4ca695bf2f6dff79eb0b);\n",
       "\n",
       "    });\n",
       "</script>\n"
      ],
      "text/plain": [
       "<pyecharts.charts.pie.Pie at 0x24c9ed6e400>"
      ]
     },
     "execution_count": 96,
     "metadata": {},
     "output_type": "execute_result"
    }
   ],
   "source": [
    "skin_pie = pye.Pie(\"성별에 따른 평점 분포 [왼쪽: 여성, 오른쪽: 남성]\", title_pos='center', width=850)\n",
    "skin_pie.add(\"여성\", f_rate_cnt.index, f_rate_cnt.tolist(), \n",
    "             center=[25, 50], radius=[20, 50], rosetype='radius', \n",
    "             is_random=True, is_label_show=True)\n",
    "skin_pie.add(\"남성\", m_rate_cnt.index, m_rate_cnt.tolist(), \n",
    "             center=[75, 50], radius=[20, 50], rosetype='radius', \n",
    "             is_random=True, is_label_show=True, is_legend_show=False)\n",
    "skin_pie"
   ]
  },
  {
   "cell_type": "markdown",
   "metadata": {},
   "source": [
    "# 성별 리뷰를 남기는 브랜드/상품/카테고리/유형"
   ]
  },
  {
   "cell_type": "markdown",
   "metadata": {},
   "source": [
    "제품 10개이상인 브랜드만 비교"
   ]
  },
  {
   "cell_type": "code",
   "execution_count": 152,
   "metadata": {
    "ExecuteTime": {
     "end_time": "2019-12-23T03:39:38.912562Z",
     "start_time": "2019-12-23T03:39:38.892616Z"
    }
   },
   "outputs": [],
   "source": [
    "brand_cnt = glowpick.brand.value_counts().reset_index()\n",
    "cnt_median = brand_cnt.describe().loc['50%'][0]\n",
    "brand_cnt_cut = brand_cnt[brand_cnt['brand'] > cnt_median]\n",
    "brand_cut = glowpick[glowpick.brand.isin(brand_cnt_cut['index'])]\n",
    "\n",
    "f_brand_cut = brand_cut[brand_cut.sex=='여성'].brand.value_counts()\n",
    "m_brand_cut = brand_cut[brand_cut.sex=='남성'].brand.value_counts()"
   ]
  },
  {
   "cell_type": "code",
   "execution_count": 165,
   "metadata": {
    "ExecuteTime": {
     "end_time": "2019-12-23T03:47:54.084343Z",
     "start_time": "2019-12-23T03:47:54.074336Z"
    }
   },
   "outputs": [
    {
     "data": {
      "text/plain": [
       "array(['스킨케어', '바디케어', '헤어케어', '메이크업', '향수/탈취', '쉐이빙/잡화'], dtype=object)"
      ]
     },
     "execution_count": 165,
     "metadata": {},
     "output_type": "execute_result"
    }
   ],
   "source": [
    "pd.read_csv('../dataset/oliveyoung_product_info.csv').category.unique()"
   ]
  },
  {
   "cell_type": "code",
   "execution_count": 162,
   "metadata": {
    "ExecuteTime": {
     "end_time": "2019-12-23T03:47:08.873183Z",
     "start_time": "2019-12-23T03:47:08.869187Z"
    }
   },
   "outputs": [
    {
     "data": {
      "text/plain": [
       "array(['스킨', '로션', '에센스', '크림', '클렌징', '스크럽/필링', '쉐이빙', '애프터쉐이브', '마스크/팩',\n",
       "       '메이크업', '선케어', '헤어/바디', '헤어스타일링'], dtype=object)"
      ]
     },
     "execution_count": 162,
     "metadata": {},
     "output_type": "execute_result"
    }
   ],
   "source": [
    "glowpick_products.category.unique()"
   ]
  },
  {
   "cell_type": "code",
   "execution_count": 161,
   "metadata": {
    "ExecuteTime": {
     "end_time": "2019-12-23T03:46:58.743246Z",
     "start_time": "2019-12-23T03:46:58.735285Z"
    }
   },
   "outputs": [
    {
     "data": {
      "text/html": [
       "<div>\n",
       "<style scoped>\n",
       "    .dataframe tbody tr th:only-of-type {\n",
       "        vertical-align: middle;\n",
       "    }\n",
       "\n",
       "    .dataframe tbody tr th {\n",
       "        vertical-align: top;\n",
       "    }\n",
       "\n",
       "    .dataframe thead th {\n",
       "        text-align: right;\n",
       "    }\n",
       "</style>\n",
       "<table border=\"1\" class=\"dataframe\">\n",
       "  <thead>\n",
       "    <tr style=\"text-align: right;\">\n",
       "      <th></th>\n",
       "      <th>brand</th>\n",
       "      <th>product</th>\n",
       "      <th>vol_price</th>\n",
       "      <th>rate</th>\n",
       "      <th>nb_reviews</th>\n",
       "      <th>sales_rank</th>\n",
       "      <th>product_url</th>\n",
       "      <th>category</th>\n",
       "    </tr>\n",
       "  </thead>\n",
       "  <tbody>\n",
       "  </tbody>\n",
       "</table>\n",
       "</div>"
      ],
      "text/plain": [
       "Empty DataFrame\n",
       "Columns: [brand, product, vol_price, rate, nb_reviews, sales_rank, product_url, category]\n",
       "Index: []"
      ]
     },
     "execution_count": 161,
     "metadata": {},
     "output_type": "execute_result"
    }
   ],
   "source": [
    "glowpick_products[glowpick_products.category=='향수']"
   ]
  }
 ],
 "metadata": {
  "hide_input": false,
  "kernelspec": {
   "display_name": "Python 3",
   "language": "python",
   "name": "python3"
  },
  "language_info": {
   "codemirror_mode": {
    "name": "ipython",
    "version": 3
   },
   "file_extension": ".py",
   "mimetype": "text/x-python",
   "name": "python",
   "nbconvert_exporter": "python",
   "pygments_lexer": "ipython3",
   "version": "3.7.3"
  },
  "toc": {
   "base_numbering": 1,
   "nav_menu": {},
   "number_sections": true,
   "sideBar": true,
   "skip_h1_title": false,
   "title_cell": "Table of Contents",
   "title_sidebar": "Contents",
   "toc_cell": true,
   "toc_position": {},
   "toc_section_display": true,
   "toc_window_display": true
  },
  "varInspector": {
   "cols": {
    "lenName": 16,
    "lenType": 16,
    "lenVar": 40
   },
   "kernels_config": {
    "python": {
     "delete_cmd_postfix": "",
     "delete_cmd_prefix": "del ",
     "library": "var_list.py",
     "varRefreshCmd": "print(var_dic_list())"
    },
    "r": {
     "delete_cmd_postfix": ") ",
     "delete_cmd_prefix": "rm(",
     "library": "var_list.r",
     "varRefreshCmd": "cat(var_dic_list()) "
    }
   },
   "types_to_exclude": [
    "module",
    "function",
    "builtin_function_or_method",
    "instance",
    "_Feature"
   ],
   "window_display": false
  }
 },
 "nbformat": 4,
 "nbformat_minor": 2
}
